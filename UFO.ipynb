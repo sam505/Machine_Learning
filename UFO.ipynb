{
  "nbformat": 4,
  "nbformat_minor": 0,
  "metadata": {
    "colab": {
      "name": "UFO.ipynb",
      "provenance": [],
      "collapsed_sections": [],
      "include_colab_link": true
    },
    "kernelspec": {
      "name": "python3",
      "display_name": "Python 3"
    },
    "language_info": {
      "name": "python"
    }
  },
  "cells": [
    {
      "cell_type": "markdown",
      "metadata": {
        "id": "view-in-github",
        "colab_type": "text"
      },
      "source": [
        "<a href=\"https://colab.research.google.com/github/sam505/Machine_Learning/blob/master/UFO.ipynb\" target=\"_parent\"><img src=\"https://colab.research.google.com/assets/colab-badge.svg\" alt=\"Open In Colab\"/></a>"
      ]
    },
    {
      "cell_type": "markdown",
      "metadata": {
        "id": "DG5nOVaOvbT3"
      },
      "source": [
        "# Introduction"
      ]
    },
    {
      "cell_type": "markdown",
      "metadata": {
        "id": "rG7BCzHDwuF_"
      },
      "source": [
        "This tasks involves analyzing the given dataset preprocesing it to fit the purpose of this task whici is to predict is there is substantial UFO appearances based on the income and population. Initially, the dataset is loaded into the jupyter notebook and assessed for presence of missing values in the columns. A new column to store the value indicating if a particular region has substantial UFO appearances or not has to be created and will be used as the label column. The income and population columns serve as the features column to be used to train the models. Several models have been trained and tested to settle with the model with the best performance with out dataset. \n",
        "\n",
        "\n",
        "**Models Trained and Tested**\n",
        "1.   Logistic Regression\n",
        "2.   K-Nearest Neighbors Classifier\n",
        "3.   Decision Tree Classifier\n",
        "\n"
      ]
    },
    {
      "cell_type": "markdown",
      "metadata": {
        "id": "fpsKHHoY4itR"
      },
      "source": [
        "## Import necessary python packages"
      ]
    },
    {
      "cell_type": "code",
      "metadata": {
        "id": "1bgDhsH8OkS1"
      },
      "source": [
        "# importing required packages\n",
        "import pandas as pd\n",
        "import numpy as np\n",
        "from sklearn.linear_model import LogisticRegression\n",
        "from sklearn.neighbors import KNeighborsClassifier\n",
        "from sklearn.tree import DecisionTreeClassifier\n",
        "from sklearn.model_selection import train_test_split"
      ],
      "execution_count": null,
      "outputs": []
    },
    {
      "cell_type": "markdown",
      "metadata": {
        "id": "dWHtiZa84q4l"
      },
      "source": [
        "## Read the csv dataset into the notebook and visualize"
      ]
    },
    {
      "cell_type": "code",
      "metadata": {
        "colab": {
          "base_uri": "https://localhost:8080/",
          "height": 408
        },
        "id": "2mqWsLlj7SS6",
        "outputId": "bea35672-d867-451c-c0eb-caf8663dc91f"
      },
      "source": [
        "# Reading the csv file using pandas' read_csv function that returns a dataframe object of the data in the csv\n",
        "dataset_path = r\"/content/drive/MyDrive/Data/county-data.csv\" # The \"r\" ensures that the dataset file is accessed in read format\n",
        "df = pd.read_csv(dataset_path) \n",
        "\n",
        "# Visualizes the first five and last five rows of the dataset\n",
        "df "
      ],
      "execution_count": null,
      "outputs": [
        {
          "output_type": "execute_result",
          "data": {
            "text/html": [
              "<div>\n",
              "<style scoped>\n",
              "    .dataframe tbody tr th:only-of-type {\n",
              "        vertical-align: middle;\n",
              "    }\n",
              "\n",
              "    .dataframe tbody tr th {\n",
              "        vertical-align: top;\n",
              "    }\n",
              "\n",
              "    .dataframe thead th {\n",
              "        text-align: right;\n",
              "    }\n",
              "</style>\n",
              "<table border=\"1\" class=\"dataframe\">\n",
              "  <thead>\n",
              "    <tr style=\"text-align: right;\">\n",
              "      <th></th>\n",
              "      <th>subregion</th>\n",
              "      <th>region</th>\n",
              "      <th>pop</th>\n",
              "      <th>income</th>\n",
              "      <th>ipaddr</th>\n",
              "      <th>ufo2010</th>\n",
              "    </tr>\n",
              "  </thead>\n",
              "  <tbody>\n",
              "    <tr>\n",
              "      <th>0</th>\n",
              "      <td>abbeville</td>\n",
              "      <td>south carolina</td>\n",
              "      <td>25101</td>\n",
              "      <td>34670</td>\n",
              "      <td>30330</td>\n",
              "      <td>2</td>\n",
              "    </tr>\n",
              "    <tr>\n",
              "      <th>1</th>\n",
              "      <td>acadia</td>\n",
              "      <td>louisiana</td>\n",
              "      <td>61912</td>\n",
              "      <td>37970</td>\n",
              "      <td>38203</td>\n",
              "      <td>6</td>\n",
              "    </tr>\n",
              "    <tr>\n",
              "      <th>2</th>\n",
              "      <td>accomack</td>\n",
              "      <td>virginia</td>\n",
              "      <td>33341</td>\n",
              "      <td>41595</td>\n",
              "      <td>41338</td>\n",
              "      <td>2</td>\n",
              "    </tr>\n",
              "    <tr>\n",
              "      <th>3</th>\n",
              "      <td>ada</td>\n",
              "      <td>idaho</td>\n",
              "      <td>409061</td>\n",
              "      <td>55304</td>\n",
              "      <td>1035427</td>\n",
              "      <td>59</td>\n",
              "    </tr>\n",
              "    <tr>\n",
              "      <th>4</th>\n",
              "      <td>adair</td>\n",
              "      <td>iowa</td>\n",
              "      <td>7481</td>\n",
              "      <td>47623</td>\n",
              "      <td>3762</td>\n",
              "      <td>0</td>\n",
              "    </tr>\n",
              "    <tr>\n",
              "      <th>...</th>\n",
              "      <td>...</td>\n",
              "      <td>...</td>\n",
              "      <td>...</td>\n",
              "      <td>...</td>\n",
              "      <td>...</td>\n",
              "      <td>...</td>\n",
              "    </tr>\n",
              "    <tr>\n",
              "      <th>3067</th>\n",
              "      <td>yuma</td>\n",
              "      <td>arizona</td>\n",
              "      <td>200022</td>\n",
              "      <td>41441</td>\n",
              "      <td>99991</td>\n",
              "      <td>53</td>\n",
              "    </tr>\n",
              "    <tr>\n",
              "      <th>3068</th>\n",
              "      <td>yuma</td>\n",
              "      <td>colorado</td>\n",
              "      <td>10119</td>\n",
              "      <td>44991</td>\n",
              "      <td>7662</td>\n",
              "      <td>1</td>\n",
              "    </tr>\n",
              "    <tr>\n",
              "      <th>3069</th>\n",
              "      <td>zapata</td>\n",
              "      <td>texas</td>\n",
              "      <td>14290</td>\n",
              "      <td>26009</td>\n",
              "      <td>3833</td>\n",
              "      <td>0</td>\n",
              "    </tr>\n",
              "    <tr>\n",
              "      <th>3070</th>\n",
              "      <td>zavala</td>\n",
              "      <td>texas</td>\n",
              "      <td>11961</td>\n",
              "      <td>23952</td>\n",
              "      <td>545</td>\n",
              "      <td>1</td>\n",
              "    </tr>\n",
              "    <tr>\n",
              "      <th>3071</th>\n",
              "      <td>ziebach</td>\n",
              "      <td>south dakota</td>\n",
              "      <td>2869</td>\n",
              "      <td>27917</td>\n",
              "      <td>1277</td>\n",
              "      <td>0</td>\n",
              "    </tr>\n",
              "  </tbody>\n",
              "</table>\n",
              "<p>3072 rows × 6 columns</p>\n",
              "</div>"
            ],
            "text/plain": [
              "      subregion          region     pop  income   ipaddr  ufo2010\n",
              "0     abbeville  south carolina   25101   34670    30330        2\n",
              "1        acadia       louisiana   61912   37970    38203        6\n",
              "2      accomack        virginia   33341   41595    41338        2\n",
              "3           ada           idaho  409061   55304  1035427       59\n",
              "4         adair            iowa    7481   47623     3762        0\n",
              "...         ...             ...     ...     ...      ...      ...\n",
              "3067       yuma         arizona  200022   41441    99991       53\n",
              "3068       yuma        colorado   10119   44991     7662        1\n",
              "3069     zapata           texas   14290   26009     3833        0\n",
              "3070     zavala           texas   11961   23952      545        1\n",
              "3071    ziebach    south dakota    2869   27917     1277        0\n",
              "\n",
              "[3072 rows x 6 columns]"
            ]
          },
          "metadata": {},
          "execution_count": 2
        }
      ]
    },
    {
      "cell_type": "markdown",
      "metadata": {
        "id": "LgfIz23a5NQN"
      },
      "source": [
        "## Dataset summary"
      ]
    },
    {
      "cell_type": "code",
      "metadata": {
        "colab": {
          "base_uri": "https://localhost:8080/",
          "height": 290
        },
        "id": "rpNmlt5x7X9Y",
        "outputId": "d21614cf-839f-4138-d8e0-f248a5f020f4"
      },
      "source": [
        "# Describe function of the dataframe object of the dataset returns a statistical summary of the dataset columns\n",
        "df.describe()"
      ],
      "execution_count": null,
      "outputs": [
        {
          "output_type": "execute_result",
          "data": {
            "text/html": [
              "<div>\n",
              "<style scoped>\n",
              "    .dataframe tbody tr th:only-of-type {\n",
              "        vertical-align: middle;\n",
              "    }\n",
              "\n",
              "    .dataframe tbody tr th {\n",
              "        vertical-align: top;\n",
              "    }\n",
              "\n",
              "    .dataframe thead th {\n",
              "        text-align: right;\n",
              "    }\n",
              "</style>\n",
              "<table border=\"1\" class=\"dataframe\">\n",
              "  <thead>\n",
              "    <tr style=\"text-align: right;\">\n",
              "      <th></th>\n",
              "      <th>pop</th>\n",
              "      <th>income</th>\n",
              "      <th>ipaddr</th>\n",
              "      <th>ufo2010</th>\n",
              "    </tr>\n",
              "  </thead>\n",
              "  <tbody>\n",
              "    <tr>\n",
              "      <th>count</th>\n",
              "      <td>3.072000e+03</td>\n",
              "      <td>3072.000000</td>\n",
              "      <td>3.072000e+03</td>\n",
              "      <td>3072.000000</td>\n",
              "    </tr>\n",
              "    <tr>\n",
              "      <th>mean</th>\n",
              "      <td>1.010085e+05</td>\n",
              "      <td>45074.703451</td>\n",
              "      <td>3.879731e+05</td>\n",
              "      <td>7.943034</td>\n",
              "    </tr>\n",
              "    <tr>\n",
              "      <th>std</th>\n",
              "      <td>3.226042e+05</td>\n",
              "      <td>11551.981523</td>\n",
              "      <td>4.669809e+06</td>\n",
              "      <td>28.755570</td>\n",
              "    </tr>\n",
              "    <tr>\n",
              "      <th>min</th>\n",
              "      <td>7.100000e+01</td>\n",
              "      <td>19344.000000</td>\n",
              "      <td>0.000000e+00</td>\n",
              "      <td>0.000000</td>\n",
              "    </tr>\n",
              "    <tr>\n",
              "      <th>25%</th>\n",
              "      <td>1.121475e+04</td>\n",
              "      <td>37792.750000</td>\n",
              "      <td>5.367000e+03</td>\n",
              "      <td>0.000000</td>\n",
              "    </tr>\n",
              "    <tr>\n",
              "      <th>50%</th>\n",
              "      <td>2.604700e+04</td>\n",
              "      <td>43332.500000</td>\n",
              "      <td>1.528900e+04</td>\n",
              "      <td>2.000000</td>\n",
              "    </tr>\n",
              "    <tr>\n",
              "      <th>75%</th>\n",
              "      <td>6.792100e+04</td>\n",
              "      <td>50010.000000</td>\n",
              "      <td>6.259400e+04</td>\n",
              "      <td>6.000000</td>\n",
              "    </tr>\n",
              "    <tr>\n",
              "      <th>max</th>\n",
              "      <td>9.962789e+06</td>\n",
              "      <td>120096.000000</td>\n",
              "      <td>2.234410e+08</td>\n",
              "      <td>815.000000</td>\n",
              "    </tr>\n",
              "  </tbody>\n",
              "</table>\n",
              "</div>"
            ],
            "text/plain": [
              "                pop         income        ipaddr      ufo2010\n",
              "count  3.072000e+03    3072.000000  3.072000e+03  3072.000000\n",
              "mean   1.010085e+05   45074.703451  3.879731e+05     7.943034\n",
              "std    3.226042e+05   11551.981523  4.669809e+06    28.755570\n",
              "min    7.100000e+01   19344.000000  0.000000e+00     0.000000\n",
              "25%    1.121475e+04   37792.750000  5.367000e+03     0.000000\n",
              "50%    2.604700e+04   43332.500000  1.528900e+04     2.000000\n",
              "75%    6.792100e+04   50010.000000  6.259400e+04     6.000000\n",
              "max    9.962789e+06  120096.000000  2.234410e+08   815.000000"
            ]
          },
          "metadata": {},
          "execution_count": 3
        }
      ]
    },
    {
      "cell_type": "markdown",
      "metadata": {
        "id": "R7ur4M9X6VxE"
      },
      "source": [
        "## Check for missing values"
      ]
    },
    {
      "cell_type": "code",
      "metadata": {
        "colab": {
          "base_uri": "https://localhost:8080/"
        },
        "id": "2K0_RwZBFEBk",
        "outputId": "90ebba3e-e9ca-4e25-9588-f64bf6f2d1a2"
      },
      "source": [
        "# The dataframe object's isna() function returns a False or True in case \n",
        "# a value is missing in any of the cells of a column. The sum() function in turn gives the total number of \n",
        "# Trues in each column. This values represent the number of all missing values in each column\n",
        "df.isna().sum()"
      ],
      "execution_count": null,
      "outputs": [
        {
          "output_type": "execute_result",
          "data": {
            "text/plain": [
              "subregion    0\n",
              "region       0\n",
              "pop          0\n",
              "income       0\n",
              "ipaddr       0\n",
              "ufo2010      0\n",
              "dtype: int64"
            ]
          },
          "metadata": {},
          "execution_count": 4
        }
      ]
    },
    {
      "cell_type": "code",
      "metadata": {
        "id": "OJIfhuJBdFjL"
      },
      "source": [
        "new_df = df.reset_index(drop=True) # resets the index column of the dataframe and then removes if if the drop parameter is set to True\n",
        "new_df = new_df.set_index('region') # setting the index column of the dataframe to be region\n",
        "new_df = new_df.sum(level=['region']) # declared the new dataframe to be sum of values of unique regions in the main df"
      ],
      "execution_count": null,
      "outputs": []
    },
    {
      "cell_type": "markdown",
      "metadata": {
        "id": "i60KtFK16Zrr"
      },
      "source": [
        "## Create new column"
      ]
    },
    {
      "cell_type": "code",
      "metadata": {
        "colab": {
          "base_uri": "https://localhost:8080/",
          "height": 230
        },
        "id": "boNUVcbZymbH",
        "outputId": "4ee390f2-1fe1-484a-88a9-fe1443b8e676"
      },
      "source": [
        "# Creating a new column to house the values representing if that region experiences substantial UFO appearances. \n",
        "# 1 shows that the number of UFO appearances is substantial, that is, it is more thn 333 while a 0 indicates that the UFO appearances in that region are not substantial\n",
        "# np.where() function takes in a conditional statement and applies it to the dataframe to add the appropriate value to the new column.\n",
        "# The conditional statement is: if the value of ufo2010 is greater than 333, then the value of ufo_status in that particular row will be 1, otherwise the value will be a 0.\n",
        "new_df['ufo_status'] = np.where(new_df['ufo2010'] > 333, 1, 0) \n",
        "new_df.head() # displays the first five rows of the new dataframe to visualize the new added column"
      ],
      "execution_count": null,
      "outputs": [
        {
          "output_type": "execute_result",
          "data": {
            "text/html": [
              "<div>\n",
              "<style scoped>\n",
              "    .dataframe tbody tr th:only-of-type {\n",
              "        vertical-align: middle;\n",
              "    }\n",
              "\n",
              "    .dataframe tbody tr th {\n",
              "        vertical-align: top;\n",
              "    }\n",
              "\n",
              "    .dataframe thead th {\n",
              "        text-align: right;\n",
              "    }\n",
              "</style>\n",
              "<table border=\"1\" class=\"dataframe\">\n",
              "  <thead>\n",
              "    <tr style=\"text-align: right;\">\n",
              "      <th></th>\n",
              "      <th>pop</th>\n",
              "      <th>income</th>\n",
              "      <th>ipaddr</th>\n",
              "      <th>ufo2010</th>\n",
              "      <th>ufo_status</th>\n",
              "    </tr>\n",
              "    <tr>\n",
              "      <th>region</th>\n",
              "      <th></th>\n",
              "      <th></th>\n",
              "      <th></th>\n",
              "      <th></th>\n",
              "      <th></th>\n",
              "    </tr>\n",
              "  </thead>\n",
              "  <tbody>\n",
              "    <tr>\n",
              "      <th>south carolina</th>\n",
              "      <td>4723723</td>\n",
              "      <td>1793990</td>\n",
              "      <td>5256663</td>\n",
              "      <td>336</td>\n",
              "      <td>1</td>\n",
              "    </tr>\n",
              "    <tr>\n",
              "      <th>louisiana</th>\n",
              "      <td>4601893</td>\n",
              "      <td>2636560</td>\n",
              "      <td>4666033</td>\n",
              "      <td>229</td>\n",
              "      <td>0</td>\n",
              "    </tr>\n",
              "    <tr>\n",
              "      <th>virginia</th>\n",
              "      <td>6776755</td>\n",
              "      <td>5394332</td>\n",
              "      <td>48947094</td>\n",
              "      <td>506</td>\n",
              "      <td>1</td>\n",
              "    </tr>\n",
              "    <tr>\n",
              "      <th>idaho</th>\n",
              "      <td>1595728</td>\n",
              "      <td>1904783</td>\n",
              "      <td>2148449</td>\n",
              "      <td>161</td>\n",
              "      <td>0</td>\n",
              "    </tr>\n",
              "    <tr>\n",
              "      <th>iowa</th>\n",
              "      <td>3074186</td>\n",
              "      <td>4730381</td>\n",
              "      <td>4821849</td>\n",
              "      <td>243</td>\n",
              "      <td>0</td>\n",
              "    </tr>\n",
              "  </tbody>\n",
              "</table>\n",
              "</div>"
            ],
            "text/plain": [
              "                    pop   income    ipaddr  ufo2010  ufo_status\n",
              "region                                                         \n",
              "south carolina  4723723  1793990   5256663      336           1\n",
              "louisiana       4601893  2636560   4666033      229           0\n",
              "virginia        6776755  5394332  48947094      506           1\n",
              "idaho           1595728  1904783   2148449      161           0\n",
              "iowa            3074186  4730381   4821849      243           0"
            ]
          },
          "metadata": {},
          "execution_count": 6
        }
      ]
    },
    {
      "cell_type": "code",
      "metadata": {
        "colab": {
          "base_uri": "https://localhost:8080/"
        },
        "id": "hKe-HzRCzZR1",
        "outputId": "5f27b1c8-4c85-46af-d546-558cb0a18573"
      },
      "source": [
        "X = np.array([new_df[\"pop\"], new_df[\"income\"]]) # declaring the features array made up of the pop and income columns of the dataframe\n",
        "Y = np.array(new_df[\"ufo_status\"]) # declaring the labels column which is the ufo_status column\n",
        "X = X.transpose(1, 0) # the transpose function of an array transforms the shape of an array. Initially the shape of the features array is 2, 49.\n",
        "# The transpose function transforms it to 49, 2 to match the shape of the labels and make it possible to be split together.\n",
        "\n",
        "print(X.shape, Y.shape)"
      ],
      "execution_count": null,
      "outputs": [
        {
          "output_type": "stream",
          "name": "stdout",
          "text": [
            "(49, 2) (49,)\n"
          ]
        }
      ]
    },
    {
      "cell_type": "code",
      "metadata": {
        "id": "M-DSpRcy0bYC"
      },
      "source": [
        "X_train, X_test, Y_train, Y_test = train_test_split(X, Y, test_size=0.3, random_state=4, shuffle=True) \n",
        "# train_test_split function takes in an array or several arrays (features(X), labels(Y)) and splits them into the ratio specified by the test_size parameter\n",
        "# the random_state parameter initializes the random number generator that will be used when splitting the dataset into train and test. This will ensure that constant\n",
        "# sequences are generated every time the code is run and same results attained\n",
        "# The shuffle parameter is set to True to ensure that the dataset is shuffled first before splitting to reduce chances of the model overfitting"
      ],
      "execution_count": null,
      "outputs": []
    },
    {
      "cell_type": "code",
      "metadata": {
        "colab": {
          "base_uri": "https://localhost:8080/"
        },
        "id": "sowyWzMv1B8h",
        "outputId": "a5a5d5af-1676-409d-bed5-31c675d94874"
      },
      "source": [
        "print(X_train.shape, X_test.shape, Y_train.shape, Y_test.shape)"
      ],
      "execution_count": null,
      "outputs": [
        {
          "output_type": "stream",
          "name": "stdout",
          "text": [
            "(34, 2) (15, 2) (34,) (15,)\n"
          ]
        }
      ]
    },
    {
      "cell_type": "code",
      "metadata": {
        "colab": {
          "base_uri": "https://localhost:8080/"
        },
        "id": "jQqjc33u2SMp",
        "outputId": "2a4db07f-cf44-4d1f-88b6-bc05f93f5e0c"
      },
      "source": [
        "# This is the first model to be trained and tested on it's default parameters. It is used in cases where the prediction output is expected to be binary.\n",
        "model1 = LogisticRegression()\n",
        "results = model1.fit(X_train, Y_train)\n",
        "results"
      ],
      "execution_count": null,
      "outputs": [
        {
          "output_type": "execute_result",
          "data": {
            "text/plain": [
              "LogisticRegression(C=1.0, class_weight=None, dual=False, fit_intercept=True,\n",
              "                   intercept_scaling=1, l1_ratio=None, max_iter=100,\n",
              "                   multi_class='auto', n_jobs=None, penalty='l2',\n",
              "                   random_state=None, solver='lbfgs', tol=0.0001, verbose=0,\n",
              "                   warm_start=False)"
            ]
          },
          "metadata": {},
          "execution_count": 10
        }
      ]
    },
    {
      "cell_type": "code",
      "metadata": {
        "colab": {
          "base_uri": "https://localhost:8080/"
        },
        "id": "G3qwT3R02ts_",
        "outputId": "96d628f2-15c0-437c-e63c-43e53c12fa63"
      },
      "source": [
        "Y_Predict = model1.predict(X_test) # predict function makes a prediction using the trained model\n",
        "\n",
        "# The output of the prediction is compared with the Y_test labels to estimate how accurate the model performed on the test dataset \n",
        "(Y_test == Y_Predict).mean() * 100 "
      ],
      "execution_count": null,
      "outputs": [
        {
          "output_type": "execute_result",
          "data": {
            "text/plain": [
              "93.33333333333333"
            ]
          },
          "metadata": {},
          "execution_count": 11
        }
      ]
    },
    {
      "cell_type": "code",
      "metadata": {
        "colab": {
          "base_uri": "https://localhost:8080/"
        },
        "id": "rE3bUbxi3ie_",
        "outputId": "21360d6c-2399-4a82-e809-fd04a5a34a73"
      },
      "source": [
        "# The second model is the K-Nearest Neighbors Classifiers. The parameter passed to the model is the number of classes specified as 2.\n",
        "# This is because the output is expected to be binary and it would be approrpiate to classify the values into two distinct classes.\n",
        "model2 = KNeighborsClassifier(2)\n",
        "model2.fit(X_train, Y_train)"
      ],
      "execution_count": null,
      "outputs": [
        {
          "output_type": "execute_result",
          "data": {
            "text/plain": [
              "KNeighborsClassifier(algorithm='auto', leaf_size=30, metric='minkowski',\n",
              "                     metric_params=None, n_jobs=None, n_neighbors=2, p=2,\n",
              "                     weights='uniform')"
            ]
          },
          "metadata": {},
          "execution_count": 12
        }
      ]
    },
    {
      "cell_type": "code",
      "metadata": {
        "colab": {
          "base_uri": "https://localhost:8080/"
        },
        "id": "hqPHIbEt9jjK",
        "outputId": "700824ba-b0ff-48c0-80ad-2721ef316805"
      },
      "source": [
        "# A prediction is made on the test_features using the model's predict function that takes in the features array and outputs a predictions array.\n",
        "Y_Predict = model2.predict(X_test)\n",
        "\n",
        "# The predictions array(Y_predict) is compared to the Y_test labels to estimate how accurate the model performed on the test dataset \n",
        "(Y_test == Y_Predict).mean() * 100"
      ],
      "execution_count": null,
      "outputs": [
        {
          "output_type": "execute_result",
          "data": {
            "text/plain": [
              "73.33333333333333"
            ]
          },
          "metadata": {},
          "execution_count": 13
        }
      ]
    },
    {
      "cell_type": "code",
      "metadata": {
        "id": "HkAA1YGad3Gk",
        "colab": {
          "base_uri": "https://localhost:8080/"
        },
        "outputId": "4b5ab9b6-a8f5-4c59-e6df-68fc5420b84d"
      },
      "source": [
        "# The model to be trained and tested is the Decision Tree Classifier that takes the train dataset and attempts to come up with a \n",
        "# way to distinguish it into the number of unique labels in the Y_train array.\n",
        "model3 = DecisionTreeClassifier()\n",
        "model3.fit(X_train, Y_train)"
      ],
      "execution_count": null,
      "outputs": [
        {
          "output_type": "execute_result",
          "data": {
            "text/plain": [
              "DecisionTreeClassifier(ccp_alpha=0.0, class_weight=None, criterion='gini',\n",
              "                       max_depth=None, max_features=None, max_leaf_nodes=None,\n",
              "                       min_impurity_decrease=0.0, min_impurity_split=None,\n",
              "                       min_samples_leaf=1, min_samples_split=2,\n",
              "                       min_weight_fraction_leaf=0.0, presort='deprecated',\n",
              "                       random_state=None, splitter='best')"
            ]
          },
          "metadata": {},
          "execution_count": 14
        }
      ]
    },
    {
      "cell_type": "code",
      "metadata": {
        "colab": {
          "base_uri": "https://localhost:8080/"
        },
        "id": "CdjjK_R52ylr",
        "outputId": "6eb82d62-1164-4a9f-8467-940419a85272"
      },
      "source": [
        "# A prediction is made on the test_features using the model's predict function that takes in the features array and outputs a predictions array.\n",
        "Y_Predict = model3.predict(X_test)\n",
        "\n",
        "# The predictions array(Y_predict) is compared to the Y_test labels to estimate how accurate the model performed on the test dataset \n",
        "(Y_test == Y_Predict).mean() * 100"
      ],
      "execution_count": null,
      "outputs": [
        {
          "output_type": "execute_result",
          "data": {
            "text/plain": [
              "80.0"
            ]
          },
          "metadata": {},
          "execution_count": 15
        }
      ]
    },
    {
      "cell_type": "markdown",
      "metadata": {
        "id": "12KiThy1vhRK"
      },
      "source": [
        "# Conclusion"
      ]
    },
    {
      "cell_type": "markdown",
      "metadata": {
        "id": "SgJ5uPjEzV-s"
      },
      "source": [
        "|  Model |Accuracy (%)   |\n",
        "|---|---|\n",
        "|   Logistic Regression| 93.33  | \n",
        "|   K-Nearest Neighbors Classifier|73.33   | \n",
        "|   Decision Tree Classifier|80.00   | \n",
        "\n",
        "\n",
        "\n",
        "From the results obtained after testing each model in this case, the Logistic regression model attains the best accuracy of $93.33\\%$ compared to the K-Nearest Neighbors classifier that attained an accuracy of $73.33\\%$ and the Decision Tree Classifier $80.0\\%$. The best model to make predictions with our dataset will be the Logistic Regression Model that attains the best accuracy metrics with our dataset. This model is applied in scenarios where the output is expected to be binary, that is, the labels array has only two unique values. IN this scenario we only have 1 (where UFO apperances are considered to be substantial > 333) and 0 (where UFO apperances are not substantial < 333)."
      ]
    },
    {
      "cell_type": "code",
      "metadata": {
        "id": "KUfe7_xI0uNp"
      },
      "source": [
        ""
      ],
      "execution_count": null,
      "outputs": []
    }
  ]
}