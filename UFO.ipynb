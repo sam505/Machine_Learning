{
  "nbformat": 4,
  "nbformat_minor": 0,
  "metadata": {
    "colab": {
      "name": "UFO.ipynb",
      "provenance": [],
      "collapsed_sections": [],
      "include_colab_link": true
    },
    "kernelspec": {
      "name": "python3",
      "display_name": "Python 3"
    },
    "language_info": {
      "name": "python"
    }
  },
  "cells": [
    {
      "cell_type": "markdown",
      "metadata": {
        "id": "view-in-github",
        "colab_type": "text"
      },
      "source": [
        "<a href=\"https://colab.research.google.com/github/sam505/Machine_Learning/blob/master/UFO.ipynb\" target=\"_parent\"><img src=\"https://colab.research.google.com/assets/colab-badge.svg\" alt=\"Open In Colab\"/></a>"
      ]
    },
    {
      "cell_type": "markdown",
      "metadata": {
        "id": "fpsKHHoY4itR"
      },
      "source": [
        "## Import necessary python packages"
      ]
    },
    {
      "cell_type": "code",
      "metadata": {
        "id": "1bgDhsH8OkS1"
      },
      "source": [
        "import pandas as pd\n",
        "import numpy as np\n",
        "from sklearn.linear_model import LogisticRegression, RidgeClassifier\n",
        "from sklearn.neighbors import KNeighborsClassifier\n",
        "from sklearn.tree import DecisionTreeClassifier\n",
        "from sklearn.model_selection import train_test_split"
      ],
      "execution_count": null,
      "outputs": []
    },
    {
      "cell_type": "markdown",
      "metadata": {
        "id": "dWHtiZa84q4l"
      },
      "source": [
        "## Read the csv dataset into the notebook and visualize"
      ]
    },
    {
      "cell_type": "code",
      "metadata": {
        "colab": {
          "base_uri": "https://localhost:8080/",
          "height": 408
        },
        "id": "2mqWsLlj7SS6",
        "outputId": "316276a7-faa6-479f-f355-26fc33579caa"
      },
      "source": [
        "# Reading the csv file using pandas' read_csv function that returns a dataframe object of the data in the csv\n",
        "df = pd.read_csv(\"/content/drive/MyDrive/Data/county-data.csv\") \n",
        "\n",
        "# Visualizes the first five and last five rows of the dataset\n",
        "df "
      ],
      "execution_count": null,
      "outputs": [
        {
          "output_type": "execute_result",
          "data": {
            "text/html": [
              "<div>\n",
              "<style scoped>\n",
              "    .dataframe tbody tr th:only-of-type {\n",
              "        vertical-align: middle;\n",
              "    }\n",
              "\n",
              "    .dataframe tbody tr th {\n",
              "        vertical-align: top;\n",
              "    }\n",
              "\n",
              "    .dataframe thead th {\n",
              "        text-align: right;\n",
              "    }\n",
              "</style>\n",
              "<table border=\"1\" class=\"dataframe\">\n",
              "  <thead>\n",
              "    <tr style=\"text-align: right;\">\n",
              "      <th></th>\n",
              "      <th>subregion</th>\n",
              "      <th>region</th>\n",
              "      <th>pop</th>\n",
              "      <th>income</th>\n",
              "      <th>ipaddr</th>\n",
              "      <th>ufo2010</th>\n",
              "    </tr>\n",
              "  </thead>\n",
              "  <tbody>\n",
              "    <tr>\n",
              "      <th>0</th>\n",
              "      <td>abbeville</td>\n",
              "      <td>south carolina</td>\n",
              "      <td>25101</td>\n",
              "      <td>34670</td>\n",
              "      <td>30330</td>\n",
              "      <td>2</td>\n",
              "    </tr>\n",
              "    <tr>\n",
              "      <th>1</th>\n",
              "      <td>acadia</td>\n",
              "      <td>louisiana</td>\n",
              "      <td>61912</td>\n",
              "      <td>37970</td>\n",
              "      <td>38203</td>\n",
              "      <td>6</td>\n",
              "    </tr>\n",
              "    <tr>\n",
              "      <th>2</th>\n",
              "      <td>accomack</td>\n",
              "      <td>virginia</td>\n",
              "      <td>33341</td>\n",
              "      <td>41595</td>\n",
              "      <td>41338</td>\n",
              "      <td>2</td>\n",
              "    </tr>\n",
              "    <tr>\n",
              "      <th>3</th>\n",
              "      <td>ada</td>\n",
              "      <td>idaho</td>\n",
              "      <td>409061</td>\n",
              "      <td>55304</td>\n",
              "      <td>1035427</td>\n",
              "      <td>59</td>\n",
              "    </tr>\n",
              "    <tr>\n",
              "      <th>4</th>\n",
              "      <td>adair</td>\n",
              "      <td>iowa</td>\n",
              "      <td>7481</td>\n",
              "      <td>47623</td>\n",
              "      <td>3762</td>\n",
              "      <td>0</td>\n",
              "    </tr>\n",
              "    <tr>\n",
              "      <th>...</th>\n",
              "      <td>...</td>\n",
              "      <td>...</td>\n",
              "      <td>...</td>\n",
              "      <td>...</td>\n",
              "      <td>...</td>\n",
              "      <td>...</td>\n",
              "    </tr>\n",
              "    <tr>\n",
              "      <th>3067</th>\n",
              "      <td>yuma</td>\n",
              "      <td>arizona</td>\n",
              "      <td>200022</td>\n",
              "      <td>41441</td>\n",
              "      <td>99991</td>\n",
              "      <td>53</td>\n",
              "    </tr>\n",
              "    <tr>\n",
              "      <th>3068</th>\n",
              "      <td>yuma</td>\n",
              "      <td>colorado</td>\n",
              "      <td>10119</td>\n",
              "      <td>44991</td>\n",
              "      <td>7662</td>\n",
              "      <td>1</td>\n",
              "    </tr>\n",
              "    <tr>\n",
              "      <th>3069</th>\n",
              "      <td>zapata</td>\n",
              "      <td>texas</td>\n",
              "      <td>14290</td>\n",
              "      <td>26009</td>\n",
              "      <td>3833</td>\n",
              "      <td>0</td>\n",
              "    </tr>\n",
              "    <tr>\n",
              "      <th>3070</th>\n",
              "      <td>zavala</td>\n",
              "      <td>texas</td>\n",
              "      <td>11961</td>\n",
              "      <td>23952</td>\n",
              "      <td>545</td>\n",
              "      <td>1</td>\n",
              "    </tr>\n",
              "    <tr>\n",
              "      <th>3071</th>\n",
              "      <td>ziebach</td>\n",
              "      <td>south dakota</td>\n",
              "      <td>2869</td>\n",
              "      <td>27917</td>\n",
              "      <td>1277</td>\n",
              "      <td>0</td>\n",
              "    </tr>\n",
              "  </tbody>\n",
              "</table>\n",
              "<p>3072 rows × 6 columns</p>\n",
              "</div>"
            ],
            "text/plain": [
              "      subregion          region     pop  income   ipaddr  ufo2010\n",
              "0     abbeville  south carolina   25101   34670    30330        2\n",
              "1        acadia       louisiana   61912   37970    38203        6\n",
              "2      accomack        virginia   33341   41595    41338        2\n",
              "3           ada           idaho  409061   55304  1035427       59\n",
              "4         adair            iowa    7481   47623     3762        0\n",
              "...         ...             ...     ...     ...      ...      ...\n",
              "3067       yuma         arizona  200022   41441    99991       53\n",
              "3068       yuma        colorado   10119   44991     7662        1\n",
              "3069     zapata           texas   14290   26009     3833        0\n",
              "3070     zavala           texas   11961   23952      545        1\n",
              "3071    ziebach    south dakota    2869   27917     1277        0\n",
              "\n",
              "[3072 rows x 6 columns]"
            ]
          },
          "metadata": {},
          "execution_count": 2
        }
      ]
    },
    {
      "cell_type": "markdown",
      "metadata": {
        "id": "LgfIz23a5NQN"
      },
      "source": [
        "## Dataset summary"
      ]
    },
    {
      "cell_type": "code",
      "metadata": {
        "colab": {
          "base_uri": "https://localhost:8080/",
          "height": 290
        },
        "id": "rpNmlt5x7X9Y",
        "outputId": "17aa7752-a528-42cc-e91d-b506eb4e131c"
      },
      "source": [
        "# Describe function of the dataframe object of the dataset returns a statistical summary of the dataset columns\n",
        "df.describe()"
      ],
      "execution_count": null,
      "outputs": [
        {
          "output_type": "execute_result",
          "data": {
            "text/html": [
              "<div>\n",
              "<style scoped>\n",
              "    .dataframe tbody tr th:only-of-type {\n",
              "        vertical-align: middle;\n",
              "    }\n",
              "\n",
              "    .dataframe tbody tr th {\n",
              "        vertical-align: top;\n",
              "    }\n",
              "\n",
              "    .dataframe thead th {\n",
              "        text-align: right;\n",
              "    }\n",
              "</style>\n",
              "<table border=\"1\" class=\"dataframe\">\n",
              "  <thead>\n",
              "    <tr style=\"text-align: right;\">\n",
              "      <th></th>\n",
              "      <th>pop</th>\n",
              "      <th>income</th>\n",
              "      <th>ipaddr</th>\n",
              "      <th>ufo2010</th>\n",
              "    </tr>\n",
              "  </thead>\n",
              "  <tbody>\n",
              "    <tr>\n",
              "      <th>count</th>\n",
              "      <td>3.072000e+03</td>\n",
              "      <td>3072.000000</td>\n",
              "      <td>3.072000e+03</td>\n",
              "      <td>3072.000000</td>\n",
              "    </tr>\n",
              "    <tr>\n",
              "      <th>mean</th>\n",
              "      <td>1.010085e+05</td>\n",
              "      <td>45074.703451</td>\n",
              "      <td>3.879731e+05</td>\n",
              "      <td>7.943034</td>\n",
              "    </tr>\n",
              "    <tr>\n",
              "      <th>std</th>\n",
              "      <td>3.226042e+05</td>\n",
              "      <td>11551.981523</td>\n",
              "      <td>4.669809e+06</td>\n",
              "      <td>28.755570</td>\n",
              "    </tr>\n",
              "    <tr>\n",
              "      <th>min</th>\n",
              "      <td>7.100000e+01</td>\n",
              "      <td>19344.000000</td>\n",
              "      <td>0.000000e+00</td>\n",
              "      <td>0.000000</td>\n",
              "    </tr>\n",
              "    <tr>\n",
              "      <th>25%</th>\n",
              "      <td>1.121475e+04</td>\n",
              "      <td>37792.750000</td>\n",
              "      <td>5.367000e+03</td>\n",
              "      <td>0.000000</td>\n",
              "    </tr>\n",
              "    <tr>\n",
              "      <th>50%</th>\n",
              "      <td>2.604700e+04</td>\n",
              "      <td>43332.500000</td>\n",
              "      <td>1.528900e+04</td>\n",
              "      <td>2.000000</td>\n",
              "    </tr>\n",
              "    <tr>\n",
              "      <th>75%</th>\n",
              "      <td>6.792100e+04</td>\n",
              "      <td>50010.000000</td>\n",
              "      <td>6.259400e+04</td>\n",
              "      <td>6.000000</td>\n",
              "    </tr>\n",
              "    <tr>\n",
              "      <th>max</th>\n",
              "      <td>9.962789e+06</td>\n",
              "      <td>120096.000000</td>\n",
              "      <td>2.234410e+08</td>\n",
              "      <td>815.000000</td>\n",
              "    </tr>\n",
              "  </tbody>\n",
              "</table>\n",
              "</div>"
            ],
            "text/plain": [
              "                pop         income        ipaddr      ufo2010\n",
              "count  3.072000e+03    3072.000000  3.072000e+03  3072.000000\n",
              "mean   1.010085e+05   45074.703451  3.879731e+05     7.943034\n",
              "std    3.226042e+05   11551.981523  4.669809e+06    28.755570\n",
              "min    7.100000e+01   19344.000000  0.000000e+00     0.000000\n",
              "25%    1.121475e+04   37792.750000  5.367000e+03     0.000000\n",
              "50%    2.604700e+04   43332.500000  1.528900e+04     2.000000\n",
              "75%    6.792100e+04   50010.000000  6.259400e+04     6.000000\n",
              "max    9.962789e+06  120096.000000  2.234410e+08   815.000000"
            ]
          },
          "metadata": {},
          "execution_count": 3
        }
      ]
    },
    {
      "cell_type": "markdown",
      "metadata": {
        "id": "R7ur4M9X6VxE"
      },
      "source": [
        "## Check for missing values"
      ]
    },
    {
      "cell_type": "code",
      "metadata": {
        "colab": {
          "base_uri": "https://localhost:8080/"
        },
        "id": "2K0_RwZBFEBk",
        "outputId": "fa0d6b72-8c15-4989-9730-144ab6e0c924"
      },
      "source": [
        "# The dataframe object's isna() function returns a False or True in case \n",
        "# a value is missing in any of the cells of a column. The sum() function in turn gives the total number of \n",
        "# Trues in each column. This values represent the number of all missing values in each column\n",
        "df.isna().sum()"
      ],
      "execution_count": null,
      "outputs": [
        {
          "output_type": "execute_result",
          "data": {
            "text/plain": [
              "subregion    0\n",
              "region       0\n",
              "pop          0\n",
              "income       0\n",
              "ipaddr       0\n",
              "ufo2010      0\n",
              "dtype: int64"
            ]
          },
          "metadata": {},
          "execution_count": 4
        }
      ]
    },
    {
      "cell_type": "markdown",
      "metadata": {
        "id": "i60KtFK16Zrr"
      },
      "source": [
        "## Create new column"
      ]
    },
    {
      "cell_type": "code",
      "metadata": {
        "colab": {
          "base_uri": "https://localhost:8080/",
          "height": 200
        },
        "id": "boNUVcbZymbH",
        "outputId": "a8b89fe0-41e4-4028-896e-5caacbd81a64"
      },
      "source": [
        "df['ufo_status'] = np.where(df['ufo2010'] > 333, 1, 0)\n",
        "df.head()"
      ],
      "execution_count": null,
      "outputs": [
        {
          "output_type": "execute_result",
          "data": {
            "text/html": [
              "<div>\n",
              "<style scoped>\n",
              "    .dataframe tbody tr th:only-of-type {\n",
              "        vertical-align: middle;\n",
              "    }\n",
              "\n",
              "    .dataframe tbody tr th {\n",
              "        vertical-align: top;\n",
              "    }\n",
              "\n",
              "    .dataframe thead th {\n",
              "        text-align: right;\n",
              "    }\n",
              "</style>\n",
              "<table border=\"1\" class=\"dataframe\">\n",
              "  <thead>\n",
              "    <tr style=\"text-align: right;\">\n",
              "      <th></th>\n",
              "      <th>subregion</th>\n",
              "      <th>region</th>\n",
              "      <th>pop</th>\n",
              "      <th>income</th>\n",
              "      <th>ipaddr</th>\n",
              "      <th>ufo2010</th>\n",
              "      <th>ufo_status</th>\n",
              "    </tr>\n",
              "  </thead>\n",
              "  <tbody>\n",
              "    <tr>\n",
              "      <th>0</th>\n",
              "      <td>abbeville</td>\n",
              "      <td>south carolina</td>\n",
              "      <td>25101</td>\n",
              "      <td>34670</td>\n",
              "      <td>30330</td>\n",
              "      <td>2</td>\n",
              "      <td>0</td>\n",
              "    </tr>\n",
              "    <tr>\n",
              "      <th>1</th>\n",
              "      <td>acadia</td>\n",
              "      <td>louisiana</td>\n",
              "      <td>61912</td>\n",
              "      <td>37970</td>\n",
              "      <td>38203</td>\n",
              "      <td>6</td>\n",
              "      <td>0</td>\n",
              "    </tr>\n",
              "    <tr>\n",
              "      <th>2</th>\n",
              "      <td>accomack</td>\n",
              "      <td>virginia</td>\n",
              "      <td>33341</td>\n",
              "      <td>41595</td>\n",
              "      <td>41338</td>\n",
              "      <td>2</td>\n",
              "      <td>0</td>\n",
              "    </tr>\n",
              "    <tr>\n",
              "      <th>3</th>\n",
              "      <td>ada</td>\n",
              "      <td>idaho</td>\n",
              "      <td>409061</td>\n",
              "      <td>55304</td>\n",
              "      <td>1035427</td>\n",
              "      <td>59</td>\n",
              "      <td>0</td>\n",
              "    </tr>\n",
              "    <tr>\n",
              "      <th>4</th>\n",
              "      <td>adair</td>\n",
              "      <td>iowa</td>\n",
              "      <td>7481</td>\n",
              "      <td>47623</td>\n",
              "      <td>3762</td>\n",
              "      <td>0</td>\n",
              "      <td>0</td>\n",
              "    </tr>\n",
              "  </tbody>\n",
              "</table>\n",
              "</div>"
            ],
            "text/plain": [
              "   subregion          region     pop  income   ipaddr  ufo2010  ufo_status\n",
              "0  abbeville  south carolina   25101   34670    30330        2           0\n",
              "1     acadia       louisiana   61912   37970    38203        6           0\n",
              "2   accomack        virginia   33341   41595    41338        2           0\n",
              "3        ada           idaho  409061   55304  1035427       59           0\n",
              "4      adair            iowa    7481   47623     3762        0           0"
            ]
          },
          "metadata": {},
          "execution_count": 5
        }
      ]
    },
    {
      "cell_type": "code",
      "metadata": {
        "colab": {
          "base_uri": "https://localhost:8080/"
        },
        "id": "hKe-HzRCzZR1",
        "outputId": "0b36c1f2-fe42-4738-b832-3e242f89aaee"
      },
      "source": [
        "X = np.array([df[\"pop\"], df[\"income\"]])\n",
        "Y = np.array(df[\"ufo_status\"])\n",
        "X = X.transpose(1, 0)\n",
        "print(X.shape, Y.shape)"
      ],
      "execution_count": null,
      "outputs": [
        {
          "output_type": "stream",
          "name": "stdout",
          "text": [
            "(3072, 2) (3072,)\n"
          ]
        }
      ]
    },
    {
      "cell_type": "code",
      "metadata": {
        "id": "M-DSpRcy0bYC"
      },
      "source": [
        "X_train, X_test, Y_train, Y_test = train_test_split(X, Y, test_size=0.3)"
      ],
      "execution_count": null,
      "outputs": []
    },
    {
      "cell_type": "code",
      "metadata": {
        "colab": {
          "base_uri": "https://localhost:8080/"
        },
        "id": "sowyWzMv1B8h",
        "outputId": "c38790b4-42d1-45b2-bb02-47540d762ccf"
      },
      "source": [
        "print(X_train.shape, X_test.shape, Y_train.shape, Y_test.shape)"
      ],
      "execution_count": null,
      "outputs": [
        {
          "output_type": "stream",
          "name": "stdout",
          "text": [
            "(2150, 2) (922, 2) (2150,) (922,)\n"
          ]
        }
      ]
    },
    {
      "cell_type": "code",
      "metadata": {
        "colab": {
          "base_uri": "https://localhost:8080/"
        },
        "id": "jQqjc33u2SMp",
        "outputId": "93679f3e-7b77-4828-d967-e7b5e7b79d9a"
      },
      "source": [
        "model = LogisticRegression()\n",
        "results = model.fit(X_train, Y_train)\n",
        "results"
      ],
      "execution_count": null,
      "outputs": [
        {
          "output_type": "execute_result",
          "data": {
            "text/plain": [
              "LogisticRegression(C=1.0, class_weight=None, dual=False, fit_intercept=True,\n",
              "                   intercept_scaling=1, l1_ratio=None, max_iter=100,\n",
              "                   multi_class='auto', n_jobs=None, penalty='l2',\n",
              "                   random_state=None, solver='lbfgs', tol=0.0001, verbose=0,\n",
              "                   warm_start=False)"
            ]
          },
          "metadata": {},
          "execution_count": 9
        }
      ]
    },
    {
      "cell_type": "code",
      "metadata": {
        "id": "G3qwT3R02ts_"
      },
      "source": [
        "Y_Predict = model.predict(X_test)"
      ],
      "execution_count": null,
      "outputs": []
    },
    {
      "cell_type": "code",
      "metadata": {
        "colab": {
          "base_uri": "https://localhost:8080/"
        },
        "id": "luRgeSFK2x0r",
        "outputId": "b7dfb610-e753-436a-e6bb-0c6bfd4a2453"
      },
      "source": [
        "(Y_test == Y_Predict).mean() * 100"
      ],
      "execution_count": null,
      "outputs": [
        {
          "output_type": "execute_result",
          "data": {
            "text/plain": [
              "100.0"
            ]
          },
          "metadata": {},
          "execution_count": 11
        }
      ]
    },
    {
      "cell_type": "code",
      "metadata": {
        "colab": {
          "base_uri": "https://localhost:8080/"
        },
        "id": "SGhW0XS528P4",
        "outputId": "1e281d64-98a4-421b-dcb8-7f2993f81b5b"
      },
      "source": [
        "df.ufo_status.unique()"
      ],
      "execution_count": null,
      "outputs": [
        {
          "output_type": "execute_result",
          "data": {
            "text/plain": [
              "array([0, 1])"
            ]
          },
          "metadata": {},
          "execution_count": 12
        }
      ]
    },
    {
      "cell_type": "code",
      "metadata": {
        "colab": {
          "base_uri": "https://localhost:8080/"
        },
        "id": "rE3bUbxi3ie_",
        "outputId": "14132540-7ae2-4106-ee38-9a5b4d5860b0"
      },
      "source": [
        "model2 = KNeighborsClassifier(2)\n",
        "model2.fit(X_train, Y_train)"
      ],
      "execution_count": null,
      "outputs": [
        {
          "output_type": "execute_result",
          "data": {
            "text/plain": [
              "KNeighborsClassifier(algorithm='auto', leaf_size=30, metric='minkowski',\n",
              "                     metric_params=None, n_jobs=None, n_neighbors=2, p=2,\n",
              "                     weights='uniform')"
            ]
          },
          "metadata": {},
          "execution_count": 13
        }
      ]
    },
    {
      "cell_type": "code",
      "metadata": {
        "colab": {
          "base_uri": "https://localhost:8080/"
        },
        "id": "hqPHIbEt9jjK",
        "outputId": "e184f166-ba3a-4965-f601-22ea0d741fdb"
      },
      "source": [
        "Y_Predict = model2.predict(X_test)\n",
        "(Y_test == Y_Predict).mean() * 100"
      ],
      "execution_count": null,
      "outputs": [
        {
          "output_type": "execute_result",
          "data": {
            "text/plain": [
              "99.78308026030369"
            ]
          },
          "metadata": {},
          "execution_count": 14
        }
      ]
    },
    {
      "cell_type": "code",
      "metadata": {
        "colab": {
          "base_uri": "https://localhost:8080/",
          "height": 1000
        },
        "id": "OgoD7nDK9qWJ",
        "outputId": "a906b62b-7a72-45bd-930c-14ac54185256"
      },
      "source": [
        "new_df = df.reset_index()\n",
        "new_df = new_df.set_index('region') # 2nd step\n",
        "new_df.sum(level=['region']) "
      ],
      "execution_count": null,
      "outputs": [
        {
          "output_type": "execute_result",
          "data": {
            "text/html": [
              "<div>\n",
              "<style scoped>\n",
              "    .dataframe tbody tr th:only-of-type {\n",
              "        vertical-align: middle;\n",
              "    }\n",
              "\n",
              "    .dataframe tbody tr th {\n",
              "        vertical-align: top;\n",
              "    }\n",
              "\n",
              "    .dataframe thead th {\n",
              "        text-align: right;\n",
              "    }\n",
              "</style>\n",
              "<table border=\"1\" class=\"dataframe\">\n",
              "  <thead>\n",
              "    <tr style=\"text-align: right;\">\n",
              "      <th></th>\n",
              "      <th>index</th>\n",
              "      <th>pop</th>\n",
              "      <th>income</th>\n",
              "      <th>ipaddr</th>\n",
              "      <th>ufo2010</th>\n",
              "      <th>ufo_status</th>\n",
              "    </tr>\n",
              "    <tr>\n",
              "      <th>region</th>\n",
              "      <th></th>\n",
              "      <th></th>\n",
              "      <th></th>\n",
              "      <th></th>\n",
              "      <th></th>\n",
              "      <th></th>\n",
              "    </tr>\n",
              "  </thead>\n",
              "  <tbody>\n",
              "    <tr>\n",
              "      <th>south carolina</th>\n",
              "      <td>56255</td>\n",
              "      <td>4723723</td>\n",
              "      <td>1793990</td>\n",
              "      <td>5256663</td>\n",
              "      <td>336</td>\n",
              "      <td>0</td>\n",
              "    </tr>\n",
              "    <tr>\n",
              "      <th>louisiana</th>\n",
              "      <td>105855</td>\n",
              "      <td>4601893</td>\n",
              "      <td>2636560</td>\n",
              "      <td>4666033</td>\n",
              "      <td>229</td>\n",
              "      <td>0</td>\n",
              "    </tr>\n",
              "    <tr>\n",
              "      <th>virginia</th>\n",
              "      <td>148204</td>\n",
              "      <td>6776755</td>\n",
              "      <td>5394332</td>\n",
              "      <td>48947094</td>\n",
              "      <td>506</td>\n",
              "      <td>0</td>\n",
              "    </tr>\n",
              "    <tr>\n",
              "      <th>idaho</th>\n",
              "      <td>50114</td>\n",
              "      <td>1595728</td>\n",
              "      <td>1904783</td>\n",
              "      <td>2148449</td>\n",
              "      <td>161</td>\n",
              "      <td>0</td>\n",
              "    </tr>\n",
              "    <tr>\n",
              "      <th>iowa</th>\n",
              "      <td>143826</td>\n",
              "      <td>3074186</td>\n",
              "      <td>4730381</td>\n",
              "      <td>4821849</td>\n",
              "      <td>243</td>\n",
              "      <td>0</td>\n",
              "    </tr>\n",
              "    <tr>\n",
              "      <th>kentucky</th>\n",
              "      <td>171667</td>\n",
              "      <td>4380415</td>\n",
              "      <td>4534705</td>\n",
              "      <td>4896449</td>\n",
              "      <td>348</td>\n",
              "      <td>0</td>\n",
              "    </tr>\n",
              "    <tr>\n",
              "      <th>missouri</th>\n",
              "      <td>177211</td>\n",
              "      <td>6021988</td>\n",
              "      <td>4672209</td>\n",
              "      <td>18503112</td>\n",
              "      <td>489</td>\n",
              "      <td>0</td>\n",
              "    </tr>\n",
              "    <tr>\n",
              "      <th>oklahoma</th>\n",
              "      <td>114849</td>\n",
              "      <td>3814820</td>\n",
              "      <td>3191680</td>\n",
              "      <td>4400876</td>\n",
              "      <td>309</td>\n",
              "      <td>0</td>\n",
              "    </tr>\n",
              "    <tr>\n",
              "      <th>colorado</th>\n",
              "      <td>91142</td>\n",
              "      <td>5129284</td>\n",
              "      <td>3206281</td>\n",
              "      <td>22787577</td>\n",
              "      <td>513</td>\n",
              "      <td>0</td>\n",
              "    </tr>\n",
              "    <tr>\n",
              "      <th>illinois</th>\n",
              "      <td>162372</td>\n",
              "      <td>12875255</td>\n",
              "      <td>4926504</td>\n",
              "      <td>29586316</td>\n",
              "      <td>1027</td>\n",
              "      <td>1</td>\n",
              "    </tr>\n",
              "    <tr>\n",
              "      <th>indiana</th>\n",
              "      <td>151638</td>\n",
              "      <td>6537334</td>\n",
              "      <td>4395705</td>\n",
              "      <td>16889196</td>\n",
              "      <td>654</td>\n",
              "      <td>0</td>\n",
              "    </tr>\n",
              "    <tr>\n",
              "      <th>mississippi</th>\n",
              "      <td>136472</td>\n",
              "      <td>2984926</td>\n",
              "      <td>2812894</td>\n",
              "      <td>2050835</td>\n",
              "      <td>88</td>\n",
              "      <td>0</td>\n",
              "    </tr>\n",
              "    <tr>\n",
              "      <th>nebraska</th>\n",
              "      <td>133672</td>\n",
              "      <td>1855525</td>\n",
              "      <td>4160090</td>\n",
              "      <td>3211714</td>\n",
              "      <td>199</td>\n",
              "      <td>0</td>\n",
              "    </tr>\n",
              "    <tr>\n",
              "      <th>north dakota</th>\n",
              "      <td>85967</td>\n",
              "      <td>699628</td>\n",
              "      <td>2477562</td>\n",
              "      <td>1230751</td>\n",
              "      <td>45</td>\n",
              "      <td>0</td>\n",
              "    </tr>\n",
              "    <tr>\n",
              "      <th>ohio</th>\n",
              "      <td>135983</td>\n",
              "      <td>11544225</td>\n",
              "      <td>4125406</td>\n",
              "      <td>240752799</td>\n",
              "      <td>700</td>\n",
              "      <td>0</td>\n",
              "    </tr>\n",
              "    <tr>\n",
              "      <th>pennsylvania</th>\n",
              "      <td>95249</td>\n",
              "      <td>12763536</td>\n",
              "      <td>3212933</td>\n",
              "      <td>22715306</td>\n",
              "      <td>730</td>\n",
              "      <td>0</td>\n",
              "    </tr>\n",
              "    <tr>\n",
              "      <th>washington</th>\n",
              "      <td>63799</td>\n",
              "      <td>6897012</td>\n",
              "      <td>1900803</td>\n",
              "      <td>10886247</td>\n",
              "      <td>1073</td>\n",
              "      <td>0</td>\n",
              "    </tr>\n",
              "    <tr>\n",
              "      <th>wisconsin</th>\n",
              "      <td>117511</td>\n",
              "      <td>5722058</td>\n",
              "      <td>3502385</td>\n",
              "      <td>9246404</td>\n",
              "      <td>421</td>\n",
              "      <td>0</td>\n",
              "    </tr>\n",
              "    <tr>\n",
              "      <th>vermont</th>\n",
              "      <td>20973</td>\n",
              "      <td>626011</td>\n",
              "      <td>718544</td>\n",
              "      <td>988910</td>\n",
              "      <td>42</td>\n",
              "      <td>0</td>\n",
              "    </tr>\n",
              "    <tr>\n",
              "      <th>minnesota</th>\n",
              "      <td>144001</td>\n",
              "      <td>5379139</td>\n",
              "      <td>4428934</td>\n",
              "      <td>14071294</td>\n",
              "      <td>293</td>\n",
              "      <td>0</td>\n",
              "    </tr>\n",
              "    <tr>\n",
              "      <th>florida</th>\n",
              "      <td>100984</td>\n",
              "      <td>19317568</td>\n",
              "      <td>2990011</td>\n",
              "      <td>23716071</td>\n",
              "      <td>1465</td>\n",
              "      <td>0</td>\n",
              "    </tr>\n",
              "    <tr>\n",
              "      <th>north carolina</th>\n",
              "      <td>148434</td>\n",
              "      <td>9752073</td>\n",
              "      <td>4171054</td>\n",
              "      <td>49536577</td>\n",
              "      <td>632</td>\n",
              "      <td>0</td>\n",
              "    </tr>\n",
              "    <tr>\n",
              "      <th>california</th>\n",
              "      <td>109622</td>\n",
              "      <td>38041430</td>\n",
              "      <td>3241756</td>\n",
              "      <td>156511903</td>\n",
              "      <td>3769</td>\n",
              "      <td>1</td>\n",
              "    </tr>\n",
              "    <tr>\n",
              "      <th>new york</th>\n",
              "      <td>107372</td>\n",
              "      <td>19570261</td>\n",
              "      <td>3318771</td>\n",
              "      <td>40624908</td>\n",
              "      <td>760</td>\n",
              "      <td>0</td>\n",
              "    </tr>\n",
              "    <tr>\n",
              "      <th>wyoming</th>\n",
              "      <td>37740</td>\n",
              "      <td>576412</td>\n",
              "      <td>1282062</td>\n",
              "      <td>1343279</td>\n",
              "      <td>93</td>\n",
              "      <td>0</td>\n",
              "    </tr>\n",
              "    <tr>\n",
              "      <th>michigan</th>\n",
              "      <td>117478</td>\n",
              "      <td>9883360</td>\n",
              "      <td>3627804</td>\n",
              "      <td>55756930</td>\n",
              "      <td>716</td>\n",
              "      <td>0</td>\n",
              "    </tr>\n",
              "    <tr>\n",
              "      <th>maryland</th>\n",
              "      <td>32278</td>\n",
              "      <td>5884563</td>\n",
              "      <td>1644061</td>\n",
              "      <td>9917917</td>\n",
              "      <td>297</td>\n",
              "      <td>0</td>\n",
              "    </tr>\n",
              "    <tr>\n",
              "      <th>kansas</th>\n",
              "      <td>166774</td>\n",
              "      <td>2885905</td>\n",
              "      <td>4726532</td>\n",
              "      <td>3985253</td>\n",
              "      <td>269</td>\n",
              "      <td>0</td>\n",
              "    </tr>\n",
              "    <tr>\n",
              "      <th>tennessee</th>\n",
              "      <td>148314</td>\n",
              "      <td>6456243</td>\n",
              "      <td>3707515</td>\n",
              "      <td>8745681</td>\n",
              "      <td>500</td>\n",
              "      <td>0</td>\n",
              "    </tr>\n",
              "    <tr>\n",
              "      <th>texas</th>\n",
              "      <td>382360</td>\n",
              "      <td>26059203</td>\n",
              "      <td>11307750</td>\n",
              "      <td>63230468</td>\n",
              "      <td>1706</td>\n",
              "      <td>0</td>\n",
              "    </tr>\n",
              "    <tr>\n",
              "      <th>maine</th>\n",
              "      <td>27796</td>\n",
              "      <td>1329192</td>\n",
              "      <td>718543</td>\n",
              "      <td>1541702</td>\n",
              "      <td>164</td>\n",
              "      <td>0</td>\n",
              "    </tr>\n",
              "    <tr>\n",
              "      <th>arizona</th>\n",
              "      <td>23026</td>\n",
              "      <td>6532974</td>\n",
              "      <td>612727</td>\n",
              "      <td>62062174</td>\n",
              "      <td>1250</td>\n",
              "      <td>1</td>\n",
              "    </tr>\n",
              "    <tr>\n",
              "      <th>georgia</th>\n",
              "      <td>237300</td>\n",
              "      <td>9919945</td>\n",
              "      <td>6433814</td>\n",
              "      <td>20947043</td>\n",
              "      <td>548</td>\n",
              "      <td>0</td>\n",
              "    </tr>\n",
              "    <tr>\n",
              "      <th>arkansas</th>\n",
              "      <td>113170</td>\n",
              "      <td>2949131</td>\n",
              "      <td>2677866</td>\n",
              "      <td>4810526</td>\n",
              "      <td>265</td>\n",
              "      <td>0</td>\n",
              "    </tr>\n",
              "    <tr>\n",
              "      <th>new jersey</th>\n",
              "      <td>31595</td>\n",
              "      <td>8864590</td>\n",
              "      <td>1511536</td>\n",
              "      <td>55597788</td>\n",
              "      <td>404</td>\n",
              "      <td>0</td>\n",
              "    </tr>\n",
              "    <tr>\n",
              "      <th>south dakota</th>\n",
              "      <td>92771</td>\n",
              "      <td>833354</td>\n",
              "      <td>2884657</td>\n",
              "      <td>993783</td>\n",
              "      <td>48</td>\n",
              "      <td>0</td>\n",
              "    </tr>\n",
              "    <tr>\n",
              "      <th>alabama</th>\n",
              "      <td>89314</td>\n",
              "      <td>4822023</td>\n",
              "      <td>2522962</td>\n",
              "      <td>22542601</td>\n",
              "      <td>250</td>\n",
              "      <td>0</td>\n",
              "    </tr>\n",
              "    <tr>\n",
              "      <th>oregon</th>\n",
              "      <td>57172</td>\n",
              "      <td>3899353</td>\n",
              "      <td>1616532</td>\n",
              "      <td>8134133</td>\n",
              "      <td>717</td>\n",
              "      <td>0</td>\n",
              "    </tr>\n",
              "    <tr>\n",
              "      <th>west virginia</th>\n",
              "      <td>95824</td>\n",
              "      <td>1855413</td>\n",
              "      <td>2033260</td>\n",
              "      <td>1389593</td>\n",
              "      <td>172</td>\n",
              "      <td>0</td>\n",
              "    </tr>\n",
              "    <tr>\n",
              "      <th>massachusetts</th>\n",
              "      <td>19307</td>\n",
              "      <td>6646144</td>\n",
              "      <td>902542</td>\n",
              "      <td>41855676</td>\n",
              "      <td>441</td>\n",
              "      <td>0</td>\n",
              "    </tr>\n",
              "    <tr>\n",
              "      <th>utah</th>\n",
              "      <td>51333</td>\n",
              "      <td>2855287</td>\n",
              "      <td>1530668</td>\n",
              "      <td>7520755</td>\n",
              "      <td>178</td>\n",
              "      <td>0</td>\n",
              "    </tr>\n",
              "    <tr>\n",
              "      <th>montana</th>\n",
              "      <td>92646</td>\n",
              "      <td>1005141</td>\n",
              "      <td>2350772</td>\n",
              "      <td>1321791</td>\n",
              "      <td>181</td>\n",
              "      <td>0</td>\n",
              "    </tr>\n",
              "    <tr>\n",
              "      <th>new hampshire</th>\n",
              "      <td>13485</td>\n",
              "      <td>1320718</td>\n",
              "      <td>581347</td>\n",
              "      <td>2311928</td>\n",
              "      <td>157</td>\n",
              "      <td>0</td>\n",
              "    </tr>\n",
              "    <tr>\n",
              "      <th>new mexico</th>\n",
              "      <td>55262</td>\n",
              "      <td>2085538</td>\n",
              "      <td>1336118</td>\n",
              "      <td>3014481</td>\n",
              "      <td>241</td>\n",
              "      <td>0</td>\n",
              "    </tr>\n",
              "    <tr>\n",
              "      <th>rhode island</th>\n",
              "      <td>8936</td>\n",
              "      <td>1050292</td>\n",
              "      <td>322775</td>\n",
              "      <td>1675757</td>\n",
              "      <td>74</td>\n",
              "      <td>0</td>\n",
              "    </tr>\n",
              "    <tr>\n",
              "      <th>nevada</th>\n",
              "      <td>25621</td>\n",
              "      <td>2758931</td>\n",
              "      <td>890322</td>\n",
              "      <td>3575554</td>\n",
              "      <td>343</td>\n",
              "      <td>0</td>\n",
              "    </tr>\n",
              "    <tr>\n",
              "      <th>connecticut</th>\n",
              "      <td>15361</td>\n",
              "      <td>3590347</td>\n",
              "      <td>565060</td>\n",
              "      <td>40993589</td>\n",
              "      <td>280</td>\n",
              "      <td>0</td>\n",
              "    </tr>\n",
              "    <tr>\n",
              "      <th>delaware</th>\n",
              "      <td>6134</td>\n",
              "      <td>917092</td>\n",
              "      <td>172156</td>\n",
              "      <td>19378182</td>\n",
              "      <td>74</td>\n",
              "      <td>0</td>\n",
              "    </tr>\n",
              "    <tr>\n",
              "      <th>district of columbia</th>\n",
              "      <td>2887</td>\n",
              "      <td>632323</td>\n",
              "      <td>61835</td>\n",
              "      <td>10759507</td>\n",
              "      <td>1</td>\n",
              "      <td>0</td>\n",
              "    </tr>\n",
              "  </tbody>\n",
              "</table>\n",
              "</div>"
            ],
            "text/plain": [
              "                       index       pop  ...  ufo2010  ufo_status\n",
              "region                                  ...                     \n",
              "south carolina         56255   4723723  ...      336           0\n",
              "louisiana             105855   4601893  ...      229           0\n",
              "virginia              148204   6776755  ...      506           0\n",
              "idaho                  50114   1595728  ...      161           0\n",
              "iowa                  143826   3074186  ...      243           0\n",
              "kentucky              171667   4380415  ...      348           0\n",
              "missouri              177211   6021988  ...      489           0\n",
              "oklahoma              114849   3814820  ...      309           0\n",
              "colorado               91142   5129284  ...      513           0\n",
              "illinois              162372  12875255  ...     1027           1\n",
              "indiana               151638   6537334  ...      654           0\n",
              "mississippi           136472   2984926  ...       88           0\n",
              "nebraska              133672   1855525  ...      199           0\n",
              "north dakota           85967    699628  ...       45           0\n",
              "ohio                  135983  11544225  ...      700           0\n",
              "pennsylvania           95249  12763536  ...      730           0\n",
              "washington             63799   6897012  ...     1073           0\n",
              "wisconsin             117511   5722058  ...      421           0\n",
              "vermont                20973    626011  ...       42           0\n",
              "minnesota             144001   5379139  ...      293           0\n",
              "florida               100984  19317568  ...     1465           0\n",
              "north carolina        148434   9752073  ...      632           0\n",
              "california            109622  38041430  ...     3769           1\n",
              "new york              107372  19570261  ...      760           0\n",
              "wyoming                37740    576412  ...       93           0\n",
              "michigan              117478   9883360  ...      716           0\n",
              "maryland               32278   5884563  ...      297           0\n",
              "kansas                166774   2885905  ...      269           0\n",
              "tennessee             148314   6456243  ...      500           0\n",
              "texas                 382360  26059203  ...     1706           0\n",
              "maine                  27796   1329192  ...      164           0\n",
              "arizona                23026   6532974  ...     1250           1\n",
              "georgia               237300   9919945  ...      548           0\n",
              "arkansas              113170   2949131  ...      265           0\n",
              "new jersey             31595   8864590  ...      404           0\n",
              "south dakota           92771    833354  ...       48           0\n",
              "alabama                89314   4822023  ...      250           0\n",
              "oregon                 57172   3899353  ...      717           0\n",
              "west virginia          95824   1855413  ...      172           0\n",
              "massachusetts          19307   6646144  ...      441           0\n",
              "utah                   51333   2855287  ...      178           0\n",
              "montana                92646   1005141  ...      181           0\n",
              "new hampshire          13485   1320718  ...      157           0\n",
              "new mexico             55262   2085538  ...      241           0\n",
              "rhode island            8936   1050292  ...       74           0\n",
              "nevada                 25621   2758931  ...      343           0\n",
              "connecticut            15361   3590347  ...      280           0\n",
              "delaware                6134    917092  ...       74           0\n",
              "district of columbia    2887    632323  ...        1           0\n",
              "\n",
              "[49 rows x 6 columns]"
            ]
          },
          "metadata": {},
          "execution_count": 15
        }
      ]
    },
    {
      "cell_type": "code",
      "metadata": {
        "colab": {
          "base_uri": "https://localhost:8080/"
        },
        "id": "IKTfbQUs-Bqf",
        "outputId": "5444a8cb-2c9b-4123-e14b-aecc648eac7e"
      },
      "source": [
        "model3 = RidgeClassifier()\n",
        "model3.fit(X_train, Y_train)\n",
        "\n",
        "Y_Predict = model3.predict(X_test)\n",
        "(Y_test == Y_Predict).mean() * 100"
      ],
      "execution_count": null,
      "outputs": [
        {
          "output_type": "execute_result",
          "data": {
            "text/plain": [
              "99.78308026030369"
            ]
          },
          "metadata": {},
          "execution_count": 18
        }
      ]
    },
    {
      "cell_type": "code",
      "metadata": {
        "id": "IKBp4tZsAYzp"
      },
      "source": [
        ""
      ],
      "execution_count": null,
      "outputs": []
    }
  ]
}