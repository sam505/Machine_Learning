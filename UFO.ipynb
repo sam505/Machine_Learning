{
  "nbformat": 4,
  "nbformat_minor": 0,
  "metadata": {
    "colab": {
      "name": "UFO.ipynb",
      "provenance": [],
      "collapsed_sections": [],
      "include_colab_link": true
    },
    "kernelspec": {
      "name": "python3",
      "display_name": "Python 3"
    },
    "language_info": {
      "name": "python"
    }
  },
  "cells": [
    {
      "cell_type": "markdown",
      "metadata": {
        "id": "view-in-github",
        "colab_type": "text"
      },
      "source": [
        "<a href=\"https://colab.research.google.com/github/sam505/Machine_Learning/blob/master/UFO.ipynb\" target=\"_parent\"><img src=\"https://colab.research.google.com/assets/colab-badge.svg\" alt=\"Open In Colab\"/></a>"
      ]
    },
    {
      "cell_type": "markdown",
      "metadata": {
        "id": "fpsKHHoY4itR"
      },
      "source": [
        "## Import necessary python packages"
      ]
    },
    {
      "cell_type": "code",
      "metadata": {
        "id": "1bgDhsH8OkS1"
      },
      "source": [
        "import pandas as pd\n",
        "import numpy as np\n",
        "from sklearn.linear_model import LogisticRegression, RidgeClassifier\n",
        "from sklearn.neighbors import KNeighborsClassifier\n",
        "from sklearn.tree import DecisionTreeClassifier\n",
        "from sklearn.model_selection import train_test_split"
      ],
      "execution_count": null,
      "outputs": []
    },
    {
      "cell_type": "markdown",
      "metadata": {
        "id": "dWHtiZa84q4l"
      },
      "source": [
        "## Read the csv dataset into the notebook and visualize"
      ]
    },
    {
      "cell_type": "code",
      "metadata": {
        "colab": {
          "base_uri": "https://localhost:8080/",
          "height": 408
        },
        "id": "2mqWsLlj7SS6",
        "outputId": "12be540f-cee8-44cc-ec0b-0c4e369d7da1"
      },
      "source": [
        "# Reading the csv file using pandas' read_csv function that returns a dataframe object of the data in the csv\n",
        "df = pd.read_csv(\"/content/drive/MyDrive/Data/county-data.csv\") \n",
        "\n",
        "# Visualizes the first five and last five rows of the dataset\n",
        "df "
      ],
      "execution_count": null,
      "outputs": [
        {
          "output_type": "execute_result",
          "data": {
            "text/html": [
              "<div>\n",
              "<style scoped>\n",
              "    .dataframe tbody tr th:only-of-type {\n",
              "        vertical-align: middle;\n",
              "    }\n",
              "\n",
              "    .dataframe tbody tr th {\n",
              "        vertical-align: top;\n",
              "    }\n",
              "\n",
              "    .dataframe thead th {\n",
              "        text-align: right;\n",
              "    }\n",
              "</style>\n",
              "<table border=\"1\" class=\"dataframe\">\n",
              "  <thead>\n",
              "    <tr style=\"text-align: right;\">\n",
              "      <th></th>\n",
              "      <th>subregion</th>\n",
              "      <th>region</th>\n",
              "      <th>pop</th>\n",
              "      <th>income</th>\n",
              "      <th>ipaddr</th>\n",
              "      <th>ufo2010</th>\n",
              "    </tr>\n",
              "  </thead>\n",
              "  <tbody>\n",
              "    <tr>\n",
              "      <th>0</th>\n",
              "      <td>abbeville</td>\n",
              "      <td>south carolina</td>\n",
              "      <td>25101</td>\n",
              "      <td>34670</td>\n",
              "      <td>30330</td>\n",
              "      <td>2</td>\n",
              "    </tr>\n",
              "    <tr>\n",
              "      <th>1</th>\n",
              "      <td>acadia</td>\n",
              "      <td>louisiana</td>\n",
              "      <td>61912</td>\n",
              "      <td>37970</td>\n",
              "      <td>38203</td>\n",
              "      <td>6</td>\n",
              "    </tr>\n",
              "    <tr>\n",
              "      <th>2</th>\n",
              "      <td>accomack</td>\n",
              "      <td>virginia</td>\n",
              "      <td>33341</td>\n",
              "      <td>41595</td>\n",
              "      <td>41338</td>\n",
              "      <td>2</td>\n",
              "    </tr>\n",
              "    <tr>\n",
              "      <th>3</th>\n",
              "      <td>ada</td>\n",
              "      <td>idaho</td>\n",
              "      <td>409061</td>\n",
              "      <td>55304</td>\n",
              "      <td>1035427</td>\n",
              "      <td>59</td>\n",
              "    </tr>\n",
              "    <tr>\n",
              "      <th>4</th>\n",
              "      <td>adair</td>\n",
              "      <td>iowa</td>\n",
              "      <td>7481</td>\n",
              "      <td>47623</td>\n",
              "      <td>3762</td>\n",
              "      <td>0</td>\n",
              "    </tr>\n",
              "    <tr>\n",
              "      <th>...</th>\n",
              "      <td>...</td>\n",
              "      <td>...</td>\n",
              "      <td>...</td>\n",
              "      <td>...</td>\n",
              "      <td>...</td>\n",
              "      <td>...</td>\n",
              "    </tr>\n",
              "    <tr>\n",
              "      <th>3067</th>\n",
              "      <td>yuma</td>\n",
              "      <td>arizona</td>\n",
              "      <td>200022</td>\n",
              "      <td>41441</td>\n",
              "      <td>99991</td>\n",
              "      <td>53</td>\n",
              "    </tr>\n",
              "    <tr>\n",
              "      <th>3068</th>\n",
              "      <td>yuma</td>\n",
              "      <td>colorado</td>\n",
              "      <td>10119</td>\n",
              "      <td>44991</td>\n",
              "      <td>7662</td>\n",
              "      <td>1</td>\n",
              "    </tr>\n",
              "    <tr>\n",
              "      <th>3069</th>\n",
              "      <td>zapata</td>\n",
              "      <td>texas</td>\n",
              "      <td>14290</td>\n",
              "      <td>26009</td>\n",
              "      <td>3833</td>\n",
              "      <td>0</td>\n",
              "    </tr>\n",
              "    <tr>\n",
              "      <th>3070</th>\n",
              "      <td>zavala</td>\n",
              "      <td>texas</td>\n",
              "      <td>11961</td>\n",
              "      <td>23952</td>\n",
              "      <td>545</td>\n",
              "      <td>1</td>\n",
              "    </tr>\n",
              "    <tr>\n",
              "      <th>3071</th>\n",
              "      <td>ziebach</td>\n",
              "      <td>south dakota</td>\n",
              "      <td>2869</td>\n",
              "      <td>27917</td>\n",
              "      <td>1277</td>\n",
              "      <td>0</td>\n",
              "    </tr>\n",
              "  </tbody>\n",
              "</table>\n",
              "<p>3072 rows × 6 columns</p>\n",
              "</div>"
            ],
            "text/plain": [
              "      subregion          region     pop  income   ipaddr  ufo2010\n",
              "0     abbeville  south carolina   25101   34670    30330        2\n",
              "1        acadia       louisiana   61912   37970    38203        6\n",
              "2      accomack        virginia   33341   41595    41338        2\n",
              "3           ada           idaho  409061   55304  1035427       59\n",
              "4         adair            iowa    7481   47623     3762        0\n",
              "...         ...             ...     ...     ...      ...      ...\n",
              "3067       yuma         arizona  200022   41441    99991       53\n",
              "3068       yuma        colorado   10119   44991     7662        1\n",
              "3069     zapata           texas   14290   26009     3833        0\n",
              "3070     zavala           texas   11961   23952      545        1\n",
              "3071    ziebach    south dakota    2869   27917     1277        0\n",
              "\n",
              "[3072 rows x 6 columns]"
            ]
          },
          "metadata": {},
          "execution_count": 2
        }
      ]
    },
    {
      "cell_type": "markdown",
      "metadata": {
        "id": "LgfIz23a5NQN"
      },
      "source": [
        "## Dataset summary"
      ]
    },
    {
      "cell_type": "code",
      "metadata": {
        "colab": {
          "base_uri": "https://localhost:8080/",
          "height": 290
        },
        "id": "rpNmlt5x7X9Y",
        "outputId": "0216bd4c-757f-4b53-ea78-4e980d46ad34"
      },
      "source": [
        "# Describe function of the dataframe object of the dataset returns a statistical summary of the dataset columns\n",
        "df.describe()"
      ],
      "execution_count": null,
      "outputs": [
        {
          "output_type": "execute_result",
          "data": {
            "text/html": [
              "<div>\n",
              "<style scoped>\n",
              "    .dataframe tbody tr th:only-of-type {\n",
              "        vertical-align: middle;\n",
              "    }\n",
              "\n",
              "    .dataframe tbody tr th {\n",
              "        vertical-align: top;\n",
              "    }\n",
              "\n",
              "    .dataframe thead th {\n",
              "        text-align: right;\n",
              "    }\n",
              "</style>\n",
              "<table border=\"1\" class=\"dataframe\">\n",
              "  <thead>\n",
              "    <tr style=\"text-align: right;\">\n",
              "      <th></th>\n",
              "      <th>pop</th>\n",
              "      <th>income</th>\n",
              "      <th>ipaddr</th>\n",
              "      <th>ufo2010</th>\n",
              "    </tr>\n",
              "  </thead>\n",
              "  <tbody>\n",
              "    <tr>\n",
              "      <th>count</th>\n",
              "      <td>3.072000e+03</td>\n",
              "      <td>3072.000000</td>\n",
              "      <td>3.072000e+03</td>\n",
              "      <td>3072.000000</td>\n",
              "    </tr>\n",
              "    <tr>\n",
              "      <th>mean</th>\n",
              "      <td>1.010085e+05</td>\n",
              "      <td>45074.703451</td>\n",
              "      <td>3.879731e+05</td>\n",
              "      <td>7.943034</td>\n",
              "    </tr>\n",
              "    <tr>\n",
              "      <th>std</th>\n",
              "      <td>3.226042e+05</td>\n",
              "      <td>11551.981523</td>\n",
              "      <td>4.669809e+06</td>\n",
              "      <td>28.755570</td>\n",
              "    </tr>\n",
              "    <tr>\n",
              "      <th>min</th>\n",
              "      <td>7.100000e+01</td>\n",
              "      <td>19344.000000</td>\n",
              "      <td>0.000000e+00</td>\n",
              "      <td>0.000000</td>\n",
              "    </tr>\n",
              "    <tr>\n",
              "      <th>25%</th>\n",
              "      <td>1.121475e+04</td>\n",
              "      <td>37792.750000</td>\n",
              "      <td>5.367000e+03</td>\n",
              "      <td>0.000000</td>\n",
              "    </tr>\n",
              "    <tr>\n",
              "      <th>50%</th>\n",
              "      <td>2.604700e+04</td>\n",
              "      <td>43332.500000</td>\n",
              "      <td>1.528900e+04</td>\n",
              "      <td>2.000000</td>\n",
              "    </tr>\n",
              "    <tr>\n",
              "      <th>75%</th>\n",
              "      <td>6.792100e+04</td>\n",
              "      <td>50010.000000</td>\n",
              "      <td>6.259400e+04</td>\n",
              "      <td>6.000000</td>\n",
              "    </tr>\n",
              "    <tr>\n",
              "      <th>max</th>\n",
              "      <td>9.962789e+06</td>\n",
              "      <td>120096.000000</td>\n",
              "      <td>2.234410e+08</td>\n",
              "      <td>815.000000</td>\n",
              "    </tr>\n",
              "  </tbody>\n",
              "</table>\n",
              "</div>"
            ],
            "text/plain": [
              "                pop         income        ipaddr      ufo2010\n",
              "count  3.072000e+03    3072.000000  3.072000e+03  3072.000000\n",
              "mean   1.010085e+05   45074.703451  3.879731e+05     7.943034\n",
              "std    3.226042e+05   11551.981523  4.669809e+06    28.755570\n",
              "min    7.100000e+01   19344.000000  0.000000e+00     0.000000\n",
              "25%    1.121475e+04   37792.750000  5.367000e+03     0.000000\n",
              "50%    2.604700e+04   43332.500000  1.528900e+04     2.000000\n",
              "75%    6.792100e+04   50010.000000  6.259400e+04     6.000000\n",
              "max    9.962789e+06  120096.000000  2.234410e+08   815.000000"
            ]
          },
          "metadata": {},
          "execution_count": 3
        }
      ]
    },
    {
      "cell_type": "markdown",
      "metadata": {
        "id": "R7ur4M9X6VxE"
      },
      "source": [
        "## Check for missing values"
      ]
    },
    {
      "cell_type": "code",
      "metadata": {
        "colab": {
          "base_uri": "https://localhost:8080/"
        },
        "id": "2K0_RwZBFEBk",
        "outputId": "20c8767d-2b98-44fa-8765-968b0fc71432"
      },
      "source": [
        "# The dataframe object's isna() function returns a False or True in case \n",
        "# a value is missing in any of the cells of a column. The sum() function in turn gives the total number of \n",
        "# Trues in each column. This values represent the number of all missing values in each column\n",
        "df.isna().sum()"
      ],
      "execution_count": null,
      "outputs": [
        {
          "output_type": "execute_result",
          "data": {
            "text/plain": [
              "subregion    0\n",
              "region       0\n",
              "pop          0\n",
              "income       0\n",
              "ipaddr       0\n",
              "ufo2010      0\n",
              "dtype: int64"
            ]
          },
          "metadata": {},
          "execution_count": 4
        }
      ]
    },
    {
      "cell_type": "code",
      "metadata": {
        "id": "OJIfhuJBdFjL"
      },
      "source": [
        "new_df = df.reset_index()\n",
        "new_df = new_df.set_index('region') # 2nd step\n",
        "new_df = new_df.sum(level=['region']) "
      ],
      "execution_count": null,
      "outputs": []
    },
    {
      "cell_type": "markdown",
      "metadata": {
        "id": "i60KtFK16Zrr"
      },
      "source": [
        "## Create new column"
      ]
    },
    {
      "cell_type": "code",
      "metadata": {
        "colab": {
          "base_uri": "https://localhost:8080/"
        },
        "id": "THrW8VvgftXo",
        "outputId": "396a6f8d-a2e5-434f-c475-cdcc3f5c6ae9"
      },
      "source": [
        "df['region'].value_counts()"
      ],
      "execution_count": null,
      "outputs": [
        {
          "output_type": "execute_result",
          "data": {
            "text/plain": [
              "texas                   254\n",
              "georgia                 159\n",
              "kentucky                120\n",
              "missouri                115\n",
              "kansas                  105\n",
              "illinois                102\n",
              "virginia                100\n",
              "north carolina          100\n",
              "iowa                     99\n",
              "tennessee                95\n",
              "nebraska                 93\n",
              "indiana                  92\n",
              "ohio                     88\n",
              "minnesota                87\n",
              "michigan                 83\n",
              "mississippi              82\n",
              "oklahoma                 77\n",
              "arkansas                 75\n",
              "wisconsin                71\n",
              "alabama                  67\n",
              "pennsylvania             67\n",
              "florida                  67\n",
              "south dakota             66\n",
              "louisiana                64\n",
              "colorado                 63\n",
              "new york                 62\n",
              "california               58\n",
              "montana                  56\n",
              "west virginia            55\n",
              "north dakota             53\n",
              "south carolina           46\n",
              "idaho                    44\n",
              "washington               39\n",
              "oregon                   36\n",
              "new mexico               33\n",
              "utah                     29\n",
              "maryland                 24\n",
              "wyoming                  23\n",
              "new jersey               21\n",
              "nevada                   17\n",
              "maine                    16\n",
              "massachusetts            14\n",
              "vermont                  14\n",
              "arizona                  14\n",
              "new hampshire            10\n",
              "connecticut               8\n",
              "rhode island              5\n",
              "delaware                  3\n",
              "district of columbia      1\n",
              "Name: region, dtype: int64"
            ]
          },
          "metadata": {},
          "execution_count": 6
        }
      ]
    },
    {
      "cell_type": "code",
      "metadata": {
        "colab": {
          "base_uri": "https://localhost:8080/"
        },
        "id": "4wvJp-NBf0NJ",
        "outputId": "81ac1dd1-a98b-4d4a-eb94-6d674280506c"
      },
      "source": [
        "df['subregion'].value_counts()"
      ],
      "execution_count": null,
      "outputs": [
        {
          "output_type": "execute_result",
          "data": {
            "text/plain": [
              "washington       32\n",
              "jefferson        26\n",
              "franklin         25\n",
              "lincoln          24\n",
              "jackson          24\n",
              "                 ..\n",
              "santa barbara     1\n",
              "conway            1\n",
              "addison           1\n",
              "ventura           1\n",
              "rio blanco        1\n",
              "Name: subregion, Length: 1774, dtype: int64"
            ]
          },
          "metadata": {},
          "execution_count": 7
        }
      ]
    },
    {
      "cell_type": "code",
      "metadata": {
        "colab": {
          "base_uri": "https://localhost:8080/"
        },
        "id": "3v8AeJo7f4Fu",
        "outputId": "260a3307-51f1-413a-cd45-0eb6007b6912"
      },
      "source": [
        "df.shape"
      ],
      "execution_count": null,
      "outputs": [
        {
          "output_type": "execute_result",
          "data": {
            "text/plain": [
              "(3072, 6)"
            ]
          },
          "metadata": {},
          "execution_count": 8
        }
      ]
    },
    {
      "cell_type": "code",
      "metadata": {
        "colab": {
          "base_uri": "https://localhost:8080/",
          "height": 230
        },
        "id": "boNUVcbZymbH",
        "outputId": "050421b2-706d-4daf-f5bf-168b66c63ac8"
      },
      "source": [
        "new_df['ufo_status'] = np.where(new_df['ufo2010'] > 333, 1, 0)\n",
        "new_df.head()"
      ],
      "execution_count": null,
      "outputs": [
        {
          "output_type": "execute_result",
          "data": {
            "text/html": [
              "<div>\n",
              "<style scoped>\n",
              "    .dataframe tbody tr th:only-of-type {\n",
              "        vertical-align: middle;\n",
              "    }\n",
              "\n",
              "    .dataframe tbody tr th {\n",
              "        vertical-align: top;\n",
              "    }\n",
              "\n",
              "    .dataframe thead th {\n",
              "        text-align: right;\n",
              "    }\n",
              "</style>\n",
              "<table border=\"1\" class=\"dataframe\">\n",
              "  <thead>\n",
              "    <tr style=\"text-align: right;\">\n",
              "      <th></th>\n",
              "      <th>index</th>\n",
              "      <th>pop</th>\n",
              "      <th>income</th>\n",
              "      <th>ipaddr</th>\n",
              "      <th>ufo2010</th>\n",
              "      <th>ufo_status</th>\n",
              "    </tr>\n",
              "    <tr>\n",
              "      <th>region</th>\n",
              "      <th></th>\n",
              "      <th></th>\n",
              "      <th></th>\n",
              "      <th></th>\n",
              "      <th></th>\n",
              "      <th></th>\n",
              "    </tr>\n",
              "  </thead>\n",
              "  <tbody>\n",
              "    <tr>\n",
              "      <th>south carolina</th>\n",
              "      <td>56255</td>\n",
              "      <td>4723723</td>\n",
              "      <td>1793990</td>\n",
              "      <td>5256663</td>\n",
              "      <td>336</td>\n",
              "      <td>1</td>\n",
              "    </tr>\n",
              "    <tr>\n",
              "      <th>louisiana</th>\n",
              "      <td>105855</td>\n",
              "      <td>4601893</td>\n",
              "      <td>2636560</td>\n",
              "      <td>4666033</td>\n",
              "      <td>229</td>\n",
              "      <td>0</td>\n",
              "    </tr>\n",
              "    <tr>\n",
              "      <th>virginia</th>\n",
              "      <td>148204</td>\n",
              "      <td>6776755</td>\n",
              "      <td>5394332</td>\n",
              "      <td>48947094</td>\n",
              "      <td>506</td>\n",
              "      <td>1</td>\n",
              "    </tr>\n",
              "    <tr>\n",
              "      <th>idaho</th>\n",
              "      <td>50114</td>\n",
              "      <td>1595728</td>\n",
              "      <td>1904783</td>\n",
              "      <td>2148449</td>\n",
              "      <td>161</td>\n",
              "      <td>0</td>\n",
              "    </tr>\n",
              "    <tr>\n",
              "      <th>iowa</th>\n",
              "      <td>143826</td>\n",
              "      <td>3074186</td>\n",
              "      <td>4730381</td>\n",
              "      <td>4821849</td>\n",
              "      <td>243</td>\n",
              "      <td>0</td>\n",
              "    </tr>\n",
              "  </tbody>\n",
              "</table>\n",
              "</div>"
            ],
            "text/plain": [
              "                 index      pop   income    ipaddr  ufo2010  ufo_status\n",
              "region                                                                 \n",
              "south carolina   56255  4723723  1793990   5256663      336           1\n",
              "louisiana       105855  4601893  2636560   4666033      229           0\n",
              "virginia        148204  6776755  5394332  48947094      506           1\n",
              "idaho            50114  1595728  1904783   2148449      161           0\n",
              "iowa            143826  3074186  4730381   4821849      243           0"
            ]
          },
          "metadata": {},
          "execution_count": 9
        }
      ]
    },
    {
      "cell_type": "code",
      "metadata": {
        "colab": {
          "base_uri": "https://localhost:8080/"
        },
        "id": "hKe-HzRCzZR1",
        "outputId": "c3d21fa5-b2bd-4663-87c7-edf4261b903d"
      },
      "source": [
        "X = np.array([new_df[\"pop\"], new_df[\"income\"]])\n",
        "Y = np.array(new_df[\"ufo_status\"])\n",
        "X = X.transpose(1, 0)\n",
        "print(X.shape, Y.shape)"
      ],
      "execution_count": null,
      "outputs": [
        {
          "output_type": "stream",
          "name": "stdout",
          "text": [
            "(49, 2) (49,)\n"
          ]
        }
      ]
    },
    {
      "cell_type": "code",
      "metadata": {
        "id": "M-DSpRcy0bYC"
      },
      "source": [
        "X_train, X_test, Y_train, Y_test = train_test_split(X, Y, test_size=0.3)"
      ],
      "execution_count": null,
      "outputs": []
    },
    {
      "cell_type": "code",
      "metadata": {
        "colab": {
          "base_uri": "https://localhost:8080/"
        },
        "id": "sowyWzMv1B8h",
        "outputId": "ffadf427-a55d-4ce8-ede8-ca29dbaf6ac9"
      },
      "source": [
        "print(X_train.shape, X_test.shape, Y_train.shape, Y_test.shape)"
      ],
      "execution_count": null,
      "outputs": [
        {
          "output_type": "stream",
          "name": "stdout",
          "text": [
            "(34, 2) (15, 2) (34,) (15,)\n"
          ]
        }
      ]
    },
    {
      "cell_type": "code",
      "metadata": {
        "colab": {
          "base_uri": "https://localhost:8080/"
        },
        "id": "jQqjc33u2SMp",
        "outputId": "c3ce29c0-af6e-4be4-bbcb-6d1b0ce0b350"
      },
      "source": [
        "model1 = LogisticRegression()\n",
        "results = model1.fit(X_train, Y_train)\n",
        "results"
      ],
      "execution_count": null,
      "outputs": [
        {
          "output_type": "execute_result",
          "data": {
            "text/plain": [
              "LogisticRegression(C=1.0, class_weight=None, dual=False, fit_intercept=True,\n",
              "                   intercept_scaling=1, l1_ratio=None, max_iter=100,\n",
              "                   multi_class='auto', n_jobs=None, penalty='l2',\n",
              "                   random_state=None, solver='lbfgs', tol=0.0001, verbose=0,\n",
              "                   warm_start=False)"
            ]
          },
          "metadata": {},
          "execution_count": 13
        }
      ]
    },
    {
      "cell_type": "code",
      "metadata": {
        "colab": {
          "base_uri": "https://localhost:8080/"
        },
        "id": "G3qwT3R02ts_",
        "outputId": "c59d3d0d-9292-409a-a313-83eb532dc467"
      },
      "source": [
        "Y_Predict = model1.predict(X_test)\n",
        "(Y_test == Y_Predict).mean() * 100"
      ],
      "execution_count": null,
      "outputs": [
        {
          "output_type": "execute_result",
          "data": {
            "text/plain": [
              "66.66666666666666"
            ]
          },
          "metadata": {},
          "execution_count": 14
        }
      ]
    },
    {
      "cell_type": "code",
      "metadata": {
        "colab": {
          "base_uri": "https://localhost:8080/"
        },
        "id": "rE3bUbxi3ie_",
        "outputId": "45815038-995e-4364-b852-d49990aa82ae"
      },
      "source": [
        "model2 = KNeighborsClassifier(2)\n",
        "model2.fit(X_train, Y_train)"
      ],
      "execution_count": null,
      "outputs": [
        {
          "output_type": "execute_result",
          "data": {
            "text/plain": [
              "KNeighborsClassifier(algorithm='auto', leaf_size=30, metric='minkowski',\n",
              "                     metric_params=None, n_jobs=None, n_neighbors=2, p=2,\n",
              "                     weights='uniform')"
            ]
          },
          "metadata": {},
          "execution_count": 15
        }
      ]
    },
    {
      "cell_type": "code",
      "metadata": {
        "colab": {
          "base_uri": "https://localhost:8080/"
        },
        "id": "hqPHIbEt9jjK",
        "outputId": "4d520183-77c8-4247-e48d-840bbc1bc05f"
      },
      "source": [
        "Y_Predict = model2.predict(X_test)\n",
        "(Y_test == Y_Predict).mean() * 100"
      ],
      "execution_count": null,
      "outputs": [
        {
          "output_type": "execute_result",
          "data": {
            "text/plain": [
              "86.66666666666667"
            ]
          },
          "metadata": {},
          "execution_count": 16
        }
      ]
    },
    {
      "cell_type": "code",
      "metadata": {
        "colab": {
          "base_uri": "https://localhost:8080/"
        },
        "id": "IKTfbQUs-Bqf",
        "outputId": "8231272d-f836-4f61-f077-6d74f7d27b45"
      },
      "source": [
        "model3 = RidgeClassifier()\n",
        "model3.fit(X_train, Y_train)"
      ],
      "execution_count": null,
      "outputs": [
        {
          "output_type": "execute_result",
          "data": {
            "text/plain": [
              "RidgeClassifier(alpha=1.0, class_weight=None, copy_X=True, fit_intercept=True,\n",
              "                max_iter=None, normalize=False, random_state=None,\n",
              "                solver='auto', tol=0.001)"
            ]
          },
          "metadata": {},
          "execution_count": 17
        }
      ]
    },
    {
      "cell_type": "code",
      "metadata": {
        "colab": {
          "base_uri": "https://localhost:8080/"
        },
        "id": "IKBp4tZsAYzp",
        "outputId": "a5649f3c-bfd4-47a5-bc0c-07baf62d8f7d"
      },
      "source": [
        "Y_Predict = model3.predict(X_test)\n",
        "(Y_test == Y_Predict).mean() * 100"
      ],
      "execution_count": null,
      "outputs": [
        {
          "output_type": "execute_result",
          "data": {
            "text/plain": [
              "73.33333333333333"
            ]
          },
          "metadata": {},
          "execution_count": 18
        }
      ]
    },
    {
      "cell_type": "code",
      "metadata": {
        "id": "HkAA1YGad3Gk"
      },
      "source": [
        ""
      ],
      "execution_count": null,
      "outputs": []
    }
  ]
}