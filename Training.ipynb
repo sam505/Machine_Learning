{
 "cells": [
  {
   "cell_type": "code",
   "execution_count": 1,
   "metadata": {},
   "outputs": [],
   "source": [
    "import tensorflow as tf\n",
    "import matplotlib.pyplot as plt\n",
    "import numpy as np\n",
    "import time"
   ]
  },
  {
   "cell_type": "code",
   "execution_count": 2,
   "metadata": {},
   "outputs": [
    {
     "name": "stdout",
     "output_type": "stream",
     "text": [
      "313/313 [==============================] - 1s 4ms/step - loss: 2.3242 - accuracy: 0.0648\n",
      "2.324239492416382 0.06480000168085098\n",
      "Epoch 1/3\n",
      "1875/1875 [==============================] - 16s 9ms/step - loss: 0.2617 - accuracy: 0.9225\n",
      "Epoch 2/3\n",
      "1875/1875 [==============================] - 19s 10ms/step - loss: 0.1065 - accuracy: 0.9669\n",
      "Epoch 3/3\n",
      "1875/1875 [==============================] - 18s 9ms/step - loss: 0.0738 - accuracy: 0.9768\n",
      "313/313 [==============================] - 1s 5ms/step - loss: 0.0944 - accuracy: 0.9713\n",
      "0.09441100805997849 0.9713000059127808\n",
      "Epoch 1/3\n",
      "1875/1875 [==============================] - 16s 9ms/step - loss: 0.0533 - accuracy: 0.9830\n",
      "Epoch 2/3\n",
      "1875/1875 [==============================] - 16s 9ms/step - loss: 0.0419 - accuracy: 0.9869\n",
      "Epoch 3/3\n",
      "1875/1875 [==============================] - 17s 9ms/step - loss: 0.0315 - accuracy: 0.9897\n",
      "313/313 [==============================] - 2s 5ms/step - loss: 0.0882 - accuracy: 0.9769\n"
     ]
    }
   ],
   "source": [
    "mnist = tf.keras.datasets.mnist\n",
    "\n",
    "(x_train, y_train), (x_test, y_test) = mnist.load_data()\n",
    "\n",
    "x_train = tf.keras.utils.normalize(x_train, axis=1)\n",
    "x_test = tf.keras.utils.normalize(x_test, axis=1)\n",
    "\n",
    "\n",
    "# inputs = tf.keras.Input(shape=(3,))\n",
    "# x = tf.keras.layers.Dense(4, activation=tf.nn.relu)(inputs)\n",
    "# outputs = tf.keras.layers.Dense(5, activation=tf.nn.softmax)(x)\n",
    "# model = tf.keras.Model(inputs=inputs, outputs=outputs)\n",
    "\n",
    "model = tf.keras.models.Sequential()\n",
    "model.add(tf.keras.layers.Flatten(input_shape=(28, 28)))\n",
    "model.add(tf.keras.layers.Dense(128, activation=tf.nn.relu))\n",
    "model.add(tf.keras.layers.Dense(128, activation=tf.nn.relu))\n",
    "model.add(tf.keras.layers.Dense(10, activation=tf.nn.softmax))\n",
    "\n",
    "model.compile(optimizer='adam', loss='sparse_categorical_crossentropy', metrics=['accuracy'])\n",
    "l = []\n",
    "a = []\n",
    "start = time.time()\n",
    "t = []\n",
    "loss, accuracy = model.evaluate(x_test, y_test)\n",
    "\n",
    "while loss > 0.09:\n",
    "    l.append(loss)\n",
    "    print(loss, accuracy)\n",
    "    LOSS = loss\n",
    "    a.append(accuracy)\n",
    "    t.append(time.time() - start)\n",
    "    model.fit(x_train, y_train, epochs=3)\n",
    "    loss, accuracy = model.evaluate(x_test, y_test)\n",
    "    if loss > LOSS:\n",
    "        break\n",
    " "
   ]
  },
  {
   "cell_type": "code",
   "execution_count": 3,
   "metadata": {},
   "outputs": [
    {
     "name": "stdout",
     "output_type": "stream",
     "text": [
      "313/313 [==============================] - 1s 5ms/step - loss: 0.0882 - accuracy: 0.9769\n",
      "[2.324239492416382, 0.09441100805997849]\n",
      "[0.06480000168085098, 0.9713000059127808]\n",
      "[1.7731361389160156, 56.72002959251404]\n"
     ]
    },
    {
     "data": {
      "image/png": "[encoded data removed]",
      "text/plain": [
       "<Figure size 432x288 with 1 Axes>"
      ]
     },
     "metadata": {
      "needs_background": "light"
     },
     "output_type": "display_data"
    },
    {
     "name": "stdout",
     "output_type": "stream",
     "text": [
      "0.0882059782743454 0.9768999814987183\n"
     ]
    },
    {
     "data": {
      "image/png": "[encoded data removed]",
      "text/plain": [
       "<Figure size 432x288 with 1 Axes>"
      ]
     },
     "metadata": {
      "needs_background": "light"
     },
     "output_type": "display_data"
    }
   ],
   "source": [
    "loss, accuracy = model.evaluate(x_test, y_test)\n",
    "print(l)\n",
    "print(a)\n",
    "print(t)\n",
    "plt.plot(t, l)\n",
    "plt.plot(t, a)\n",
    "plt.show()\n",
    "print(loss, accuracy)\n",
    "\n",
    "plt.title('Accuracy and loss comparison')\n",
    "plt.bar('loss', loss*100)\n",
    "plt.bar(\"accuracy\", accuracy*100)\n",
    "plt.ylabel('Value in %')\n",
    "plt.show()"
   ]
  },
  {
   "cell_type": "code",
   "execution_count": 4,
   "metadata": {},
   "outputs": [
    {
     "name": "stdout",
     "output_type": "stream",
     "text": [
      "WARNING:tensorflow:From /home/sammie/anaconda3/lib/python3.7/site-packages/tensorflow/python/ops/resource_variable_ops.py:1817: calling BaseResourceVariable.__init__ (from tensorflow.python.ops.resource_variable_ops) with constraint is deprecated and will be removed in a future version.\n",
      "Instructions for updating:\n",
      "If using Keras pass *_constraint arguments to layers.\n",
      "INFO:tensorflow:Assets written to: Numbers_identification.model/assets\n"
     ]
    }
   ],
   "source": [
    "model.save(\"Numbers_identification.model\")"
   ]
  },
  {
   "cell_type": "code",
   "execution_count": 5,
   "metadata": {},
   "outputs": [],
   "source": [
    "new_model = tf.keras.models.load_model('Numbers_identification.model')"
   ]
  },
  {
   "cell_type": "code",
   "execution_count": 6,
   "metadata": {},
   "outputs": [
    {
     "name": "stdout",
     "output_type": "stream",
     "text": [
      "(60000, 28, 28) (10000, 28, 28)\n"
     ]
    }
   ],
   "source": [
    "print(x_train.shape, x_test.shape)\n",
    "results = model.predict([x_test])"
   ]
  },
  {
   "cell_type": "code",
   "execution_count": 7,
   "metadata": {},
   "outputs": [
    {
     "name": "stdout",
     "output_type": "stream",
     "text": [
      "6\n"
     ]
    }
   ],
   "source": [
    "print(np.argmax(results[100]))"
   ]
  },
  {
   "cell_type": "code",
   "execution_count": 8,
   "metadata": {},
   "outputs": [
    {
     "data": {
      "text/plain": [
       "<matplotlib.image.AxesImage at 0x7f8eac33d5d0>"
      ]
     },
     "execution_count": 8,
     "metadata": {},
     "output_type": "execute_result"
    },
    {
     "data": {
      "image/png": "[encoded data removed]",
      "text/plain": [
       "<Figure size 432x288 with 1 Axes>"
      ]
     },
     "metadata": {
      "needs_background": "light"
     },
     "output_type": "display_data"
    }
   ],
   "source": [
    "plt.imshow(x_test[100])"
   ]
  },
  {
   "cell_type": "code",
   "execution_count": null,
   "metadata": {},
   "outputs": [],
   "source": []
  }
 ],
 "metadata": {
  "kernelspec": {
   "display_name": "Python 3",
   "language": "python",
   "name": "python3"
  },
  "language_info": {
   "codemirror_mode": {
    "name": "ipython",
    "version": 3
   },
   "file_extension": ".py",
   "mimetype": "text/x-python",
   "name": "python",
   "nbconvert_exporter": "python",
   "pygments_lexer": "ipython3",
   "version": "3.7.6"
  }
 },
 "nbformat": 4,
 "nbformat_minor": 4
}
