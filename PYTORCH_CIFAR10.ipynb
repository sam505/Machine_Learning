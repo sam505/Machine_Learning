{
  "nbformat": 4,
  "nbformat_minor": 0,
  "metadata": {
    "accelerator": "GPU",
    "colab": {
      "name": "PYTORCH_CIFAR10.ipynb",
      "provenance": [],
      "collapsed_sections": [],
      "include_colab_link": true
    },
    "kernelspec": {
      "display_name": "Python 3",
      "language": "python",
      "name": "python3"
    },
    "language_info": {
      "codemirror_mode": {
        "name": "ipython",
        "version": 3
      },
      "file_extension": ".py",
      "mimetype": "text/x-python",
      "name": "python",
      "nbconvert_exporter": "python",
      "pygments_lexer": "ipython3",
      "version": "3.8.5"
    }
  },
  "cells": [
    {
      "cell_type": "markdown",
      "metadata": {
        "id": "view-in-github",
        "colab_type": "text"
      },
      "source": [
        "<a href=\"https://colab.research.google.com/github/sam505/Machine_Learning/blob/master/PYTORCH_CIFAR10.ipynb\" target=\"_parent\"><img src=\"https://colab.research.google.com/assets/colab-badge.svg\" alt=\"Open In Colab\"/></a>"
      ]
    },
    {
      "cell_type": "code",
      "metadata": {
        "id": "ABEzEzSeJY4h"
      },
      "source": [
        "import numpy as np\n",
        "import pandas as pd\n",
        "import torchvision\n",
        "import torch\n",
        "import torch.nn as nn\n",
        "from torch import optim\n",
        "import torch.utils.data\n",
        "import torch.nn.functional as F\n",
        "from torchvision import transforms\n",
        "from torch.autograd import Variable\n",
        "from torch.utils.tensorboard import SummaryWriter\n",
        "from torchvision.transforms import ToTensor\n",
        "import matplotlib.pyplot as plt\n",
        "import io\n",
        "import PIL.Image"
      ],
      "execution_count": 11,
      "outputs": []
    },
    {
      "cell_type": "code",
      "metadata": {
        "id": "V76YVikSKXJP",
        "colab": {
          "base_uri": "https://localhost:8080/"
        },
        "outputId": "477ec1d3-a19d-4199-819d-2ca52339903a"
      },
      "source": [
        "transform = transforms.Compose([\n",
        "                 transforms.ToTensor (), # Convert to Tensor\n",
        "                 transforms.Normalize ((0.5, 0.5, 0.5), (0.5, 0.5, 0.5)), # normalize\n",
        "    ])\n",
        "\n",
        "\n",
        "train_batch_size = 64\n",
        "test_batch_size = 128\n",
        "\n",
        "cifar_train = torchvision.datasets.CIFAR10(root=\"~/\", \n",
        "                                         download=True, \n",
        "                                         transform=transform, \n",
        "                                         train=True)\n",
        "\n",
        "cifar_test = torchvision.datasets.CIFAR10(root=\"~/\", \n",
        "                                        download=True, \n",
        "                                        transform=transform, \n",
        "                                        train=False)\n",
        "\n",
        "train_loader = torch.utils.data.DataLoader(cifar_train,\n",
        "                                          shuffle=True,\n",
        "                                          batch_size=train_batch_size,\n",
        "                                          num_workers=2)\n",
        "test_loader = torch.utils.data.DataLoader(cifar_test,\n",
        "                                          shuffle=False,\n",
        "                                          batch_size=test_batch_size,\n",
        "                                          num_workers=2)"
      ],
      "execution_count": 12,
      "outputs": [
        {
          "output_type": "stream",
          "text": [
            "Files already downloaded and verified\n",
            "Files already downloaded and verified\n"
          ],
          "name": "stdout"
        }
      ]
    },
    {
      "cell_type": "code",
      "metadata": {
        "colab": {
          "base_uri": "https://localhost:8080/"
        },
        "id": "QCV4mCvPLD9H",
        "outputId": "65ccbe43-016c-4f39-f936-65eaf1d2b3a4"
      },
      "source": [
        "len(cifar_train)"
      ],
      "execution_count": 13,
      "outputs": [
        {
          "output_type": "execute_result",
          "data": {
            "text/plain": [
              "50000"
            ]
          },
          "metadata": {
            "tags": []
          },
          "execution_count": 13
        }
      ]
    },
    {
      "cell_type": "code",
      "metadata": {
        "colab": {
          "base_uri": "https://localhost:8080/"
        },
        "id": "0M6DcaWUOQPB",
        "outputId": "21a5deb8-d715-47cb-b47c-048fdc83b941"
      },
      "source": [
        "len(cifar_test)"
      ],
      "execution_count": 14,
      "outputs": [
        {
          "output_type": "execute_result",
          "data": {
            "text/plain": [
              "10000"
            ]
          },
          "metadata": {
            "tags": []
          },
          "execution_count": 14
        }
      ]
    },
    {
      "cell_type": "code",
      "metadata": {
        "id": "I6NSzzubbFyX"
      },
      "source": [
        "learning_rates = [0.1, 0.01, 0.001]"
      ],
      "execution_count": 15,
      "outputs": []
    },
    {
      "cell_type": "code",
      "metadata": {
        "id": "Yzc6xHbxP4Up"
      },
      "source": [
        "class LeNet (nn.Module): # network structure\n",
        "    def __init__(self):\n",
        "        super(LeNet, self).__init__()\n",
        "        self.conv1 = nn.Conv2d(3, 6, 5)\n",
        "        self.conv2 = nn.Conv2d(6, 16, 5)\n",
        "        self.fc1 = nn.Linear(16*5*5, 120)\n",
        "        self.fc2 = nn.Linear(120, 84)\n",
        "        self.fc3 = nn.Linear(84, 10)\n",
        " \n",
        "    def forward(self, x):\n",
        "        x = F.max_pool2d(F.relu(self.conv1(x)), (2, 2))\n",
        "        x = F.max_pool2d(F.relu(self.conv2(x)), 2)\n",
        "        x = x.view(x.size()[0], -1)\n",
        "        x = F.relu(self.fc1(x))\n",
        "        x = F.relu(self.fc2(x))\n",
        "        x = self.fc3(x)\n",
        "        return x"
      ],
      "execution_count": 16,
      "outputs": []
    },
    {
      "cell_type": "code",
      "metadata": {
        "id": "8cAfbRfr94O8"
      },
      "source": [
        "def train(model, optimizer, epoch, train_loader, log_interval):\n",
        "    # State that you are training the model\n",
        "    model.train()\n",
        "    correct = 0\n",
        "    count = 1\n",
        "    # define loss function\n",
        "    loss_fn = nn.CrossEntropyLoss()\n",
        "\n",
        "    # Iterate over batches of data\n",
        "    for batch_idx, (data, target) in enumerate(train_loader):\n",
        "        # Wrap the input and target output in the `Variable` wrapper\n",
        "        data, target = Variable(data), Variable(target)\n",
        "\n",
        "        check_gpu = torch.cuda.is_available()\n",
        "        if check_gpu:\n",
        "            data = data.to(\"cuda\")\n",
        "            target = target.to(\"cuda\")\n",
        "\n",
        "        # Clear the gradients, since PyTorch accumulates them\n",
        "        optimizer.zero_grad()\n",
        "\n",
        "        # Forward propagation\n",
        "        output = model(data)\n",
        "\n",
        "        loss = loss_fn(output, target)\n",
        "\n",
        "        # Backward propagation\n",
        "        loss.backward()\n",
        "\n",
        "        # Update the parameters(weight,bias)\n",
        "        optimizer.step()\n",
        "        \n",
        "        predicted = torch.max(output.data, 1)[1] \n",
        "        correct += (predicted == target).sum()\n",
        "\n",
        "        # print log\n",
        "        if batch_idx % log_interval == 0:\n",
        "            train_accuracy = correct / ((batch_idx+1)*len(data))\n",
        "            train_loss = loss.data.item()\n",
        "            print('Train set, Epoch {} [{}/{} ({:.0f}%)]\\tLoss: {:.6f}\\tAccuracy: {:.2f}'.format(\n",
        "                epoch, batch_idx * len(data), len(train_loader.dataset),\n",
        "                100. * batch_idx / len(train_loader),\n",
        "                train_loss, train_accuracy))\n",
        "        \n",
        "    return loss.data.item(), train_accuracy"
      ],
      "execution_count": 17,
      "outputs": []
    },
    {
      "cell_type": "code",
      "metadata": {
        "id": "4qkh4xkO-xBz"
      },
      "source": [
        "def test(model, epoch, test_loader):\n",
        "    # State that you are testing the model; this prevents layers e.g. Dropout to take effect\n",
        "    model.eval()\n",
        "\n",
        "    # Init loss & correct prediction accumulators\n",
        "    test_loss = 0\n",
        "    correct = 0\n",
        "\n",
        "    # define loss function\n",
        "    loss_fn = nn.CrossEntropyLoss(size_average=False)\n",
        "\n",
        "    # Iterate over data\n",
        "    for data, target in test_loader:\n",
        "        data, target = Variable(data), Variable(target)\n",
        "\n",
        "        check_gpu = torch.cuda.is_available()\n",
        "        if check_gpu:\n",
        "            data = data.to(\"cuda\")\n",
        "            target = target.to(\"cuda\")\n",
        "\n",
        "        # Forward propagation\n",
        "        output = model(data)\n",
        "\n",
        "        # Calculate & accumulate loss\n",
        "        test_loss += loss_fn(output, target).data.item()\n",
        "\n",
        "        # Get the index of the max log-probability (the predicted output label)\n",
        "        pred = np.argmax(output.cpu().data, axis=1)\n",
        "\n",
        "        # If correct, increment correct prediction accumulator\n",
        "        correct = correct + np.equal(pred, target.cpu().data).sum()\n",
        "\n",
        "    # Print log\n",
        "    test_loss /= len(test_loader.dataset)\n",
        "    print('\\nTest set, Epoch {} , Average loss: {:.4f}, Accuracy: {}/{} ({:.2f}%)\\n'.format(epoch,\n",
        "        test_loss, correct, len(test_loader.dataset),\n",
        "        100. * correct / len(test_loader.dataset)))\n",
        "    return test_loss, correct / len(test_loader.dataset)"
      ],
      "execution_count": 18,
      "outputs": []
    },
    {
      "cell_type": "code",
      "metadata": {
        "colab": {
          "base_uri": "https://localhost:8080/"
        },
        "id": "01vc7Xk89631",
        "scrolled": true,
        "outputId": "a9d66f11-0636-4edb-beea-26a0ee6d73c8"
      },
      "source": [
        "# Provide seed for the pseudorandom number generator s.t. the same results can be reproduced\n",
        "for learning_date in learning_rates:\n",
        "    torch.manual_seed(123)\n",
        "\n",
        "    model = LeNet()\n",
        "\n",
        "    check_gpu = torch.cuda.is_available()\n",
        "    if check_gpu:\n",
        "        model = model.cuda()\n",
        "        print ('USING GPU')\n",
        "    else:\n",
        "        print ('USING CPU')\n",
        "    epochs = 10\n",
        "    log_interval = 100\n",
        "    writer = SummaryWriter(\"runs/CIFAR/RMSprop_{}\".format(learning_date))\n",
        "    optimizer = optim.RMSprop(model.parameters(), lr=learning_date)\n",
        "    for epoch in range(1, epochs + 1):\n",
        "        train_loss, train_acc = train(model, optimizer, epoch, train_loader, log_interval=log_interval)\n",
        "        test_loss, test_acc = test(model, epoch, test_loader) \n",
        "        writer.add_scalar('Loss/train', train_loss, epoch)\n",
        "        writer.add_scalar('Loss/test', test_loss, epoch)\n",
        "        writer.add_scalar('Accuracy/train', train_acc, epoch)\n",
        "        writer.add_scalar('Accuracy/test', test_acc, epoch)"
      ],
      "execution_count": 19,
      "outputs": [
        {
          "output_type": "stream",
          "text": [
            "USING GPU\n",
            "Train set, Epoch 1 [0/50000 (0%)]\tLoss: 2.296416\tAccuracy: 0.12\n",
            "Train set, Epoch 1 [6400/50000 (13%)]\tLoss: 2.285580\tAccuracy: 0.10\n",
            "Train set, Epoch 1 [12800/50000 (26%)]\tLoss: 2.297101\tAccuracy: 0.10\n",
            "Train set, Epoch 1 [19200/50000 (38%)]\tLoss: 2.313001\tAccuracy: 0.10\n",
            "Train set, Epoch 1 [25600/50000 (51%)]\tLoss: 2.309213\tAccuracy: 0.10\n",
            "Train set, Epoch 1 [32000/50000 (64%)]\tLoss: 2.317574\tAccuracy: 0.10\n",
            "Train set, Epoch 1 [38400/50000 (77%)]\tLoss: 2.309676\tAccuracy: 0.10\n",
            "Train set, Epoch 1 [44800/50000 (90%)]\tLoss: 2.287607\tAccuracy: 0.10\n"
          ],
          "name": "stdout"
        },
        {
          "output_type": "stream",
          "text": [
            "/usr/local/lib/python3.7/dist-packages/torch/nn/_reduction.py:42: UserWarning: size_average and reduce args will be deprecated, please use reduction='sum' instead.\n",
            "  warnings.warn(warning.format(ret))\n"
          ],
          "name": "stderr"
        },
        {
          "output_type": "stream",
          "text": [
            "\n",
            "Test set, Epoch 1 , Average loss: 2.3365, Accuracy: 1000/10000 (10.00%)\n",
            "\n",
            "Train set, Epoch 2 [0/50000 (0%)]\tLoss: 2.280313\tAccuracy: 0.17\n",
            "Train set, Epoch 2 [6400/50000 (13%)]\tLoss: 2.318499\tAccuracy: 0.10\n",
            "Train set, Epoch 2 [12800/50000 (26%)]\tLoss: 2.303912\tAccuracy: 0.10\n",
            "Train set, Epoch 2 [19200/50000 (38%)]\tLoss: 2.318045\tAccuracy: 0.10\n",
            "Train set, Epoch 2 [25600/50000 (51%)]\tLoss: 2.310103\tAccuracy: 0.10\n",
            "Train set, Epoch 2 [32000/50000 (64%)]\tLoss: 2.295303\tAccuracy: 0.10\n",
            "Train set, Epoch 2 [38400/50000 (77%)]\tLoss: 2.287889\tAccuracy: 0.10\n",
            "Train set, Epoch 2 [44800/50000 (90%)]\tLoss: 2.321317\tAccuracy: 0.10\n",
            "\n",
            "Test set, Epoch 2 , Average loss: 2.3243, Accuracy: 1000/10000 (10.00%)\n",
            "\n",
            "Train set, Epoch 3 [0/50000 (0%)]\tLoss: 2.285182\tAccuracy: 0.05\n",
            "Train set, Epoch 3 [6400/50000 (13%)]\tLoss: 2.316102\tAccuracy: 0.10\n",
            "Train set, Epoch 3 [12800/50000 (26%)]\tLoss: 2.327173\tAccuracy: 0.10\n",
            "Train set, Epoch 3 [19200/50000 (38%)]\tLoss: 2.301577\tAccuracy: 0.10\n",
            "Train set, Epoch 3 [25600/50000 (51%)]\tLoss: 2.321425\tAccuracy: 0.10\n",
            "Train set, Epoch 3 [32000/50000 (64%)]\tLoss: 2.335561\tAccuracy: 0.10\n",
            "Train set, Epoch 3 [38400/50000 (77%)]\tLoss: 2.302096\tAccuracy: 0.10\n",
            "Train set, Epoch 3 [44800/50000 (90%)]\tLoss: 2.329019\tAccuracy: 0.10\n",
            "\n",
            "Test set, Epoch 3 , Average loss: 2.3141, Accuracy: 1000/10000 (10.00%)\n",
            "\n",
            "Train set, Epoch 4 [0/50000 (0%)]\tLoss: 2.275361\tAccuracy: 0.14\n",
            "Train set, Epoch 4 [6400/50000 (13%)]\tLoss: 2.309720\tAccuracy: 0.10\n",
            "Train set, Epoch 4 [12800/50000 (26%)]\tLoss: 2.316237\tAccuracy: 0.10\n",
            "Train set, Epoch 4 [19200/50000 (38%)]\tLoss: 2.353776\tAccuracy: 0.10\n",
            "Train set, Epoch 4 [25600/50000 (51%)]\tLoss: 2.298799\tAccuracy: 0.10\n",
            "Train set, Epoch 4 [32000/50000 (64%)]\tLoss: 2.292047\tAccuracy: 0.10\n",
            "Train set, Epoch 4 [38400/50000 (77%)]\tLoss: 2.280874\tAccuracy: 0.10\n",
            "Train set, Epoch 4 [44800/50000 (90%)]\tLoss: 2.307524\tAccuracy: 0.10\n",
            "\n",
            "Test set, Epoch 4 , Average loss: 2.3169, Accuracy: 1000/10000 (10.00%)\n",
            "\n",
            "Train set, Epoch 5 [0/50000 (0%)]\tLoss: 2.356753\tAccuracy: 0.03\n",
            "Train set, Epoch 5 [6400/50000 (13%)]\tLoss: 2.290714\tAccuracy: 0.10\n",
            "Train set, Epoch 5 [12800/50000 (26%)]\tLoss: 2.321195\tAccuracy: 0.10\n",
            "Train set, Epoch 5 [19200/50000 (38%)]\tLoss: 2.310918\tAccuracy: 0.10\n",
            "Train set, Epoch 5 [25600/50000 (51%)]\tLoss: 2.317312\tAccuracy: 0.10\n",
            "Train set, Epoch 5 [32000/50000 (64%)]\tLoss: 2.295088\tAccuracy: 0.10\n",
            "Train set, Epoch 5 [38400/50000 (77%)]\tLoss: 2.277119\tAccuracy: 0.10\n",
            "Train set, Epoch 5 [44800/50000 (90%)]\tLoss: 2.334134\tAccuracy: 0.10\n",
            "\n",
            "Test set, Epoch 5 , Average loss: 2.3170, Accuracy: 1000/10000 (10.00%)\n",
            "\n",
            "Train set, Epoch 6 [0/50000 (0%)]\tLoss: 2.325137\tAccuracy: 0.11\n",
            "Train set, Epoch 6 [6400/50000 (13%)]\tLoss: 2.314909\tAccuracy: 0.11\n",
            "Train set, Epoch 6 [12800/50000 (26%)]\tLoss: 2.302935\tAccuracy: 0.10\n",
            "Train set, Epoch 6 [19200/50000 (38%)]\tLoss: 2.288940\tAccuracy: 0.10\n",
            "Train set, Epoch 6 [25600/50000 (51%)]\tLoss: 2.303190\tAccuracy: 0.10\n",
            "Train set, Epoch 6 [32000/50000 (64%)]\tLoss: 2.308102\tAccuracy: 0.10\n",
            "Train set, Epoch 6 [38400/50000 (77%)]\tLoss: 2.325382\tAccuracy: 0.10\n",
            "Train set, Epoch 6 [44800/50000 (90%)]\tLoss: 2.283629\tAccuracy: 0.10\n",
            "\n",
            "Test set, Epoch 6 , Average loss: 2.3215, Accuracy: 1000/10000 (10.00%)\n",
            "\n",
            "Train set, Epoch 7 [0/50000 (0%)]\tLoss: 2.346532\tAccuracy: 0.08\n",
            "Train set, Epoch 7 [6400/50000 (13%)]\tLoss: 2.326636\tAccuracy: 0.10\n",
            "Train set, Epoch 7 [12800/50000 (26%)]\tLoss: 2.304217\tAccuracy: 0.10\n",
            "Train set, Epoch 7 [19200/50000 (38%)]\tLoss: 2.310972\tAccuracy: 0.10\n",
            "Train set, Epoch 7 [25600/50000 (51%)]\tLoss: 2.295817\tAccuracy: 0.10\n",
            "Train set, Epoch 7 [32000/50000 (64%)]\tLoss: 2.315284\tAccuracy: 0.10\n",
            "Train set, Epoch 7 [38400/50000 (77%)]\tLoss: 2.307367\tAccuracy: 0.10\n",
            "Train set, Epoch 7 [44800/50000 (90%)]\tLoss: 2.315128\tAccuracy: 0.10\n",
            "\n",
            "Test set, Epoch 7 , Average loss: 2.3351, Accuracy: 1000/10000 (10.00%)\n",
            "\n",
            "Train set, Epoch 8 [0/50000 (0%)]\tLoss: 2.323284\tAccuracy: 0.12\n",
            "Train set, Epoch 8 [6400/50000 (13%)]\tLoss: 2.314251\tAccuracy: 0.10\n",
            "Train set, Epoch 8 [12800/50000 (26%)]\tLoss: 2.301657\tAccuracy: 0.10\n",
            "Train set, Epoch 8 [19200/50000 (38%)]\tLoss: 2.317785\tAccuracy: 0.10\n",
            "Train set, Epoch 8 [25600/50000 (51%)]\tLoss: 2.288107\tAccuracy: 0.10\n",
            "Train set, Epoch 8 [32000/50000 (64%)]\tLoss: 2.302110\tAccuracy: 0.10\n",
            "Train set, Epoch 8 [38400/50000 (77%)]\tLoss: 2.316727\tAccuracy: 0.10\n",
            "Train set, Epoch 8 [44800/50000 (90%)]\tLoss: 2.315099\tAccuracy: 0.10\n",
            "\n",
            "Test set, Epoch 8 , Average loss: 2.3132, Accuracy: 1000/10000 (10.00%)\n",
            "\n",
            "Train set, Epoch 9 [0/50000 (0%)]\tLoss: 2.328069\tAccuracy: 0.08\n",
            "Train set, Epoch 9 [6400/50000 (13%)]\tLoss: 2.288608\tAccuracy: 0.09\n",
            "Train set, Epoch 9 [12800/50000 (26%)]\tLoss: 2.309666\tAccuracy: 0.10\n",
            "Train set, Epoch 9 [19200/50000 (38%)]\tLoss: 2.317747\tAccuracy: 0.10\n",
            "Train set, Epoch 9 [25600/50000 (51%)]\tLoss: 2.322117\tAccuracy: 0.10\n",
            "Train set, Epoch 9 [32000/50000 (64%)]\tLoss: 2.336547\tAccuracy: 0.10\n",
            "Train set, Epoch 9 [38400/50000 (77%)]\tLoss: 2.327054\tAccuracy: 0.10\n",
            "Train set, Epoch 9 [44800/50000 (90%)]\tLoss: 2.328757\tAccuracy: 0.10\n",
            "\n",
            "Test set, Epoch 9 , Average loss: 2.3265, Accuracy: 1000/10000 (10.00%)\n",
            "\n",
            "Train set, Epoch 10 [0/50000 (0%)]\tLoss: 2.323911\tAccuracy: 0.06\n",
            "Train set, Epoch 10 [6400/50000 (13%)]\tLoss: 2.289813\tAccuracy: 0.09\n",
            "Train set, Epoch 10 [12800/50000 (26%)]\tLoss: 2.310830\tAccuracy: 0.09\n",
            "Train set, Epoch 10 [19200/50000 (38%)]\tLoss: 2.360302\tAccuracy: 0.10\n",
            "Train set, Epoch 10 [25600/50000 (51%)]\tLoss: 2.299595\tAccuracy: 0.10\n",
            "Train set, Epoch 10 [32000/50000 (64%)]\tLoss: 2.301932\tAccuracy: 0.10\n",
            "Train set, Epoch 10 [38400/50000 (77%)]\tLoss: 2.303997\tAccuracy: 0.10\n",
            "Train set, Epoch 10 [44800/50000 (90%)]\tLoss: 2.299328\tAccuracy: 0.10\n",
            "\n",
            "Test set, Epoch 10 , Average loss: 2.3182, Accuracy: 1000/10000 (10.00%)\n",
            "\n",
            "USING GPU\n",
            "Train set, Epoch 1 [0/50000 (0%)]\tLoss: 2.296416\tAccuracy: 0.12\n",
            "Train set, Epoch 1 [6400/50000 (13%)]\tLoss: 2.239941\tAccuracy: 0.12\n",
            "Train set, Epoch 1 [12800/50000 (26%)]\tLoss: 2.221532\tAccuracy: 0.13\n",
            "Train set, Epoch 1 [19200/50000 (38%)]\tLoss: 2.113216\tAccuracy: 0.15\n",
            "Train set, Epoch 1 [25600/50000 (51%)]\tLoss: 2.092244\tAccuracy: 0.17\n",
            "Train set, Epoch 1 [32000/50000 (64%)]\tLoss: 2.063547\tAccuracy: 0.19\n",
            "Train set, Epoch 1 [38400/50000 (77%)]\tLoss: 1.801438\tAccuracy: 0.20\n",
            "Train set, Epoch 1 [44800/50000 (90%)]\tLoss: 1.830530\tAccuracy: 0.22\n",
            "\n",
            "Test set, Epoch 1 , Average loss: 2.1159, Accuracy: 2603/10000 (26.03%)\n",
            "\n",
            "Train set, Epoch 2 [0/50000 (0%)]\tLoss: 1.707862\tAccuracy: 0.39\n",
            "Train set, Epoch 2 [6400/50000 (13%)]\tLoss: 1.932943\tAccuracy: 0.32\n",
            "Train set, Epoch 2 [12800/50000 (26%)]\tLoss: 1.771585\tAccuracy: 0.32\n",
            "Train set, Epoch 2 [19200/50000 (38%)]\tLoss: 1.541537\tAccuracy: 0.33\n",
            "Train set, Epoch 2 [25600/50000 (51%)]\tLoss: 1.815076\tAccuracy: 0.33\n",
            "Train set, Epoch 2 [32000/50000 (64%)]\tLoss: 1.666832\tAccuracy: 0.33\n",
            "Train set, Epoch 2 [38400/50000 (77%)]\tLoss: 1.622897\tAccuracy: 0.33\n",
            "Train set, Epoch 2 [44800/50000 (90%)]\tLoss: 1.833907\tAccuracy: 0.34\n",
            "\n",
            "Test set, Epoch 2 , Average loss: 1.7925, Accuracy: 3451/10000 (34.51%)\n",
            "\n",
            "Train set, Epoch 3 [0/50000 (0%)]\tLoss: 1.626762\tAccuracy: 0.36\n",
            "Train set, Epoch 3 [6400/50000 (13%)]\tLoss: 1.701711\tAccuracy: 0.36\n",
            "Train set, Epoch 3 [12800/50000 (26%)]\tLoss: 1.771319\tAccuracy: 0.36\n",
            "Train set, Epoch 3 [19200/50000 (38%)]\tLoss: 1.567514\tAccuracy: 0.37\n",
            "Train set, Epoch 3 [25600/50000 (51%)]\tLoss: 1.564525\tAccuracy: 0.37\n",
            "Train set, Epoch 3 [32000/50000 (64%)]\tLoss: 1.702611\tAccuracy: 0.37\n",
            "Train set, Epoch 3 [38400/50000 (77%)]\tLoss: 1.653584\tAccuracy: 0.38\n",
            "Train set, Epoch 3 [44800/50000 (90%)]\tLoss: 1.859624\tAccuracy: 0.38\n",
            "\n",
            "Test set, Epoch 3 , Average loss: 1.6071, Accuracy: 4040/10000 (40.40%)\n",
            "\n",
            "Train set, Epoch 4 [0/50000 (0%)]\tLoss: 1.329030\tAccuracy: 0.52\n",
            "Train set, Epoch 4 [6400/50000 (13%)]\tLoss: 1.569320\tAccuracy: 0.40\n",
            "Train set, Epoch 4 [12800/50000 (26%)]\tLoss: 1.573714\tAccuracy: 0.40\n",
            "Train set, Epoch 4 [19200/50000 (38%)]\tLoss: 1.522444\tAccuracy: 0.40\n",
            "Train set, Epoch 4 [25600/50000 (51%)]\tLoss: 1.572633\tAccuracy: 0.40\n",
            "Train set, Epoch 4 [32000/50000 (64%)]\tLoss: 1.516600\tAccuracy: 0.40\n",
            "Train set, Epoch 4 [38400/50000 (77%)]\tLoss: 1.848610\tAccuracy: 0.41\n",
            "Train set, Epoch 4 [44800/50000 (90%)]\tLoss: 1.404500\tAccuracy: 0.41\n",
            "\n",
            "Test set, Epoch 4 , Average loss: 1.6098, Accuracy: 4040/10000 (40.40%)\n",
            "\n",
            "Train set, Epoch 5 [0/50000 (0%)]\tLoss: 1.582465\tAccuracy: 0.44\n",
            "Train set, Epoch 5 [6400/50000 (13%)]\tLoss: 1.467887\tAccuracy: 0.41\n",
            "Train set, Epoch 5 [12800/50000 (26%)]\tLoss: 1.545093\tAccuracy: 0.41\n",
            "Train set, Epoch 5 [19200/50000 (38%)]\tLoss: 1.474024\tAccuracy: 0.42\n",
            "Train set, Epoch 5 [25600/50000 (51%)]\tLoss: 1.486593\tAccuracy: 0.42\n",
            "Train set, Epoch 5 [32000/50000 (64%)]\tLoss: 1.588242\tAccuracy: 0.42\n",
            "Train set, Epoch 5 [38400/50000 (77%)]\tLoss: 1.592650\tAccuracy: 0.42\n",
            "Train set, Epoch 5 [44800/50000 (90%)]\tLoss: 1.496010\tAccuracy: 0.43\n",
            "\n",
            "Test set, Epoch 5 , Average loss: 1.7176, Accuracy: 3992/10000 (39.92%)\n",
            "\n",
            "Train set, Epoch 6 [0/50000 (0%)]\tLoss: 1.538579\tAccuracy: 0.39\n",
            "Train set, Epoch 6 [6400/50000 (13%)]\tLoss: 1.628392\tAccuracy: 0.45\n",
            "Train set, Epoch 6 [12800/50000 (26%)]\tLoss: 1.478591\tAccuracy: 0.44\n",
            "Train set, Epoch 6 [19200/50000 (38%)]\tLoss: 1.588109\tAccuracy: 0.44\n",
            "Train set, Epoch 6 [25600/50000 (51%)]\tLoss: 1.593802\tAccuracy: 0.44\n",
            "Train set, Epoch 6 [32000/50000 (64%)]\tLoss: 1.619742\tAccuracy: 0.44\n",
            "Train set, Epoch 6 [38400/50000 (77%)]\tLoss: 1.352183\tAccuracy: 0.44\n",
            "Train set, Epoch 6 [44800/50000 (90%)]\tLoss: 1.536415\tAccuracy: 0.44\n",
            "\n",
            "Test set, Epoch 6 , Average loss: 1.6365, Accuracy: 4260/10000 (42.60%)\n",
            "\n",
            "Train set, Epoch 7 [0/50000 (0%)]\tLoss: 1.754196\tAccuracy: 0.36\n",
            "Train set, Epoch 7 [6400/50000 (13%)]\tLoss: 1.387647\tAccuracy: 0.44\n",
            "Train set, Epoch 7 [12800/50000 (26%)]\tLoss: 1.486966\tAccuracy: 0.44\n",
            "Train set, Epoch 7 [19200/50000 (38%)]\tLoss: 1.391762\tAccuracy: 0.44\n",
            "Train set, Epoch 7 [25600/50000 (51%)]\tLoss: 1.458419\tAccuracy: 0.45\n",
            "Train set, Epoch 7 [32000/50000 (64%)]\tLoss: 1.266909\tAccuracy: 0.45\n",
            "Train set, Epoch 7 [38400/50000 (77%)]\tLoss: 1.415920\tAccuracy: 0.45\n",
            "Train set, Epoch 7 [44800/50000 (90%)]\tLoss: 1.338027\tAccuracy: 0.45\n",
            "\n",
            "Test set, Epoch 7 , Average loss: 1.8350, Accuracy: 3762/10000 (37.62%)\n",
            "\n",
            "Train set, Epoch 8 [0/50000 (0%)]\tLoss: 1.676522\tAccuracy: 0.45\n",
            "Train set, Epoch 8 [6400/50000 (13%)]\tLoss: 1.402450\tAccuracy: 0.45\n",
            "Train set, Epoch 8 [12800/50000 (26%)]\tLoss: 1.489168\tAccuracy: 0.46\n",
            "Train set, Epoch 8 [19200/50000 (38%)]\tLoss: 1.644761\tAccuracy: 0.46\n",
            "Train set, Epoch 8 [25600/50000 (51%)]\tLoss: 1.385151\tAccuracy: 0.46\n",
            "Train set, Epoch 8 [32000/50000 (64%)]\tLoss: 1.256441\tAccuracy: 0.46\n",
            "Train set, Epoch 8 [38400/50000 (77%)]\tLoss: 1.525121\tAccuracy: 0.46\n",
            "Train set, Epoch 8 [44800/50000 (90%)]\tLoss: 1.396592\tAccuracy: 0.46\n",
            "\n",
            "Test set, Epoch 8 , Average loss: 1.6138, Accuracy: 4230/10000 (42.30%)\n",
            "\n",
            "Train set, Epoch 9 [0/50000 (0%)]\tLoss: 1.428396\tAccuracy: 0.53\n",
            "Train set, Epoch 9 [6400/50000 (13%)]\tLoss: 1.419446\tAccuracy: 0.48\n",
            "Train set, Epoch 9 [12800/50000 (26%)]\tLoss: 1.526608\tAccuracy: 0.48\n",
            "Train set, Epoch 9 [19200/50000 (38%)]\tLoss: 1.536636\tAccuracy: 0.48\n",
            "Train set, Epoch 9 [25600/50000 (51%)]\tLoss: 1.680393\tAccuracy: 0.47\n",
            "Train set, Epoch 9 [32000/50000 (64%)]\tLoss: 1.362708\tAccuracy: 0.47\n",
            "Train set, Epoch 9 [38400/50000 (77%)]\tLoss: 1.354385\tAccuracy: 0.47\n",
            "Train set, Epoch 9 [44800/50000 (90%)]\tLoss: 1.792477\tAccuracy: 0.47\n",
            "\n",
            "Test set, Epoch 9 , Average loss: 1.5901, Accuracy: 4375/10000 (43.75%)\n",
            "\n",
            "Train set, Epoch 10 [0/50000 (0%)]\tLoss: 1.443507\tAccuracy: 0.50\n",
            "Train set, Epoch 10 [6400/50000 (13%)]\tLoss: 1.442206\tAccuracy: 0.48\n",
            "Train set, Epoch 10 [12800/50000 (26%)]\tLoss: 1.297113\tAccuracy: 0.47\n",
            "Train set, Epoch 10 [19200/50000 (38%)]\tLoss: 1.975413\tAccuracy: 0.48\n",
            "Train set, Epoch 10 [25600/50000 (51%)]\tLoss: 1.520971\tAccuracy: 0.48\n",
            "Train set, Epoch 10 [32000/50000 (64%)]\tLoss: 1.306662\tAccuracy: 0.48\n",
            "Train set, Epoch 10 [38400/50000 (77%)]\tLoss: 1.342992\tAccuracy: 0.48\n",
            "Train set, Epoch 10 [44800/50000 (90%)]\tLoss: 1.457930\tAccuracy: 0.48\n",
            "\n",
            "Test set, Epoch 10 , Average loss: 1.7121, Accuracy: 4172/10000 (41.72%)\n",
            "\n",
            "USING GPU\n",
            "Train set, Epoch 1 [0/50000 (0%)]\tLoss: 2.296416\tAccuracy: 0.12\n",
            "Train set, Epoch 1 [6400/50000 (13%)]\tLoss: 1.880640\tAccuracy: 0.28\n",
            "Train set, Epoch 1 [12800/50000 (26%)]\tLoss: 1.727751\tAccuracy: 0.33\n",
            "Train set, Epoch 1 [19200/50000 (38%)]\tLoss: 1.643764\tAccuracy: 0.36\n",
            "Train set, Epoch 1 [25600/50000 (51%)]\tLoss: 1.648060\tAccuracy: 0.38\n",
            "Train set, Epoch 1 [32000/50000 (64%)]\tLoss: 1.544525\tAccuracy: 0.40\n",
            "Train set, Epoch 1 [38400/50000 (77%)]\tLoss: 1.566289\tAccuracy: 0.41\n",
            "Train set, Epoch 1 [44800/50000 (90%)]\tLoss: 1.415040\tAccuracy: 0.42\n",
            "\n",
            "Test set, Epoch 1 , Average loss: 1.6900, Accuracy: 4032/10000 (40.32%)\n",
            "\n",
            "Train set, Epoch 2 [0/50000 (0%)]\tLoss: 1.557384\tAccuracy: 0.45\n",
            "Train set, Epoch 2 [6400/50000 (13%)]\tLoss: 1.333709\tAccuracy: 0.50\n",
            "Train set, Epoch 2 [12800/50000 (26%)]\tLoss: 1.474998\tAccuracy: 0.51\n",
            "Train set, Epoch 2 [19200/50000 (38%)]\tLoss: 1.123628\tAccuracy: 0.51\n",
            "Train set, Epoch 2 [25600/50000 (51%)]\tLoss: 1.515431\tAccuracy: 0.52\n",
            "Train set, Epoch 2 [32000/50000 (64%)]\tLoss: 1.055953\tAccuracy: 0.52\n",
            "Train set, Epoch 2 [38400/50000 (77%)]\tLoss: 1.254311\tAccuracy: 0.52\n",
            "Train set, Epoch 2 [44800/50000 (90%)]\tLoss: 1.256234\tAccuracy: 0.53\n",
            "\n",
            "Test set, Epoch 2 , Average loss: 1.4874, Accuracy: 4675/10000 (46.75%)\n",
            "\n",
            "Train set, Epoch 3 [0/50000 (0%)]\tLoss: 1.320541\tAccuracy: 0.44\n",
            "Train set, Epoch 3 [6400/50000 (13%)]\tLoss: 1.088385\tAccuracy: 0.57\n",
            "Train set, Epoch 3 [12800/50000 (26%)]\tLoss: 1.337865\tAccuracy: 0.57\n",
            "Train set, Epoch 3 [19200/50000 (38%)]\tLoss: 1.201383\tAccuracy: 0.57\n",
            "Train set, Epoch 3 [25600/50000 (51%)]\tLoss: 1.175031\tAccuracy: 0.57\n",
            "Train set, Epoch 3 [32000/50000 (64%)]\tLoss: 1.339115\tAccuracy: 0.57\n",
            "Train set, Epoch 3 [38400/50000 (77%)]\tLoss: 1.026758\tAccuracy: 0.57\n",
            "Train set, Epoch 3 [44800/50000 (90%)]\tLoss: 1.498587\tAccuracy: 0.57\n",
            "\n",
            "Test set, Epoch 3 , Average loss: 1.3030, Accuracy: 5472/10000 (54.72%)\n",
            "\n",
            "Train set, Epoch 4 [0/50000 (0%)]\tLoss: 1.219551\tAccuracy: 0.58\n",
            "Train set, Epoch 4 [6400/50000 (13%)]\tLoss: 1.269646\tAccuracy: 0.59\n",
            "Train set, Epoch 4 [12800/50000 (26%)]\tLoss: 1.261928\tAccuracy: 0.59\n",
            "Train set, Epoch 4 [19200/50000 (38%)]\tLoss: 0.823161\tAccuracy: 0.59\n",
            "Train set, Epoch 4 [25600/50000 (51%)]\tLoss: 1.062237\tAccuracy: 0.59\n",
            "Train set, Epoch 4 [32000/50000 (64%)]\tLoss: 0.898769\tAccuracy: 0.59\n",
            "Train set, Epoch 4 [38400/50000 (77%)]\tLoss: 1.241705\tAccuracy: 0.59\n",
            "Train set, Epoch 4 [44800/50000 (90%)]\tLoss: 1.004541\tAccuracy: 0.60\n",
            "\n",
            "Test set, Epoch 4 , Average loss: 1.2248, Accuracy: 5630/10000 (56.30%)\n",
            "\n",
            "Train set, Epoch 5 [0/50000 (0%)]\tLoss: 1.122224\tAccuracy: 0.56\n",
            "Train set, Epoch 5 [6400/50000 (13%)]\tLoss: 1.094478\tAccuracy: 0.60\n",
            "Train set, Epoch 5 [12800/50000 (26%)]\tLoss: 1.130436\tAccuracy: 0.61\n",
            "Train set, Epoch 5 [19200/50000 (38%)]\tLoss: 1.003294\tAccuracy: 0.61\n",
            "Train set, Epoch 5 [25600/50000 (51%)]\tLoss: 1.219710\tAccuracy: 0.61\n",
            "Train set, Epoch 5 [32000/50000 (64%)]\tLoss: 0.896536\tAccuracy: 0.61\n",
            "Train set, Epoch 5 [38400/50000 (77%)]\tLoss: 1.201196\tAccuracy: 0.61\n",
            "Train set, Epoch 5 [44800/50000 (90%)]\tLoss: 1.019013\tAccuracy: 0.61\n",
            "\n",
            "Test set, Epoch 5 , Average loss: 1.2838, Accuracy: 5467/10000 (54.67%)\n",
            "\n",
            "Train set, Epoch 6 [0/50000 (0%)]\tLoss: 1.336712\tAccuracy: 0.50\n",
            "Train set, Epoch 6 [6400/50000 (13%)]\tLoss: 1.195387\tAccuracy: 0.63\n",
            "Train set, Epoch 6 [12800/50000 (26%)]\tLoss: 1.033386\tAccuracy: 0.63\n",
            "Train set, Epoch 6 [19200/50000 (38%)]\tLoss: 1.120852\tAccuracy: 0.63\n",
            "Train set, Epoch 6 [25600/50000 (51%)]\tLoss: 1.095440\tAccuracy: 0.63\n",
            "Train set, Epoch 6 [32000/50000 (64%)]\tLoss: 1.156005\tAccuracy: 0.63\n",
            "Train set, Epoch 6 [38400/50000 (77%)]\tLoss: 0.865380\tAccuracy: 0.63\n",
            "Train set, Epoch 6 [44800/50000 (90%)]\tLoss: 1.025542\tAccuracy: 0.63\n",
            "\n",
            "Test set, Epoch 6 , Average loss: 1.1870, Accuracy: 5808/10000 (58.08%)\n",
            "\n",
            "Train set, Epoch 7 [0/50000 (0%)]\tLoss: 1.184462\tAccuracy: 0.50\n",
            "Train set, Epoch 7 [6400/50000 (13%)]\tLoss: 0.838647\tAccuracy: 0.64\n",
            "Train set, Epoch 7 [12800/50000 (26%)]\tLoss: 0.977526\tAccuracy: 0.64\n",
            "Train set, Epoch 7 [19200/50000 (38%)]\tLoss: 0.969928\tAccuracy: 0.64\n",
            "Train set, Epoch 7 [25600/50000 (51%)]\tLoss: 0.912047\tAccuracy: 0.64\n",
            "Train set, Epoch 7 [32000/50000 (64%)]\tLoss: 0.680698\tAccuracy: 0.64\n",
            "Train set, Epoch 7 [38400/50000 (77%)]\tLoss: 1.080196\tAccuracy: 0.64\n",
            "Train set, Epoch 7 [44800/50000 (90%)]\tLoss: 0.822376\tAccuracy: 0.65\n",
            "\n",
            "Test set, Epoch 7 , Average loss: 1.3612, Accuracy: 5312/10000 (53.12%)\n",
            "\n",
            "Train set, Epoch 8 [0/50000 (0%)]\tLoss: 1.146056\tAccuracy: 0.62\n",
            "Train set, Epoch 8 [6400/50000 (13%)]\tLoss: 0.920747\tAccuracy: 0.66\n",
            "Train set, Epoch 8 [12800/50000 (26%)]\tLoss: 1.061373\tAccuracy: 0.66\n",
            "Train set, Epoch 8 [19200/50000 (38%)]\tLoss: 1.008760\tAccuracy: 0.66\n",
            "Train set, Epoch 8 [25600/50000 (51%)]\tLoss: 0.750718\tAccuracy: 0.66\n",
            "Train set, Epoch 8 [32000/50000 (64%)]\tLoss: 0.981476\tAccuracy: 0.66\n",
            "Train set, Epoch 8 [38400/50000 (77%)]\tLoss: 0.931142\tAccuracy: 0.66\n",
            "Train set, Epoch 8 [44800/50000 (90%)]\tLoss: 0.880709\tAccuracy: 0.66\n",
            "\n",
            "Test set, Epoch 8 , Average loss: 1.1679, Accuracy: 5914/10000 (59.14%)\n",
            "\n",
            "Train set, Epoch 9 [0/50000 (0%)]\tLoss: 0.829132\tAccuracy: 0.67\n",
            "Train set, Epoch 9 [6400/50000 (13%)]\tLoss: 0.921149\tAccuracy: 0.68\n",
            "Train set, Epoch 9 [12800/50000 (26%)]\tLoss: 0.893130\tAccuracy: 0.68\n",
            "Train set, Epoch 9 [19200/50000 (38%)]\tLoss: 0.909893\tAccuracy: 0.68\n",
            "Train set, Epoch 9 [25600/50000 (51%)]\tLoss: 1.318635\tAccuracy: 0.67\n",
            "Train set, Epoch 9 [32000/50000 (64%)]\tLoss: 0.738393\tAccuracy: 0.67\n",
            "Train set, Epoch 9 [38400/50000 (77%)]\tLoss: 0.838858\tAccuracy: 0.67\n",
            "Train set, Epoch 9 [44800/50000 (90%)]\tLoss: 0.898394\tAccuracy: 0.67\n",
            "\n",
            "Test set, Epoch 9 , Average loss: 1.2280, Accuracy: 5777/10000 (57.77%)\n",
            "\n",
            "Train set, Epoch 10 [0/50000 (0%)]\tLoss: 0.905768\tAccuracy: 0.70\n",
            "Train set, Epoch 10 [6400/50000 (13%)]\tLoss: 0.962364\tAccuracy: 0.69\n",
            "Train set, Epoch 10 [12800/50000 (26%)]\tLoss: 0.782320\tAccuracy: 0.69\n",
            "Train set, Epoch 10 [19200/50000 (38%)]\tLoss: 1.300223\tAccuracy: 0.69\n",
            "Train set, Epoch 10 [25600/50000 (51%)]\tLoss: 1.034458\tAccuracy: 0.69\n",
            "Train set, Epoch 10 [32000/50000 (64%)]\tLoss: 0.789156\tAccuracy: 0.69\n",
            "Train set, Epoch 10 [38400/50000 (77%)]\tLoss: 0.682509\tAccuracy: 0.68\n",
            "Train set, Epoch 10 [44800/50000 (90%)]\tLoss: 0.884378\tAccuracy: 0.68\n",
            "\n",
            "Test set, Epoch 10 , Average loss: 1.3114, Accuracy: 5552/10000 (55.52%)\n",
            "\n"
          ],
          "name": "stdout"
        }
      ]
    },
    {
      "cell_type": "code",
      "metadata": {
        "id": "uIiaVm4g5sa3",
        "colab": {
          "base_uri": "https://localhost:8080/"
        },
        "outputId": "1be267a8-5ae9-40e9-eaf6-03a4b2634c9e"
      },
      "source": [
        "import random\n",
        "\n",
        "for data, target in test_loader:\n",
        "    index = random.randint(0, len(data))\n",
        "    data, target = Variable(data), Variable(target)\n",
        "    img = data[index]\n",
        "    if check_gpu:\n",
        "       img = img.to(\"cuda\")\n",
        "    img=img.unsqueeze(0)\n",
        "    print(img.size())\n",
        "    break"
      ],
      "execution_count": 21,
      "outputs": [
        {
          "output_type": "stream",
          "text": [
            "torch.Size([1, 3, 32, 32])\n"
          ],
          "name": "stdout"
        }
      ]
    },
    {
      "cell_type": "code",
      "metadata": {
        "colab": {
          "base_uri": "https://localhost:8080/"
        },
        "id": "N-o4J6mW5zVU",
        "outputId": "9b004b4d-766a-46cc-955a-463b73c2f99d"
      },
      "source": [
        "no_of_layers=0\n",
        "conv_layers=[]\n",
        "\n",
        "model_children=list(model.children())\n",
        "\n",
        "for child in model_children:\n",
        "    if type(child)==nn.Conv2d:\n",
        "        no_of_layers+=1\n",
        "        conv_layers.append(child)\n",
        "    elif type(child)==nn.Sequential:\n",
        "        for layer in child.children():\n",
        "            if type(layer)==nn.Conv2d:\n",
        "                no_of_layers+=1\n",
        "                conv_layers.append(layer)\n",
        "                \n",
        "print(no_of_layers)"
      ],
      "execution_count": 22,
      "outputs": [
        {
          "output_type": "stream",
          "text": [
            "2\n"
          ],
          "name": "stdout"
        }
      ]
    },
    {
      "cell_type": "code",
      "metadata": {
        "id": "2Pl6cXIh5zVV"
      },
      "source": [
        "results = [conv_layers[0](img)]\n",
        "for i in range(1, len(conv_layers)):\n",
        "    results.append(conv_layers[i](results[-1]))\n",
        "outputs = results"
      ],
      "execution_count": 23,
      "outputs": []
    },
    {
      "cell_type": "code",
      "metadata": {
        "id": "ReMwvqgT5zVV"
      },
      "source": [
        "def save_plot(plot_buf):\n",
        "    image = PIL.Image.open(plot_buf)\n",
        "    image = ToTensor()(image).unsqueeze(0)\n",
        "    image = image.reshape(3, 288, 432)\n",
        "\n",
        "\n",
        "    writer = SummaryWriter(comment='Feature Map')\n",
        "    #x = torchvision.utils.make_grid(image, normalize=True, scale_each=True)\n",
        "    for n_iter in range(100):\n",
        "        if n_iter % 10 == 0:\n",
        "            writer.add_image('Image', image, n_iter)\n",
        "\n",
        "def gen_plot():\n",
        "    \"\"\"Create a pyplot plot and save to buffer.\"\"\"\n",
        "    for num_layer in range(len(outputs)):\n",
        "        plt.figure(figsize=(50, 10))\n",
        "        layer_viz = outputs[num_layer][0, :, :, :]\n",
        "        layer_viz = layer_viz.data\n",
        "        print(\"Layer \",num_layer+1)\n",
        "        for i, filter in enumerate(layer_viz):\n",
        "            if i == 20: \n",
        "                break\n",
        "            plt.subplot(2, 8, i + 1)\n",
        "            plt.title(\"Layer {}\".format(num_layer+1))\n",
        "            plt.imshow(filter.cpu(), cmap='gray')\n",
        "            plt.axis(\"off\")  \n",
        "        plt.show()\n",
        "        buf = io.BytesIO()\n",
        "        plt.savefig(buf, format='jpeg')\n",
        "        buf.seek(0)\n",
        "        save_plot(buf)"
      ],
      "execution_count": 27,
      "outputs": []
    },
    {
      "cell_type": "code",
      "metadata": {
        "colab": {
          "base_uri": "https://localhost:8080/",
          "height": 496
        },
        "id": "BDOinRzO5zVW",
        "outputId": "577a1e62-9474-4a35-fffa-59ff630b3008"
      },
      "source": [
        "# Prepare the plot\n",
        "gen_plot()"
      ],
      "execution_count": 28,
      "outputs": [
        {
          "output_type": "stream",
          "text": [
            "Layer  1\n"
          ],
          "name": "stdout"
        },
        {
          "output_type": "display_data",
          "data": {
            "image/png": "[encoded data removed]",
            "text/plain": [
              "<Figure size 3600x720 with 6 Axes>"
            ]
          },
          "metadata": {
            "tags": [],
            "needs_background": "light"
          }
        },
        {
          "output_type": "stream",
          "text": [
            "Layer  2\n"
          ],
          "name": "stdout"
        },
        {
          "output_type": "display_data",
          "data": {
            "text/plain": [
              "<Figure size 432x288 with 0 Axes>"
            ]
          },
          "metadata": {
            "tags": []
          }
        },
        {
          "output_type": "display_data",
          "data": {
            "image/png": "[encoded data removed]",
            "text/plain": [
              "<Figure size 3600x720 with 16 Axes>"
            ]
          },
          "metadata": {
            "tags": [],
            "needs_background": "light"
          }
        },
        {
          "output_type": "display_data",
          "data": {
            "text/plain": [
              "<Figure size 432x288 with 0 Axes>"
            ]
          },
          "metadata": {
            "tags": []
          }
        }
      ]
    },
    {
      "cell_type": "code",
      "metadata": {
        "id": "lxLjhgcP5zVW"
      },
      "source": [
        ""
      ],
      "execution_count": null,
      "outputs": []
    }
  ]
}