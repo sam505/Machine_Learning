{
  "nbformat": 4,
  "nbformat_minor": 0,
  "metadata": {
    "colab": {
      "name": "NLP.ipynb",
      "provenance": [],
      "authorship_tag": "ABX9TyNOMvfb69lzWvxy4TYoHqsY",
      "include_colab_link": true
    },
    "kernelspec": {
      "name": "python3",
      "display_name": "Python 3"
    },
    "language_info": {
      "name": "python"
    }
  },
  "cells": [
    {
      "cell_type": "markdown",
      "metadata": {
        "id": "view-in-github",
        "colab_type": "text"
      },
      "source": [
        "<a href=\"https://colab.research.google.com/github/sam505/Machine_Learning/blob/master/NLP.ipynb\" target=\"_parent\"><img src=\"https://colab.research.google.com/assets/colab-badge.svg\" alt=\"Open In Colab\"/></a>"
      ]
    },
    {
      "cell_type": "code",
      "metadata": {
        "id": "KVW8tN3VrWkF"
      },
      "source": [
        "import nltk\n",
        "from nltk.corpus import stopwords\n",
        "import string"
      ],
      "execution_count": null,
      "outputs": []
    },
    {
      "cell_type": "code",
      "metadata": {
        "colab": {
          "base_uri": "https://localhost:8080/"
        },
        "id": "INSVA27yrZ-n",
        "outputId": "b912ed98-cafb-433a-96e5-46422a44cbf1"
      },
      "source": [
        "nltk.download('stopwords')"
      ],
      "execution_count": null,
      "outputs": [
        {
          "output_type": "stream",
          "text": [
            "[nltk_data] Downloading package stopwords to /root/nltk_data...\n",
            "[nltk_data]   Package stopwords is already up-to-date!\n"
          ],
          "name": "stdout"
        },
        {
          "output_type": "execute_result",
          "data": {
            "text/plain": [
              "True"
            ]
          },
          "metadata": {
            "tags": []
          },
          "execution_count": 5
        }
      ]
    },
    {
      "cell_type": "code",
      "metadata": {
        "colab": {
          "base_uri": "https://localhost:8080/"
        },
        "id": "ZV6WdYFArsVX",
        "outputId": "b326ee78-cb17-4d99-c372-d177597e44ac"
      },
      "source": [
        "stopwords_english = stopwords.words('english') \n",
        "print('Stop words\\n')\n",
        "print(stopwords_english)\n",
        "\n",
        "print('\\nPunctuation\\n')\n",
        "print(string.punctuation)"
      ],
      "execution_count": null,
      "outputs": [
        {
          "output_type": "stream",
          "text": [
            "Stop words\n",
            "\n",
            "['i', 'me', 'my', 'myself', 'we', 'our', 'ours', 'ourselves', 'you', \"you're\", \"you've\", \"you'll\", \"you'd\", 'your', 'yours', 'yourself', 'yourselves', 'he', 'him', 'his', 'himself', 'she', \"she's\", 'her', 'hers', 'herself', 'it', \"it's\", 'its', 'itself', 'they', 'them', 'their', 'theirs', 'themselves', 'what', 'which', 'who', 'whom', 'this', 'that', \"that'll\", 'these', 'those', 'am', 'is', 'are', 'was', 'were', 'be', 'been', 'being', 'have', 'has', 'had', 'having', 'do', 'does', 'did', 'doing', 'a', 'an', 'the', 'and', 'but', 'if', 'or', 'because', 'as', 'until', 'while', 'of', 'at', 'by', 'for', 'with', 'about', 'against', 'between', 'into', 'through', 'during', 'before', 'after', 'above', 'below', 'to', 'from', 'up', 'down', 'in', 'out', 'on', 'off', 'over', 'under', 'again', 'further', 'then', 'once', 'here', 'there', 'when', 'where', 'why', 'how', 'all', 'any', 'both', 'each', 'few', 'more', 'most', 'other', 'some', 'such', 'no', 'nor', 'not', 'only', 'own', 'same', 'so', 'than', 'too', 'very', 's', 't', 'can', 'will', 'just', 'don', \"don't\", 'should', \"should've\", 'now', 'd', 'll', 'm', 'o', 're', 've', 'y', 'ain', 'aren', \"aren't\", 'couldn', \"couldn't\", 'didn', \"didn't\", 'doesn', \"doesn't\", 'hadn', \"hadn't\", 'hasn', \"hasn't\", 'haven', \"haven't\", 'isn', \"isn't\", 'ma', 'mightn', \"mightn't\", 'mustn', \"mustn't\", 'needn', \"needn't\", 'shan', \"shan't\", 'shouldn', \"shouldn't\", 'wasn', \"wasn't\", 'weren', \"weren't\", 'won', \"won't\", 'wouldn', \"wouldn't\"]\n",
            "\n",
            "Punctuation\n",
            "\n",
            "!\"#$%&'()*+,-./:;<=>?@[\\]^_`{|}~\n"
          ],
          "name": "stdout"
        }
      ]
    },
    {
      "cell_type": "code",
      "metadata": {
        "id": "eMH0oeLrsa7K"
      },
      "source": [
        "line = \"A view function, or view for short, is a Python function that takes a Web request and\""
      ],
      "execution_count": null,
      "outputs": []
    },
    {
      "cell_type": "code",
      "metadata": {
        "id": "G8ndMLa9uMtr"
      },
      "source": [
        "def preprocessing(line):\n",
        "  tokens = nltk.word_tokenize(line)\n",
        "  final_words = []\n",
        "  for word in tokens: # Go through every word in your tokens list\n",
        "    if (word not in stopwords_english and  # remove stopwords\n",
        "        word not in string.punctuation):  # remove punctuation\n",
        "        final_words.append(word)\n",
        "\n",
        "  return final_words"
      ],
      "execution_count": null,
      "outputs": []
    },
    {
      "cell_type": "code",
      "metadata": {
        "colab": {
          "base_uri": "https://localhost:8080/"
        },
        "id": "h-ghFDMFuwsP",
        "outputId": "639b0c24-9c79-4b2d-9f01-31fac572b634"
      },
      "source": [
        "words = preprocessing(line)\n",
        "\n",
        "bigrams = list(zip(words[0:],words[1:]))\n",
        "\n",
        "print(bigrams)"
      ],
      "execution_count": null,
      "outputs": [
        {
          "output_type": "stream",
          "text": [
            "[('A', 'view'), ('view', 'function'), ('function', 'view'), ('view', 'short'), ('short', 'Python'), ('Python', 'function'), ('function', 'takes'), ('takes', 'Web'), ('Web', 'request')]\n"
          ],
          "name": "stdout"
        }
      ]
    },
    {
      "cell_type": "code",
      "metadata": {
        "colab": {
          "base_uri": "https://localhost:8080/"
        },
        "id": "PtM8YeckAdbm",
        "outputId": "343def8c-a54e-4fd9-f97d-5c9dd0680936"
      },
      "source": [
        "output = bigram(words)\n",
        "for i in output:\n",
        "  pass"
      ],
      "execution_count": null,
      "outputs": [
        {
          "output_type": "stream",
          "text": [
            "('A', ' ')\n",
            "(' ', 'v')\n",
            "('v', ' ')\n",
            "(' ', 'f')\n",
            "('f', ' ')\n",
            "(' ', 'v')\n",
            "('v', ' ')\n",
            "(' ', 's')\n",
            "('s', ' ')\n",
            "(' ', 'P')\n",
            "('P', ' ')\n",
            "(' ', 'f')\n",
            "('f', ' ')\n",
            "(' ', 't')\n",
            "('t', ' ')\n",
            "(' ', 'W')\n",
            "('W', ' ')\n",
            "(' ', 'r')\n"
          ],
          "name": "stdout"
        }
      ]
    },
    {
      "cell_type": "code",
      "metadata": {
        "colab": {
          "base_uri": "https://localhost:8080/"
        },
        "id": "PzuGm45iuySs",
        "outputId": "cd591702-2948-468f-c001-a1caad6f2552"
      },
      "source": [
        "nltk.download('punkt')"
      ],
      "execution_count": null,
      "outputs": [
        {
          "output_type": "stream",
          "text": [
            "[nltk_data] Downloading package punkt to /root/nltk_data...\n",
            "[nltk_data]   Package punkt is already up-to-date!\n"
          ],
          "name": "stdout"
        },
        {
          "output_type": "execute_result",
          "data": {
            "text/plain": [
              "True"
            ]
          },
          "metadata": {
            "tags": []
          },
          "execution_count": 16
        }
      ]
    },
    {
      "cell_type": "code",
      "metadata": {
        "colab": {
          "base_uri": "https://localhost:8080/"
        },
        "id": "dUQZTy3lzIbG",
        "outputId": "4960157a-31bf-424a-ef4f-75e93dc84395"
      },
      "source": [
        "myDic={10: 'b', 3:'a', 5:'c'}\n",
        "sortDic = sorted(myDic.items())\n",
        "print(sortDic)"
      ],
      "execution_count": null,
      "outputs": [
        {
          "output_type": "stream",
          "text": [
            "[(3, 'a'), (5, 'c'), (10, 'b')]\n"
          ],
          "name": "stdout"
        }
      ]
    },
    {
      "cell_type": "code",
      "metadata": {
        "id": "F_pSyKjO5J4U"
      },
      "source": [
        "#!/usr/bin/python3 -O\n",
        "\n",
        "import sys\n",
        "import nltk\n",
        "import string\n",
        "nltk.download('punkt')\n",
        "nltk.download('stopwords')\n",
        "\n",
        "from nltk.corpus import stopwords\n",
        "\n",
        "\n",
        "def preprocessing(line):\n",
        "    \"\"\"\n",
        "    Preprocessing function, receives a line from the stdin\n",
        "    and returns a list of words with no punctuation and stopwords\n",
        "\n",
        "    :param line:\n",
        "    :return:\n",
        "    \"\"\"\n",
        "    tokens = nltk.word_tokenize(line)\n",
        "    stopwords_english = stopwords.words('english')\n",
        "    final_words = []\n",
        "    for word in tokens:  # Go through every word in your tokens list\n",
        "        if (word not in stopwords_english and  # remove stopwords\n",
        "                word not in string.punctuation):  # remove punctuation\n",
        "            final_words.append(word)\n",
        "\n",
        "    return final_words\n",
        "\n",
        "\n",
        "def main():\n",
        "    \"\"\"\n",
        "    gets all lines from stdin\n",
        "    :return:\n",
        "    \"\"\"\n",
        "    for line in sys.stdin:\n",
        "        # remove leading and trailing whitespace\n",
        "        line = line.strip()\n",
        "\n",
        "        # split the line into words\n",
        "        words = preprocessing(line)\n",
        "\n",
        "        # get a list of bigrams\n",
        "        bigrams = list(zip(words[0:], words[1:]))\n",
        "\n",
        "        # output tuples [word, 1] in tab-delimited format\n",
        "        for bigram in bigrams:\n",
        "            print('%s\\t%s' % (bigram, \"1\"))\n",
        "\n",
        "\n",
        "if __name__ == \"__main__\":\n",
        "    main()\n"
      ],
      "execution_count": null,
      "outputs": []
    }
  ]
}