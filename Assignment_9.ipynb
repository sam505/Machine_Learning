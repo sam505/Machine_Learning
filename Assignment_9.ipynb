{
  "nbformat": 4,
  "nbformat_minor": 0,
  "metadata": {
    "kernelspec": {
      "display_name": "Python 3",
      "language": "python",
      "name": "python3"
    },
    "language_info": {
      "codemirror_mode": {
        "name": "ipython",
        "version": 3
      },
      "file_extension": ".py",
      "mimetype": "text/x-python",
      "name": "python",
      "nbconvert_exporter": "python",
      "pygments_lexer": "ipython3",
      "version": "3.8.3"
    },
    "toc": {
      "base_numbering": 1,
      "nav_menu": {},
      "number_sections": true,
      "sideBar": true,
      "skip_h1_title": false,
      "title_cell": "Table of Contents",
      "title_sidebar": "Contents",
      "toc_cell": false,
      "toc_position": {
        "height": "calc(100% - 180px)",
        "left": "10px",
        "top": "150px",
        "width": "284.433px"
      },
      "toc_section_display": true,
      "toc_window_display": true
    },
    "colab": {
      "name": "Assignment_9.ipynb",
      "provenance": [],
      "collapsed_sections": [],
      "include_colab_link": true
    }
  },
  "cells": [
    {
      "cell_type": "markdown",
      "metadata": {
        "id": "view-in-github",
        "colab_type": "text"
      },
      "source": [
        "<a href=\"https://colab.research.google.com/github/sam505/Machine_Learning/blob/master/Assignment_9.ipynb\" target=\"_parent\"><img src=\"https://colab.research.google.com/assets/colab-badge.svg\" alt=\"Open In Colab\"/></a>"
      ]
    },
    {
      "cell_type": "markdown",
      "metadata": {
        "id": "p2N5i0I5MDG-"
      },
      "source": [
        "## Assignment (60 pts + 10 pts Extra Credit) ##\n",
        "\n",
        "**You should update the path below**\n",
        "\n",
        "import pandas as pd\n",
        "<br>\n",
        "pathSuperstore = r'C:\\Users\\f_sohnoume\\OneDrive - UNCG\\f_sohnoume (faculty)\\Spring 2021\\ISM210\\Resources\\Week 8\\Sample - Superstore.xlsx'\n",
        "<br>\n",
        "superstoreData = pd.read_excel(pathSuperstore)\n",
        "\n",
        "\n",
        "* Transform categorical variables into dummies using the function **get_dummies()** (20 pts)\n",
        "    * Focus on City, State, Region, EmployeeID, Segment, Category, Sub-Category, and Ship Mode.\n",
        "    * The transformation of each categorical variable is worth *2.5 pts*\n",
        "* Create a column called \"Price\" by dividing the column \"Sales\" with the column \"Quantity\" (2.5 pts)\n",
        "    * \"Price\" represents the average price of the transaction.\n",
        "* Create a column called \"Shipping Time\" representing the number of days between the Order Date and the Ship Date (2.5 pts)\n",
        "    * The difference between two *datetime64* type variables returns a *timedelta* type variable\n",
        "    * You can use **dt.days** to convert a *timedelta* to the number of days. Also, you can use Google search to see how to convert a *timedelta* to an *int*. Here is an example https://www.kite.com/python/answers/how-to-convert-a-timedelta-column-in-a-pandas-dataframe-to-a-days-column-in-python\n",
        "* Using **patsy** and **statsmodels**, fit four models that predict *Sales* (25 pts)\n",
        "    * For each model, choose a different combination of predictors. You can include categorical variables (e.g., State, Region, etc.), and/or numerical variables (e.g., Shipping time, Price, etc.)\n",
        "    * Each model should have at least 3 predictors\n",
        "    * Each model is worth *5 pts*\n",
        "    * Select the best model based on the R-Squared coefficient (5 pts)\n",
        "        * The best model is the one that has the highest R-Squared coefficient\n",
        "* Fit a model that predicts *Sales* (5 pts)\n",
        "    * The model should use standardized variables as predictors. The function that standardizes variables is **standardize()**.\n",
        "    * The list of predictors is: Discount, Price, and Shipping Time."
      ]
    },
    {
      "cell_type": "markdown",
      "metadata": {
        "id": "AWYhmUCkMDHE"
      },
      "source": [
        "**Use the following code to create the training and testing datasets should update the path below**\n",
        "\n",
        "train = superstoreData[:5000]<br>\n",
        "test = superstoreData[5000:]\n",
        "\n",
        "\n",
        "**Use the following code to create the outcome to predict**\n",
        "\n",
        "train['IsProfitable'] = (train['Profit'] >= 0).astype(int)\n",
        "test['IsProfitable'] = (test['Profit'] >= 0).astype(int)\n",
        "\n",
        "* Use the LogisticRegression model of scikit-learn to create a model instance (15 pts)\n",
        "    * Create a list of predictors. You can include the dummies created earlier in the list of predictors (5 pts)\n",
        "        * The list of predictors should have at least 5 variables\n",
        "    * Following the lecture notes, fit the model and calculate the y_predict (5 pts)\n",
        "    * Following the lecture notes, calculate the y_true and the accuracy percentage (5 pts)\n"
      ]
    },
    {
      "cell_type": "code",
      "metadata": {
        "id": "olzLqqg1MDHF"
      },
      "source": [
        "import pandas as pd\n",
        "pathSuperstore = r'C:\\Users\\f_sohnoume\\OneDrive - UNCG\\f_sohnoume (faculty)\\Spring 2021\\ISM210\\Resources\\Week 8\\Sample - Superstore.xlsx'\n",
        "superstoreData = pd.read_excel(pathSuperstore)"
      ],
      "execution_count": null,
      "outputs": []
    },
    {
      "cell_type": "markdown",
      "metadata": {
        "id": "A4MlHwdFNT_W"
      },
      "source": [
        "# Transform categorical variables into dummies using the function get_dummies() (20 pts)\n",
        "- ## Focus on City, State, Region, EmployeeID, Segment, Category, Sub-Category, and Ship Mode.\n",
        "- ## The transformation of each categorical variable is worth 2.5 pts"
      ]
    },
    {
      "cell_type": "code",
      "metadata": {
        "id": "lwM9oql2NP28"
      },
      "source": [
        ""
      ],
      "execution_count": null,
      "outputs": []
    },
    {
      "cell_type": "markdown",
      "metadata": {
        "id": "Q7q60bMWNcr6"
      },
      "source": [
        "# Create a column called \"Price\" by dividing the column \"Sales\" with the column \"Quantity\" (2.5 pts)\n",
        "- ## \"Price\" represents the average price of the transaction."
      ]
    },
    {
      "cell_type": "code",
      "metadata": {
        "id": "VjfNWMUwNi_o"
      },
      "source": [
        ""
      ],
      "execution_count": null,
      "outputs": []
    },
    {
      "cell_type": "markdown",
      "metadata": {
        "id": "K-dOBAX4Nj8f"
      },
      "source": [
        "# Create a column called \"Shipping Time\" representing the number of days between the Order Date and the Ship Date (2.5 pts)\n",
        "- ## The difference between two datetime64 type variables returns a timedelta type variable\n",
        "- ## You can use dt.days to convert a timedelta to the number of days. Also, you can use Google search to see how to convert a timedelta to an int. Here is an example https://www.kite.com/python/answers/how-to-convert-a-timedelta-column-in-a-pandas-dataframe-to-a-days-column-in-python"
      ]
    },
    {
      "cell_type": "code",
      "metadata": {
        "id": "jK-9l1RANr4P"
      },
      "source": [
        ""
      ],
      "execution_count": null,
      "outputs": []
    },
    {
      "cell_type": "markdown",
      "metadata": {
        "id": "K94V8oeWNw4C"
      },
      "source": [
        "# Using patsy and statsmodels, fit four models that predict Sales (25 pts)\n",
        "- ## For each model, choose a different combination of predictors. You can include categorical variables (e.g., State, Region, etc.), and/or numerical variables (e.g., Shipping time, Price, etc.)\n",
        "- ## Each model should have at least 3 predictors\n",
        "- ## Each model is worth 5 pts\n",
        "- ## Select the best model based on the R-Squared coefficient (5 pts)\n",
        "  - ### The best model is the one that has the highest R-Squared coefficient"
      ]
    },
    {
      "cell_type": "code",
      "metadata": {
        "id": "0SJKpGciN5qb"
      },
      "source": [
        ""
      ],
      "execution_count": null,
      "outputs": []
    },
    {
      "cell_type": "markdown",
      "metadata": {
        "id": "qnvNVrvtN9xX"
      },
      "source": [
        "# Fit a model that predicts Sales (5 pts)\n",
        "- ## The model should use standardized variables as predictors. The function that standardizes variables is standardize().\n",
        "- ## The list of predictors is: Discount, Price, and Shipping Time."
      ]
    },
    {
      "cell_type": "code",
      "metadata": {
        "id": "5lQbHvHHOCJJ"
      },
      "source": [
        ""
      ],
      "execution_count": null,
      "outputs": []
    },
    {
      "cell_type": "markdown",
      "metadata": {
        "id": "klvWESmrOnKa"
      },
      "source": [
        "# Use the LogisticRegression model of scikit-learn to create a model instance (15 pts)\n",
        "- ## Create a list of predictors. You can include the dummies created earlier in the list of predictors (5 pts)\n",
        "  - ## The list of predictors should have at least 5 variables\n",
        "- ## Following the lecture notes, fit the model and calculate the y_predict (5 pts)\n",
        "- ## Following the lecture notes, calculate the y_true and the accuracy percentage (5 pts)"
      ]
    },
    {
      "cell_type": "code",
      "metadata": {
        "id": "CTZZkW64O0Xf"
      },
      "source": [
        ""
      ],
      "execution_count": null,
      "outputs": []
    }
  ]
}