{
  "nbformat": 4,
  "nbformat_minor": 0,
  "metadata": {
    "colab": {
      "name": "Pytorch_Tutorial_and_Homework5.ipynb",
      "provenance": [],
      "collapsed_sections": [],
      "include_colab_link": true
    },
    "kernelspec": {
      "name": "python3",
      "display_name": "Python 3"
    },
    "accelerator": "GPU",
    "widgets": {
      "application/vnd.jupyter.widget-state+json": {
        "5a729c64da564b1fa469836aba7d15b6": {
          "model_module": "@jupyter-widgets/controls",
          "model_name": "HBoxModel",
          "model_module_version": "1.5.0",
          "state": {
            "_view_name": "HBoxView",
            "_dom_classes": [],
            "_model_name": "HBoxModel",
            "_view_module": "@jupyter-widgets/controls",
            "_model_module_version": "1.5.0",
            "_view_count": null,
            "_view_module_version": "1.5.0",
            "box_style": "",
            "layout": "IPY_MODEL_17bc11b4c58d4be188bd2d9a9b99ec18",
            "_model_module": "@jupyter-widgets/controls",
            "children": [
              "IPY_MODEL_8c1fa7f8821d4ff6b54b43d198b3b8b1",
              "IPY_MODEL_dc1f66877dea49a18fbd22f02b7c1152",
              "IPY_MODEL_be25f9670f094b9192fabb969cd21492"
            ]
          }
        },
        "17bc11b4c58d4be188bd2d9a9b99ec18": {
          "model_module": "@jupyter-widgets/base",
          "model_name": "LayoutModel",
          "model_module_version": "1.2.0",
          "state": {
            "_view_name": "LayoutView",
            "grid_template_rows": null,
            "right": null,
            "justify_content": null,
            "_view_module": "@jupyter-widgets/base",
            "overflow": null,
            "_model_module_version": "1.2.0",
            "_view_count": null,
            "flex_flow": null,
            "width": null,
            "min_width": null,
            "border": null,
            "align_items": null,
            "bottom": null,
            "_model_module": "@jupyter-widgets/base",
            "top": null,
            "grid_column": null,
            "overflow_y": null,
            "overflow_x": null,
            "grid_auto_flow": null,
            "grid_area": null,
            "grid_template_columns": null,
            "flex": null,
            "_model_name": "LayoutModel",
            "justify_items": null,
            "grid_row": null,
            "max_height": null,
            "align_content": null,
            "visibility": null,
            "align_self": null,
            "height": null,
            "min_height": null,
            "padding": null,
            "grid_auto_rows": null,
            "grid_gap": null,
            "max_width": null,
            "order": null,
            "_view_module_version": "1.2.0",
            "grid_template_areas": null,
            "object_position": null,
            "object_fit": null,
            "grid_auto_columns": null,
            "margin": null,
            "display": null,
            "left": null
          }
        },
        "8c1fa7f8821d4ff6b54b43d198b3b8b1": {
          "model_module": "@jupyter-widgets/controls",
          "model_name": "HTMLModel",
          "model_module_version": "1.5.0",
          "state": {
            "_view_name": "HTMLView",
            "style": "IPY_MODEL_31177dfb3c934324a108bb58b1274d17",
            "_dom_classes": [],
            "description": "",
            "_model_name": "HTMLModel",
            "placeholder": "​",
            "_view_module": "@jupyter-widgets/controls",
            "_model_module_version": "1.5.0",
            "value": "",
            "_view_count": null,
            "_view_module_version": "1.5.0",
            "description_tooltip": null,
            "_model_module": "@jupyter-widgets/controls",
            "layout": "IPY_MODEL_2eeaf0391f6f432ca6460744e34b39fb"
          }
        },
        "dc1f66877dea49a18fbd22f02b7c1152": {
          "model_module": "@jupyter-widgets/controls",
          "model_name": "FloatProgressModel",
          "model_module_version": "1.5.0",
          "state": {
            "_view_name": "ProgressView",
            "style": "IPY_MODEL_351278a87dd44748a44dee532ee6c1c3",
            "_dom_classes": [],
            "description": "",
            "_model_name": "FloatProgressModel",
            "bar_style": "success",
            "max": 9912422,
            "_view_module": "@jupyter-widgets/controls",
            "_model_module_version": "1.5.0",
            "value": 9912422,
            "_view_count": null,
            "_view_module_version": "1.5.0",
            "orientation": "horizontal",
            "min": 0,
            "description_tooltip": null,
            "_model_module": "@jupyter-widgets/controls",
            "layout": "IPY_MODEL_350e4f47d344471f99307f2b5d74681d"
          }
        },
        "be25f9670f094b9192fabb969cd21492": {
          "model_module": "@jupyter-widgets/controls",
          "model_name": "HTMLModel",
          "model_module_version": "1.5.0",
          "state": {
            "_view_name": "HTMLView",
            "style": "IPY_MODEL_67b1fd8d73b343a299a570ca838fcb9b",
            "_dom_classes": [],
            "description": "",
            "_model_name": "HTMLModel",
            "placeholder": "​",
            "_view_module": "@jupyter-widgets/controls",
            "_model_module_version": "1.5.0",
            "value": " 9913344/? [00:00&lt;00:00, 30360351.00it/s]",
            "_view_count": null,
            "_view_module_version": "1.5.0",
            "description_tooltip": null,
            "_model_module": "@jupyter-widgets/controls",
            "layout": "IPY_MODEL_f23c009eebd6440180ead72df6a4b67f"
          }
        },
        "31177dfb3c934324a108bb58b1274d17": {
          "model_module": "@jupyter-widgets/controls",
          "model_name": "DescriptionStyleModel",
          "model_module_version": "1.5.0",
          "state": {
            "_view_name": "StyleView",
            "_model_name": "DescriptionStyleModel",
            "description_width": "",
            "_view_module": "@jupyter-widgets/base",
            "_model_module_version": "1.5.0",
            "_view_count": null,
            "_view_module_version": "1.2.0",
            "_model_module": "@jupyter-widgets/controls"
          }
        },
        "2eeaf0391f6f432ca6460744e34b39fb": {
          "model_module": "@jupyter-widgets/base",
          "model_name": "LayoutModel",
          "model_module_version": "1.2.0",
          "state": {
            "_view_name": "LayoutView",
            "grid_template_rows": null,
            "right": null,
            "justify_content": null,
            "_view_module": "@jupyter-widgets/base",
            "overflow": null,
            "_model_module_version": "1.2.0",
            "_view_count": null,
            "flex_flow": null,
            "width": null,
            "min_width": null,
            "border": null,
            "align_items": null,
            "bottom": null,
            "_model_module": "@jupyter-widgets/base",
            "top": null,
            "grid_column": null,
            "overflow_y": null,
            "overflow_x": null,
            "grid_auto_flow": null,
            "grid_area": null,
            "grid_template_columns": null,
            "flex": null,
            "_model_name": "LayoutModel",
            "justify_items": null,
            "grid_row": null,
            "max_height": null,
            "align_content": null,
            "visibility": null,
            "align_self": null,
            "height": null,
            "min_height": null,
            "padding": null,
            "grid_auto_rows": null,
            "grid_gap": null,
            "max_width": null,
            "order": null,
            "_view_module_version": "1.2.0",
            "grid_template_areas": null,
            "object_position": null,
            "object_fit": null,
            "grid_auto_columns": null,
            "margin": null,
            "display": null,
            "left": null
          }
        },
        "351278a87dd44748a44dee532ee6c1c3": {
          "model_module": "@jupyter-widgets/controls",
          "model_name": "ProgressStyleModel",
          "model_module_version": "1.5.0",
          "state": {
            "_view_name": "StyleView",
            "_model_name": "ProgressStyleModel",
            "description_width": "",
            "_view_module": "@jupyter-widgets/base",
            "_model_module_version": "1.5.0",
            "_view_count": null,
            "_view_module_version": "1.2.0",
            "bar_color": null,
            "_model_module": "@jupyter-widgets/controls"
          }
        },
        "350e4f47d344471f99307f2b5d74681d": {
          "model_module": "@jupyter-widgets/base",
          "model_name": "LayoutModel",
          "model_module_version": "1.2.0",
          "state": {
            "_view_name": "LayoutView",
            "grid_template_rows": null,
            "right": null,
            "justify_content": null,
            "_view_module": "@jupyter-widgets/base",
            "overflow": null,
            "_model_module_version": "1.2.0",
            "_view_count": null,
            "flex_flow": null,
            "width": null,
            "min_width": null,
            "border": null,
            "align_items": null,
            "bottom": null,
            "_model_module": "@jupyter-widgets/base",
            "top": null,
            "grid_column": null,
            "overflow_y": null,
            "overflow_x": null,
            "grid_auto_flow": null,
            "grid_area": null,
            "grid_template_columns": null,
            "flex": null,
            "_model_name": "LayoutModel",
            "justify_items": null,
            "grid_row": null,
            "max_height": null,
            "align_content": null,
            "visibility": null,
            "align_self": null,
            "height": null,
            "min_height": null,
            "padding": null,
            "grid_auto_rows": null,
            "grid_gap": null,
            "max_width": null,
            "order": null,
            "_view_module_version": "1.2.0",
            "grid_template_areas": null,
            "object_position": null,
            "object_fit": null,
            "grid_auto_columns": null,
            "margin": null,
            "display": null,
            "left": null
          }
        },
        "67b1fd8d73b343a299a570ca838fcb9b": {
          "model_module": "@jupyter-widgets/controls",
          "model_name": "DescriptionStyleModel",
          "model_module_version": "1.5.0",
          "state": {
            "_view_name": "StyleView",
            "_model_name": "DescriptionStyleModel",
            "description_width": "",
            "_view_module": "@jupyter-widgets/base",
            "_model_module_version": "1.5.0",
            "_view_count": null,
            "_view_module_version": "1.2.0",
            "_model_module": "@jupyter-widgets/controls"
          }
        },
        "f23c009eebd6440180ead72df6a4b67f": {
          "model_module": "@jupyter-widgets/base",
          "model_name": "LayoutModel",
          "model_module_version": "1.2.0",
          "state": {
            "_view_name": "LayoutView",
            "grid_template_rows": null,
            "right": null,
            "justify_content": null,
            "_view_module": "@jupyter-widgets/base",
            "overflow": null,
            "_model_module_version": "1.2.0",
            "_view_count": null,
            "flex_flow": null,
            "width": null,
            "min_width": null,
            "border": null,
            "align_items": null,
            "bottom": null,
            "_model_module": "@jupyter-widgets/base",
            "top": null,
            "grid_column": null,
            "overflow_y": null,
            "overflow_x": null,
            "grid_auto_flow": null,
            "grid_area": null,
            "grid_template_columns": null,
            "flex": null,
            "_model_name": "LayoutModel",
            "justify_items": null,
            "grid_row": null,
            "max_height": null,
            "align_content": null,
            "visibility": null,
            "align_self": null,
            "height": null,
            "min_height": null,
            "padding": null,
            "grid_auto_rows": null,
            "grid_gap": null,
            "max_width": null,
            "order": null,
            "_view_module_version": "1.2.0",
            "grid_template_areas": null,
            "object_position": null,
            "object_fit": null,
            "grid_auto_columns": null,
            "margin": null,
            "display": null,
            "left": null
          }
        },
        "2258c6510c0842b1a7fc75652ba9ede9": {
          "model_module": "@jupyter-widgets/controls",
          "model_name": "HBoxModel",
          "model_module_version": "1.5.0",
          "state": {
            "_view_name": "HBoxView",
            "_dom_classes": [],
            "_model_name": "HBoxModel",
            "_view_module": "@jupyter-widgets/controls",
            "_model_module_version": "1.5.0",
            "_view_count": null,
            "_view_module_version": "1.5.0",
            "box_style": "",
            "layout": "IPY_MODEL_1ab5a69a4efd4acd8f162ddebc72f754",
            "_model_module": "@jupyter-widgets/controls",
            "children": [
              "IPY_MODEL_0998074b0ca84f9da8c57f50b7ea0845",
              "IPY_MODEL_270133e953b74d8792fb9f0c677d24d5",
              "IPY_MODEL_6d6532a59af1439a9dc2bbc9f549bfb1"
            ]
          }
        },
        "1ab5a69a4efd4acd8f162ddebc72f754": {
          "model_module": "@jupyter-widgets/base",
          "model_name": "LayoutModel",
          "model_module_version": "1.2.0",
          "state": {
            "_view_name": "LayoutView",
            "grid_template_rows": null,
            "right": null,
            "justify_content": null,
            "_view_module": "@jupyter-widgets/base",
            "overflow": null,
            "_model_module_version": "1.2.0",
            "_view_count": null,
            "flex_flow": null,
            "width": null,
            "min_width": null,
            "border": null,
            "align_items": null,
            "bottom": null,
            "_model_module": "@jupyter-widgets/base",
            "top": null,
            "grid_column": null,
            "overflow_y": null,
            "overflow_x": null,
            "grid_auto_flow": null,
            "grid_area": null,
            "grid_template_columns": null,
            "flex": null,
            "_model_name": "LayoutModel",
            "justify_items": null,
            "grid_row": null,
            "max_height": null,
            "align_content": null,
            "visibility": null,
            "align_self": null,
            "height": null,
            "min_height": null,
            "padding": null,
            "grid_auto_rows": null,
            "grid_gap": null,
            "max_width": null,
            "order": null,
            "_view_module_version": "1.2.0",
            "grid_template_areas": null,
            "object_position": null,
            "object_fit": null,
            "grid_auto_columns": null,
            "margin": null,
            "display": null,
            "left": null
          }
        },
        "0998074b0ca84f9da8c57f50b7ea0845": {
          "model_module": "@jupyter-widgets/controls",
          "model_name": "HTMLModel",
          "model_module_version": "1.5.0",
          "state": {
            "_view_name": "HTMLView",
            "style": "IPY_MODEL_a390616eb53749559a33c434d2cad47b",
            "_dom_classes": [],
            "description": "",
            "_model_name": "HTMLModel",
            "placeholder": "​",
            "_view_module": "@jupyter-widgets/controls",
            "_model_module_version": "1.5.0",
            "value": "",
            "_view_count": null,
            "_view_module_version": "1.5.0",
            "description_tooltip": null,
            "_model_module": "@jupyter-widgets/controls",
            "layout": "IPY_MODEL_cde9c817c58e46d2ae4d2c6713eba398"
          }
        },
        "270133e953b74d8792fb9f0c677d24d5": {
          "model_module": "@jupyter-widgets/controls",
          "model_name": "FloatProgressModel",
          "model_module_version": "1.5.0",
          "state": {
            "_view_name": "ProgressView",
            "style": "IPY_MODEL_fb4b756e0aa543cf9ea7df9ac0fb8811",
            "_dom_classes": [],
            "description": "",
            "_model_name": "FloatProgressModel",
            "bar_style": "success",
            "max": 28881,
            "_view_module": "@jupyter-widgets/controls",
            "_model_module_version": "1.5.0",
            "value": 28881,
            "_view_count": null,
            "_view_module_version": "1.5.0",
            "orientation": "horizontal",
            "min": 0,
            "description_tooltip": null,
            "_model_module": "@jupyter-widgets/controls",
            "layout": "IPY_MODEL_94b3a6e1a8dc48de991b53bb947bb0a1"
          }
        },
        "6d6532a59af1439a9dc2bbc9f549bfb1": {
          "model_module": "@jupyter-widgets/controls",
          "model_name": "HTMLModel",
          "model_module_version": "1.5.0",
          "state": {
            "_view_name": "HTMLView",
            "style": "IPY_MODEL_0b3e890087094e759d1205d8c8261aa0",
            "_dom_classes": [],
            "description": "",
            "_model_name": "HTMLModel",
            "placeholder": "​",
            "_view_module": "@jupyter-widgets/controls",
            "_model_module_version": "1.5.0",
            "value": " 29696/? [00:00&lt;00:00, 744637.66it/s]",
            "_view_count": null,
            "_view_module_version": "1.5.0",
            "description_tooltip": null,
            "_model_module": "@jupyter-widgets/controls",
            "layout": "IPY_MODEL_48dc0a5e1db349bb9ea3fcf132670204"
          }
        },
        "a390616eb53749559a33c434d2cad47b": {
          "model_module": "@jupyter-widgets/controls",
          "model_name": "DescriptionStyleModel",
          "model_module_version": "1.5.0",
          "state": {
            "_view_name": "StyleView",
            "_model_name": "DescriptionStyleModel",
            "description_width": "",
            "_view_module": "@jupyter-widgets/base",
            "_model_module_version": "1.5.0",
            "_view_count": null,
            "_view_module_version": "1.2.0",
            "_model_module": "@jupyter-widgets/controls"
          }
        },
        "cde9c817c58e46d2ae4d2c6713eba398": {
          "model_module": "@jupyter-widgets/base",
          "model_name": "LayoutModel",
          "model_module_version": "1.2.0",
          "state": {
            "_view_name": "LayoutView",
            "grid_template_rows": null,
            "right": null,
            "justify_content": null,
            "_view_module": "@jupyter-widgets/base",
            "overflow": null,
            "_model_module_version": "1.2.0",
            "_view_count": null,
            "flex_flow": null,
            "width": null,
            "min_width": null,
            "border": null,
            "align_items": null,
            "bottom": null,
            "_model_module": "@jupyter-widgets/base",
            "top": null,
            "grid_column": null,
            "overflow_y": null,
            "overflow_x": null,
            "grid_auto_flow": null,
            "grid_area": null,
            "grid_template_columns": null,
            "flex": null,
            "_model_name": "LayoutModel",
            "justify_items": null,
            "grid_row": null,
            "max_height": null,
            "align_content": null,
            "visibility": null,
            "align_self": null,
            "height": null,
            "min_height": null,
            "padding": null,
            "grid_auto_rows": null,
            "grid_gap": null,
            "max_width": null,
            "order": null,
            "_view_module_version": "1.2.0",
            "grid_template_areas": null,
            "object_position": null,
            "object_fit": null,
            "grid_auto_columns": null,
            "margin": null,
            "display": null,
            "left": null
          }
        },
        "fb4b756e0aa543cf9ea7df9ac0fb8811": {
          "model_module": "@jupyter-widgets/controls",
          "model_name": "ProgressStyleModel",
          "model_module_version": "1.5.0",
          "state": {
            "_view_name": "StyleView",
            "_model_name": "ProgressStyleModel",
            "description_width": "",
            "_view_module": "@jupyter-widgets/base",
            "_model_module_version": "1.5.0",
            "_view_count": null,
            "_view_module_version": "1.2.0",
            "bar_color": null,
            "_model_module": "@jupyter-widgets/controls"
          }
        },
        "94b3a6e1a8dc48de991b53bb947bb0a1": {
          "model_module": "@jupyter-widgets/base",
          "model_name": "LayoutModel",
          "model_module_version": "1.2.0",
          "state": {
            "_view_name": "LayoutView",
            "grid_template_rows": null,
            "right": null,
            "justify_content": null,
            "_view_module": "@jupyter-widgets/base",
            "overflow": null,
            "_model_module_version": "1.2.0",
            "_view_count": null,
            "flex_flow": null,
            "width": null,
            "min_width": null,
            "border": null,
            "align_items": null,
            "bottom": null,
            "_model_module": "@jupyter-widgets/base",
            "top": null,
            "grid_column": null,
            "overflow_y": null,
            "overflow_x": null,
            "grid_auto_flow": null,
            "grid_area": null,
            "grid_template_columns": null,
            "flex": null,
            "_model_name": "LayoutModel",
            "justify_items": null,
            "grid_row": null,
            "max_height": null,
            "align_content": null,
            "visibility": null,
            "align_self": null,
            "height": null,
            "min_height": null,
            "padding": null,
            "grid_auto_rows": null,
            "grid_gap": null,
            "max_width": null,
            "order": null,
            "_view_module_version": "1.2.0",
            "grid_template_areas": null,
            "object_position": null,
            "object_fit": null,
            "grid_auto_columns": null,
            "margin": null,
            "display": null,
            "left": null
          }
        },
        "0b3e890087094e759d1205d8c8261aa0": {
          "model_module": "@jupyter-widgets/controls",
          "model_name": "DescriptionStyleModel",
          "model_module_version": "1.5.0",
          "state": {
            "_view_name": "StyleView",
            "_model_name": "DescriptionStyleModel",
            "description_width": "",
            "_view_module": "@jupyter-widgets/base",
            "_model_module_version": "1.5.0",
            "_view_count": null,
            "_view_module_version": "1.2.0",
            "_model_module": "@jupyter-widgets/controls"
          }
        },
        "48dc0a5e1db349bb9ea3fcf132670204": {
          "model_module": "@jupyter-widgets/base",
          "model_name": "LayoutModel",
          "model_module_version": "1.2.0",
          "state": {
            "_view_name": "LayoutView",
            "grid_template_rows": null,
            "right": null,
            "justify_content": null,
            "_view_module": "@jupyter-widgets/base",
            "overflow": null,
            "_model_module_version": "1.2.0",
            "_view_count": null,
            "flex_flow": null,
            "width": null,
            "min_width": null,
            "border": null,
            "align_items": null,
            "bottom": null,
            "_model_module": "@jupyter-widgets/base",
            "top": null,
            "grid_column": null,
            "overflow_y": null,
            "overflow_x": null,
            "grid_auto_flow": null,
            "grid_area": null,
            "grid_template_columns": null,
            "flex": null,
            "_model_name": "LayoutModel",
            "justify_items": null,
            "grid_row": null,
            "max_height": null,
            "align_content": null,
            "visibility": null,
            "align_self": null,
            "height": null,
            "min_height": null,
            "padding": null,
            "grid_auto_rows": null,
            "grid_gap": null,
            "max_width": null,
            "order": null,
            "_view_module_version": "1.2.0",
            "grid_template_areas": null,
            "object_position": null,
            "object_fit": null,
            "grid_auto_columns": null,
            "margin": null,
            "display": null,
            "left": null
          }
        },
        "45ba9178d74240e480af621da7961e37": {
          "model_module": "@jupyter-widgets/controls",
          "model_name": "HBoxModel",
          "model_module_version": "1.5.0",
          "state": {
            "_view_name": "HBoxView",
            "_dom_classes": [],
            "_model_name": "HBoxModel",
            "_view_module": "@jupyter-widgets/controls",
            "_model_module_version": "1.5.0",
            "_view_count": null,
            "_view_module_version": "1.5.0",
            "box_style": "",
            "layout": "IPY_MODEL_7f403b0e3c2c403b98ea1533850b6707",
            "_model_module": "@jupyter-widgets/controls",
            "children": [
              "IPY_MODEL_affc98890fe34721b9735016b061eb21",
              "IPY_MODEL_d677a253c57640439bebf976201062e3",
              "IPY_MODEL_a1657a783a8943d2a9d24e3b4b7d50c9"
            ]
          }
        },
        "7f403b0e3c2c403b98ea1533850b6707": {
          "model_module": "@jupyter-widgets/base",
          "model_name": "LayoutModel",
          "model_module_version": "1.2.0",
          "state": {
            "_view_name": "LayoutView",
            "grid_template_rows": null,
            "right": null,
            "justify_content": null,
            "_view_module": "@jupyter-widgets/base",
            "overflow": null,
            "_model_module_version": "1.2.0",
            "_view_count": null,
            "flex_flow": null,
            "width": null,
            "min_width": null,
            "border": null,
            "align_items": null,
            "bottom": null,
            "_model_module": "@jupyter-widgets/base",
            "top": null,
            "grid_column": null,
            "overflow_y": null,
            "overflow_x": null,
            "grid_auto_flow": null,
            "grid_area": null,
            "grid_template_columns": null,
            "flex": null,
            "_model_name": "LayoutModel",
            "justify_items": null,
            "grid_row": null,
            "max_height": null,
            "align_content": null,
            "visibility": null,
            "align_self": null,
            "height": null,
            "min_height": null,
            "padding": null,
            "grid_auto_rows": null,
            "grid_gap": null,
            "max_width": null,
            "order": null,
            "_view_module_version": "1.2.0",
            "grid_template_areas": null,
            "object_position": null,
            "object_fit": null,
            "grid_auto_columns": null,
            "margin": null,
            "display": null,
            "left": null
          }
        },
        "affc98890fe34721b9735016b061eb21": {
          "model_module": "@jupyter-widgets/controls",
          "model_name": "HTMLModel",
          "model_module_version": "1.5.0",
          "state": {
            "_view_name": "HTMLView",
            "style": "IPY_MODEL_79d2f238411f4f429f320e10c0474e1c",
            "_dom_classes": [],
            "description": "",
            "_model_name": "HTMLModel",
            "placeholder": "​",
            "_view_module": "@jupyter-widgets/controls",
            "_model_module_version": "1.5.0",
            "value": "",
            "_view_count": null,
            "_view_module_version": "1.5.0",
            "description_tooltip": null,
            "_model_module": "@jupyter-widgets/controls",
            "layout": "IPY_MODEL_9e30742306b244dcbf3410bdfd3447d8"
          }
        },
        "d677a253c57640439bebf976201062e3": {
          "model_module": "@jupyter-widgets/controls",
          "model_name": "FloatProgressModel",
          "model_module_version": "1.5.0",
          "state": {
            "_view_name": "ProgressView",
            "style": "IPY_MODEL_080cc45e7abe4424a1be91837757fd7e",
            "_dom_classes": [],
            "description": "",
            "_model_name": "FloatProgressModel",
            "bar_style": "success",
            "max": 1648877,
            "_view_module": "@jupyter-widgets/controls",
            "_model_module_version": "1.5.0",
            "value": 1648877,
            "_view_count": null,
            "_view_module_version": "1.5.0",
            "orientation": "horizontal",
            "min": 0,
            "description_tooltip": null,
            "_model_module": "@jupyter-widgets/controls",
            "layout": "IPY_MODEL_dbddedd48ba94e0daa3a8ab5eebbbb0c"
          }
        },
        "a1657a783a8943d2a9d24e3b4b7d50c9": {
          "model_module": "@jupyter-widgets/controls",
          "model_name": "HTMLModel",
          "model_module_version": "1.5.0",
          "state": {
            "_view_name": "HTMLView",
            "style": "IPY_MODEL_1fd707c788c64fe3b16d53797808a286",
            "_dom_classes": [],
            "description": "",
            "_model_name": "HTMLModel",
            "placeholder": "​",
            "_view_module": "@jupyter-widgets/controls",
            "_model_module_version": "1.5.0",
            "value": " 1649664/? [00:00&lt;00:00, 18308858.64it/s]",
            "_view_count": null,
            "_view_module_version": "1.5.0",
            "description_tooltip": null,
            "_model_module": "@jupyter-widgets/controls",
            "layout": "IPY_MODEL_fcf69e29b1154d1584a040bd710169fc"
          }
        },
        "79d2f238411f4f429f320e10c0474e1c": {
          "model_module": "@jupyter-widgets/controls",
          "model_name": "DescriptionStyleModel",
          "model_module_version": "1.5.0",
          "state": {
            "_view_name": "StyleView",
            "_model_name": "DescriptionStyleModel",
            "description_width": "",
            "_view_module": "@jupyter-widgets/base",
            "_model_module_version": "1.5.0",
            "_view_count": null,
            "_view_module_version": "1.2.0",
            "_model_module": "@jupyter-widgets/controls"
          }
        },
        "9e30742306b244dcbf3410bdfd3447d8": {
          "model_module": "@jupyter-widgets/base",
          "model_name": "LayoutModel",
          "model_module_version": "1.2.0",
          "state": {
            "_view_name": "LayoutView",
            "grid_template_rows": null,
            "right": null,
            "justify_content": null,
            "_view_module": "@jupyter-widgets/base",
            "overflow": null,
            "_model_module_version": "1.2.0",
            "_view_count": null,
            "flex_flow": null,
            "width": null,
            "min_width": null,
            "border": null,
            "align_items": null,
            "bottom": null,
            "_model_module": "@jupyter-widgets/base",
            "top": null,
            "grid_column": null,
            "overflow_y": null,
            "overflow_x": null,
            "grid_auto_flow": null,
            "grid_area": null,
            "grid_template_columns": null,
            "flex": null,
            "_model_name": "LayoutModel",
            "justify_items": null,
            "grid_row": null,
            "max_height": null,
            "align_content": null,
            "visibility": null,
            "align_self": null,
            "height": null,
            "min_height": null,
            "padding": null,
            "grid_auto_rows": null,
            "grid_gap": null,
            "max_width": null,
            "order": null,
            "_view_module_version": "1.2.0",
            "grid_template_areas": null,
            "object_position": null,
            "object_fit": null,
            "grid_auto_columns": null,
            "margin": null,
            "display": null,
            "left": null
          }
        },
        "080cc45e7abe4424a1be91837757fd7e": {
          "model_module": "@jupyter-widgets/controls",
          "model_name": "ProgressStyleModel",
          "model_module_version": "1.5.0",
          "state": {
            "_view_name": "StyleView",
            "_model_name": "ProgressStyleModel",
            "description_width": "",
            "_view_module": "@jupyter-widgets/base",
            "_model_module_version": "1.5.0",
            "_view_count": null,
            "_view_module_version": "1.2.0",
            "bar_color": null,
            "_model_module": "@jupyter-widgets/controls"
          }
        },
        "dbddedd48ba94e0daa3a8ab5eebbbb0c": {
          "model_module": "@jupyter-widgets/base",
          "model_name": "LayoutModel",
          "model_module_version": "1.2.0",
          "state": {
            "_view_name": "LayoutView",
            "grid_template_rows": null,
            "right": null,
            "justify_content": null,
            "_view_module": "@jupyter-widgets/base",
            "overflow": null,
            "_model_module_version": "1.2.0",
            "_view_count": null,
            "flex_flow": null,
            "width": null,
            "min_width": null,
            "border": null,
            "align_items": null,
            "bottom": null,
            "_model_module": "@jupyter-widgets/base",
            "top": null,
            "grid_column": null,
            "overflow_y": null,
            "overflow_x": null,
            "grid_auto_flow": null,
            "grid_area": null,
            "grid_template_columns": null,
            "flex": null,
            "_model_name": "LayoutModel",
            "justify_items": null,
            "grid_row": null,
            "max_height": null,
            "align_content": null,
            "visibility": null,
            "align_self": null,
            "height": null,
            "min_height": null,
            "padding": null,
            "grid_auto_rows": null,
            "grid_gap": null,
            "max_width": null,
            "order": null,
            "_view_module_version": "1.2.0",
            "grid_template_areas": null,
            "object_position": null,
            "object_fit": null,
            "grid_auto_columns": null,
            "margin": null,
            "display": null,
            "left": null
          }
        },
        "1fd707c788c64fe3b16d53797808a286": {
          "model_module": "@jupyter-widgets/controls",
          "model_name": "DescriptionStyleModel",
          "model_module_version": "1.5.0",
          "state": {
            "_view_name": "StyleView",
            "_model_name": "DescriptionStyleModel",
            "description_width": "",
            "_view_module": "@jupyter-widgets/base",
            "_model_module_version": "1.5.0",
            "_view_count": null,
            "_view_module_version": "1.2.0",
            "_model_module": "@jupyter-widgets/controls"
          }
        },
        "fcf69e29b1154d1584a040bd710169fc": {
          "model_module": "@jupyter-widgets/base",
          "model_name": "LayoutModel",
          "model_module_version": "1.2.0",
          "state": {
            "_view_name": "LayoutView",
            "grid_template_rows": null,
            "right": null,
            "justify_content": null,
            "_view_module": "@jupyter-widgets/base",
            "overflow": null,
            "_model_module_version": "1.2.0",
            "_view_count": null,
            "flex_flow": null,
            "width": null,
            "min_width": null,
            "border": null,
            "align_items": null,
            "bottom": null,
            "_model_module": "@jupyter-widgets/base",
            "top": null,
            "grid_column": null,
            "overflow_y": null,
            "overflow_x": null,
            "grid_auto_flow": null,
            "grid_area": null,
            "grid_template_columns": null,
            "flex": null,
            "_model_name": "LayoutModel",
            "justify_items": null,
            "grid_row": null,
            "max_height": null,
            "align_content": null,
            "visibility": null,
            "align_self": null,
            "height": null,
            "min_height": null,
            "padding": null,
            "grid_auto_rows": null,
            "grid_gap": null,
            "max_width": null,
            "order": null,
            "_view_module_version": "1.2.0",
            "grid_template_areas": null,
            "object_position": null,
            "object_fit": null,
            "grid_auto_columns": null,
            "margin": null,
            "display": null,
            "left": null
          }
        },
        "7ba4e189f24a482899d8c1310a74f744": {
          "model_module": "@jupyter-widgets/controls",
          "model_name": "HBoxModel",
          "model_module_version": "1.5.0",
          "state": {
            "_view_name": "HBoxView",
            "_dom_classes": [],
            "_model_name": "HBoxModel",
            "_view_module": "@jupyter-widgets/controls",
            "_model_module_version": "1.5.0",
            "_view_count": null,
            "_view_module_version": "1.5.0",
            "box_style": "",
            "layout": "IPY_MODEL_e902c81f80de4eda9640ca44dae73f3a",
            "_model_module": "@jupyter-widgets/controls",
            "children": [
              "IPY_MODEL_08fdbf1b8028482cbd877ea3a8fcaab7",
              "IPY_MODEL_3795cf16082e4868b1a308c5ef9101b9",
              "IPY_MODEL_70aad9f0d66449cea4f334d87dcff863"
            ]
          }
        },
        "e902c81f80de4eda9640ca44dae73f3a": {
          "model_module": "@jupyter-widgets/base",
          "model_name": "LayoutModel",
          "model_module_version": "1.2.0",
          "state": {
            "_view_name": "LayoutView",
            "grid_template_rows": null,
            "right": null,
            "justify_content": null,
            "_view_module": "@jupyter-widgets/base",
            "overflow": null,
            "_model_module_version": "1.2.0",
            "_view_count": null,
            "flex_flow": null,
            "width": null,
            "min_width": null,
            "border": null,
            "align_items": null,
            "bottom": null,
            "_model_module": "@jupyter-widgets/base",
            "top": null,
            "grid_column": null,
            "overflow_y": null,
            "overflow_x": null,
            "grid_auto_flow": null,
            "grid_area": null,
            "grid_template_columns": null,
            "flex": null,
            "_model_name": "LayoutModel",
            "justify_items": null,
            "grid_row": null,
            "max_height": null,
            "align_content": null,
            "visibility": null,
            "align_self": null,
            "height": null,
            "min_height": null,
            "padding": null,
            "grid_auto_rows": null,
            "grid_gap": null,
            "max_width": null,
            "order": null,
            "_view_module_version": "1.2.0",
            "grid_template_areas": null,
            "object_position": null,
            "object_fit": null,
            "grid_auto_columns": null,
            "margin": null,
            "display": null,
            "left": null
          }
        },
        "08fdbf1b8028482cbd877ea3a8fcaab7": {
          "model_module": "@jupyter-widgets/controls",
          "model_name": "HTMLModel",
          "model_module_version": "1.5.0",
          "state": {
            "_view_name": "HTMLView",
            "style": "IPY_MODEL_247b395dc8914965b33740d1e35c61d5",
            "_dom_classes": [],
            "description": "",
            "_model_name": "HTMLModel",
            "placeholder": "​",
            "_view_module": "@jupyter-widgets/controls",
            "_model_module_version": "1.5.0",
            "value": "",
            "_view_count": null,
            "_view_module_version": "1.5.0",
            "description_tooltip": null,
            "_model_module": "@jupyter-widgets/controls",
            "layout": "IPY_MODEL_c74798488e7443f3ad30987141e313ba"
          }
        },
        "3795cf16082e4868b1a308c5ef9101b9": {
          "model_module": "@jupyter-widgets/controls",
          "model_name": "FloatProgressModel",
          "model_module_version": "1.5.0",
          "state": {
            "_view_name": "ProgressView",
            "style": "IPY_MODEL_a536fbba4aa042aa92bc16e989e05389",
            "_dom_classes": [],
            "description": "",
            "_model_name": "FloatProgressModel",
            "bar_style": "success",
            "max": 4542,
            "_view_module": "@jupyter-widgets/controls",
            "_model_module_version": "1.5.0",
            "value": 4542,
            "_view_count": null,
            "_view_module_version": "1.5.0",
            "orientation": "horizontal",
            "min": 0,
            "description_tooltip": null,
            "_model_module": "@jupyter-widgets/controls",
            "layout": "IPY_MODEL_a0af87c71deb4fadbab602c1d0560301"
          }
        },
        "70aad9f0d66449cea4f334d87dcff863": {
          "model_module": "@jupyter-widgets/controls",
          "model_name": "HTMLModel",
          "model_module_version": "1.5.0",
          "state": {
            "_view_name": "HTMLView",
            "style": "IPY_MODEL_e18a1a9b3aa74159a3c84e996db224a4",
            "_dom_classes": [],
            "description": "",
            "_model_name": "HTMLModel",
            "placeholder": "​",
            "_view_module": "@jupyter-widgets/controls",
            "_model_module_version": "1.5.0",
            "value": " 5120/? [00:00&lt;00:00, 131783.04it/s]",
            "_view_count": null,
            "_view_module_version": "1.5.0",
            "description_tooltip": null,
            "_model_module": "@jupyter-widgets/controls",
            "layout": "IPY_MODEL_4a7d344b15a040b0b113577d4151a319"
          }
        },
        "247b395dc8914965b33740d1e35c61d5": {
          "model_module": "@jupyter-widgets/controls",
          "model_name": "DescriptionStyleModel",
          "model_module_version": "1.5.0",
          "state": {
            "_view_name": "StyleView",
            "_model_name": "DescriptionStyleModel",
            "description_width": "",
            "_view_module": "@jupyter-widgets/base",
            "_model_module_version": "1.5.0",
            "_view_count": null,
            "_view_module_version": "1.2.0",
            "_model_module": "@jupyter-widgets/controls"
          }
        },
        "c74798488e7443f3ad30987141e313ba": {
          "model_module": "@jupyter-widgets/base",
          "model_name": "LayoutModel",
          "model_module_version": "1.2.0",
          "state": {
            "_view_name": "LayoutView",
            "grid_template_rows": null,
            "right": null,
            "justify_content": null,
            "_view_module": "@jupyter-widgets/base",
            "overflow": null,
            "_model_module_version": "1.2.0",
            "_view_count": null,
            "flex_flow": null,
            "width": null,
            "min_width": null,
            "border": null,
            "align_items": null,
            "bottom": null,
            "_model_module": "@jupyter-widgets/base",
            "top": null,
            "grid_column": null,
            "overflow_y": null,
            "overflow_x": null,
            "grid_auto_flow": null,
            "grid_area": null,
            "grid_template_columns": null,
            "flex": null,
            "_model_name": "LayoutModel",
            "justify_items": null,
            "grid_row": null,
            "max_height": null,
            "align_content": null,
            "visibility": null,
            "align_self": null,
            "height": null,
            "min_height": null,
            "padding": null,
            "grid_auto_rows": null,
            "grid_gap": null,
            "max_width": null,
            "order": null,
            "_view_module_version": "1.2.0",
            "grid_template_areas": null,
            "object_position": null,
            "object_fit": null,
            "grid_auto_columns": null,
            "margin": null,
            "display": null,
            "left": null
          }
        },
        "a536fbba4aa042aa92bc16e989e05389": {
          "model_module": "@jupyter-widgets/controls",
          "model_name": "ProgressStyleModel",
          "model_module_version": "1.5.0",
          "state": {
            "_view_name": "StyleView",
            "_model_name": "ProgressStyleModel",
            "description_width": "",
            "_view_module": "@jupyter-widgets/base",
            "_model_module_version": "1.5.0",
            "_view_count": null,
            "_view_module_version": "1.2.0",
            "bar_color": null,
            "_model_module": "@jupyter-widgets/controls"
          }
        },
        "a0af87c71deb4fadbab602c1d0560301": {
          "model_module": "@jupyter-widgets/base",
          "model_name": "LayoutModel",
          "model_module_version": "1.2.0",
          "state": {
            "_view_name": "LayoutView",
            "grid_template_rows": null,
            "right": null,
            "justify_content": null,
            "_view_module": "@jupyter-widgets/base",
            "overflow": null,
            "_model_module_version": "1.2.0",
            "_view_count": null,
            "flex_flow": null,
            "width": null,
            "min_width": null,
            "border": null,
            "align_items": null,
            "bottom": null,
            "_model_module": "@jupyter-widgets/base",
            "top": null,
            "grid_column": null,
            "overflow_y": null,
            "overflow_x": null,
            "grid_auto_flow": null,
            "grid_area": null,
            "grid_template_columns": null,
            "flex": null,
            "_model_name": "LayoutModel",
            "justify_items": null,
            "grid_row": null,
            "max_height": null,
            "align_content": null,
            "visibility": null,
            "align_self": null,
            "height": null,
            "min_height": null,
            "padding": null,
            "grid_auto_rows": null,
            "grid_gap": null,
            "max_width": null,
            "order": null,
            "_view_module_version": "1.2.0",
            "grid_template_areas": null,
            "object_position": null,
            "object_fit": null,
            "grid_auto_columns": null,
            "margin": null,
            "display": null,
            "left": null
          }
        },
        "e18a1a9b3aa74159a3c84e996db224a4": {
          "model_module": "@jupyter-widgets/controls",
          "model_name": "DescriptionStyleModel",
          "model_module_version": "1.5.0",
          "state": {
            "_view_name": "StyleView",
            "_model_name": "DescriptionStyleModel",
            "description_width": "",
            "_view_module": "@jupyter-widgets/base",
            "_model_module_version": "1.5.0",
            "_view_count": null,
            "_view_module_version": "1.2.0",
            "_model_module": "@jupyter-widgets/controls"
          }
        },
        "4a7d344b15a040b0b113577d4151a319": {
          "model_module": "@jupyter-widgets/base",
          "model_name": "LayoutModel",
          "model_module_version": "1.2.0",
          "state": {
            "_view_name": "LayoutView",
            "grid_template_rows": null,
            "right": null,
            "justify_content": null,
            "_view_module": "@jupyter-widgets/base",
            "overflow": null,
            "_model_module_version": "1.2.0",
            "_view_count": null,
            "flex_flow": null,
            "width": null,
            "min_width": null,
            "border": null,
            "align_items": null,
            "bottom": null,
            "_model_module": "@jupyter-widgets/base",
            "top": null,
            "grid_column": null,
            "overflow_y": null,
            "overflow_x": null,
            "grid_auto_flow": null,
            "grid_area": null,
            "grid_template_columns": null,
            "flex": null,
            "_model_name": "LayoutModel",
            "justify_items": null,
            "grid_row": null,
            "max_height": null,
            "align_content": null,
            "visibility": null,
            "align_self": null,
            "height": null,
            "min_height": null,
            "padding": null,
            "grid_auto_rows": null,
            "grid_gap": null,
            "max_width": null,
            "order": null,
            "_view_module_version": "1.2.0",
            "grid_template_areas": null,
            "object_position": null,
            "object_fit": null,
            "grid_auto_columns": null,
            "margin": null,
            "display": null,
            "left": null
          }
        }
      }
    }
  },
  "cells": [
    {
      "cell_type": "markdown",
      "metadata": {
        "id": "view-in-github",
        "colab_type": "text"
      },
      "source": [
        "<a href=\"https://colab.research.google.com/github/sam505/Machine_Learning/blob/master/Pytorch_Tutoria.ipynb\" target=\"_parent\"><img src=\"https://colab.research.google.com/assets/colab-badge.svg\" alt=\"Open In Colab\"/></a>"
      ]
    },
    {
      "cell_type": "markdown",
      "metadata": {
        "id": "aJc-uAekwDVD"
      },
      "source": [
        "###In this notebook, we will introduce PyTorch, talk about its important concepts and features, and eventually train an MNIST classifier using what we have learned. Finally, you will perform a simple image classification task with a CNN. "
      ]
    },
    {
      "cell_type": "markdown",
      "metadata": {
        "id": "VZUcz-vU-vKw"
      },
      "source": [
        "## Check running in GPU session:\n",
        "Runtime -> Change runtime type -> Hardware accelerator -> GPU"
      ]
    },
    {
      "cell_type": "markdown",
      "metadata": {
        "id": "rKJkpn84iMBw"
      },
      "source": [
        "## What is PyTorch?\n",
        "\n",
        "1. A Python GPU-accelerated tensor library (NumPy, but faster)\n",
        "2. Differentiable Programming with dynamic computation graphs\n",
        "3. Flexible and efficient **neural network** library\n",
        "4. Python-first framework (easy to integrate with other Python libraries, debug, and extend)\n",
        "  + Quick conversion from & to NumPy array, integration with other Python libs.\n",
        "  + Your favorite Python debugger.\n",
        "  + Adding custom ops with Python/c++ extension. \n",
        "  + Running in purely c++ environment with the c++ API."
      ]
    },
    {
      "cell_type": "markdown",
      "metadata": {
        "id": "nCij29tonH84"
      },
      "source": [
        "Useful links:\n",
        "\n",
        "+ PyTorch documentation: https://pytorch.org/docs/stable/index.html\n",
        "\n",
        "  Most math operations can be found as `torch.*` or `Tensor.*`.\n",
        "+ PyTorch official tutorials (60-min blitz is a good start): https://pytorch.org/tutorials/\n",
        "    - Transfer learning tutorial: https://pytorch.org/tutorials/beginner/transfer_learning_tutorial.html\n",
        "+ PyTorch examples (DCGAN, ImageNet training, Reinforcement Learning, etc.): https://github.com/pytorch/examples/"
      ]
    },
    {
      "cell_type": "markdown",
      "metadata": {
        "id": "Mj3oX5WEkM8P"
      },
      "source": [
        "## GPU-accelerated Tensor Library"
      ]
    },
    {
      "cell_type": "markdown",
      "metadata": {
        "id": "QDN-RYhYjEX1"
      },
      "source": [
        "Tensors are a specialized data structure that are very similar to arrays and matrices. In PyTorch, we use tensors to encode the inputs and outputs of a model, as well as the model’s parameters.\n",
        "\n",
        "Tensors are similar to NumPy’s ndarrays, except that tensors can run on GPUs or other specialized hardware to accelerate computing."
      ]
    },
    {
      "cell_type": "code",
      "metadata": {
        "id": "dPdEDFjyf94_"
      },
      "source": [
        "import torch\n",
        "import numpy as np"
      ],
      "execution_count": null,
      "outputs": []
    },
    {
      "cell_type": "markdown",
      "metadata": {
        "id": "iUaG_pG-jwck"
      },
      "source": [
        "**Tensor Initialization**\n",
        "\n",
        "in PyTorch, tensor is the basic element. torch.tensor is like numpy array but can run on a GPU\n",
        "\n",
        "Tensors can be initialized in various ways. Take a look at the following examples:\n",
        "\n",
        "**Directly from data**\n",
        "\n",
        "Tensors can be created directly from data. The data type is automatically inferred."
      ]
    },
    {
      "cell_type": "code",
      "metadata": {
        "colab": {
          "base_uri": "https://localhost:8080/"
        },
        "id": "xfKhpW1FkMm5",
        "outputId": "069ec60d-5e72-4cf4-df4e-4b5f3f40c613"
      },
      "source": [
        "data = [[1, 2], [3, 4]]\n",
        "x_data = torch.tensor(data)\n",
        "print(x_data)"
      ],
      "execution_count": null,
      "outputs": [
        {
          "output_type": "stream",
          "name": "stdout",
          "text": [
            "tensor([[1, 2],\n",
            "        [3, 4]])\n"
          ]
        }
      ]
    },
    {
      "cell_type": "markdown",
      "metadata": {
        "id": "mMl4qxXYkqfi"
      },
      "source": [
        "**From a NumPy array**\n",
        "\n",
        "Tensors can be created from NumPy arrays."
      ]
    },
    {
      "cell_type": "code",
      "metadata": {
        "colab": {
          "base_uri": "https://localhost:8080/"
        },
        "id": "nD2Oe7WSk1gw",
        "outputId": "2d7362f9-82fd-425d-ca0c-47f8325fac31"
      },
      "source": [
        "np_array = np.array(data)\n",
        "x_np = torch.from_numpy(np_array)\n",
        "print(x_np)"
      ],
      "execution_count": null,
      "outputs": [
        {
          "output_type": "stream",
          "name": "stdout",
          "text": [
            "tensor([[1, 2],\n",
            "        [3, 4]])\n"
          ]
        }
      ]
    },
    {
      "cell_type": "code",
      "metadata": {
        "colab": {
          "base_uri": "https://localhost:8080/"
        },
        "id": "kpP4929NrTOv",
        "outputId": "38e69bdd-c4cf-47d7-a2f3-ab677c822e27"
      },
      "source": [
        "# You can convert an existhing array to a tensor\n",
        "\n",
        "a_tensor = torch.as_tensor(np_array)\n",
        "print(a_tensor)"
      ],
      "execution_count": null,
      "outputs": [
        {
          "output_type": "stream",
          "name": "stdout",
          "text": [
            "tensor([[1, 2],\n",
            "        [3, 4]])\n"
          ]
        }
      ]
    },
    {
      "cell_type": "markdown",
      "metadata": {
        "id": "GhE6pBOSk772"
      },
      "source": [
        "**From another tensor:**\n",
        "\n",
        "The new tensor retains the properties (shape, datatype) of the argument tensor, unless explicitly overridden.\n"
      ]
    },
    {
      "cell_type": "code",
      "metadata": {
        "colab": {
          "base_uri": "https://localhost:8080/"
        },
        "id": "JjjinBNWk_RJ",
        "outputId": "d4a53093-5077-4584-a2d4-740d7f3fd911"
      },
      "source": [
        "x_ones = torch.ones_like(x_data) # retains the properties of x_data\n",
        "print(f\"Ones Tensor: \\n {x_ones} \\n\")\n",
        "\n",
        "x_rand = torch.rand_like(x_data, dtype=torch.float) # overrides the datatype of x_data\n",
        "print(f\"Random Tensor: \\n {x_rand} \\n\")"
      ],
      "execution_count": null,
      "outputs": [
        {
          "output_type": "stream",
          "name": "stdout",
          "text": [
            "Ones Tensor: \n",
            " tensor([[1, 1],\n",
            "        [1, 1]]) \n",
            "\n",
            "Random Tensor: \n",
            " tensor([[0.1519, 0.1548],\n",
            "        [0.2870, 0.1568]]) \n",
            "\n"
          ]
        }
      ]
    },
    {
      "cell_type": "markdown",
      "metadata": {
        "id": "KJO4w2BRlUj-"
      },
      "source": [
        "**With random or constant values:**\n",
        "\n",
        "``shape`` is a tuple of tensor dimensions. In the functions below, it determines the dimensionality of the output tensor."
      ]
    },
    {
      "cell_type": "code",
      "metadata": {
        "colab": {
          "base_uri": "https://localhost:8080/"
        },
        "id": "RQGw6-uLlUAp",
        "outputId": "6a3c66bd-6583-47d1-e391-851cd00e1f6b"
      },
      "source": [
        "shape = (2, 3,)\n",
        "rand_tensor = torch.rand(shape)\n",
        "ones_tensor = torch.ones(shape)\n",
        "zeros_tensor = torch.zeros(shape)\n",
        "\n",
        "print(f\"Random Tensor: \\n {rand_tensor} \\n\")\n",
        "print(f\"Ones Tensor: \\n {ones_tensor} \\n\")\n",
        "print(f\"Zeros Tensor: \\n {zeros_tensor}\")"
      ],
      "execution_count": null,
      "outputs": [
        {
          "output_type": "stream",
          "name": "stdout",
          "text": [
            "Random Tensor: \n",
            " tensor([[0.1303, 0.4407, 0.7419],\n",
            "        [0.2800, 0.9143, 0.0387]]) \n",
            "\n",
            "Ones Tensor: \n",
            " tensor([[1., 1., 1.],\n",
            "        [1., 1., 1.]]) \n",
            "\n",
            "Zeros Tensor: \n",
            " tensor([[0., 0., 0.],\n",
            "        [0., 0., 0.]])\n"
          ]
        }
      ]
    },
    {
      "cell_type": "markdown",
      "metadata": {
        "id": "_SVOcccelqPk"
      },
      "source": [
        "Tensor Attributes\n",
        "~~~~~~~~~~~~~~~~~\n",
        "Tensor attributes describe their shape, datatype, and the device on which they are stored.\n",
        "\n"
      ]
    },
    {
      "cell_type": "code",
      "metadata": {
        "colab": {
          "base_uri": "https://localhost:8080/"
        },
        "id": "aVrmkGyylyiz",
        "outputId": "39545b9d-285c-41f5-bda0-5a0e5586c185"
      },
      "source": [
        "tensor = torch.rand(3, 4)\n",
        "\n",
        "print(f\"Shape of tensor: {tensor.shape}\")\n",
        "print(f\"Datatype of tensor: {tensor.dtype}\")\n",
        "print(f\"Device tensor is stored on: {tensor.device}\")"
      ],
      "execution_count": null,
      "outputs": [
        {
          "output_type": "stream",
          "name": "stdout",
          "text": [
            "Shape of tensor: torch.Size([3, 4])\n",
            "Datatype of tensor: torch.float32\n",
            "Device tensor is stored on: cpu\n"
          ]
        }
      ]
    },
    {
      "cell_type": "markdown",
      "metadata": {
        "id": "f6c_poW1lux-"
      },
      "source": [
        "**Tensor Operations**\n",
        "\n",
        "Over 100 tensor operations, including transposing, indexing, slicing,\n",
        "mathematical operations, linear algebra, random sampling, and more are\n",
        "comprehensively described\n",
        "here <https://pytorch.org/docs/stable/torch.html>.\n",
        "\n",
        "Each of them can be run on the GPU (at typically higher speeds than on a\n",
        "CPU). If you’re using Colab, allocate a GPU by going to Edit > Notebook\n",
        "Settings and choose GPU."
      ]
    },
    {
      "cell_type": "code",
      "metadata": {
        "colab": {
          "base_uri": "https://localhost:8080/"
        },
        "id": "hDw2Ql56mYL-",
        "outputId": "4c6ed054-c1a9-40e8-f964-b611cd007917"
      },
      "source": [
        "\n",
        "# We move our tensor to the GPU if available\n",
        "if torch.cuda.is_available():\n",
        "  tensor = tensor.to('cuda')\n",
        "  print(f\"Device tensor is stored on: {tensor.device}\")"
      ],
      "execution_count": null,
      "outputs": [
        {
          "output_type": "stream",
          "name": "stdout",
          "text": [
            "Device tensor is stored on: cuda:0\n"
          ]
        }
      ]
    },
    {
      "cell_type": "markdown",
      "metadata": {
        "id": "3XKN9UDXmiy4"
      },
      "source": [
        "Try out some of the operations from the list.\n",
        "If you're familiar with the NumPy API, you'll find the Tensor API a breeze to use."
      ]
    },
    {
      "cell_type": "markdown",
      "metadata": {
        "id": "9lbJmZW_moiM"
      },
      "source": [
        "**Standard numpy-like indexing and slicing:**"
      ]
    },
    {
      "cell_type": "code",
      "metadata": {
        "id": "mAbJUVuaml_I",
        "colab": {
          "base_uri": "https://localhost:8080/"
        },
        "outputId": "e0f623be-5106-40b3-c0a7-d16b5c4b18e6"
      },
      "source": [
        "tensor = torch.ones(4, 4)\n",
        "tensor[:,1] = 0 # set second column to 0. \n",
        "print(tensor)\n",
        "tensor2 = torch.arange(1,5,0.5)\n",
        "print(tensor2) \n",
        "print(tensor2[1])"
      ],
      "execution_count": null,
      "outputs": [
        {
          "output_type": "stream",
          "name": "stdout",
          "text": [
            "tensor([[1., 0., 1., 1.],\n",
            "        [1., 0., 1., 1.],\n",
            "        [1., 0., 1., 1.],\n",
            "        [1., 0., 1., 1.]])\n",
            "tensor([1.0000, 1.5000, 2.0000, 2.5000, 3.0000, 3.5000, 4.0000, 4.5000])\n",
            "tensor(1.5000)\n"
          ]
        }
      ]
    },
    {
      "cell_type": "markdown",
      "metadata": {
        "id": "DxsCdkL_muZk"
      },
      "source": [
        "**Shape manipulations**"
      ]
    },
    {
      "cell_type": "code",
      "metadata": {
        "id": "pUS9LmmF58gI",
        "colab": {
          "base_uri": "https://localhost:8080/"
        },
        "outputId": "e5649a48-1e57-4a0b-ea3b-259389de188f"
      },
      "source": [
        "## Transpose \n",
        "print('\\n.t()  (transpose): ')\n",
        "print(rand_tensor.t())\n",
        "\n",
        "## Reshape tensor to (3,2)\n",
        "print('.reshape(3, 2): ')\n",
        "print(rand_tensor.reshape(3, 2))\n"
      ],
      "execution_count": null,
      "outputs": [
        {
          "output_type": "stream",
          "name": "stdout",
          "text": [
            "\n",
            ".t()  (transpose): \n",
            "tensor([[0.1303, 0.2800],\n",
            "        [0.4407, 0.9143],\n",
            "        [0.7419, 0.0387]])\n",
            ".reshape(3, 2): \n",
            "tensor([[0.1303, 0.4407],\n",
            "        [0.7419, 0.2800],\n",
            "        [0.9143, 0.0387]])\n"
          ]
        }
      ]
    },
    {
      "cell_type": "markdown",
      "metadata": {
        "id": "1entIXUynt1P"
      },
      "source": [
        "**Joining tensors** \n",
        "\n",
        "You can use ``torch.cat`` to concatenate a sequence of tensors along a given dimension.\n",
        "See also `torch.stack <https://pytorch.org/docs/stable/generated/torch.stack.html>`__,\n",
        "another tensor joining op that is subtly different from ``torch.cat``."
      ]
    },
    {
      "cell_type": "code",
      "metadata": {
        "colab": {
          "base_uri": "https://localhost:8080/"
        },
        "id": "l0IY1mkwn1Fm",
        "outputId": "c2ea49fe-5df1-45e5-d0a7-e6639bc685fd"
      },
      "source": [
        "t1 = torch.cat([tensor, tensor, tensor], dim=1)\n",
        "print(t1)"
      ],
      "execution_count": null,
      "outputs": [
        {
          "output_type": "stream",
          "name": "stdout",
          "text": [
            "tensor([[1., 0., 1., 1., 1., 0., 1., 1., 1., 0., 1., 1.],\n",
            "        [1., 0., 1., 1., 1., 0., 1., 1., 1., 0., 1., 1.],\n",
            "        [1., 0., 1., 1., 1., 0., 1., 1., 1., 0., 1., 1.],\n",
            "        [1., 0., 1., 1., 1., 0., 1., 1., 1., 0., 1., 1.]])\n"
          ]
        }
      ]
    },
    {
      "cell_type": "markdown",
      "metadata": {
        "id": "qQfUxuefnxoq"
      },
      "source": [
        "**Multiplying tensors**"
      ]
    },
    {
      "cell_type": "code",
      "metadata": {
        "colab": {
          "base_uri": "https://localhost:8080/"
        },
        "id": "4tleDiwpn7Ry",
        "outputId": "9301b33b-b5c5-45f9-e0e8-9404c81df385"
      },
      "source": [
        "# This computes the element-wise product\n",
        "print(f\"tensor.mul(tensor) \\n {tensor.mul(tensor)} \\n\")\n",
        "# Alternative syntax:\n",
        "print(f\"tensor * tensor \\n {tensor * tensor}\")"
      ],
      "execution_count": null,
      "outputs": [
        {
          "output_type": "stream",
          "name": "stdout",
          "text": [
            "tensor.mul(tensor) \n",
            " tensor([[1., 0., 1., 1.],\n",
            "        [1., 0., 1., 1.],\n",
            "        [1., 0., 1., 1.],\n",
            "        [1., 0., 1., 1.]]) \n",
            "\n",
            "tensor * tensor \n",
            " tensor([[1., 0., 1., 1.],\n",
            "        [1., 0., 1., 1.],\n",
            "        [1., 0., 1., 1.],\n",
            "        [1., 0., 1., 1.]])\n"
          ]
        }
      ]
    },
    {
      "cell_type": "markdown",
      "metadata": {
        "id": "nneDWXSdoHq7"
      },
      "source": [
        "This computes the matrix multiplication between two tensors."
      ]
    },
    {
      "cell_type": "code",
      "metadata": {
        "colab": {
          "base_uri": "https://localhost:8080/"
        },
        "id": "G_Jx9eh5oG1Q",
        "outputId": "923db747-a8a3-4cc9-fcc0-ba11fb3c9274"
      },
      "source": [
        "print(f\"tensor.matmul(tensor.T) \\n {tensor.matmul(tensor.T)} \\n\")\n",
        "# Alternative syntax:\n",
        "print(f\"tensor @ tensor.T \\n {tensor @ tensor.T}\")"
      ],
      "execution_count": null,
      "outputs": [
        {
          "output_type": "stream",
          "name": "stdout",
          "text": [
            "tensor.matmul(tensor.T) \n",
            " tensor([[3., 3., 3., 3.],\n",
            "        [3., 3., 3., 3.],\n",
            "        [3., 3., 3., 3.],\n",
            "        [3., 3., 3., 3.]]) \n",
            "\n",
            "tensor @ tensor.T \n",
            " tensor([[3., 3., 3., 3.],\n",
            "        [3., 3., 3., 3.],\n",
            "        [3., 3., 3., 3.],\n",
            "        [3., 3., 3., 3.]])\n"
          ]
        }
      ]
    },
    {
      "cell_type": "markdown",
      "metadata": {
        "id": "vEYiWzgtoUmG"
      },
      "source": [
        "**In-place operations**\n",
        "\n",
        "Operations that have a ``_`` suffix are in-place. For example: ``x.copy_(y)``, ``x.t_()``, will change ``x``.\n"
      ]
    },
    {
      "cell_type": "code",
      "metadata": {
        "colab": {
          "base_uri": "https://localhost:8080/"
        },
        "id": "CQWStPz-oWpP",
        "outputId": "021f1f6c-30aa-49a5-c41a-ce86e72d790f"
      },
      "source": [
        "print(tensor, \"\\n\")\n",
        "tensor.add_(5)\n",
        "print(tensor)"
      ],
      "execution_count": null,
      "outputs": [
        {
          "output_type": "stream",
          "name": "stdout",
          "text": [
            "tensor([[1., 0., 1., 1.],\n",
            "        [1., 0., 1., 1.],\n",
            "        [1., 0., 1., 1.],\n",
            "        [1., 0., 1., 1.]]) \n",
            "\n",
            "tensor([[6., 5., 6., 6.],\n",
            "        [6., 5., 6., 6.],\n",
            "        [6., 5., 6., 6.],\n",
            "        [6., 5., 6., 6.]])\n"
          ]
        }
      ]
    },
    {
      "cell_type": "markdown",
      "metadata": {
        "id": "n2dhiDLzkyQF"
      },
      "source": [
        "#### GPU Acceleration\n",
        "\n",
        "Everything can be run on a GPU. If you already turn on GPU in runtime, you will see your tensors have device='cuda:0'. Here we get into more details.\n",
        "\n",
        "First, let us create a [`torch.device`](https://pytorch.org/docs/stable/tensor_attributes.html#torch-device) object representing a GPU device.\n",
        "\n",
        "**Making sure you enabled GPU**:\n",
        "\n",
        "Runtime -> Change runtime type -> Hardware accelerator -> GPU"
      ]
    },
    {
      "cell_type": "code",
      "metadata": {
        "id": "MPdqlb1CkmqQ"
      },
      "source": [
        "cuda0 = torch.device('cuda:0')  # pick the GPU at index 0"
      ],
      "execution_count": null,
      "outputs": []
    },
    {
      "cell_type": "code",
      "metadata": {
        "id": "JTUbNmkAVr-a",
        "colab": {
          "base_uri": "https://localhost:8080/"
        },
        "outputId": "e588b8b2-17dd-4165-e6c2-d51f5687634b"
      },
      "source": [
        "y = torch.rand(3, 5)\n",
        "y"
      ],
      "execution_count": null,
      "outputs": [
        {
          "output_type": "execute_result",
          "data": {
            "text/plain": [
              "tensor([[0.8068, 0.9918, 0.3876, 0.3908, 0.6475],\n",
              "        [0.7211, 0.6727, 0.5535, 0.1432, 0.3275],\n",
              "        [0.6262, 0.2501, 0.9415, 0.2382, 0.0039]])"
            ]
          },
          "metadata": {},
          "execution_count": 35
        }
      ]
    },
    {
      "cell_type": "code",
      "metadata": {
        "id": "LCYhVhc-lE7N",
        "colab": {
          "base_uri": "https://localhost:8080/"
        },
        "outputId": "463bf394-d751-44ec-c872-bd8d386aaf49"
      },
      "source": [
        "# Move a tensor from CPU to GPU\n",
        "# NOTE: the first time you access a GPU, a context is created so this may take a\n",
        "# few seconds. But subsequent uses will be fast.\n",
        "\n",
        "cuda_y = y.to(cuda0)\n",
        "print(cuda_y)"
      ],
      "execution_count": null,
      "outputs": [
        {
          "output_type": "stream",
          "name": "stdout",
          "text": [
            "tensor([[0.8068, 0.9918, 0.3876, 0.3908, 0.6475],\n",
            "        [0.7211, 0.6727, 0.5535, 0.1432, 0.3275],\n",
            "        [0.6262, 0.2501, 0.9415, 0.2382, 0.0039]], device='cuda:0')\n"
          ]
        }
      ]
    },
    {
      "cell_type": "code",
      "metadata": {
        "id": "QhhaWnPvlQ0F",
        "colab": {
          "base_uri": "https://localhost:8080/"
        },
        "outputId": "03d7aee3-473c-413e-cc50-69872d1c318e"
      },
      "source": [
        "# Or directly creating a tensor on GPU\n",
        "x = torch.zeros(3, 5)\n",
        "cuda_x = torch.zeros(3, 5, device=cuda0)\n",
        "print(\"create tensor x on CPU:\",x)\n",
        "print(\"create tensor x on GPU:\",cuda_x)"
      ],
      "execution_count": null,
      "outputs": [
        {
          "output_type": "stream",
          "name": "stdout",
          "text": [
            "create tensor x on CPU: tensor([[0., 0., 0., 0., 0.],\n",
            "        [0., 0., 0., 0., 0.],\n",
            "        [0., 0., 0., 0., 0.]])\n",
            "create tensor x on GPU: tensor([[0., 0., 0., 0., 0.],\n",
            "        [0., 0., 0., 0., 0.],\n",
            "        [0., 0., 0., 0., 0.]], device='cuda:0')\n"
          ]
        }
      ]
    },
    {
      "cell_type": "code",
      "metadata": {
        "id": "QnaL5mNimjXo",
        "colab": {
          "base_uri": "https://localhost:8080/"
        },
        "outputId": "f2ca8c07-ea0a-4526-9f00-095ca01a2f35"
      },
      "source": [
        "# All functions and methods work on GPU tensors\n",
        "\n",
        "print(\"Computing on GPU:\", (cuda_y * (cuda_x + 2)).exp()) \n",
        "\n",
        " # The compuated value matches the CPU results above\n",
        "print(\"Computing on CPU:\", (y * (x + 2)).exp()) \n",
        " "
      ],
      "execution_count": null,
      "outputs": [
        {
          "output_type": "stream",
          "name": "stdout",
          "text": [
            "Computing on GPU: tensor([[5.0209, 7.2685, 2.1708, 2.1850, 3.6513],\n",
            "        [4.2299, 3.8395, 3.0252, 1.3316, 1.9252],\n",
            "        [3.4984, 1.6490, 6.5735, 1.6104, 1.0078]], device='cuda:0')\n",
            "Computing on CPU: tensor([[5.0209, 7.2685, 2.1708, 2.1850, 3.6513],\n",
            "        [4.2299, 3.8395, 3.0252, 1.3316, 1.9252],\n",
            "        [3.4984, 1.6490, 6.5735, 1.6104, 1.0078]])\n"
          ]
        }
      ]
    },
    {
      "cell_type": "markdown",
      "metadata": {
        "id": "4V5cJbH01Gn7"
      },
      "source": [
        "# Exercise 0: A simple neural network forward model (one layer). \n",
        "\n",
        "---\n",
        "\n"
      ]
    },
    {
      "cell_type": "code",
      "metadata": {
        "id": "zQdzWb5p4DEB"
      },
      "source": [
        "def activation(x):\n",
        "    \"\"\" Sigmoid activation function \n",
        "    \n",
        "        Arguments\n",
        "        ---------\n",
        "        x: torch.Tensor\n",
        "    \"\"\"\n",
        "    return 1/(1+torch.exp(-x))"
      ],
      "execution_count": null,
      "outputs": []
    },
    {
      "cell_type": "code",
      "metadata": {
        "id": "gBGMhiCN2PTK"
      },
      "source": [
        "### Generate some data\n",
        "torch.manual_seed(7) # Set the random seed so things are predictable\n",
        "# Features are 5 random normal variables\n",
        "features = torch.randn((1, 5))\n",
        "# True weights for our data, random normal variables again\n",
        "weights = torch.randn_like(features)\n",
        "# and a true bias term\n",
        "bias = torch.randn((1, 1))"
      ],
      "execution_count": null,
      "outputs": []
    },
    {
      "cell_type": "markdown",
      "metadata": {
        "id": "mSBqUuR63X4x"
      },
      "source": [
        "features = torch.randn((1, 5)) creates a tensor with shape (1, 5), one row and five columns, that contains values randomly distributed according to the normal distribution with a mean of zero and standard deviation of one.\n",
        "\n",
        "weights = torch.randn_like(features) creates another tensor with the same shape as features, again containing values from a normal distribution.\n",
        "\n",
        "Finally, bias = torch.randn((1, 1)) creates a single value from a normal distribution.\n",
        "![Screen Shot 2021-11-15 at 1.34.36 PM.png](data:image/png;base64,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)"
      ]
    },
    {
      "cell_type": "markdown",
      "metadata": {
        "id": "Icns0aS6AuKg"
      },
      "source": [
        "Solution"
      ]
    },
    {
      "cell_type": "code",
      "metadata": {
        "id": "KPXTFd3d3bMS"
      },
      "source": [
        "## TODO: Calculate the output of our little network using matrix multiplication. \n",
        "## Compute the element by element multiplication of features and weights and sum them up, and then add the bias function (see above equation and also\n",
        "##linear classifer lecture last week)). Outout the result. Then pass the result in the above defined acivation function and to output the neuron's output. \n",
        "## hint: you can try torch.sum() or you can use torch.mm(features, weights) to perform matrix multiplication that includes sum and multiplicaiton. but might need to reshape the tensors."
      ],
      "execution_count": null,
      "outputs": []
    },
    {
      "cell_type": "markdown",
      "metadata": {
        "id": "6Z6UZea7mzza"
      },
      "source": [
        "## Differentiable Programming with Dynamic Computation Graphs\n",
        "\n",
        "Gradient-based optimization is an essential part of the modern deep learning frenzy. PyTorch uses [reverse-mode automatic differentiation](https://en.wikipedia.org/wiki/Automatic_differentiation) to efficiently compute gradients through any computations done on tensors."
      ]
    },
    {
      "cell_type": "markdown",
      "metadata": {
        "id": "d3M1k2eVJTHy"
      },
      "source": [
        "### Dynamic vs. Static\n",
        "\n",
        "A neural network is essentially a sequence of mathematical operations on tensors, which build up a computation graph.\n",
        "\n",
        "Most frameworks such as TensorFlow, Theano, Caffe and CNTK have a static view of the world. One has to build a neural network, and reuse the same structure again and again. Changing the way the network behaves means that one has to start from scratch.\n",
        "\n",
        "PyTorch uses a technique called reverse-mode auto-differentiation, which allows you to change the way your network behaves arbitrarily with zero lag or overhead. \n"
      ]
    },
    {
      "cell_type": "markdown",
      "metadata": {
        "id": "3GEfWbBdJVAP"
      },
      "source": [
        "### Dynamic computation graphs\n",
        "\n",
        "When you create a tensor with its `requires_grad` flag set to `True`, the [`autograd`](https://pytorch.org/docs/stable/autograd.html) engine considers it as a **leaf** node of the computation graph. As you compute with it, the graph is dynamically expanded. When you ask for gradients (e.g., via `tensor.backward()`), the `autograd` engine traces backwards through the graph, and automatically computes the gradients for you.\n",
        "\n",
        "![alt text](https://github.com/pytorch/pytorch/raw/master/docs/source/_static/img/dynamic_graph.gif)\n"
      ]
    },
    {
      "cell_type": "markdown",
      "metadata": {
        "id": "-9oa0qkCJX3T"
      },
      "source": [
        "**Let's see this in action!**"
      ]
    },
    {
      "cell_type": "code",
      "metadata": {
        "id": "Ktc74vsEmq-J",
        "colab": {
          "base_uri": "https://localhost:8080/"
        },
        "outputId": "b0cbb9c8-e267-42f9-df45-ac678faafb1a"
      },
      "source": [
        "# Now, we want tensors with `requires_grad=True`\n",
        "\n",
        "a = torch.ones(3, 5, requires_grad=True)  # tensor of all ones\n",
        "print(a)  # notice that the `requires_grad` flag is on!"
      ],
      "execution_count": null,
      "outputs": [
        {
          "output_type": "stream",
          "name": "stdout",
          "text": [
            "tensor([[1., 1., 1., 1., 1.],\n",
            "        [1., 1., 1., 1., 1.],\n",
            "        [1., 1., 1., 1., 1.]], requires_grad=True)\n"
          ]
        }
      ]
    },
    {
      "cell_type": "code",
      "metadata": {
        "id": "sz3hpPdnrD4v",
        "colab": {
          "base_uri": "https://localhost:8080/"
        },
        "outputId": "87faa4db-cf7c-4a74-8dca-4121a44ce8f5"
      },
      "source": [
        "# Currently `a` has no gradients\n",
        "\n",
        "print(a.grad)"
      ],
      "execution_count": null,
      "outputs": [
        {
          "output_type": "stream",
          "name": "stdout",
          "text": [
            "None\n"
          ]
        }
      ]
    },
    {
      "cell_type": "code",
      "metadata": {
        "id": "muZKbhGWqLAi",
        "colab": {
          "base_uri": "https://localhost:8080/"
        },
        "outputId": "1601292a-b2c2-4f4b-817f-d51bbccc4c2d"
      },
      "source": [
        "# Let's compute the gradient wrt the sum\n",
        "\n",
        "s = a.sum()\n",
        "print('sum of a is', s)"
      ],
      "execution_count": null,
      "outputs": [
        {
          "output_type": "stream",
          "name": "stdout",
          "text": [
            "sum of a is tensor(15., grad_fn=<SumBackward0>)\n"
          ]
        }
      ]
    },
    {
      "cell_type": "code",
      "metadata": {
        "id": "4N5WmWHpqe_z",
        "colab": {
          "base_uri": "https://localhost:8080/"
        },
        "outputId": "80b0ffb2-e3aa-4113-c82d-c5cd8dc36c5f"
      },
      "source": [
        "# Notice the `grad_fn` of `s`. it represents the function used to propagate \n",
        "# gradients from `s` to previous nodes of the graph (`a` in this case).\n",
        "\n",
        "s.backward()  # compute gradient!\n",
        "print(a.grad) # Yay! Indeed d \\sum_a / d a_ij = 1"
      ],
      "execution_count": null,
      "outputs": [
        {
          "output_type": "stream",
          "name": "stdout",
          "text": [
            "tensor([[1., 1., 1., 1., 1.],\n",
            "        [1., 1., 1., 1., 1.],\n",
            "        [1., 1., 1., 1., 1.]])\n"
          ]
        }
      ]
    },
    {
      "cell_type": "code",
      "metadata": {
        "id": "1yZUx9OvrPNd",
        "colab": {
          "base_uri": "https://localhost:8080/"
        },
        "outputId": "0781b734-dd7a-41c4-a8c0-6743f4b917a1"
      },
      "source": [
        "# Gradients are automatically **accumulated**\n",
        "\n",
        "a.sum().backward()\n",
        "print(a.grad)  # now the new gradients are added to the old ones\n"
      ],
      "execution_count": null,
      "outputs": [
        {
          "output_type": "stream",
          "name": "stdout",
          "text": [
            "tensor([[2., 2., 2., 2., 2.],\n",
            "        [2., 2., 2., 2., 2.],\n",
            "        [2., 2., 2., 2., 2.]])\n"
          ]
        }
      ]
    },
    {
      "cell_type": "code",
      "metadata": {
        "id": "xLTr_IOvnhQl",
        "colab": {
          "base_uri": "https://localhost:8080/"
        },
        "outputId": "1686a10d-762a-4e56-c581-4aea9dbefe38"
      },
      "source": [
        "# Don't worry, we have easy ways to clear the gradients too. \n",
        "# We can zero the gradient in this way:\n",
        "a.grad.zero_()"
      ],
      "execution_count": null,
      "outputs": [
        {
          "output_type": "execute_result",
          "data": {
            "text/plain": [
              "tensor([[0., 0., 0., 0., 0.],\n",
              "        [0., 0., 0., 0., 0.],\n",
              "        [0., 0., 0., 0., 0.]])"
            ]
          },
          "metadata": {},
          "execution_count": 49
        }
      ]
    },
    {
      "cell_type": "code",
      "metadata": {
        "id": "TFVA1MV2rapV",
        "colab": {
          "base_uri": "https://localhost:8080/"
        },
        "outputId": "bd866560-0f65-45de-8e6e-360e217769fc"
      },
      "source": [
        "# Now let's do something slightly fancier, on GPU!\n",
        "\n",
        "a = torch.ones(3, 4, device=cuda0, requires_grad=True)\n",
        "b = torch.randn(4, 4, device=cuda0, requires_grad=True)\n",
        "\n",
        "result = (torch.mm(a, b.t().exp()) * 0.5).sum() * b.prod() - b.mean()\n",
        "print('this complicated chain of operation gives....')\n",
        "print(result)"
      ],
      "execution_count": null,
      "outputs": [
        {
          "output_type": "stream",
          "name": "stdout",
          "text": [
            "this complicated chain of operation gives....\n",
            "tensor(-0.8192, device='cuda:0', grad_fn=<SubBackward0>)\n"
          ]
        }
      ]
    },
    {
      "cell_type": "code",
      "metadata": {
        "id": "8jP56tn-fQyp",
        "colab": {
          "base_uri": "https://localhost:8080/"
        },
        "outputId": "19101f96-c0c7-4eb1-e2ff-16695a627f70"
      },
      "source": [
        "result.backward()\n",
        "print('\\ngradient wrt a is')\n",
        "print(a.grad)\n",
        "print('\\ngradient wrt b is')\n",
        "print(b.grad)"
      ],
      "execution_count": null,
      "outputs": [
        {
          "output_type": "stream",
          "name": "stdout",
          "text": [
            "\n",
            "gradient wrt a is\n",
            "tensor([[-0.1572, -0.0343, -0.0147, -0.0552],\n",
            "        [-0.1572, -0.0343, -0.0147, -0.0552],\n",
            "        [-0.1572, -0.0343, -0.0147, -0.0552]], device='cuda:0')\n",
            "\n",
            "gradient wrt b is\n",
            "tensor([[-0.6743, -0.7844,  1.2299,  7.6194],\n",
            "        [-0.6839,  0.2199,  0.7135, -1.3231],\n",
            "        [ 1.8705,  0.6984, 11.3607,  0.3801],\n",
            "        [-1.2473, -1.6471,  0.9129, -0.6229]], device='cuda:0')\n"
          ]
        }
      ]
    },
    {
      "cell_type": "markdown",
      "metadata": {
        "id": "zW2-H7GqxKY0"
      },
      "source": [
        "**Manipulating the `requires_grad` flag**"
      ]
    },
    {
      "cell_type": "code",
      "metadata": {
        "colab": {
          "base_uri": "https://localhost:8080/"
        },
        "id": "HVV79EXOxBFt",
        "outputId": "a3f8495a-2d20-4f24-f9cf-2ff6604692a8"
      },
      "source": [
        "# Other than directly setting it at creation time, you can change this flag \n",
        "# in-place using `my_tensor.requires_grad_()`, or, as in the above example, or\n",
        "# just directly setting the attribute.\n",
        "\n",
        "x = torch.randn(1, 4, 5)\n",
        "print(x)\n",
        "print('x does not track gradients')"
      ],
      "execution_count": null,
      "outputs": [
        {
          "output_type": "stream",
          "name": "stdout",
          "text": [
            "tensor([[[-0.7965,  1.4900, -0.5249,  0.8828, -0.3084],\n",
            "         [-0.4312,  2.1007, -1.6831,  0.3513,  0.1554],\n",
            "         [-1.0476, -0.3570,  0.3230, -1.1371,  1.1909],\n",
            "         [-0.7549, -0.5165,  0.1856,  2.5100, -1.1526]]])\n",
            "x does not track gradients\n"
          ]
        }
      ]
    },
    {
      "cell_type": "code",
      "metadata": {
        "colab": {
          "base_uri": "https://localhost:8080/"
        },
        "id": "9b68Q9cWxPKt",
        "outputId": "c67b98f6-54c9-4f52-c170-527cba4c0c9b"
      },
      "source": [
        "x.requires_grad_()\n",
        "print(x)\n",
        "print('x now **does** track gradients')"
      ],
      "execution_count": null,
      "outputs": [
        {
          "output_type": "stream",
          "name": "stdout",
          "text": [
            "tensor([[[-0.7965,  1.4900, -0.5249,  0.8828, -0.3084],\n",
            "         [-0.4312,  2.1007, -1.6831,  0.3513,  0.1554],\n",
            "         [-1.0476, -0.3570,  0.3230, -1.1371,  1.1909],\n",
            "         [-0.7549, -0.5165,  0.1856,  2.5100, -1.1526]]], requires_grad=True)\n",
            "x now **does** track gradients\n"
          ]
        }
      ]
    },
    {
      "cell_type": "markdown",
      "metadata": {
        "id": "Sdf4ZfBis7Ou"
      },
      "source": [
        "# Exercise 1"
      ]
    },
    {
      "cell_type": "markdown",
      "metadata": {
        "id": "ifWzA7--uGXX"
      },
      "source": [
        "$z = \\sqrt{\\frac{1}{\\sum_i \\exp(a_i)} \\sum_j b_j} - \\sum_k b_k$.\n",
        "\n",
        "Please first create tensors $a$ and $b$, where $a$ is a random tensor of shape (5,4), filled with random numbers from a uniform distribution on the interval [0, 1), and $b$ has the same shape as $a$ with elements filled with 1. Please write a function to compute the gradients of 𝑧  w.r.t.  𝐚  and  𝐛. Make sure you set a seed for reproduction.\n"
      ]
    },
    {
      "cell_type": "markdown",
      "metadata": {
        "id": "EAvixGtnv459"
      },
      "source": [
        "## Flexible and Efficient Neural Network Library"
      ]
    },
    {
      "cell_type": "markdown",
      "metadata": {
        "id": "Ni-h3bBGz0kf"
      },
      "source": [
        "The [`torch.nn`](https://pytorch.org/docs/stable/nn.html) and [`torch.optim`](https://pytorch.org/docs/stable/optim.html) packages provide many efficient implementations of neural network components:\n",
        "  + Affine layers and [activation functions](https://pytorch.org/docs/stable/nn.html#non-linear-activations-weighted-sum-nonlinearity)\n",
        "  + Normalization methods\n",
        "  + [Initialization schemes](https://pytorch.org/docs/stable/nn.html#torch-nn-init)\n",
        "  + [Loss functions](https://pytorch.org/docs/stable/nn.html#loss-functions)\n",
        "  + [Embeddings](https://pytorch.org/docs/stable/nn.html#sparse-layers)\n",
        "  + [Distributed and Multi-GPU training](https://pytorch.org/docs/stable/nn.html#dataparallel-layers-multi-gpu-distributed)\n",
        "  + [Gradient-based optimizers](https://pytorch.org/docs/stable/optim.html)\n",
        "  + [Learning rate schedulers](https://pytorch.org/docs/stable/optim.html#how-to-adjust-learning-rate)\n",
        "  + etc."
      ]
    },
    {
      "cell_type": "code",
      "metadata": {
        "id": "4XWfNgtI0NE0"
      },
      "source": [
        "import torch.nn as nn\n",
        "import torch.nn.functional as F"
      ],
      "execution_count": null,
      "outputs": []
    },
    {
      "cell_type": "markdown",
      "metadata": {
        "id": "YyMj2K002oz8"
      },
      "source": [
        "#### `torch.nn` Layers\n",
        "\n",
        "We will use the [fully connected linear layer (`nn.Linear`)](https://pytorch.org/docs/stable/nn.html#torch.nn.Linear) as an example. \n",
        "\n",
        "A fc layer performs an affine transform with a 2D weight parameter $\\mathbf{w}$ and a 1D bias parameter $\\mathbf{b}$:\n",
        "\n",
        "$$ f(\\mathbf{x}) = \\mathbf{w}^\\mathrm{T} \\mathbf{x} + \\mathbf{b}.$$"
      ]
    },
    {
      "cell_type": "code",
      "metadata": {
        "id": "DpkSxb3UvZYF",
        "colab": {
          "base_uri": "https://localhost:8080/"
        },
        "outputId": "e37143e7-e513-4757-9764-7e5a24ca6269"
      },
      "source": [
        "fc = nn.Linear(in_features=8, out_features=8)\n",
        "print(fc)"
      ],
      "execution_count": null,
      "outputs": [
        {
          "output_type": "stream",
          "name": "stdout",
          "text": [
            "Linear(in_features=8, out_features=8, bias=True)\n"
          ]
        }
      ]
    },
    {
      "cell_type": "code",
      "metadata": {
        "id": "MRYaIS5vzyoF",
        "colab": {
          "base_uri": "https://localhost:8080/"
        },
        "outputId": "1192a249-7ce0-41dc-b992-dfa201e505e7"
      },
      "source": [
        "# It has two parameters, the weight and the bias\n",
        "\n",
        "for name, p in fc.named_parameters():\n",
        "    print('param name: {}\\t shape: {}'.format(name, p.shape))"
      ],
      "execution_count": null,
      "outputs": [
        {
          "output_type": "stream",
          "name": "stdout",
          "text": [
            "param name: weight\t shape: torch.Size([8, 8])\n",
            "param name: bias\t shape: torch.Size([8])\n"
          ]
        }
      ]
    },
    {
      "cell_type": "code",
      "metadata": {
        "id": "mKNxg_ggfaCN",
        "colab": {
          "base_uri": "https://localhost:8080/"
        },
        "outputId": "192f70ca-2bad-4c11-b71d-e5c7b0763783"
      },
      "source": [
        "fc.weight"
      ],
      "execution_count": null,
      "outputs": [
        {
          "output_type": "execute_result",
          "data": {
            "text/plain": [
              "Parameter containing:\n",
              "tensor([[-0.2773,  0.2715,  0.2303, -0.3049,  0.1142,  0.3093,  0.2158,  0.0530],\n",
              "        [-0.1845, -0.1132,  0.3244, -0.0648,  0.2920,  0.2264,  0.3049, -0.3043],\n",
              "        [-0.3049, -0.2541, -0.0751, -0.2047,  0.2414, -0.1294, -0.0501,  0.2776],\n",
              "        [-0.1323, -0.1767,  0.1895,  0.2664, -0.1142, -0.0589,  0.2319,  0.2455],\n",
              "        [-0.2330,  0.0578,  0.3341, -0.1704, -0.1656, -0.3241, -0.0077, -0.2071],\n",
              "        [-0.1060,  0.1236, -0.1549,  0.1563, -0.1199,  0.1007,  0.2453, -0.2945],\n",
              "        [ 0.3523,  0.0436, -0.2872, -0.3300,  0.1231,  0.1701, -0.3452, -0.2758],\n",
              "        [ 0.0235, -0.1997,  0.0015, -0.1558, -0.2051,  0.0766,  0.1721, -0.3149]],\n",
              "       requires_grad=True)"
            ]
          },
          "metadata": {},
          "execution_count": 58
        }
      ]
    },
    {
      "cell_type": "code",
      "metadata": {
        "id": "KgGxaH8P0k6d",
        "colab": {
          "base_uri": "https://localhost:8080/"
        },
        "outputId": "e841f50e-6798-4dbb-e298-649e10621060"
      },
      "source": [
        "# These parameters by default have `requires_grad=True`, so they will collect gradients!\n",
        "\n",
        "print(fc.bias)"
      ],
      "execution_count": null,
      "outputs": [
        {
          "output_type": "stream",
          "name": "stdout",
          "text": [
            "Parameter containing:\n",
            "tensor([-0.0798,  0.1857, -0.1010,  0.2013, -0.2255, -0.0916,  0.2411,  0.1317],\n",
            "       requires_grad=True)\n"
          ]
        }
      ]
    },
    {
      "cell_type": "code",
      "metadata": {
        "id": "21nZqKk009u2"
      },
      "source": [
        "# Let's construct an input tensor with 2 dimensions:\n",
        "#   - batch dimension of size 64\n",
        "#   - 8 features\n",
        "\n",
        "x = torch.randn(64, 8)"
      ],
      "execution_count": null,
      "outputs": []
    },
    {
      "cell_type": "code",
      "metadata": {
        "id": "JR0uDfsI1Ybq",
        "colab": {
          "base_uri": "https://localhost:8080/"
        },
        "outputId": "31afc7ff-f80f-4cf0-8048-e124c71bedbb"
      },
      "source": [
        "# Pass it through the fc layer\n",
        "\n",
        "result = fc(x)\n",
        "print(result.shape)\n",
        "\n",
        "# Why does the `result` have shape [64, 8]?\n",
        "#   - batch dimension of size 64\n",
        "#   - 8 output features"
      ],
      "execution_count": null,
      "outputs": [
        {
          "output_type": "stream",
          "name": "stdout",
          "text": [
            "torch.Size([64, 8])\n"
          ]
        }
      ]
    },
    {
      "cell_type": "code",
      "metadata": {
        "id": "OKyBTXGE1sQf",
        "colab": {
          "base_uri": "https://localhost:8080/"
        },
        "outputId": "aa51d4da-76ea-4835-bb6d-5262b4263f01"
      },
      "source": [
        "# Even though the input `x` has `requires_grad=False`, the convolution\n",
        "# weight and bias parameters has `requires_grad=True`. So the result also\n",
        "# requires gradient, with a `grad_fn` to compute backward pass for \n",
        "# convolutions.\n",
        "\n",
        "print(result.requires_grad)\n",
        "print(result.grad_fn)  # It says `AddmmBackward` because the fc layer performs a matmul and an addition"
      ],
      "execution_count": null,
      "outputs": [
        {
          "output_type": "stream",
          "name": "stdout",
          "text": [
            "True\n",
            "<AddmmBackward0 object at 0x7f19a0d4a550>\n"
          ]
        }
      ]
    },
    {
      "cell_type": "code",
      "metadata": {
        "id": "6_o_34C-4wdo"
      },
      "source": [
        "# Say (arbitrarily) we want the layer to behave like the cosine function (yes I know it is impossible)\n",
        "\n",
        "target = x.cos()"
      ],
      "execution_count": null,
      "outputs": []
    },
    {
      "cell_type": "code",
      "metadata": {
        "id": "HBh0R7zV7TZK",
        "colab": {
          "base_uri": "https://localhost:8080/"
        },
        "outputId": "3c15ea25-3021-4c46-b0df-150add043c7e"
      },
      "source": [
        "# Let's try MSE loss\n",
        "\n",
        "loss = F.mse_loss(result, target)\n",
        "print(loss)"
      ],
      "execution_count": null,
      "outputs": [
        {
          "output_type": "stream",
          "name": "stdout",
          "text": [
            "tensor(1.0662, grad_fn=<MseLossBackward0>)\n"
          ]
        }
      ]
    },
    {
      "cell_type": "code",
      "metadata": {
        "id": "0HBUX4To7Zie",
        "colab": {
          "base_uri": "https://localhost:8080/"
        },
        "outputId": "c8fc516b-d613-49ba-dd58-2837b0be9005"
      },
      "source": [
        "# Compute gradients\n",
        "\n",
        "loss.backward()\n",
        "print(fc.bias.grad)"
      ],
      "execution_count": null,
      "outputs": [
        {
          "output_type": "stream",
          "name": "stdout",
          "text": [
            "tensor([-0.1663, -0.1641, -0.1768, -0.0528, -0.2890, -0.1762, -0.1657, -0.1549])\n"
          ]
        }
      ]
    },
    {
      "cell_type": "code",
      "metadata": {
        "id": "5RXQNbrf7jy9",
        "colab": {
          "base_uri": "https://localhost:8080/"
        },
        "outputId": "e5631659-bafc-4f69-f594-0e0052253514"
      },
      "source": [
        "# We can manually perform GD via a loop\n",
        "\n",
        "print('bias before GD', fc.bias)\n",
        "\n",
        "lr = 0.5\n",
        "with torch.no_grad():  \n",
        "    # this context manager tells PyTorch that we don't want ops inside to be \n",
        "    # tracked by autograd!\n",
        "    for p in fc.parameters():\n",
        "        p -= lr * p.grad\n",
        "        \n",
        "print('bias after GD', fc.bias)"
      ],
      "execution_count": null,
      "outputs": [
        {
          "output_type": "stream",
          "name": "stdout",
          "text": [
            "bias before GD Parameter containing:\n",
            "tensor([ 0.1387,  0.0212, -0.1725,  0.1673, -0.3391, -0.2096, -0.0885, -0.1722],\n",
            "       requires_grad=True)\n",
            "bias after GD Parameter containing:\n",
            "tensor([ 0.2219,  0.1032, -0.0841,  0.1937, -0.1946, -0.1214, -0.0056, -0.0948],\n",
            "       requires_grad=True)\n"
          ]
        }
      ]
    },
    {
      "cell_type": "markdown",
      "metadata": {
        "id": "OZq4QtJ8F5v4"
      },
      "source": [
        "#### `torch.optim` optimizers\n",
        "\n",
        "More easily, we can use the provided [`torch.optim`](https://pytorch.org/docs/stable/optim.html#torch.optim) optimizers. Let's use the [`torch.optim.SGD`](https://pytorch.org/docs/stable/optim.html#torch.optim.SGD) optimizer for example!"
      ]
    },
    {
      "cell_type": "code",
      "metadata": {
        "id": "izmy6Kr3HWEE"
      },
      "source": [
        "# Let's optimize for 5000 iterations\n",
        "\n",
        "# First, put the layer on GPU so things run faster\n",
        "\n",
        "fc = fc.to(cuda0)"
      ],
      "execution_count": null,
      "outputs": []
    },
    {
      "cell_type": "code",
      "metadata": {
        "id": "iifUdPqu8E-T"
      },
      "source": [
        "# Construct an optimizer. Here, we use Stochastic gradient descent at learning rate 0.1\n",
        "\n",
        "optim = torch.optim.SGD(fc.parameters(), lr=0.1)"
      ],
      "execution_count": null,
      "outputs": []
    },
    {
      "cell_type": "code",
      "metadata": {
        "id": "XZoO55hiHMrV",
        "colab": {
          "base_uri": "https://localhost:8080/"
        },
        "outputId": "69c53d32-8954-446d-c1cb-e554c62a8c83"
      },
      "source": [
        "# training loop\n",
        "\n",
        "batch_size = 256\n",
        "\n",
        "for ii in range(5000):\n",
        "    # clear gradients accumulated on the parameters\n",
        "    optim.zero_grad()\n",
        "    \n",
        "    # get an input (say we only care inputs sampled from N(0, I))\n",
        "    x = torch.randn(batch_size, 8, device=cuda0)  # this has to be on GPU too\n",
        "    \n",
        "    # target is the cos(x)\n",
        "    target = x.cos()\n",
        "    \n",
        "    # forward pass\n",
        "    result = fc(x)\n",
        "    \n",
        "    # compute loss\n",
        "    loss = F.mse_loss(result, target)\n",
        "    \n",
        "    # compute gradients\n",
        "    loss.backward()\n",
        "    \n",
        "    # let the optimizer do its work; the parameters will be updated in this call\n",
        "    optim.step()\n",
        "    \n",
        "    # add some printing\n",
        "    if ii % 500 == 0:\n",
        "        print('iteration {}\\tloss {:.5f}'.format(ii, loss))\n"
      ],
      "execution_count": null,
      "outputs": [
        {
          "output_type": "stream",
          "name": "stdout",
          "text": [
            "iteration 0\tloss 0.86133\n",
            "iteration 500\tloss 0.21292\n",
            "iteration 1000\tloss 0.19926\n",
            "iteration 1500\tloss 0.19759\n",
            "iteration 2000\tloss 0.20173\n",
            "iteration 2500\tloss 0.17425\n",
            "iteration 3000\tloss 0.19993\n",
            "iteration 3500\tloss 0.17950\n",
            "iteration 4000\tloss 0.19653\n",
            "iteration 4500\tloss 0.19358\n"
          ]
        }
      ]
    },
    {
      "cell_type": "markdown",
      "metadata": {
        "id": "CQGaMCr8Isrg"
      },
      "source": [
        "### Building Deep Neural Neworks\n",
        "\n",
        "A single `nn.Linear` layer didn't do very well! The MSE loss above is still pretty large.\n",
        "\n",
        "But this is expected as it is simply a linear transformation and thus has limited expressive power. Let's replace it with a deep network and see out it works!\n",
        "\n",
        "For simplicity, we will use the following feedforward network architecture (from top to bottom):\n",
        "\n",
        "```\n",
        "        [Input]\n",
        "           ||\n",
        "[Fully-Connected 8 -> 32]\n",
        "           ||\n",
        "    [ReLU activation]\n",
        "           ||\n",
        "[Fully-Connected 32 -> 32]\n",
        "           ||\n",
        "    [ReLU activation]\n",
        "           ||\n",
        "[Fully-Connected 32 -> 8]\n",
        "           ||\n",
        "        [Output]\n",
        "```"
      ]
    },
    {
      "cell_type": "markdown",
      "metadata": {
        "id": "YVzkaIlsLYJT"
      },
      "source": [
        "In PyTorch, a model is represented by a [`nn.Module`](https://pytorch.org/docs/stable/nn.html#torch.nn.Module) object. The `nn.Linear` layer we looked at above is also an instance of it:"
      ]
    },
    {
      "cell_type": "code",
      "metadata": {
        "id": "XsJ7nLvAHfyq"
      },
      "source": [
        "assert isinstance(nn.Linear(8, 8), nn.Module)"
      ],
      "execution_count": null,
      "outputs": []
    },
    {
      "cell_type": "markdown",
      "metadata": {
        "id": "jztyotM2Lut9"
      },
      "source": [
        "Now we want to build a deep network, we can compose the needed layers together by writing a custom `nn.Module` ourselves."
      ]
    },
    {
      "cell_type": "code",
      "metadata": {
        "id": "Ny8gXGpfLpNz"
      },
      "source": [
        "class MyNet(nn.Module):  # subclass nn.Module\n",
        "    def __init__(self):\n",
        "        super(MyNet, self).__init__()\n",
        "        \n",
        "        # We need 3 fully-connected layers!\n",
        "        # Simply assigning them as attributes will\n",
        "        # make sure that PyTorch keeps track of them.\n",
        "        \n",
        "        # 8 => 32\n",
        "        self.fc1 = nn.Linear(8, 32)\n",
        "        # 32 => 32\n",
        "        self.fc2 = nn.Linear(32, 32)\n",
        "        # 32 => 8\n",
        "        self.fc3 = nn.Linear(32, 8)\n",
        "        \n",
        "        \n",
        "    # We also need to define a `forward()` method that details\n",
        "    # what should happen when this module is used.\n",
        "    def forward(self, x):\n",
        "        x = self.fc1(x)\n",
        "        x = x.relu()\n",
        "        x = self.fc2(x)\n",
        "        x = x.relu()\n",
        "        return self.fc3(x)"
      ],
      "execution_count": null,
      "outputs": []
    },
    {
      "cell_type": "code",
      "metadata": {
        "id": "yuZM4_jeMqsk"
      },
      "source": [
        "# Okay! Now we are ready to use this deep network! \n",
        "\n",
        "# Construct a network and move to GPU\n",
        "net = MyNet().to(cuda0)\n",
        "\n",
        "# Construct an optimizer\n",
        "optim = torch.optim.SGD(net.parameters(), lr=0.1)"
      ],
      "execution_count": null,
      "outputs": []
    },
    {
      "cell_type": "code",
      "metadata": {
        "id": "cVt8N16MMtxZ",
        "colab": {
          "base_uri": "https://localhost:8080/",
          "height": 192
        },
        "outputId": "e8f43f19-1c60-4847-dc6d-36ae064ffed7"
      },
      "source": [
        "# The same training loop, but now using a deep network!\n",
        "\n",
        "batch_size = 256\n",
        "\n",
        "for ii in range(5000):\n",
        "    # clear gradients accumulated on the parameters\n",
        "    optim.zero_grad()\n",
        "    \n",
        "    # get an input (say we only care inputs sampled from N(0, I))\n",
        "    x = torch.randn(batch_size, 8, device=cuda0)  # this has to be on GPU too\n",
        "    \n",
        "    # target is the cos(x)\n",
        "    target = x.cos()\n",
        "    \n",
        "    # forward pass\n",
        "    result = net(x)  # CHANGED: fc => net\n",
        "    \n",
        "    # compute loss\n",
        "    loss = F.mse_loss(result, target)\n",
        "    \n",
        "    # compute gradients\n",
        "    loss.backward()\n",
        "    \n",
        "    # let the optimizer do its work; the parameters will be updated in this call\n",
        "    optim.step()\n",
        "    \n",
        "    # add some printing\n",
        "    if ii % 500 == 0:\n",
        "        print('iteration {}\\tloss {:.5f}'.format(ii, loss))\n"
      ],
      "execution_count": null,
      "outputs": [
        {
          "output_type": "stream",
          "text": [
            "iteration 0\tloss 0.00447\n",
            "iteration 500\tloss 0.00477\n",
            "iteration 1000\tloss 0.00435\n",
            "iteration 1500\tloss 0.00436\n",
            "iteration 2000\tloss 0.00388\n",
            "iteration 2500\tloss 0.00329\n",
            "iteration 3000\tloss 0.00454\n",
            "iteration 3500\tloss 0.00326\n",
            "iteration 4000\tloss 0.00388\n",
            "iteration 4500\tloss 0.00326\n"
          ],
          "name": "stdout"
        }
      ]
    },
    {
      "cell_type": "markdown",
      "metadata": {
        "id": "hsdcbnOQPbhL"
      },
      "source": [
        "The network did so much better than a single fully-connected layer!"
      ]
    },
    {
      "cell_type": "markdown",
      "metadata": {
        "id": "Ggjwhxk_afWf"
      },
      "source": [
        "#### More `nn.*` Layers\n",
        "\n",
        "There are many other layers provided in the `nn.*` package. To list a few, we have\n",
        "+ Convolutions: e.g., [`nn.Conv2d`](https://pytorch.org/docs/stable/nn.html#torch.nn.Conv2d)\n",
        "+ Normalizations: e.g., [`nn.BatchNorm2d`](https://pytorch.org/docs/stable/nn.html#torch.nn.BatchNorm2d)\n",
        "+ Activation functions: e.g., [`nn.ReLU`](https://pytorch.org/docs/stable/nn.html#torch.nn.ReLU)\n",
        "+ etc."
      ]
    },
    {
      "cell_type": "code",
      "metadata": {
        "id": "KE2k_yV6cp6-"
      },
      "source": [
        "# A conv 2d layer with 4x4 filters, mapping inputs with 3 channels to outputs with 5 channels\n",
        "\n",
        "conv = nn.Conv2d(in_channels=3, out_channels=5, kernel_size=4)"
      ],
      "execution_count": null,
      "outputs": []
    },
    {
      "cell_type": "code",
      "metadata": {
        "id": "tvCPf3wCdTCc",
        "colab": {
          "base_uri": "https://localhost:8080/",
          "height": 52
        },
        "outputId": "0d5cfe0c-90c3-4cf9-e25b-af508998832f"
      },
      "source": [
        "# It also has two parameters, the weight and the bias\n",
        "\n",
        "for name, p in conv.named_parameters():\n",
        "    print('param name: {}\\t shape: {}'.format(name, p.shape))\n",
        "    \n",
        "# Why does the weight have shape [5, 3, 4, 4]? "
      ],
      "execution_count": null,
      "outputs": [
        {
          "output_type": "stream",
          "text": [
            "param name: weight\t shape: torch.Size([5, 3, 4, 4])\n",
            "param name: bias\t shape: torch.Size([5])\n"
          ],
          "name": "stdout"
        }
      ]
    },
    {
      "cell_type": "markdown",
      "metadata": {
        "id": "u0b8bbC2Yrrx"
      },
      "source": [
        "#### `nn.Module` Containers\n",
        "\n",
        "`torch.nn` also provides many other [`nn.Module` containers](https://pytorch.org/docs/stable/nn.html#containers) for easily building complex networks. E.g., [`nn.Sequential`](https://pytorch.org/docs/stable/nn.html#torch.nn.Sequential) executes a list of submodules sequentially, passing each output to the next's input. \n",
        "\n",
        "Using `nn.Sequential`, the above network can be equivalently written as:"
      ]
    },
    {
      "cell_type": "code",
      "metadata": {
        "id": "PNUcQt93ZY9A"
      },
      "source": [
        "net = nn.Sequential(\n",
        "    nn.Linear(8, 32),\n",
        "    nn.ReLU(),               # This nn.Module does the ReLU activation on its input\n",
        "    nn.Linear(32, 32),\n",
        "    nn.ReLU(),\n",
        "    nn.Linear(32, 8),\n",
        ").to(cuda0)"
      ],
      "execution_count": null,
      "outputs": []
    },
    {
      "cell_type": "markdown",
      "metadata": {
        "id": "f82cr5NyIxQD"
      },
      "source": [
        "# Exercise 2"
      ]
    },
    {
      "cell_type": "markdown",
      "metadata": {
        "id": "ySx-KPEcQhmL"
      },
      "source": [
        "Perform the same regression task (i.e., modeling $f(x) = \\cos(x)$), but with the following modifications:\n",
        "\n",
        "+ Use one *more* hidden layer\n",
        "+ Each hidden layer should have size 128 neurons\n",
        "+ Use the `tanh` activation function (see [`my_tensor.tanh()`](https://pytorch.org/docs/stable/tensors.html#torch.Tensor.tanh))\n",
        "+ Use a batch size of 128\n",
        "+ Use the [`torch.optim.Adam`](https://pytorch.org/docs/stable/optim.html#torch.optim.Adam) optimizer\n",
        "+ Use the [L1 loss](https://pytorch.org/docs/stable/nn.html#torch.nn.functional.l1_loss) function"
      ]
    },
    {
      "cell_type": "code",
      "metadata": {
        "id": "CcuI8iQPgQ4Q"
      },
      "source": [
        "## Use the following as a start\n",
        "class DeeperNet(nn.Module):\n",
        "    def __init__(self):\n",
        "        super(DeeperNet, self).__init__()"
      ],
      "execution_count": null,
      "outputs": []
    },
    {
      "cell_type": "markdown",
      "metadata": {
        "id": "pDLP8DW9QTk0"
      },
      "source": [
        "## Building an MNIST Classifier\n",
        "\n",
        "\n",
        "Using what we have learned, let's build a simple MNIST digits classifier."
      ]
    },
    {
      "cell_type": "code",
      "metadata": {
        "id": "6Gu0ujK9QUJN"
      },
      "source": [
        "import torch\n",
        "import torch.nn as nn\n",
        "import torch.nn.functional as F\n",
        "\n",
        "\n",
        "torch.manual_seed(1234)  # for reproducibility\n",
        "\n",
        "cuda0 = torch.device('cuda:0')"
      ],
      "execution_count": null,
      "outputs": []
    },
    {
      "cell_type": "markdown",
      "metadata": {
        "id": "wPhLcpENQdtv"
      },
      "source": [
        "### Loading Data\n",
        "\n",
        "The [`torchvision`](https://pytorch.org/docs/stable/torchvision/index.html) library provides a wide range of standard vision datasets and networks with pretrained weights. We will use [the `torchvision.datasets.MNIST` class](https://pytorch.org/docs/stable/torchvision/datasets.html#mnist) to easily access the MNIST dataset. You can also [write your own custom datasets](https://pytorch.org/tutorials/beginner/data_loading_tutorial.html)."
      ]
    },
    {
      "cell_type": "code",
      "metadata": {
        "id": "V6HGtONEQedI",
        "colab": {
          "base_uri": "https://localhost:8080/",
          "height": 417,
          "referenced_widgets": [
            "5a729c64da564b1fa469836aba7d15b6",
            "17bc11b4c58d4be188bd2d9a9b99ec18",
            "8c1fa7f8821d4ff6b54b43d198b3b8b1",
            "dc1f66877dea49a18fbd22f02b7c1152",
            "be25f9670f094b9192fabb969cd21492",
            "31177dfb3c934324a108bb58b1274d17",
            "2eeaf0391f6f432ca6460744e34b39fb",
            "351278a87dd44748a44dee532ee6c1c3",
            "350e4f47d344471f99307f2b5d74681d",
            "67b1fd8d73b343a299a570ca838fcb9b",
            "f23c009eebd6440180ead72df6a4b67f",
            "2258c6510c0842b1a7fc75652ba9ede9",
            "1ab5a69a4efd4acd8f162ddebc72f754",
            "0998074b0ca84f9da8c57f50b7ea0845",
            "270133e953b74d8792fb9f0c677d24d5",
            "6d6532a59af1439a9dc2bbc9f549bfb1",
            "a390616eb53749559a33c434d2cad47b",
            "cde9c817c58e46d2ae4d2c6713eba398",
            "fb4b756e0aa543cf9ea7df9ac0fb8811",
            "94b3a6e1a8dc48de991b53bb947bb0a1",
            "0b3e890087094e759d1205d8c8261aa0",
            "48dc0a5e1db349bb9ea3fcf132670204",
            "45ba9178d74240e480af621da7961e37",
            "7f403b0e3c2c403b98ea1533850b6707",
            "affc98890fe34721b9735016b061eb21",
            "d677a253c57640439bebf976201062e3",
            "a1657a783a8943d2a9d24e3b4b7d50c9",
            "79d2f238411f4f429f320e10c0474e1c",
            "9e30742306b244dcbf3410bdfd3447d8",
            "080cc45e7abe4424a1be91837757fd7e",
            "dbddedd48ba94e0daa3a8ab5eebbbb0c",
            "1fd707c788c64fe3b16d53797808a286",
            "fcf69e29b1154d1584a040bd710169fc",
            "7ba4e189f24a482899d8c1310a74f744",
            "e902c81f80de4eda9640ca44dae73f3a",
            "08fdbf1b8028482cbd877ea3a8fcaab7",
            "3795cf16082e4868b1a308c5ef9101b9",
            "70aad9f0d66449cea4f334d87dcff863",
            "247b395dc8914965b33740d1e35c61d5",
            "c74798488e7443f3ad30987141e313ba",
            "a536fbba4aa042aa92bc16e989e05389",
            "a0af87c71deb4fadbab602c1d0560301",
            "e18a1a9b3aa74159a3c84e996db224a4",
            "4a7d344b15a040b0b113577d4151a319"
          ]
        },
        "outputId": "3bfd6906-8342-4e6c-d2a4-a33e71907d36"
      },
      "source": [
        "import torchvision\n",
        "\n",
        "mnist_train = torchvision.datasets.MNIST(root='./data', download=True, train=True)"
      ],
      "execution_count": null,
      "outputs": [
        {
          "output_type": "stream",
          "name": "stdout",
          "text": [
            "Downloading http://yann.lecun.com/exdb/mnist/train-images-idx3-ubyte.gz\n",
            "Downloading http://yann.lecun.com/exdb/mnist/train-images-idx3-ubyte.gz to ./data/MNIST/raw/train-images-idx3-ubyte.gz\n"
          ]
        },
        {
          "output_type": "display_data",
          "data": {
            "application/vnd.jupyter.widget-view+json": {
              "model_id": "5a729c64da564b1fa469836aba7d15b6",
              "version_minor": 0,
              "version_major": 2
            },
            "text/plain": [
              "  0%|          | 0/9912422 [00:00<?, ?it/s]"
            ]
          },
          "metadata": {}
        },
        {
          "output_type": "stream",
          "name": "stdout",
          "text": [
            "Extracting ./data/MNIST/raw/train-images-idx3-ubyte.gz to ./data/MNIST/raw\n",
            "\n",
            "Downloading http://yann.lecun.com/exdb/mnist/train-labels-idx1-ubyte.gz\n",
            "Downloading http://yann.lecun.com/exdb/mnist/train-labels-idx1-ubyte.gz to ./data/MNIST/raw/train-labels-idx1-ubyte.gz\n"
          ]
        },
        {
          "output_type": "display_data",
          "data": {
            "application/vnd.jupyter.widget-view+json": {
              "model_id": "2258c6510c0842b1a7fc75652ba9ede9",
              "version_minor": 0,
              "version_major": 2
            },
            "text/plain": [
              "  0%|          | 0/28881 [00:00<?, ?it/s]"
            ]
          },
          "metadata": {}
        },
        {
          "output_type": "stream",
          "name": "stdout",
          "text": [
            "Extracting ./data/MNIST/raw/train-labels-idx1-ubyte.gz to ./data/MNIST/raw\n",
            "\n",
            "Downloading http://yann.lecun.com/exdb/mnist/t10k-images-idx3-ubyte.gz\n",
            "Downloading http://yann.lecun.com/exdb/mnist/t10k-images-idx3-ubyte.gz to ./data/MNIST/raw/t10k-images-idx3-ubyte.gz\n"
          ]
        },
        {
          "output_type": "display_data",
          "data": {
            "application/vnd.jupyter.widget-view+json": {
              "model_id": "45ba9178d74240e480af621da7961e37",
              "version_minor": 0,
              "version_major": 2
            },
            "text/plain": [
              "  0%|          | 0/1648877 [00:00<?, ?it/s]"
            ]
          },
          "metadata": {}
        },
        {
          "output_type": "stream",
          "name": "stdout",
          "text": [
            "Extracting ./data/MNIST/raw/t10k-images-idx3-ubyte.gz to ./data/MNIST/raw\n",
            "\n",
            "Downloading http://yann.lecun.com/exdb/mnist/t10k-labels-idx1-ubyte.gz\n",
            "Downloading http://yann.lecun.com/exdb/mnist/t10k-labels-idx1-ubyte.gz to ./data/MNIST/raw/t10k-labels-idx1-ubyte.gz\n"
          ]
        },
        {
          "output_type": "display_data",
          "data": {
            "application/vnd.jupyter.widget-view+json": {
              "model_id": "7ba4e189f24a482899d8c1310a74f744",
              "version_minor": 0,
              "version_major": 2
            },
            "text/plain": [
              "  0%|          | 0/4542 [00:00<?, ?it/s]"
            ]
          },
          "metadata": {}
        },
        {
          "output_type": "stream",
          "name": "stdout",
          "text": [
            "Extracting ./data/MNIST/raw/t10k-labels-idx1-ubyte.gz to ./data/MNIST/raw\n",
            "\n"
          ]
        }
      ]
    },
    {
      "cell_type": "markdown",
      "metadata": {
        "id": "Gc1Oo7yVQhHW"
      },
      "source": [
        "Each element of the dataset is a 2-tuple, consisting of the image of the digit, and its label. E.g.,"
      ]
    },
    {
      "cell_type": "code",
      "metadata": {
        "id": "j3o7ZiKxQiSQ",
        "colab": {
          "base_uri": "https://localhost:8080/",
          "height": 62
        },
        "outputId": "e33c477d-c0da-4c90-cd16-601aa38c8661"
      },
      "source": [
        "image, label = mnist_train[13]\n",
        "print('This is a digit {}:'.format(label))\n",
        "image"
      ],
      "execution_count": null,
      "outputs": [
        {
          "output_type": "stream",
          "name": "stdout",
          "text": [
            "This is a digit 6:\n"
          ]
        },
        {
          "output_type": "execute_result",
          "data": {
            "image/png": "[encoded data removed]",
            "text/plain": [
              "<PIL.Image.Image image mode=L size=28x28 at 0x7FE9436A4150>"
            ]
          },
          "metadata": {},
          "execution_count": 3
        }
      ]
    },
    {
      "cell_type": "code",
      "metadata": {
        "id": "GgjpbNOJQ6uZ",
        "colab": {
          "base_uri": "https://localhost:8080/"
        },
        "outputId": "fd34d1ff-af53-48d6-e71b-632dc3e6887c"
      },
      "source": [
        "type(image)"
      ],
      "execution_count": null,
      "outputs": [
        {
          "output_type": "execute_result",
          "data": {
            "text/plain": [
              "PIL.Image.Image"
            ]
          },
          "metadata": {},
          "execution_count": 4
        }
      ]
    },
    {
      "cell_type": "markdown",
      "metadata": {
        "id": "Rr4PArJFQ_md"
      },
      "source": [
        "The image is given as a `PIL.Image`. To automatically obtain a `torch.Tensor`, we can add a [`torchvision.transforms.ToTensor` ](https://pytorch.org/docs/stable/torchvision/transforms.html#torchvision.transforms.ToTensor) transform when constructing the dataset:"
      ]
    },
    {
      "cell_type": "code",
      "metadata": {
        "id": "gguJtULrRBb5"
      },
      "source": [
        "mnist_train = torchvision.datasets.MNIST(root='./data', download=True, train=True,\n",
        "                                         transform=torchvision.transforms.ToTensor())  # the ToTensor transform converts PIL.Image to torch.Tensor"
      ],
      "execution_count": null,
      "outputs": []
    },
    {
      "cell_type": "code",
      "metadata": {
        "id": "2xHsFXSQRI4r",
        "colab": {
          "base_uri": "https://localhost:8080/"
        },
        "outputId": "1d515a3d-80e2-4852-c418-d376ea1d5051"
      },
      "source": [
        "image, label = mnist_train[13]\n",
        "print(type(image))\n",
        "print(image.shape)  # MNIST images are 28x28, and have a single channel representing brightness."
      ],
      "execution_count": null,
      "outputs": [
        {
          "output_type": "stream",
          "name": "stdout",
          "text": [
            "<class 'torch.Tensor'>\n",
            "torch.Size([1, 28, 28])\n"
          ]
        }
      ]
    },
    {
      "cell_type": "code",
      "metadata": {
        "id": "MX6lJPTIRKVM",
        "colab": {
          "base_uri": "https://localhost:8080/"
        },
        "outputId": "45231338-e919-49a8-8fe9-b3e97ede5eaf"
      },
      "source": [
        "print('This image has max={}'.format(image.max()), 'and min={}'.format(image.min()))"
      ],
      "execution_count": null,
      "outputs": [
        {
          "output_type": "stream",
          "name": "stdout",
          "text": [
            "This image has max=1.0 and min=0.0\n"
          ]
        }
      ]
    },
    {
      "cell_type": "markdown",
      "metadata": {
        "id": "ZFvgxfUDROGz"
      },
      "source": [
        "In deep learning, it is often a good idea to normalize network inputs to be centered around zero. We use the [`torchvision.transforms.Normalize`](https://pytorch.org/docs/stable/torchvision/transforms.html#torchvision.transforms.Normalize) tranform to achieve this. Adding this transform, we construct the dataset as:"
      ]
    },
    {
      "cell_type": "code",
      "metadata": {
        "id": "F4U6H9sSRMAa"
      },
      "source": [
        "transform = torchvision.transforms.Compose([\n",
        "    torchvision.transforms.ToTensor(), ## Transform the image to Tensor\n",
        "    torchvision.transforms.Normalize(mean=(0.5,), std=(0.5,)),  # Change range of pixel from [0, 1] range => [-1, 1] range\n",
        "])\n",
        "\n",
        "## Download training dataset\n",
        "mnist_train = torchvision.datasets.MNIST(root='./data', download=True, train=True,\n",
        "                                         transform=transform)\n",
        "\n",
        "## Download validation dataset\n",
        "mnist_val = torchvision.datasets.MNIST(root='./data', download=True, train=False,\n",
        "                                         transform=transform)"
      ],
      "execution_count": null,
      "outputs": []
    },
    {
      "cell_type": "code",
      "metadata": {
        "id": "_fmaVjZ9nVFv",
        "colab": {
          "base_uri": "https://localhost:8080/"
        },
        "outputId": "18c4d3b9-8c30-4c62-d8be-b16a2328cfe7"
      },
      "source": [
        "image, label = mnist_train[13]\n",
        "print(type(image))\n",
        "print(image.shape)  # MNIST images are 28x28, and have a single channel representing brightness."
      ],
      "execution_count": null,
      "outputs": [
        {
          "output_type": "stream",
          "name": "stdout",
          "text": [
            "<class 'torch.Tensor'>\n",
            "torch.Size([1, 28, 28])\n"
          ]
        }
      ]
    },
    {
      "cell_type": "code",
      "metadata": {
        "id": "yvsE_Z9KnXDq",
        "colab": {
          "base_uri": "https://localhost:8080/"
        },
        "outputId": "e9c80c10-2ecf-4baa-f6c6-94097cded884"
      },
      "source": [
        "print('This image has max={}'.format(image.max()), 'and min={}'.format(image.min()))"
      ],
      "execution_count": null,
      "outputs": [
        {
          "output_type": "stream",
          "name": "stdout",
          "text": [
            "This image has max=1.0 and min=-1.0\n"
          ]
        }
      ]
    },
    {
      "cell_type": "code",
      "metadata": {
        "id": "cVC9ZncXRQps",
        "colab": {
          "base_uri": "https://localhost:8080/"
        },
        "outputId": "bb0d802e-35c6-4010-d6c1-a857c9753cd7"
      },
      "source": [
        "print('training set size:\\t{}'.format(len(mnist_train)))\n",
        "print('validation set size:\\t{}'.format(len(mnist_val)))"
      ],
      "execution_count": null,
      "outputs": [
        {
          "output_type": "stream",
          "name": "stdout",
          "text": [
            "training set size:\t60000\n",
            "validation set size:\t10000\n"
          ]
        }
      ]
    },
    {
      "cell_type": "markdown",
      "metadata": {
        "id": "TlHTeF_WRTXQ"
      },
      "source": [
        "We use the PyTorch `torch.utils.data.DataLoader` to automatically load batched data. "
      ]
    },
    {
      "cell_type": "code",
      "metadata": {
        "id": "ZNcxT1r9RR3g",
        "colab": {
          "base_uri": "https://localhost:8080/"
        },
        "outputId": "2adaddab-b9aa-4d24-b02a-e21881470b33"
      },
      "source": [
        "batch_size = 512\n",
        "\n",
        "train_loader = torch.utils.data.DataLoader(mnist_train, \n",
        "                                           batch_size=batch_size,          # define batch size \n",
        "                                           shuffle=True,                   # shuffle training set\n",
        "                                           num_workers=4,                  # turns on multi-processing loading so training is not blocked by data loading\n",
        "                                           pin_memory=True)                # pin_memory allows faster transfer from CPU to GPU\n",
        "val_loader = torch.utils.data.DataLoader(mnist_val, \n",
        "                                         batch_size=batch_size, \n",
        "                                         num_workers=4, \n",
        "                                         pin_memory=True)"
      ],
      "execution_count": null,
      "outputs": [
        {
          "output_type": "stream",
          "name": "stderr",
          "text": [
            "/usr/local/lib/python3.7/dist-packages/torch/utils/data/dataloader.py:481: UserWarning: This DataLoader will create 4 worker processes in total. Our suggested max number of worker in current system is 2, which is smaller than what this DataLoader is going to create. Please be aware that excessive worker creation might get DataLoader running slow or even freeze, lower the worker number to avoid potential slowness/freeze if necessary.\n",
            "  cpuset_checked))\n"
          ]
        }
      ]
    },
    {
      "cell_type": "code",
      "metadata": {
        "id": "imWgnjzFRWWR",
        "colab": {
          "base_uri": "https://localhost:8080/"
        },
        "outputId": "65c71729-a43b-4028-b951-14ecd171c136"
      },
      "source": [
        "# Each element yielded by `train_loader` (a Python iterable) is still a 2-tuple, \n",
        "# but now consisting of a batched image tensor, and a batched label tensor.\n",
        "\n",
        "images, labels = next(iter(train_loader))\n",
        "print('batched image tensor shape: {}'.format(images.shape))\n",
        "print('batched label tensor shape: {}'.format(labels.shape))"
      ],
      "execution_count": null,
      "outputs": [
        {
          "output_type": "stream",
          "name": "stderr",
          "text": [
            "/usr/local/lib/python3.7/dist-packages/torch/utils/data/dataloader.py:481: UserWarning: This DataLoader will create 4 worker processes in total. Our suggested max number of worker in current system is 2, which is smaller than what this DataLoader is going to create. Please be aware that excessive worker creation might get DataLoader running slow or even freeze, lower the worker number to avoid potential slowness/freeze if necessary.\n",
            "  cpuset_checked))\n"
          ]
        },
        {
          "output_type": "stream",
          "name": "stdout",
          "text": [
            "batched image tensor shape: torch.Size([512, 1, 28, 28])\n",
            "batched label tensor shape: torch.Size([512])\n"
          ]
        }
      ]
    },
    {
      "cell_type": "code",
      "metadata": {
        "colab": {
          "base_uri": "https://localhost:8080/",
          "height": 299
        },
        "id": "I-2GkQ-I4a3M",
        "outputId": "38196599-324b-4e62-f698-89fcf81bc8ba"
      },
      "source": [
        "import matplotlib.pyplot as plt\n",
        "\n",
        "# Show one example from the training and it's label\n",
        "print(\"label for this example in training dataset is:\", labels[0].item())\n",
        "plt.imshow(images[1,:].squeeze(), cmap=\"gray\")"
      ],
      "execution_count": null,
      "outputs": [
        {
          "output_type": "stream",
          "name": "stdout",
          "text": [
            "label for this example in training dataset is: 6\n"
          ]
        },
        {
          "output_type": "execute_result",
          "data": {
            "text/plain": [
              "<matplotlib.image.AxesImage at 0x7fe940973090>"
            ]
          },
          "metadata": {},
          "execution_count": 14
        },
        {
          "output_type": "display_data",
          "data": {
            "image/png": "[encoded data removed]",
            "text/plain": [
              "<Figure size 432x288 with 1 Axes>"
            ]
          },
          "metadata": {
            "needs_background": "light"
          }
        }
      ]
    },
    {
      "cell_type": "markdown",
      "metadata": {
        "id": "KdfbptQORYxX"
      },
      "source": [
        "### Building the Network\n",
        "\n",
        "We will use a convolutional network for classification. The following architecture is adapted from the famous [LeNet-5](https://ieeexplore.ieee.org/document/726791) [1].\n",
        "\n",
        "[1] LeCun, Yann, et al. \"Gradient-based learning applied to document recognition.\" Proceedings of the IEEE 86.11 (1998): 2278-2324."
      ]
    },
    {
      "cell_type": "code",
      "metadata": {
        "id": "RZHIa0HURao8"
      },
      "source": [
        "class MyNet(nn.Module):\n",
        "    def __init__(self):\n",
        "        super(MyNet, self).__init__()\n",
        "        self.conv1 = nn.Conv2d(in_channels=1, out_channels=6, kernel_size=5, padding=2)\n",
        "        self.conv2 = nn.Conv2d(in_channels=6, out_channels=16, kernel_size=5)\n",
        "        self.fc1 = nn.Linear(in_features=16 * 5 * 5, out_features=120)\n",
        "        self.fc2 = nn.Linear(in_features=120, out_features=84)\n",
        "        self.fc3 = nn.Linear(in_features=84, out_features=10)\n",
        "\n",
        "    def forward(self, x):\n",
        "        out = F.relu(self.conv1(x))\n",
        "        out = F.max_pool2d(out, 2)\n",
        "        out = F.relu(self.conv2(out))\n",
        "        out = F.max_pool2d(out, 2)\n",
        "        out = out.reshape(out.size(0), -1)\n",
        "        out = F.relu(self.fc1(out))\n",
        "        out = F.relu(self.fc2(out))\n",
        "        out = self.fc3(out)\n",
        "        return out"
      ],
      "execution_count": null,
      "outputs": []
    },
    {
      "cell_type": "code",
      "metadata": {
        "id": "QSd7l5gaR7Mf"
      },
      "source": [
        "# Define the model and move it to GPU\n",
        "net1 = MyNet().to(cuda0)"
      ],
      "execution_count": null,
      "outputs": []
    },
    {
      "cell_type": "code",
      "metadata": {
        "id": "z_Vi0ypDR8iz",
        "colab": {
          "base_uri": "https://localhost:8080/"
        },
        "outputId": "aaff18e0-d013-4942-925f-6976bdc8a119"
      },
      "source": [
        "# This network output a size 10 vector for each input image, as verified below \n",
        "# using a random input tensor.\n",
        "\n",
        "random_input = torch.randn(123, 1, 28, 28, device=cuda0)\n",
        "output = net(random_input)\n",
        "print(output.shape)"
      ],
      "execution_count": null,
      "outputs": [
        {
          "output_type": "stream",
          "name": "stdout",
          "text": [
            "torch.Size([123, 10])\n"
          ]
        }
      ]
    },
    {
      "cell_type": "markdown",
      "metadata": {
        "id": "Wt7fPVCASBEK"
      },
      "source": [
        "### Training Loop\n",
        "\n",
        "\n",
        "For classification, we will use the cross-entropy loss [`F.cross_entropy`](https://pytorch.org/docs/stable/nn.html#torch.nn.functional.cross_entropy) to train this network."
      ]
    },
    {
      "cell_type": "markdown",
      "metadata": {
        "id": "ceGkrZIkSDFW"
      },
      "source": [
        "We can write a function that iterates through the training set (via `train_loader`) and train for 1 epoch. The code is extremely similar to what we did for approximating $f(x) = \\cos(x)$, only with new ways to load data and compute loss."
      ]
    },
    {
      "cell_type": "code",
      "metadata": {
        "id": "UHi6_O9LR94m"
      },
      "source": [
        "def train(net, optim):\n",
        "    net.train()\n",
        "    for image_cpu, label_cpu in train_loader:\n",
        "        # put data onto GPU\n",
        "        image = image_cpu.to(cuda0)\n",
        "        label = label_cpu.to(cuda0)\n",
        "        \n",
        "        # clear gradient\n",
        "        optim.zero_grad()\n",
        "        \n",
        "        # forward through the network\n",
        "        output = net(image)\n",
        "        \n",
        "        # compute loss and gradient\n",
        "        loss = F.cross_entropy(output, label)\n",
        "        loss.backward()\n",
        "        \n",
        "        # update parameters\n",
        "        optim.step()"
      ],
      "execution_count": null,
      "outputs": []
    },
    {
      "cell_type": "markdown",
      "metadata": {
        "id": "U1xmTXwsSGZr"
      },
      "source": [
        "Let's also write a function that evaluates our network on the validation set."
      ]
    },
    {
      "cell_type": "code",
      "metadata": {
        "id": "bePyyYKuSFQ6"
      },
      "source": [
        "def evaluate(net):\n",
        "    total = 0\n",
        "    correct = 0\n",
        "    \n",
        "    net.eval()  # puts the network in eval mode. this is important when the \n",
        "                # network has layers that behaves differently in training and \n",
        "                # evaluation time, e.g., dropout and batch norm.\n",
        "    for image_cpu, label_cpu in val_loader:\n",
        "        # put data onto GPU\n",
        "        image = image_cpu.to(cuda0)\n",
        "        label = label_cpu.to(cuda0)\n",
        "        \n",
        "        with torch.no_grad():  # gradients are not tracked in this context manager\n",
        "                               # since we are evaluating, gradients are not needed \n",
        "                               # and we can save some time and GPU memory.\n",
        "              \n",
        "            # forward through the network, and get the predicted class\n",
        "            prediction = net(image).argmax(dim=-1)  \n",
        "            \n",
        "            total += image.size(0)  # batch size\n",
        "            correct += (prediction == label).sum().item()  # `.item()` retreives a python number from a 1-element tensor\n",
        "            \n",
        "    return correct / total"
      ],
      "execution_count": null,
      "outputs": []
    },
    {
      "cell_type": "code",
      "metadata": {
        "id": "X4_c9cBMSIv8",
        "colab": {
          "base_uri": "https://localhost:8080/"
        },
        "outputId": "91abfb7c-4d02-48b0-b82a-248616a4806c"
      },
      "source": [
        "# Without any training, the network accuracy matches that of random guessing: ~10%.\n",
        "\n",
        "print('At initialization, the network has accuracy {:.4f}%'.format(evaluate(net) * 100))"
      ],
      "execution_count": null,
      "outputs": [
        {
          "output_type": "stream",
          "name": "stderr",
          "text": [
            "/usr/local/lib/python3.7/dist-packages/torch/utils/data/dataloader.py:481: UserWarning: This DataLoader will create 4 worker processes in total. Our suggested max number of worker in current system is 2, which is smaller than what this DataLoader is going to create. Please be aware that excessive worker creation might get DataLoader running slow or even freeze, lower the worker number to avoid potential slowness/freeze if necessary.\n",
            "  cpuset_checked))\n"
          ]
        },
        {
          "output_type": "stream",
          "name": "stdout",
          "text": [
            "At initialization, the network has accuracy 10.7200%\n"
          ]
        }
      ]
    },
    {
      "cell_type": "markdown",
      "metadata": {
        "id": "f4a6lCxxSLwE"
      },
      "source": [
        "### Putting Everything Together"
      ]
    },
    {
      "cell_type": "code",
      "metadata": {
        "id": "blCErHxRSKLO",
        "colab": {
          "base_uri": "https://localhost:8080/"
        },
        "outputId": "0ae6b268-52ff-49ac-cebf-3b4b922d3673"
      },
      "source": [
        "num_epochs = 10\n",
        "lr = 0.1\n",
        "\n",
        "def train_loop(net, num_epochs, lr):\n",
        "\n",
        "  optim = torch.optim.SGD(net.parameters(), lr=lr)\n",
        "\n",
        "  for epoch in range(num_epochs):\n",
        "      val_acc = evaluate(net) * 100\n",
        "      print('Epoch: {}\\tValidation Accuracy: {:.4f}%'.format(epoch, val_acc)\n",
        "      train(net, optim)\n",
        "      \n",
        "  print('Done! \\tValidation Accuracy: {:.4f}%'.format(evaluate(net) * 100))\n",
        "\n",
        "\n",
        "train_loop(net1, 10, 0.1)"
      ],
      "execution_count": null,
      "outputs": [
        {
          "output_type": "stream",
          "name": "stderr",
          "text": [
            "/usr/local/lib/python3.7/dist-packages/torch/utils/data/dataloader.py:481: UserWarning: This DataLoader will create 4 worker processes in total. Our suggested max number of worker in current system is 2, which is smaller than what this DataLoader is going to create. Please be aware that excessive worker creation might get DataLoader running slow or even freeze, lower the worker number to avoid potential slowness/freeze if necessary.\n",
            "  cpuset_checked))\n"
          ]
        },
        {
          "output_type": "stream",
          "name": "stdout",
          "text": [
            "Epoch: 0\tValidation Accuracy: 9.8000%\n",
            "Epoch: 1\tValidation Accuracy: 80.5400%\n",
            "Epoch: 2\tValidation Accuracy: 89.7300%\n",
            "Epoch: 3\tValidation Accuracy: 94.5000%\n",
            "Epoch: 4\tValidation Accuracy: 96.0900%\n",
            "Epoch: 5\tValidation Accuracy: 95.4600%\n",
            "Epoch: 6\tValidation Accuracy: 97.2100%\n",
            "Epoch: 7\tValidation Accuracy: 94.4600%\n",
            "Epoch: 8\tValidation Accuracy: 96.2800%\n",
            "Epoch: 9\tValidation Accuracy: 96.8800%\n",
            "Done! \tValidation Accuracy: 97.6000%\n"
          ]
        }
      ]
    },
    {
      "cell_type": "code",
      "metadata": {
        "id": "erCAbcMAWOGn"
      },
      "source": [
        "import PIL\n",
        "\n",
        "# Utility function\n",
        "def tensor2image(tensor):\n",
        "    return PIL.Image.fromarray((tensor.detach() * 127.5 + 128).clamp_(0, 255).to('cpu', torch.uint8).numpy()[0])"
      ],
      "execution_count": null,
      "outputs": []
    },
    {
      "cell_type": "code",
      "metadata": {
        "id": "ypPkHrW4UjKa"
      },
      "source": [
        "# Get a data sample we want to attack\n",
        "\n",
        "data, label = mnist_val[30]\n",
        "data = data.to(cuda0)"
      ],
      "execution_count": null,
      "outputs": []
    },
    {
      "cell_type": "code",
      "metadata": {
        "id": "owRgngI4WTIj",
        "colab": {
          "base_uri": "https://localhost:8080/",
          "height": 45
        },
        "outputId": "c72cd3c3-09b5-4910-db4c-9f607afab667"
      },
      "source": [
        "# Look at the image\n",
        "\n",
        "tensor2image(data)"
      ],
      "execution_count": null,
      "outputs": [
        {
          "output_type": "execute_result",
          "data": {
            "image/png": "[encoded data removed]",
            "text/plain": [
              "<PIL.Image.Image image mode=L size=28x28 at 0x7F8D477A3710>"
            ]
          },
          "metadata": {},
          "execution_count": 113
        }
      ]
    },
    {
      "cell_type": "code",
      "metadata": {
        "id": "OaqGZih1WUdv",
        "colab": {
          "base_uri": "https://localhost:8080/"
        },
        "outputId": "bd4a7b8a-e0c6-4ad2-9134-7b3e9620c6a3"
      },
      "source": [
        "# Label is...\n",
        "\n",
        "print('label is', label)"
      ],
      "execution_count": null,
      "outputs": [
        {
          "output_type": "stream",
          "name": "stdout",
          "text": [
            "label is 3\n"
          ]
        }
      ]
    },
    {
      "cell_type": "code",
      "metadata": {
        "id": "Qpd4pjoVWake",
        "colab": {
          "base_uri": "https://localhost:8080/"
        },
        "outputId": "d9e657d0-d4e2-4bae-ded6-fdf982310839"
      },
      "source": [
        "# Let's see what our trained network says about this image.\n",
        "\n",
        "\n",
        "# turn the network into eval mode\n",
        "net.eval()\n",
        "output = net(data.unsqueeze(0))  # .unsqueeze(0) insert a batch dimension so it looks like batched data\n",
        "prediction = output.argmax(-1)\n",
        "print('predicted class is', prediction.item())"
      ],
      "execution_count": null,
      "outputs": [
        {
          "output_type": "stream",
          "name": "stdout",
          "text": [
            "predicted class is 3\n"
          ]
        }
      ]
    },
    {
      "cell_type": "markdown",
      "metadata": {
        "id": "0ONMRURAzzAX"
      },
      "source": [
        "check more samples:"
      ]
    },
    {
      "cell_type": "code",
      "metadata": {
        "id": "_0V-GiKDXmO6",
        "colab": {
          "base_uri": "https://localhost:8080/",
          "height": 442
        },
        "outputId": "a23ab919-f215-407e-d9b9-6944025f1f86"
      },
      "source": [
        "import matplotlib.pyplot as plt\n",
        "for i in range(5):\n",
        "    # Get a data sample we want to attack\n",
        "\n",
        "    data, label = mnist_val[i]\n",
        "    data = data.to(cuda0)\n",
        "    # Look at the image\n",
        "\n",
        "    plt.figure(figsize=(1,1))\n",
        "    plt.imshow(tensor2image(data), cmap='gray')\n",
        "    plt.axis('off')\n",
        "    plt.show()\n",
        "    \n",
        "    # turn the network into eval mode\n",
        "    net.eval()\n",
        "    output = net(data.unsqueeze(0))  # .unsqueeze(0) insert a batch dimension so it looks like batched data\n",
        "    prediction = output.argmax(-1)\n",
        "    print('predicted class is', prediction.item())"
      ],
      "execution_count": null,
      "outputs": [
        {
          "output_type": "display_data",
          "data": {
            "image/png": "[encoded data removed]",
            "text/plain": [
              "<Figure size 72x72 with 1 Axes>"
            ]
          },
          "metadata": {
            "needs_background": "light"
          }
        },
        {
          "output_type": "stream",
          "name": "stdout",
          "text": [
            "predicted class is 7\n"
          ]
        },
        {
          "output_type": "display_data",
          "data": {
            "image/png": "[encoded data removed]",
            "text/plain": [
              "<Figure size 72x72 with 1 Axes>"
            ]
          },
          "metadata": {
            "needs_background": "light"
          }
        },
        {
          "output_type": "stream",
          "name": "stdout",
          "text": [
            "predicted class is 2\n"
          ]
        },
        {
          "output_type": "display_data",
          "data": {
            "image/png": "[encoded data removed]",
            "text/plain": [
              "<Figure size 72x72 with 1 Axes>"
            ]
          },
          "metadata": {
            "needs_background": "light"
          }
        },
        {
          "output_type": "stream",
          "name": "stdout",
          "text": [
            "predicted class is 1\n"
          ]
        },
        {
          "output_type": "display_data",
          "data": {
            "image/png": "[encoded data removed]",
            "text/plain": [
              "<Figure size 72x72 with 1 Axes>"
            ]
          },
          "metadata": {
            "needs_background": "light"
          }
        },
        {
          "output_type": "stream",
          "name": "stdout",
          "text": [
            "predicted class is 0\n"
          ]
        },
        {
          "output_type": "display_data",
          "data": {
            "image/png": "[encoded data removed]",
            "text/plain": [
              "<Figure size 72x72 with 1 Axes>"
            ]
          },
          "metadata": {
            "needs_background": "light"
          }
        },
        {
          "output_type": "stream",
          "name": "stdout",
          "text": [
            "predicted class is 4\n"
          ]
        }
      ]
    },
    {
      "cell_type": "markdown",
      "metadata": {
        "id": "YTrh7Qu9-Sql"
      },
      "source": [
        "# Exercise 3"
      ]
    },
    {
      "cell_type": "markdown",
      "metadata": {
        "id": "x0jlgNc0-0uv"
      },
      "source": [
        "Based the archetrure of MyNet, can you add another convolutional layer $conv3$?\n",
        "When making the changes to the convolutional layers, you also need to adjust the fully connected layers (fc). Complete the MyNet2 below, and train the dataset with this new model. Compare the results with the previous model. Plot the validtion accuracy for each epoch for each model. "
      ]
    },
    {
      "cell_type": "code",
      "metadata": {
        "id": "qq5tXHXf-XwO"
      },
      "source": [
        "## Use this as a start\n",
        "class MyNet2(nn.Module):\n",
        "    def __init__(self):\n",
        "        super(MyNet2, self).__init__()\n",
        "        self.conv1 = nn.Conv2d(in_channels=1, out_channels=6, kernel_size=5)\n",
        "        self.conv2 = nn.Conv2d(in_channels=6, out_channels=16, kernel_size=5)\n",
        "        self.conv3 = ##### Your code\n",
        "        self.fc1 = #### Your code\n",
        "        self.fc2 = nn.Linear(in_features=120, out_features=84)\n",
        "        self.fc3 = nn.Linear(in_features=84, out_features=10)\n",
        "\n",
        "    def forward(self, x):\n",
        "        out = F.relu(self.conv1(x))\n",
        "        out = F.relu(self.conv2(out))\n",
        "        out = F.max_pool2d(out, 2)\n",
        "        out = F.relu(self.conv3(out))\n",
        "        out = F.max_pool2d(out, 2)\n",
        "        out = out.reshape(out.size(0), -1)\n",
        "        out = F.relu(self.fc1(out))\n",
        "        out = F.relu(self.fc2(out))\n",
        "        out = self.fc3(out)\n",
        "        return out"
      ],
      "execution_count": null,
      "outputs": []
    },
    {
      "cell_type": "markdown",
      "metadata": {
        "id": "uaGvfrSlE2Rj"
      },
      "source": [
        "# Exercise 4"
      ]
    },
    {
      "cell_type": "markdown",
      "metadata": {
        "id": "_uYOpvdtIC90"
      },
      "source": [
        "We worked through an example using grayscale images, and now let us try to train an image classification model on color images from CIFAR-10 dataset."
      ]
    },
    {
      "cell_type": "code",
      "metadata": {
        "id": "ZEVhqikEGEUn"
      },
      "source": [
        "# Import dataset and dataloaders related packages\n",
        "import random\n",
        "import numpy as np\n",
        "from torchvision import datasets\n",
        "from torchvision.transforms import ToTensor\n",
        "from torch.utils.data import DataLoader\n",
        "from torchvision.transforms import Compose, Grayscale\n",
        "\n",
        "import torch\n",
        "import torchvision\n",
        "import torchvision.transforms as transforms\n",
        "\n",
        "import matplotlib.pyplot as plt\n"
      ],
      "execution_count": null,
      "outputs": []
    },
    {
      "cell_type": "markdown",
      "metadata": {
        "id": "LQjWsZm9Icnj"
      },
      "source": [
        "Download and load the images from the CIFAR10 dataset"
      ]
    },
    {
      "cell_type": "code",
      "metadata": {
        "colab": {
          "base_uri": "https://localhost:8080/"
        },
        "id": "6_mlyXoX1P-z",
        "outputId": "835f1787-c33c-41c9-d94b-a799c81b43de"
      },
      "source": [
        "## Set seed for reproducibility in dataloader\n",
        "def seed_worker(worker_id):\n",
        "  worker_seed = torch.initial_seed() % 2**32\n",
        "  np.random.seed(worker_seed)\n",
        "  random.seed(worker_seed)\n",
        "\n",
        "g_seed = torch.Generator()\n",
        "my_seed = 2021\n",
        "g_seed.manual_seed(my_seed)\n"
      ],
      "execution_count": null,
      "outputs": [
        {
          "output_type": "execute_result",
          "data": {
            "text/plain": [
              "<torch._C.Generator at 0x7efdb75936b0>"
            ]
          },
          "metadata": {},
          "execution_count": 17
        }
      ]
    },
    {
      "cell_type": "code",
      "metadata": {
        "colab": {
          "base_uri": "https://localhost:8080/"
        },
        "id": "Bb_WblnTF4oG",
        "outputId": "c8c486b6-d884-431a-c2a5-cbd42896e93e"
      },
      "source": [
        "transform = transforms.Compose(\n",
        "    [transforms.ToTensor(),\n",
        "     transforms.Normalize((0.5, 0.5, 0.5), (0.5, 0.5, 0.5))])\n",
        "\n",
        "batch_size = 4\n",
        "\n",
        "trainset = torchvision.datasets.CIFAR10(root='./data', train=True,\n",
        "                                        download=True, transform=transform)\n",
        "trainloader = torch.utils.data.DataLoader(trainset, batch_size=batch_size,\n",
        "                                          worker_init_fn=seed_worker, num_workers=2,\n",
        "                                          generator=g_seed)\n",
        "\n",
        "testset = torchvision.datasets.CIFAR10(root='./data', train=False,\n",
        "                                       download=True, transform=transform)\n",
        "testloader = torch.utils.data.DataLoader(testset, batch_size=batch_size,\n",
        "                                        worker_init_fn=seed_worker, num_workers=2,\n",
        "                                        generator=g_seed)"
      ],
      "execution_count": null,
      "outputs": [
        {
          "output_type": "stream",
          "name": "stdout",
          "text": [
            "Files already downloaded and verified\n",
            "Files already downloaded and verified\n"
          ]
        }
      ]
    },
    {
      "cell_type": "markdown",
      "metadata": {
        "id": "xklCsFdfGu-i"
      },
      "source": [
        "We have 50000 samples loaded. Now let's take a look at one of them in detail. Each sample consists of an image and its corresponding label. \n",
        "\n",
        "These color images are 3D tensors. The first dimension corresponds to the channels (C) of the image (in this case we have RGB images). The second dimensions is the height (H) of the image and the third is the width (W). We can denote this image format as C × H × W."
      ]
    },
    {
      "cell_type": "code",
      "metadata": {
        "colab": {
          "base_uri": "https://localhost:8080/",
          "height": 227
        },
        "id": "oMbi2F3kGOI8",
        "outputId": "a68ab30b-17d6-4358-bce9-789e8e5aeb73"
      },
      "source": [
        "# Choose a random sample\n",
        "random.seed(121)\n",
        "image, label = trainset[random.randint(0, len(trainset))]\n",
        "print(f\"Label: {trainset.classes[label]}\")\n",
        "print(f\"Image size: {image.shape}\")\n",
        "\n",
        "# Show the image\n",
        "plt.figure(figsize = (2,2))\n",
        "plt.imshow(image.permute(1,2,0))"
      ],
      "execution_count": null,
      "outputs": [
        {
          "output_type": "stream",
          "name": "stderr",
          "text": [
            "Clipping input data to the valid range for imshow with RGB data ([0..1] for floats or [0..255] for integers).\n"
          ]
        },
        {
          "output_type": "stream",
          "name": "stdout",
          "text": [
            "Label: deer\n",
            "Image size: torch.Size([3, 32, 32])\n"
          ]
        },
        {
          "output_type": "execute_result",
          "data": {
            "text/plain": [
              "<matplotlib.image.AxesImage at 0x7efdb8878b50>"
            ]
          },
          "metadata": {},
          "execution_count": 13
        },
        {
          "output_type": "display_data",
          "data": {
            "image/png": "[encoded data removed]",
            "text/plain": [
              "<Figure size 144x144 with 1 Axes>"
            ]
          },
          "metadata": {
            "needs_background": "light"
          }
        }
      ]
    },
    {
      "cell_type": "markdown",
      "metadata": {
        "id": "pp9hrMY-I1_P"
      },
      "source": [
        "Show one example from the batch in training"
      ]
    },
    {
      "cell_type": "code",
      "metadata": {
        "colab": {
          "base_uri": "https://localhost:8080/",
          "height": 210
        },
        "id": "Z4Cy9hZILmsf",
        "outputId": "295c3758-cefa-4364-8253-3c2e0cfe7671"
      },
      "source": [
        "# Load the one batch\n",
        "batch_images, batch_labels = next(iter(trainloader))\n",
        "print('Batch size:', batch_images.shape)\n",
        "\n",
        "# Display the first image from the batch\n",
        "plt.figure(figsize = (2,2))\n",
        "plt.imshow(batch_images[0].permute(1,2,0))"
      ],
      "execution_count": null,
      "outputs": [
        {
          "output_type": "stream",
          "name": "stderr",
          "text": [
            "Clipping input data to the valid range for imshow with RGB data ([0..1] for floats or [0..255] for integers).\n"
          ]
        },
        {
          "output_type": "stream",
          "name": "stdout",
          "text": [
            "Batch size: torch.Size([4, 3, 32, 32])\n"
          ]
        },
        {
          "output_type": "execute_result",
          "data": {
            "text/plain": [
              "<matplotlib.image.AxesImage at 0x7efdb75d9b10>"
            ]
          },
          "metadata": {},
          "execution_count": 24
        },
        {
          "output_type": "display_data",
          "data": {
            "image/png": "[encoded data removed]",
            "text/plain": [
              "<Figure size 144x144 with 1 Axes>"
            ]
          },
          "metadata": {
            "needs_background": "light"
          }
        }
      ]
    },
    {
      "cell_type": "markdown",
      "metadata": {
        "id": "zmD4UX9HMNgw"
      },
      "source": [
        "**TODO**:\n",
        "\n",
        "Now, can you create a simple Convolutional Neural Network for image classification? This network may have the similar archetecture as MyNet. Train the model for 10 epoch, and plot the validation accuracy. Visualize the result using a confusion matrix and heatmap. Show which class of image has highest prediction accuracy? What about the class with lowest prediction accuracy? "
      ]
    }
  ]
}