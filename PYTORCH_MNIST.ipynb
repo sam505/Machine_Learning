{
  "nbformat": 4,
  "nbformat_minor": 0,
  "metadata": {
    "accelerator": "GPU",
    "colab": {
      "name": "PYTORCH_MNIST.ipynb",
      "provenance": [],
      "collapsed_sections": [],
      "include_colab_link": true
    },
    "kernelspec": {
      "display_name": "Python 3",
      "language": "python",
      "name": "python3"
    },
    "language_info": {
      "codemirror_mode": {
        "name": "ipython",
        "version": 3
      },
      "file_extension": ".py",
      "mimetype": "text/x-python",
      "name": "python",
      "nbconvert_exporter": "python",
      "pygments_lexer": "ipython3",
      "version": "3.8.5"
    },
    "widgets": {
      "application/vnd.jupyter.widget-state+json": {
        "dc8e1f23c6d4472c81055ba0fe7fc85f": {
          "model_module": "@jupyter-widgets/controls",
          "model_name": "HBoxModel",
          "state": {
            "_view_name": "HBoxView",
            "_dom_classes": [],
            "_model_name": "HBoxModel",
            "_view_module": "@jupyter-widgets/controls",
            "_model_module_version": "1.5.0",
            "_view_count": null,
            "_view_module_version": "1.5.0",
            "box_style": "",
            "layout": "IPY_MODEL_b5bee85a00fe419e96663f114e08009e",
            "_model_module": "@jupyter-widgets/controls",
            "children": [
              "IPY_MODEL_32b9f227700d49839d61feba2445623f",
              "IPY_MODEL_9bf826b18dd547b7a921713cd8f08a45"
            ]
          }
        },
        "b5bee85a00fe419e96663f114e08009e": {
          "model_module": "@jupyter-widgets/base",
          "model_name": "LayoutModel",
          "state": {
            "_view_name": "LayoutView",
            "grid_template_rows": null,
            "right": null,
            "justify_content": null,
            "_view_module": "@jupyter-widgets/base",
            "overflow": null,
            "_model_module_version": "1.2.0",
            "_view_count": null,
            "flex_flow": null,
            "width": null,
            "min_width": null,
            "border": null,
            "align_items": null,
            "bottom": null,
            "_model_module": "@jupyter-widgets/base",
            "top": null,
            "grid_column": null,
            "overflow_y": null,
            "overflow_x": null,
            "grid_auto_flow": null,
            "grid_area": null,
            "grid_template_columns": null,
            "flex": null,
            "_model_name": "LayoutModel",
            "justify_items": null,
            "grid_row": null,
            "max_height": null,
            "align_content": null,
            "visibility": null,
            "align_self": null,
            "height": null,
            "min_height": null,
            "padding": null,
            "grid_auto_rows": null,
            "grid_gap": null,
            "max_width": null,
            "order": null,
            "_view_module_version": "1.2.0",
            "grid_template_areas": null,
            "object_position": null,
            "object_fit": null,
            "grid_auto_columns": null,
            "margin": null,
            "display": null,
            "left": null
          }
        },
        "32b9f227700d49839d61feba2445623f": {
          "model_module": "@jupyter-widgets/controls",
          "model_name": "FloatProgressModel",
          "state": {
            "_view_name": "ProgressView",
            "style": "IPY_MODEL_cc6233feb88f4ef7ad2a81cebb453f7d",
            "_dom_classes": [],
            "description": "",
            "_model_name": "FloatProgressModel",
            "bar_style": "success",
            "max": 9912422,
            "_view_module": "@jupyter-widgets/controls",
            "_model_module_version": "1.5.0",
            "value": 9912422,
            "_view_count": null,
            "_view_module_version": "1.5.0",
            "orientation": "horizontal",
            "min": 0,
            "description_tooltip": null,
            "_model_module": "@jupyter-widgets/controls",
            "layout": "IPY_MODEL_84ec48150c1b458e90dc437335357a2a"
          }
        },
        "9bf826b18dd547b7a921713cd8f08a45": {
          "model_module": "@jupyter-widgets/controls",
          "model_name": "HTMLModel",
          "state": {
            "_view_name": "HTMLView",
            "style": "IPY_MODEL_be4488ceb04d4b23aac08f0ab8a28cff",
            "_dom_classes": [],
            "description": "",
            "_model_name": "HTMLModel",
            "placeholder": "​",
            "_view_module": "@jupyter-widgets/controls",
            "_model_module_version": "1.5.0",
            "value": " 9913344/? [00:15&lt;00:00, 635854.88it/s]",
            "_view_count": null,
            "_view_module_version": "1.5.0",
            "description_tooltip": null,
            "_model_module": "@jupyter-widgets/controls",
            "layout": "IPY_MODEL_356489fd9da248868b7b284ab699821a"
          }
        },
        "cc6233feb88f4ef7ad2a81cebb453f7d": {
          "model_module": "@jupyter-widgets/controls",
          "model_name": "ProgressStyleModel",
          "state": {
            "_view_name": "StyleView",
            "_model_name": "ProgressStyleModel",
            "description_width": "initial",
            "_view_module": "@jupyter-widgets/base",
            "_model_module_version": "1.5.0",
            "_view_count": null,
            "_view_module_version": "1.2.0",
            "bar_color": null,
            "_model_module": "@jupyter-widgets/controls"
          }
        },
        "84ec48150c1b458e90dc437335357a2a": {
          "model_module": "@jupyter-widgets/base",
          "model_name": "LayoutModel",
          "state": {
            "_view_name": "LayoutView",
            "grid_template_rows": null,
            "right": null,
            "justify_content": null,
            "_view_module": "@jupyter-widgets/base",
            "overflow": null,
            "_model_module_version": "1.2.0",
            "_view_count": null,
            "flex_flow": null,
            "width": null,
            "min_width": null,
            "border": null,
            "align_items": null,
            "bottom": null,
            "_model_module": "@jupyter-widgets/base",
            "top": null,
            "grid_column": null,
            "overflow_y": null,
            "overflow_x": null,
            "grid_auto_flow": null,
            "grid_area": null,
            "grid_template_columns": null,
            "flex": null,
            "_model_name": "LayoutModel",
            "justify_items": null,
            "grid_row": null,
            "max_height": null,
            "align_content": null,
            "visibility": null,
            "align_self": null,
            "height": null,
            "min_height": null,
            "padding": null,
            "grid_auto_rows": null,
            "grid_gap": null,
            "max_width": null,
            "order": null,
            "_view_module_version": "1.2.0",
            "grid_template_areas": null,
            "object_position": null,
            "object_fit": null,
            "grid_auto_columns": null,
            "margin": null,
            "display": null,
            "left": null
          }
        },
        "be4488ceb04d4b23aac08f0ab8a28cff": {
          "model_module": "@jupyter-widgets/controls",
          "model_name": "DescriptionStyleModel",
          "state": {
            "_view_name": "StyleView",
            "_model_name": "DescriptionStyleModel",
            "description_width": "",
            "_view_module": "@jupyter-widgets/base",
            "_model_module_version": "1.5.0",
            "_view_count": null,
            "_view_module_version": "1.2.0",
            "_model_module": "@jupyter-widgets/controls"
          }
        },
        "356489fd9da248868b7b284ab699821a": {
          "model_module": "@jupyter-widgets/base",
          "model_name": "LayoutModel",
          "state": {
            "_view_name": "LayoutView",
            "grid_template_rows": null,
            "right": null,
            "justify_content": null,
            "_view_module": "@jupyter-widgets/base",
            "overflow": null,
            "_model_module_version": "1.2.0",
            "_view_count": null,
            "flex_flow": null,
            "width": null,
            "min_width": null,
            "border": null,
            "align_items": null,
            "bottom": null,
            "_model_module": "@jupyter-widgets/base",
            "top": null,
            "grid_column": null,
            "overflow_y": null,
            "overflow_x": null,
            "grid_auto_flow": null,
            "grid_area": null,
            "grid_template_columns": null,
            "flex": null,
            "_model_name": "LayoutModel",
            "justify_items": null,
            "grid_row": null,
            "max_height": null,
            "align_content": null,
            "visibility": null,
            "align_self": null,
            "height": null,
            "min_height": null,
            "padding": null,
            "grid_auto_rows": null,
            "grid_gap": null,
            "max_width": null,
            "order": null,
            "_view_module_version": "1.2.0",
            "grid_template_areas": null,
            "object_position": null,
            "object_fit": null,
            "grid_auto_columns": null,
            "margin": null,
            "display": null,
            "left": null
          }
        },
        "18768331fc734ceb9fbe6c4b46348d81": {
          "model_module": "@jupyter-widgets/controls",
          "model_name": "HBoxModel",
          "state": {
            "_view_name": "HBoxView",
            "_dom_classes": [],
            "_model_name": "HBoxModel",
            "_view_module": "@jupyter-widgets/controls",
            "_model_module_version": "1.5.0",
            "_view_count": null,
            "_view_module_version": "1.5.0",
            "box_style": "",
            "layout": "IPY_MODEL_d37e7fe5da644fd08dce9f839e0a60bb",
            "_model_module": "@jupyter-widgets/controls",
            "children": [
              "IPY_MODEL_e610618df5bb4e5a9d2b692dea3e8827",
              "IPY_MODEL_4d00133308ca419b9036667ff7542e95"
            ]
          }
        },
        "d37e7fe5da644fd08dce9f839e0a60bb": {
          "model_module": "@jupyter-widgets/base",
          "model_name": "LayoutModel",
          "state": {
            "_view_name": "LayoutView",
            "grid_template_rows": null,
            "right": null,
            "justify_content": null,
            "_view_module": "@jupyter-widgets/base",
            "overflow": null,
            "_model_module_version": "1.2.0",
            "_view_count": null,
            "flex_flow": null,
            "width": null,
            "min_width": null,
            "border": null,
            "align_items": null,
            "bottom": null,
            "_model_module": "@jupyter-widgets/base",
            "top": null,
            "grid_column": null,
            "overflow_y": null,
            "overflow_x": null,
            "grid_auto_flow": null,
            "grid_area": null,
            "grid_template_columns": null,
            "flex": null,
            "_model_name": "LayoutModel",
            "justify_items": null,
            "grid_row": null,
            "max_height": null,
            "align_content": null,
            "visibility": null,
            "align_self": null,
            "height": null,
            "min_height": null,
            "padding": null,
            "grid_auto_rows": null,
            "grid_gap": null,
            "max_width": null,
            "order": null,
            "_view_module_version": "1.2.0",
            "grid_template_areas": null,
            "object_position": null,
            "object_fit": null,
            "grid_auto_columns": null,
            "margin": null,
            "display": null,
            "left": null
          }
        },
        "e610618df5bb4e5a9d2b692dea3e8827": {
          "model_module": "@jupyter-widgets/controls",
          "model_name": "FloatProgressModel",
          "state": {
            "_view_name": "ProgressView",
            "style": "IPY_MODEL_bfa81418e02e4e898ca95103168fa42b",
            "_dom_classes": [],
            "description": "",
            "_model_name": "FloatProgressModel",
            "bar_style": "success",
            "max": 28881,
            "_view_module": "@jupyter-widgets/controls",
            "_model_module_version": "1.5.0",
            "value": 28881,
            "_view_count": null,
            "_view_module_version": "1.5.0",
            "orientation": "horizontal",
            "min": 0,
            "description_tooltip": null,
            "_model_module": "@jupyter-widgets/controls",
            "layout": "IPY_MODEL_1d40de62fd604f25a4cca999bd3eb4cc"
          }
        },
        "4d00133308ca419b9036667ff7542e95": {
          "model_module": "@jupyter-widgets/controls",
          "model_name": "HTMLModel",
          "state": {
            "_view_name": "HTMLView",
            "style": "IPY_MODEL_bc22959917a14fb49d3861ecb3106010",
            "_dom_classes": [],
            "description": "",
            "_model_name": "HTMLModel",
            "placeholder": "​",
            "_view_module": "@jupyter-widgets/controls",
            "_model_module_version": "1.5.0",
            "value": " 29696/? [00:13&lt;00:00, 2159.18it/s]",
            "_view_count": null,
            "_view_module_version": "1.5.0",
            "description_tooltip": null,
            "_model_module": "@jupyter-widgets/controls",
            "layout": "IPY_MODEL_f42837dc81b04e34a74b54466ca34cfa"
          }
        },
        "bfa81418e02e4e898ca95103168fa42b": {
          "model_module": "@jupyter-widgets/controls",
          "model_name": "ProgressStyleModel",
          "state": {
            "_view_name": "StyleView",
            "_model_name": "ProgressStyleModel",
            "description_width": "initial",
            "_view_module": "@jupyter-widgets/base",
            "_model_module_version": "1.5.0",
            "_view_count": null,
            "_view_module_version": "1.2.0",
            "bar_color": null,
            "_model_module": "@jupyter-widgets/controls"
          }
        },
        "1d40de62fd604f25a4cca999bd3eb4cc": {
          "model_module": "@jupyter-widgets/base",
          "model_name": "LayoutModel",
          "state": {
            "_view_name": "LayoutView",
            "grid_template_rows": null,
            "right": null,
            "justify_content": null,
            "_view_module": "@jupyter-widgets/base",
            "overflow": null,
            "_model_module_version": "1.2.0",
            "_view_count": null,
            "flex_flow": null,
            "width": null,
            "min_width": null,
            "border": null,
            "align_items": null,
            "bottom": null,
            "_model_module": "@jupyter-widgets/base",
            "top": null,
            "grid_column": null,
            "overflow_y": null,
            "overflow_x": null,
            "grid_auto_flow": null,
            "grid_area": null,
            "grid_template_columns": null,
            "flex": null,
            "_model_name": "LayoutModel",
            "justify_items": null,
            "grid_row": null,
            "max_height": null,
            "align_content": null,
            "visibility": null,
            "align_self": null,
            "height": null,
            "min_height": null,
            "padding": null,
            "grid_auto_rows": null,
            "grid_gap": null,
            "max_width": null,
            "order": null,
            "_view_module_version": "1.2.0",
            "grid_template_areas": null,
            "object_position": null,
            "object_fit": null,
            "grid_auto_columns": null,
            "margin": null,
            "display": null,
            "left": null
          }
        },
        "bc22959917a14fb49d3861ecb3106010": {
          "model_module": "@jupyter-widgets/controls",
          "model_name": "DescriptionStyleModel",
          "state": {
            "_view_name": "StyleView",
            "_model_name": "DescriptionStyleModel",
            "description_width": "",
            "_view_module": "@jupyter-widgets/base",
            "_model_module_version": "1.5.0",
            "_view_count": null,
            "_view_module_version": "1.2.0",
            "_model_module": "@jupyter-widgets/controls"
          }
        },
        "f42837dc81b04e34a74b54466ca34cfa": {
          "model_module": "@jupyter-widgets/base",
          "model_name": "LayoutModel",
          "state": {
            "_view_name": "LayoutView",
            "grid_template_rows": null,
            "right": null,
            "justify_content": null,
            "_view_module": "@jupyter-widgets/base",
            "overflow": null,
            "_model_module_version": "1.2.0",
            "_view_count": null,
            "flex_flow": null,
            "width": null,
            "min_width": null,
            "border": null,
            "align_items": null,
            "bottom": null,
            "_model_module": "@jupyter-widgets/base",
            "top": null,
            "grid_column": null,
            "overflow_y": null,
            "overflow_x": null,
            "grid_auto_flow": null,
            "grid_area": null,
            "grid_template_columns": null,
            "flex": null,
            "_model_name": "LayoutModel",
            "justify_items": null,
            "grid_row": null,
            "max_height": null,
            "align_content": null,
            "visibility": null,
            "align_self": null,
            "height": null,
            "min_height": null,
            "padding": null,
            "grid_auto_rows": null,
            "grid_gap": null,
            "max_width": null,
            "order": null,
            "_view_module_version": "1.2.0",
            "grid_template_areas": null,
            "object_position": null,
            "object_fit": null,
            "grid_auto_columns": null,
            "margin": null,
            "display": null,
            "left": null
          }
        },
        "3ae3e63553194f7dabb4676c7aa99c12": {
          "model_module": "@jupyter-widgets/controls",
          "model_name": "HBoxModel",
          "state": {
            "_view_name": "HBoxView",
            "_dom_classes": [],
            "_model_name": "HBoxModel",
            "_view_module": "@jupyter-widgets/controls",
            "_model_module_version": "1.5.0",
            "_view_count": null,
            "_view_module_version": "1.5.0",
            "box_style": "",
            "layout": "IPY_MODEL_0208c3fad7ea43ce9473514c6af7d618",
            "_model_module": "@jupyter-widgets/controls",
            "children": [
              "IPY_MODEL_ea290079fd0448f6b472232bd215dc7f",
              "IPY_MODEL_f46301596385403f927a08bab87ef7e3"
            ]
          }
        },
        "0208c3fad7ea43ce9473514c6af7d618": {
          "model_module": "@jupyter-widgets/base",
          "model_name": "LayoutModel",
          "state": {
            "_view_name": "LayoutView",
            "grid_template_rows": null,
            "right": null,
            "justify_content": null,
            "_view_module": "@jupyter-widgets/base",
            "overflow": null,
            "_model_module_version": "1.2.0",
            "_view_count": null,
            "flex_flow": null,
            "width": null,
            "min_width": null,
            "border": null,
            "align_items": null,
            "bottom": null,
            "_model_module": "@jupyter-widgets/base",
            "top": null,
            "grid_column": null,
            "overflow_y": null,
            "overflow_x": null,
            "grid_auto_flow": null,
            "grid_area": null,
            "grid_template_columns": null,
            "flex": null,
            "_model_name": "LayoutModel",
            "justify_items": null,
            "grid_row": null,
            "max_height": null,
            "align_content": null,
            "visibility": null,
            "align_self": null,
            "height": null,
            "min_height": null,
            "padding": null,
            "grid_auto_rows": null,
            "grid_gap": null,
            "max_width": null,
            "order": null,
            "_view_module_version": "1.2.0",
            "grid_template_areas": null,
            "object_position": null,
            "object_fit": null,
            "grid_auto_columns": null,
            "margin": null,
            "display": null,
            "left": null
          }
        },
        "ea290079fd0448f6b472232bd215dc7f": {
          "model_module": "@jupyter-widgets/controls",
          "model_name": "FloatProgressModel",
          "state": {
            "_view_name": "ProgressView",
            "style": "IPY_MODEL_9176d3f32d294dedbe6258646a050a94",
            "_dom_classes": [],
            "description": "",
            "_model_name": "FloatProgressModel",
            "bar_style": "success",
            "max": 1648877,
            "_view_module": "@jupyter-widgets/controls",
            "_model_module_version": "1.5.0",
            "value": 1648877,
            "_view_count": null,
            "_view_module_version": "1.5.0",
            "orientation": "horizontal",
            "min": 0,
            "description_tooltip": null,
            "_model_module": "@jupyter-widgets/controls",
            "layout": "IPY_MODEL_5d7d5c943aa94b238de4f01053d78cc8"
          }
        },
        "f46301596385403f927a08bab87ef7e3": {
          "model_module": "@jupyter-widgets/controls",
          "model_name": "HTMLModel",
          "state": {
            "_view_name": "HTMLView",
            "style": "IPY_MODEL_ca06964551b7487484ca88fee2c9b9e9",
            "_dom_classes": [],
            "description": "",
            "_model_name": "HTMLModel",
            "placeholder": "​",
            "_view_module": "@jupyter-widgets/controls",
            "_model_module_version": "1.5.0",
            "value": " 1649664/? [00:01&lt;00:00, 1006855.76it/s]",
            "_view_count": null,
            "_view_module_version": "1.5.0",
            "description_tooltip": null,
            "_model_module": "@jupyter-widgets/controls",
            "layout": "IPY_MODEL_3b3ba03cce0f4ac19cc09c41e793364f"
          }
        },
        "9176d3f32d294dedbe6258646a050a94": {
          "model_module": "@jupyter-widgets/controls",
          "model_name": "ProgressStyleModel",
          "state": {
            "_view_name": "StyleView",
            "_model_name": "ProgressStyleModel",
            "description_width": "initial",
            "_view_module": "@jupyter-widgets/base",
            "_model_module_version": "1.5.0",
            "_view_count": null,
            "_view_module_version": "1.2.0",
            "bar_color": null,
            "_model_module": "@jupyter-widgets/controls"
          }
        },
        "5d7d5c943aa94b238de4f01053d78cc8": {
          "model_module": "@jupyter-widgets/base",
          "model_name": "LayoutModel",
          "state": {
            "_view_name": "LayoutView",
            "grid_template_rows": null,
            "right": null,
            "justify_content": null,
            "_view_module": "@jupyter-widgets/base",
            "overflow": null,
            "_model_module_version": "1.2.0",
            "_view_count": null,
            "flex_flow": null,
            "width": null,
            "min_width": null,
            "border": null,
            "align_items": null,
            "bottom": null,
            "_model_module": "@jupyter-widgets/base",
            "top": null,
            "grid_column": null,
            "overflow_y": null,
            "overflow_x": null,
            "grid_auto_flow": null,
            "grid_area": null,
            "grid_template_columns": null,
            "flex": null,
            "_model_name": "LayoutModel",
            "justify_items": null,
            "grid_row": null,
            "max_height": null,
            "align_content": null,
            "visibility": null,
            "align_self": null,
            "height": null,
            "min_height": null,
            "padding": null,
            "grid_auto_rows": null,
            "grid_gap": null,
            "max_width": null,
            "order": null,
            "_view_module_version": "1.2.0",
            "grid_template_areas": null,
            "object_position": null,
            "object_fit": null,
            "grid_auto_columns": null,
            "margin": null,
            "display": null,
            "left": null
          }
        },
        "ca06964551b7487484ca88fee2c9b9e9": {
          "model_module": "@jupyter-widgets/controls",
          "model_name": "DescriptionStyleModel",
          "state": {
            "_view_name": "StyleView",
            "_model_name": "DescriptionStyleModel",
            "description_width": "",
            "_view_module": "@jupyter-widgets/base",
            "_model_module_version": "1.5.0",
            "_view_count": null,
            "_view_module_version": "1.2.0",
            "_model_module": "@jupyter-widgets/controls"
          }
        },
        "3b3ba03cce0f4ac19cc09c41e793364f": {
          "model_module": "@jupyter-widgets/base",
          "model_name": "LayoutModel",
          "state": {
            "_view_name": "LayoutView",
            "grid_template_rows": null,
            "right": null,
            "justify_content": null,
            "_view_module": "@jupyter-widgets/base",
            "overflow": null,
            "_model_module_version": "1.2.0",
            "_view_count": null,
            "flex_flow": null,
            "width": null,
            "min_width": null,
            "border": null,
            "align_items": null,
            "bottom": null,
            "_model_module": "@jupyter-widgets/base",
            "top": null,
            "grid_column": null,
            "overflow_y": null,
            "overflow_x": null,
            "grid_auto_flow": null,
            "grid_area": null,
            "grid_template_columns": null,
            "flex": null,
            "_model_name": "LayoutModel",
            "justify_items": null,
            "grid_row": null,
            "max_height": null,
            "align_content": null,
            "visibility": null,
            "align_self": null,
            "height": null,
            "min_height": null,
            "padding": null,
            "grid_auto_rows": null,
            "grid_gap": null,
            "max_width": null,
            "order": null,
            "_view_module_version": "1.2.0",
            "grid_template_areas": null,
            "object_position": null,
            "object_fit": null,
            "grid_auto_columns": null,
            "margin": null,
            "display": null,
            "left": null
          }
        },
        "0e654ce145e847f28b9ea48e8a084661": {
          "model_module": "@jupyter-widgets/controls",
          "model_name": "HBoxModel",
          "state": {
            "_view_name": "HBoxView",
            "_dom_classes": [],
            "_model_name": "HBoxModel",
            "_view_module": "@jupyter-widgets/controls",
            "_model_module_version": "1.5.0",
            "_view_count": null,
            "_view_module_version": "1.5.0",
            "box_style": "",
            "layout": "IPY_MODEL_4b33443760854c3daeaee332b9ebfac9",
            "_model_module": "@jupyter-widgets/controls",
            "children": [
              "IPY_MODEL_a18a398fdad64965b397d988b8684ba6",
              "IPY_MODEL_645bed95977b43ce8426794ee8e75761"
            ]
          }
        },
        "4b33443760854c3daeaee332b9ebfac9": {
          "model_module": "@jupyter-widgets/base",
          "model_name": "LayoutModel",
          "state": {
            "_view_name": "LayoutView",
            "grid_template_rows": null,
            "right": null,
            "justify_content": null,
            "_view_module": "@jupyter-widgets/base",
            "overflow": null,
            "_model_module_version": "1.2.0",
            "_view_count": null,
            "flex_flow": null,
            "width": null,
            "min_width": null,
            "border": null,
            "align_items": null,
            "bottom": null,
            "_model_module": "@jupyter-widgets/base",
            "top": null,
            "grid_column": null,
            "overflow_y": null,
            "overflow_x": null,
            "grid_auto_flow": null,
            "grid_area": null,
            "grid_template_columns": null,
            "flex": null,
            "_model_name": "LayoutModel",
            "justify_items": null,
            "grid_row": null,
            "max_height": null,
            "align_content": null,
            "visibility": null,
            "align_self": null,
            "height": null,
            "min_height": null,
            "padding": null,
            "grid_auto_rows": null,
            "grid_gap": null,
            "max_width": null,
            "order": null,
            "_view_module_version": "1.2.0",
            "grid_template_areas": null,
            "object_position": null,
            "object_fit": null,
            "grid_auto_columns": null,
            "margin": null,
            "display": null,
            "left": null
          }
        },
        "a18a398fdad64965b397d988b8684ba6": {
          "model_module": "@jupyter-widgets/controls",
          "model_name": "FloatProgressModel",
          "state": {
            "_view_name": "ProgressView",
            "style": "IPY_MODEL_5b022e7c5653426fa05be4c2974a85e2",
            "_dom_classes": [],
            "description": "",
            "_model_name": "FloatProgressModel",
            "bar_style": "success",
            "max": 4542,
            "_view_module": "@jupyter-widgets/controls",
            "_model_module_version": "1.5.0",
            "value": 4542,
            "_view_count": null,
            "_view_module_version": "1.5.0",
            "orientation": "horizontal",
            "min": 0,
            "description_tooltip": null,
            "_model_module": "@jupyter-widgets/controls",
            "layout": "IPY_MODEL_9ef54cc322974293851fdd47ff99ee35"
          }
        },
        "645bed95977b43ce8426794ee8e75761": {
          "model_module": "@jupyter-widgets/controls",
          "model_name": "HTMLModel",
          "state": {
            "_view_name": "HTMLView",
            "style": "IPY_MODEL_fccf16d4c7d54946a065c797065bb490",
            "_dom_classes": [],
            "description": "",
            "_model_name": "HTMLModel",
            "placeholder": "​",
            "_view_module": "@jupyter-widgets/controls",
            "_model_module_version": "1.5.0",
            "value": " 5120/? [00:00&lt;00:00, 17316.60it/s]",
            "_view_count": null,
            "_view_module_version": "1.5.0",
            "description_tooltip": null,
            "_model_module": "@jupyter-widgets/controls",
            "layout": "IPY_MODEL_f13f1404beaf4e17bcbc0300449cfcc4"
          }
        },
        "5b022e7c5653426fa05be4c2974a85e2": {
          "model_module": "@jupyter-widgets/controls",
          "model_name": "ProgressStyleModel",
          "state": {
            "_view_name": "StyleView",
            "_model_name": "ProgressStyleModel",
            "description_width": "initial",
            "_view_module": "@jupyter-widgets/base",
            "_model_module_version": "1.5.0",
            "_view_count": null,
            "_view_module_version": "1.2.0",
            "bar_color": null,
            "_model_module": "@jupyter-widgets/controls"
          }
        },
        "9ef54cc322974293851fdd47ff99ee35": {
          "model_module": "@jupyter-widgets/base",
          "model_name": "LayoutModel",
          "state": {
            "_view_name": "LayoutView",
            "grid_template_rows": null,
            "right": null,
            "justify_content": null,
            "_view_module": "@jupyter-widgets/base",
            "overflow": null,
            "_model_module_version": "1.2.0",
            "_view_count": null,
            "flex_flow": null,
            "width": null,
            "min_width": null,
            "border": null,
            "align_items": null,
            "bottom": null,
            "_model_module": "@jupyter-widgets/base",
            "top": null,
            "grid_column": null,
            "overflow_y": null,
            "overflow_x": null,
            "grid_auto_flow": null,
            "grid_area": null,
            "grid_template_columns": null,
            "flex": null,
            "_model_name": "LayoutModel",
            "justify_items": null,
            "grid_row": null,
            "max_height": null,
            "align_content": null,
            "visibility": null,
            "align_self": null,
            "height": null,
            "min_height": null,
            "padding": null,
            "grid_auto_rows": null,
            "grid_gap": null,
            "max_width": null,
            "order": null,
            "_view_module_version": "1.2.0",
            "grid_template_areas": null,
            "object_position": null,
            "object_fit": null,
            "grid_auto_columns": null,
            "margin": null,
            "display": null,
            "left": null
          }
        },
        "fccf16d4c7d54946a065c797065bb490": {
          "model_module": "@jupyter-widgets/controls",
          "model_name": "DescriptionStyleModel",
          "state": {
            "_view_name": "StyleView",
            "_model_name": "DescriptionStyleModel",
            "description_width": "",
            "_view_module": "@jupyter-widgets/base",
            "_model_module_version": "1.5.0",
            "_view_count": null,
            "_view_module_version": "1.2.0",
            "_model_module": "@jupyter-widgets/controls"
          }
        },
        "f13f1404beaf4e17bcbc0300449cfcc4": {
          "model_module": "@jupyter-widgets/base",
          "model_name": "LayoutModel",
          "state": {
            "_view_name": "LayoutView",
            "grid_template_rows": null,
            "right": null,
            "justify_content": null,
            "_view_module": "@jupyter-widgets/base",
            "overflow": null,
            "_model_module_version": "1.2.0",
            "_view_count": null,
            "flex_flow": null,
            "width": null,
            "min_width": null,
            "border": null,
            "align_items": null,
            "bottom": null,
            "_model_module": "@jupyter-widgets/base",
            "top": null,
            "grid_column": null,
            "overflow_y": null,
            "overflow_x": null,
            "grid_auto_flow": null,
            "grid_area": null,
            "grid_template_columns": null,
            "flex": null,
            "_model_name": "LayoutModel",
            "justify_items": null,
            "grid_row": null,
            "max_height": null,
            "align_content": null,
            "visibility": null,
            "align_self": null,
            "height": null,
            "min_height": null,
            "padding": null,
            "grid_auto_rows": null,
            "grid_gap": null,
            "max_width": null,
            "order": null,
            "_view_module_version": "1.2.0",
            "grid_template_areas": null,
            "object_position": null,
            "object_fit": null,
            "grid_auto_columns": null,
            "margin": null,
            "display": null,
            "left": null
          }
        }
      }
    }
  },
  "cells": [
    {
      "cell_type": "markdown",
      "metadata": {
        "id": "view-in-github",
        "colab_type": "text"
      },
      "source": [
        "<a href=\"https://colab.research.google.com/github/sam505/Machine_Learning/blob/master/PYTORCH_MNIST.ipynb\" target=\"_parent\"><img src=\"https://colab.research.google.com/assets/colab-badge.svg\" alt=\"Open In Colab\"/></a>"
      ]
    },
    {
      "cell_type": "code",
      "metadata": {
        "id": "ABEzEzSeJY4h"
      },
      "source": [
        "import numpy as np\n",
        "import pandas as pd\n",
        "import torchvision\n",
        "import torch\n",
        "import io\n",
        "import PIL.Image\n",
        "import torch.nn as nn\n",
        "from torch import optim\n",
        "import torch.utils.data\n",
        "import torch.nn.functional as F\n",
        "from torchvision import transforms\n",
        "from torchvision.transforms import ToTensor\n",
        "from torch.autograd import Variable\n",
        "from torch.utils.tensorboard import SummaryWriter\n",
        "import matplotlib.pyplot as plt"
      ],
      "execution_count": 1,
      "outputs": []
    },
    {
      "cell_type": "code",
      "metadata": {
        "id": "V76YVikSKXJP",
        "colab": {
          "base_uri": "https://localhost:8080/",
          "height": 845,
          "referenced_widgets": [
            "dc8e1f23c6d4472c81055ba0fe7fc85f",
            "b5bee85a00fe419e96663f114e08009e",
            "32b9f227700d49839d61feba2445623f",
            "9bf826b18dd547b7a921713cd8f08a45",
            "cc6233feb88f4ef7ad2a81cebb453f7d",
            "84ec48150c1b458e90dc437335357a2a",
            "be4488ceb04d4b23aac08f0ab8a28cff",
            "356489fd9da248868b7b284ab699821a",
            "18768331fc734ceb9fbe6c4b46348d81",
            "d37e7fe5da644fd08dce9f839e0a60bb",
            "e610618df5bb4e5a9d2b692dea3e8827",
            "4d00133308ca419b9036667ff7542e95",
            "bfa81418e02e4e898ca95103168fa42b",
            "1d40de62fd604f25a4cca999bd3eb4cc",
            "bc22959917a14fb49d3861ecb3106010",
            "f42837dc81b04e34a74b54466ca34cfa",
            "3ae3e63553194f7dabb4676c7aa99c12",
            "0208c3fad7ea43ce9473514c6af7d618",
            "ea290079fd0448f6b472232bd215dc7f",
            "f46301596385403f927a08bab87ef7e3",
            "9176d3f32d294dedbe6258646a050a94",
            "5d7d5c943aa94b238de4f01053d78cc8",
            "ca06964551b7487484ca88fee2c9b9e9",
            "3b3ba03cce0f4ac19cc09c41e793364f",
            "0e654ce145e847f28b9ea48e8a084661",
            "4b33443760854c3daeaee332b9ebfac9",
            "a18a398fdad64965b397d988b8684ba6",
            "645bed95977b43ce8426794ee8e75761",
            "5b022e7c5653426fa05be4c2974a85e2",
            "9ef54cc322974293851fdd47ff99ee35",
            "fccf16d4c7d54946a065c797065bb490",
            "f13f1404beaf4e17bcbc0300449cfcc4"
          ]
        },
        "outputId": "976c3bf6-7129-4e26-eb08-5d9d1836e170"
      },
      "source": [
        "transform = transforms.Compose([transforms.Resize((28,28)),\n",
        "                               transforms.ToTensor(),\n",
        "                               transforms.Normalize((0.5,), (0.5,))\n",
        "                               ])\n",
        "\n",
        "train_batch_size = 64\n",
        "test_batch_size = 128\n",
        "\n",
        "mnist_train = torchvision.datasets.MNIST(root=\"~/\", \n",
        "                                         download=True, \n",
        "                                         transform=transform, \n",
        "                                         train=True)\n",
        "\n",
        "mnist_test = torchvision.datasets.MNIST(root=\"~/\", \n",
        "                                        download=True, \n",
        "                                        transform=transform, \n",
        "                                        train=False)\n",
        "\n",
        "train_loader = torch.utils.data.DataLoader(mnist_train,\n",
        "                                          shuffle=True,\n",
        "                                          batch_size=train_batch_size,\n",
        "                                          num_workers=2)\n",
        "test_loader = torch.utils.data.DataLoader(mnist_test,\n",
        "                                          shuffle=False,\n",
        "                                          batch_size=test_batch_size,\n",
        "                                          num_workers=2)"
      ],
      "execution_count": 2,
      "outputs": [
        {
          "output_type": "stream",
          "text": [
            "Downloading http://yann.lecun.com/exdb/mnist/train-images-idx3-ubyte.gz\n",
            "Failed to download (trying next):\n",
            "HTTP Error 503: Service Unavailable\n",
            "\n",
            "Downloading https://ossci-datasets.s3.amazonaws.com/mnist/train-images-idx3-ubyte.gz\n",
            "Downloading https://ossci-datasets.s3.amazonaws.com/mnist/train-images-idx3-ubyte.gz to /root/MNIST/raw/train-images-idx3-ubyte.gz\n"
          ],
          "name": "stdout"
        },
        {
          "output_type": "display_data",
          "data": {
            "application/vnd.jupyter.widget-view+json": {
              "model_id": "dc8e1f23c6d4472c81055ba0fe7fc85f",
              "version_minor": 0,
              "version_major": 2
            },
            "text/plain": [
              "HBox(children=(FloatProgress(value=0.0, max=9912422.0), HTML(value='')))"
            ]
          },
          "metadata": {
            "tags": []
          }
        },
        {
          "output_type": "stream",
          "text": [
            "\n",
            "Extracting /root/MNIST/raw/train-images-idx3-ubyte.gz to /root/MNIST/raw\n",
            "\n",
            "Downloading http://yann.lecun.com/exdb/mnist/train-labels-idx1-ubyte.gz\n",
            "Failed to download (trying next):\n",
            "HTTP Error 503: Service Unavailable\n",
            "\n",
            "Downloading https://ossci-datasets.s3.amazonaws.com/mnist/train-labels-idx1-ubyte.gz\n",
            "Downloading https://ossci-datasets.s3.amazonaws.com/mnist/train-labels-idx1-ubyte.gz to /root/MNIST/raw/train-labels-idx1-ubyte.gz\n"
          ],
          "name": "stdout"
        },
        {
          "output_type": "display_data",
          "data": {
            "application/vnd.jupyter.widget-view+json": {
              "model_id": "18768331fc734ceb9fbe6c4b46348d81",
              "version_minor": 0,
              "version_major": 2
            },
            "text/plain": [
              "HBox(children=(FloatProgress(value=0.0, max=28881.0), HTML(value='')))"
            ]
          },
          "metadata": {
            "tags": []
          }
        },
        {
          "output_type": "stream",
          "text": [
            "\n",
            "Extracting /root/MNIST/raw/train-labels-idx1-ubyte.gz to /root/MNIST/raw\n",
            "\n",
            "Downloading http://yann.lecun.com/exdb/mnist/t10k-images-idx3-ubyte.gz\n",
            "Failed to download (trying next):\n",
            "HTTP Error 503: Service Unavailable\n",
            "\n",
            "Downloading https://ossci-datasets.s3.amazonaws.com/mnist/t10k-images-idx3-ubyte.gz\n",
            "Downloading https://ossci-datasets.s3.amazonaws.com/mnist/t10k-images-idx3-ubyte.gz to /root/MNIST/raw/t10k-images-idx3-ubyte.gz\n"
          ],
          "name": "stdout"
        },
        {
          "output_type": "display_data",
          "data": {
            "application/vnd.jupyter.widget-view+json": {
              "model_id": "3ae3e63553194f7dabb4676c7aa99c12",
              "version_minor": 0,
              "version_major": 2
            },
            "text/plain": [
              "HBox(children=(FloatProgress(value=0.0, max=1648877.0), HTML(value='')))"
            ]
          },
          "metadata": {
            "tags": []
          }
        },
        {
          "output_type": "stream",
          "text": [
            "\n",
            "Extracting /root/MNIST/raw/t10k-images-idx3-ubyte.gz to /root/MNIST/raw\n",
            "\n",
            "Downloading http://yann.lecun.com/exdb/mnist/t10k-labels-idx1-ubyte.gz\n",
            "Failed to download (trying next):\n",
            "HTTP Error 503: Service Unavailable\n",
            "\n",
            "Downloading https://ossci-datasets.s3.amazonaws.com/mnist/t10k-labels-idx1-ubyte.gz\n",
            "Downloading https://ossci-datasets.s3.amazonaws.com/mnist/t10k-labels-idx1-ubyte.gz to /root/MNIST/raw/t10k-labels-idx1-ubyte.gz\n"
          ],
          "name": "stdout"
        },
        {
          "output_type": "display_data",
          "data": {
            "application/vnd.jupyter.widget-view+json": {
              "model_id": "0e654ce145e847f28b9ea48e8a084661",
              "version_minor": 0,
              "version_major": 2
            },
            "text/plain": [
              "HBox(children=(FloatProgress(value=0.0, max=4542.0), HTML(value='')))"
            ]
          },
          "metadata": {
            "tags": []
          }
        },
        {
          "output_type": "stream",
          "text": [
            "\n",
            "Extracting /root/MNIST/raw/t10k-labels-idx1-ubyte.gz to /root/MNIST/raw\n",
            "\n",
            "Processing...\n",
            "Done!\n"
          ],
          "name": "stdout"
        },
        {
          "output_type": "stream",
          "text": [
            "/usr/local/lib/python3.7/dist-packages/torchvision/datasets/mnist.py:502: UserWarning: The given NumPy array is not writeable, and PyTorch does not support non-writeable tensors. This means you can write to the underlying (supposedly non-writeable) NumPy array using the tensor. You may want to copy the array to protect its data or make it writeable before converting it to a tensor. This type of warning will be suppressed for the rest of this program. (Triggered internally at  /pytorch/torch/csrc/utils/tensor_numpy.cpp:143.)\n",
            "  return torch.from_numpy(parsed.astype(m[2], copy=False)).view(*s)\n"
          ],
          "name": "stderr"
        }
      ]
    },
    {
      "cell_type": "code",
      "metadata": {
        "colab": {
          "base_uri": "https://localhost:8080/"
        },
        "id": "QCV4mCvPLD9H",
        "outputId": "62cbf2bd-1e6e-4bc7-982d-37f5f9a6f970"
      },
      "source": [
        "len(mnist_train)"
      ],
      "execution_count": 3,
      "outputs": [
        {
          "output_type": "execute_result",
          "data": {
            "text/plain": [
              "60000"
            ]
          },
          "metadata": {
            "tags": []
          },
          "execution_count": 3
        }
      ]
    },
    {
      "cell_type": "code",
      "metadata": {
        "colab": {
          "base_uri": "https://localhost:8080/"
        },
        "id": "0M6DcaWUOQPB",
        "outputId": "4f619684-40b8-433e-a624-49f06503d052"
      },
      "source": [
        "len(mnist_test)"
      ],
      "execution_count": 4,
      "outputs": [
        {
          "output_type": "execute_result",
          "data": {
            "text/plain": [
              "10000"
            ]
          },
          "metadata": {
            "tags": []
          },
          "execution_count": 4
        }
      ]
    },
    {
      "cell_type": "code",
      "metadata": {
        "id": "I6NSzzubbFyX"
      },
      "source": [
        "learning_rates = [0.001, 0.01, 0.1]"
      ],
      "execution_count": 5,
      "outputs": []
    },
    {
      "cell_type": "code",
      "metadata": {
        "id": "Yzc6xHbxP4Up"
      },
      "source": [
        "class LeNet(nn.Module):\n",
        "    def __init__(self):\n",
        "        super(LeNet, self).__init__()\n",
        "        self.conv1 = nn.Conv2d(1, 6, (5,5), padding=2)\n",
        "        self.conv2 = nn.Conv2d(6, 16, (5,5))\n",
        "        self.fc1   = nn.Linear(16*5*5, 120)\n",
        "        self.fc2   = nn.Linear(120, 84)\n",
        "        self.fc3   = nn.Linear(84, 10)\n",
        "    def forward(self, x):\n",
        "        x = F.max_pool2d(F.relu(self.conv1(x)), (2,2))\n",
        "        x = F.max_pool2d(F.relu(self.conv2(x)), (2,2))\n",
        "        x = x.view(-1, self.num_flat_features(x))\n",
        "        x = F.relu(self.fc1(x))\n",
        "        x = F.relu(self.fc2(x))\n",
        "        x = self.fc3(x)\n",
        "        return x\n",
        "    def num_flat_features(self, x):\n",
        "        size = x.size()[1:]\n",
        "        num_features = 1\n",
        "        for s in size:\n",
        "            num_features *= s\n",
        "        return num_features"
      ],
      "execution_count": 6,
      "outputs": []
    },
    {
      "cell_type": "code",
      "metadata": {
        "id": "8cAfbRfr94O8"
      },
      "source": [
        "def train(model, optimizer, epoch, train_loader, log_interval):\n",
        "    # State that you are training the model\n",
        "    model.train()\n",
        "    correct = 0\n",
        "    count = 1\n",
        "    # define loss function\n",
        "    loss_fn = nn.CrossEntropyLoss()\n",
        "\n",
        "    # Iterate over batches of data\n",
        "    for batch_idx, (data, target) in enumerate(train_loader):\n",
        "        # Wrap the input and target output in the `Variable` wrapper\n",
        "        data, target = Variable(data), Variable(target)\n",
        "\n",
        "        check_gpu = torch.cuda.is_available()\n",
        "        if check_gpu:\n",
        "            data = data.to(\"cuda\")\n",
        "            target = target.to(\"cuda\")\n",
        "\n",
        "        # Clear the gradients, since PyTorch accumulates them\n",
        "        optimizer.zero_grad()\n",
        "\n",
        "        # Forward propagation\n",
        "        output = model(data)\n",
        "\n",
        "        loss = loss_fn(output, target)\n",
        "\n",
        "        # Backward propagation\n",
        "        loss.backward()\n",
        "\n",
        "        # Update the parameters(weight,bias)\n",
        "        optimizer.step()\n",
        "        \n",
        "        predicted = torch.max(output.data, 1)[1] \n",
        "        correct += (predicted == target).sum()\n",
        "\n",
        "        # print log\n",
        "        if batch_idx % log_interval == 0:\n",
        "            train_accuracy = correct / ((batch_idx+1)*len(data))\n",
        "            train_loss = loss.data.item()\n",
        "            print('Train set, Epoch {} [{}/{} ({:.0f}%)]\\tLoss: {:.6f}\\tAccuracy: {:.2f}'.format(\n",
        "                epoch, batch_idx * len(data), len(train_loader.dataset),\n",
        "                100. * batch_idx / len(train_loader),\n",
        "                train_loss, train_accuracy))\n",
        "        \n",
        "    return loss.data.item(), train_accuracy"
      ],
      "execution_count": 7,
      "outputs": []
    },
    {
      "cell_type": "code",
      "metadata": {
        "id": "Ks55zQ0jcnst"
      },
      "source": [
        ""
      ],
      "execution_count": 7,
      "outputs": []
    },
    {
      "cell_type": "code",
      "metadata": {
        "id": "4qkh4xkO-xBz"
      },
      "source": [
        "def test(model, epoch, test_loader):\n",
        "    # State that you are testing the model; this prevents layers e.g. Dropout to take effect\n",
        "    model.eval()\n",
        "\n",
        "    # Init loss & correct prediction accumulators\n",
        "    test_loss = 0\n",
        "    correct = 0\n",
        "\n",
        "    # define loss function\n",
        "    loss_fn = nn.CrossEntropyLoss(size_average=False)\n",
        "\n",
        "    # Iterate over data\n",
        "    for data, target in test_loader:\n",
        "        data, target = Variable(data), Variable(target)\n",
        "\n",
        "        check_gpu = torch.cuda.is_available()\n",
        "        if check_gpu:\n",
        "            data = data.to(\"cuda\")\n",
        "            target = target.to(\"cuda\")\n",
        "\n",
        "        # Forward propagation\n",
        "        output = model(data)\n",
        "\n",
        "        # Calculate & accumulate loss\n",
        "        test_loss += loss_fn(output, target).data.item()\n",
        "\n",
        "        # Get the index of the max log-probability (the predicted output label)\n",
        "        pred = np.argmax(output.cpu().data, axis=1)\n",
        "\n",
        "        # If correct, increment correct prediction accumulator\n",
        "        correct = correct + np.equal(pred, target.cpu().data).sum()\n",
        "\n",
        "    # Print log\n",
        "    test_loss /= len(test_loader.dataset)\n",
        "    print('\\nTest set, Epoch {} , Average loss: {:.4f}, Accuracy: {}/{} ({:.2f}%)\\n'.format(epoch,\n",
        "        test_loss, correct, len(test_loader.dataset),\n",
        "        100. * correct / len(test_loader.dataset)))\n",
        "    return test_loss, correct / len(test_loader.dataset)"
      ],
      "execution_count": 8,
      "outputs": []
    },
    {
      "cell_type": "code",
      "metadata": {
        "colab": {
          "base_uri": "https://localhost:8080/"
        },
        "id": "01vc7Xk89631",
        "outputId": "45d5e136-dce1-402e-e656-39b3a06c5c88"
      },
      "source": [
        "# Provide seed for the pseudorandom number generator s.t. the same results can be reproduced\n",
        "for learning_date in learning_rates:\n",
        "    torch.manual_seed(123)\n",
        "\n",
        "    model = LeNet()\n",
        "\n",
        "    check_gpu = torch.cuda.is_available()\n",
        "    if check_gpu:\n",
        "        model = model.cuda()\n",
        "        print ('USING GPU')\n",
        "    else:\n",
        "        print ('USING CPU')\n",
        "    epochs = 10\n",
        "    log_interval = 100\n",
        "    writer = SummaryWriter(\"runs/Mnist_Adam_{}\".format(learning_date))\n",
        "    optimizer = optim.Adam(model.parameters(), lr=learning_date)\n",
        "    for epoch in range(1, epochs + 1):\n",
        "        train_loss, train_acc = train(model, optimizer, epoch, train_loader, log_interval=log_interval)\n",
        "        test_loss, test_acc = test(model, epoch, test_loader) \n",
        "        writer.add_scalar('Loss/train', train_loss, epoch)\n",
        "        writer.add_scalar('Loss/test', test_loss, epoch)\n",
        "        writer.add_scalar('Accuracy/train', train_acc, epoch)\n",
        "        writer.add_scalar('Accuracy/test', test_acc, epoch)"
      ],
      "execution_count": 9,
      "outputs": [
        {
          "output_type": "stream",
          "text": [
            "USING GPU\n",
            "Train set, Epoch 1 [0/60000 (0%)]\tLoss: 2.302851\tAccuracy: 0.20\n",
            "Train set, Epoch 1 [6400/60000 (11%)]\tLoss: 0.236700\tAccuracy: 0.67\n",
            "Train set, Epoch 1 [12800/60000 (21%)]\tLoss: 0.127259\tAccuracy: 0.79\n",
            "Train set, Epoch 1 [19200/60000 (32%)]\tLoss: 0.223787\tAccuracy: 0.84\n",
            "Train set, Epoch 1 [25600/60000 (43%)]\tLoss: 0.144445\tAccuracy: 0.87\n",
            "Train set, Epoch 1 [32000/60000 (53%)]\tLoss: 0.185666\tAccuracy: 0.89\n",
            "Train set, Epoch 1 [38400/60000 (64%)]\tLoss: 0.111824\tAccuracy: 0.90\n",
            "Train set, Epoch 1 [44800/60000 (75%)]\tLoss: 0.093752\tAccuracy: 0.91\n",
            "Train set, Epoch 1 [51200/60000 (85%)]\tLoss: 0.013772\tAccuracy: 0.92\n",
            "Train set, Epoch 1 [57600/60000 (96%)]\tLoss: 0.098341\tAccuracy: 0.92\n"
          ],
          "name": "stdout"
        },
        {
          "output_type": "stream",
          "text": [
            "/usr/local/lib/python3.7/dist-packages/torch/nn/_reduction.py:42: UserWarning: size_average and reduce args will be deprecated, please use reduction='sum' instead.\n",
            "  warnings.warn(warning.format(ret))\n"
          ],
          "name": "stderr"
        },
        {
          "output_type": "stream",
          "text": [
            "\n",
            "Test set, Epoch 1 , Average loss: 0.0637, Accuracy: 9787/10000 (97.87%)\n",
            "\n",
            "Train set, Epoch 2 [0/60000 (0%)]\tLoss: 0.042930\tAccuracy: 0.98\n",
            "Train set, Epoch 2 [6400/60000 (11%)]\tLoss: 0.085314\tAccuracy: 0.97\n",
            "Train set, Epoch 2 [12800/60000 (21%)]\tLoss: 0.025390\tAccuracy: 0.98\n",
            "Train set, Epoch 2 [19200/60000 (32%)]\tLoss: 0.046441\tAccuracy: 0.98\n",
            "Train set, Epoch 2 [25600/60000 (43%)]\tLoss: 0.080409\tAccuracy: 0.98\n",
            "Train set, Epoch 2 [32000/60000 (53%)]\tLoss: 0.035033\tAccuracy: 0.98\n",
            "Train set, Epoch 2 [38400/60000 (64%)]\tLoss: 0.102935\tAccuracy: 0.98\n",
            "Train set, Epoch 2 [44800/60000 (75%)]\tLoss: 0.066413\tAccuracy: 0.98\n",
            "Train set, Epoch 2 [51200/60000 (85%)]\tLoss: 0.103698\tAccuracy: 0.98\n",
            "Train set, Epoch 2 [57600/60000 (96%)]\tLoss: 0.007097\tAccuracy: 0.98\n",
            "\n",
            "Test set, Epoch 2 , Average loss: 0.0478, Accuracy: 9852/10000 (98.52%)\n",
            "\n",
            "Train set, Epoch 3 [0/60000 (0%)]\tLoss: 0.111525\tAccuracy: 0.97\n",
            "Train set, Epoch 3 [6400/60000 (11%)]\tLoss: 0.025757\tAccuracy: 0.98\n",
            "Train set, Epoch 3 [12800/60000 (21%)]\tLoss: 0.009377\tAccuracy: 0.98\n",
            "Train set, Epoch 3 [19200/60000 (32%)]\tLoss: 0.028678\tAccuracy: 0.99\n",
            "Train set, Epoch 3 [25600/60000 (43%)]\tLoss: 0.004272\tAccuracy: 0.99\n",
            "Train set, Epoch 3 [32000/60000 (53%)]\tLoss: 0.015963\tAccuracy: 0.99\n",
            "Train set, Epoch 3 [38400/60000 (64%)]\tLoss: 0.034491\tAccuracy: 0.99\n",
            "Train set, Epoch 3 [44800/60000 (75%)]\tLoss: 0.063770\tAccuracy: 0.99\n",
            "Train set, Epoch 3 [51200/60000 (85%)]\tLoss: 0.009127\tAccuracy: 0.99\n",
            "Train set, Epoch 3 [57600/60000 (96%)]\tLoss: 0.040360\tAccuracy: 0.99\n",
            "\n",
            "Test set, Epoch 3 , Average loss: 0.0380, Accuracy: 9866/10000 (98.66%)\n",
            "\n",
            "Train set, Epoch 4 [0/60000 (0%)]\tLoss: 0.013482\tAccuracy: 1.00\n",
            "Train set, Epoch 4 [6400/60000 (11%)]\tLoss: 0.015815\tAccuracy: 0.99\n",
            "Train set, Epoch 4 [12800/60000 (21%)]\tLoss: 0.024446\tAccuracy: 0.99\n",
            "Train set, Epoch 4 [19200/60000 (32%)]\tLoss: 0.096075\tAccuracy: 0.99\n",
            "Train set, Epoch 4 [25600/60000 (43%)]\tLoss: 0.004445\tAccuracy: 0.99\n",
            "Train set, Epoch 4 [32000/60000 (53%)]\tLoss: 0.008055\tAccuracy: 0.99\n",
            "Train set, Epoch 4 [38400/60000 (64%)]\tLoss: 0.064169\tAccuracy: 0.99\n",
            "Train set, Epoch 4 [44800/60000 (75%)]\tLoss: 0.010119\tAccuracy: 0.99\n",
            "Train set, Epoch 4 [51200/60000 (85%)]\tLoss: 0.001724\tAccuracy: 0.99\n",
            "Train set, Epoch 4 [57600/60000 (96%)]\tLoss: 0.038100\tAccuracy: 0.99\n",
            "\n",
            "Test set, Epoch 4 , Average loss: 0.0350, Accuracy: 9881/10000 (98.81%)\n",
            "\n",
            "Train set, Epoch 5 [0/60000 (0%)]\tLoss: 0.008049\tAccuracy: 1.00\n",
            "Train set, Epoch 5 [6400/60000 (11%)]\tLoss: 0.009188\tAccuracy: 0.99\n",
            "Train set, Epoch 5 [12800/60000 (21%)]\tLoss: 0.063074\tAccuracy: 0.99\n",
            "Train set, Epoch 5 [19200/60000 (32%)]\tLoss: 0.047066\tAccuracy: 0.99\n",
            "Train set, Epoch 5 [25600/60000 (43%)]\tLoss: 0.031542\tAccuracy: 0.99\n",
            "Train set, Epoch 5 [32000/60000 (53%)]\tLoss: 0.039188\tAccuracy: 0.99\n",
            "Train set, Epoch 5 [38400/60000 (64%)]\tLoss: 0.001414\tAccuracy: 0.99\n",
            "Train set, Epoch 5 [44800/60000 (75%)]\tLoss: 0.005288\tAccuracy: 0.99\n",
            "Train set, Epoch 5 [51200/60000 (85%)]\tLoss: 0.007586\tAccuracy: 0.99\n",
            "Train set, Epoch 5 [57600/60000 (96%)]\tLoss: 0.092131\tAccuracy: 0.99\n",
            "\n",
            "Test set, Epoch 5 , Average loss: 0.0390, Accuracy: 9880/10000 (98.80%)\n",
            "\n",
            "Train set, Epoch 6 [0/60000 (0%)]\tLoss: 0.009106\tAccuracy: 1.00\n",
            "Train set, Epoch 6 [6400/60000 (11%)]\tLoss: 0.002243\tAccuracy: 0.99\n",
            "Train set, Epoch 6 [12800/60000 (21%)]\tLoss: 0.004356\tAccuracy: 0.99\n",
            "Train set, Epoch 6 [19200/60000 (32%)]\tLoss: 0.052383\tAccuracy: 0.99\n",
            "Train set, Epoch 6 [25600/60000 (43%)]\tLoss: 0.081262\tAccuracy: 0.99\n",
            "Train set, Epoch 6 [32000/60000 (53%)]\tLoss: 0.103340\tAccuracy: 0.99\n",
            "Train set, Epoch 6 [38400/60000 (64%)]\tLoss: 0.016866\tAccuracy: 0.99\n",
            "Train set, Epoch 6 [44800/60000 (75%)]\tLoss: 0.011189\tAccuracy: 0.99\n",
            "Train set, Epoch 6 [51200/60000 (85%)]\tLoss: 0.003696\tAccuracy: 0.99\n",
            "Train set, Epoch 6 [57600/60000 (96%)]\tLoss: 0.139553\tAccuracy: 0.99\n",
            "\n",
            "Test set, Epoch 6 , Average loss: 0.0313, Accuracy: 9898/10000 (98.98%)\n",
            "\n",
            "Train set, Epoch 7 [0/60000 (0%)]\tLoss: 0.007333\tAccuracy: 1.00\n",
            "Train set, Epoch 7 [6400/60000 (11%)]\tLoss: 0.054570\tAccuracy: 1.00\n",
            "Train set, Epoch 7 [12800/60000 (21%)]\tLoss: 0.023645\tAccuracy: 0.99\n",
            "Train set, Epoch 7 [19200/60000 (32%)]\tLoss: 0.000629\tAccuracy: 0.99\n",
            "Train set, Epoch 7 [25600/60000 (43%)]\tLoss: 0.011320\tAccuracy: 0.99\n",
            "Train set, Epoch 7 [32000/60000 (53%)]\tLoss: 0.001445\tAccuracy: 0.99\n",
            "Train set, Epoch 7 [38400/60000 (64%)]\tLoss: 0.000642\tAccuracy: 0.99\n",
            "Train set, Epoch 7 [44800/60000 (75%)]\tLoss: 0.082292\tAccuracy: 0.99\n",
            "Train set, Epoch 7 [51200/60000 (85%)]\tLoss: 0.006575\tAccuracy: 0.99\n",
            "Train set, Epoch 7 [57600/60000 (96%)]\tLoss: 0.003540\tAccuracy: 0.99\n",
            "\n",
            "Test set, Epoch 7 , Average loss: 0.0372, Accuracy: 9893/10000 (98.93%)\n",
            "\n",
            "Train set, Epoch 8 [0/60000 (0%)]\tLoss: 0.017687\tAccuracy: 1.00\n",
            "Train set, Epoch 8 [6400/60000 (11%)]\tLoss: 0.023807\tAccuracy: 1.00\n",
            "Train set, Epoch 8 [12800/60000 (21%)]\tLoss: 0.004396\tAccuracy: 0.99\n",
            "Train set, Epoch 8 [19200/60000 (32%)]\tLoss: 0.001322\tAccuracy: 0.99\n",
            "Train set, Epoch 8 [25600/60000 (43%)]\tLoss: 0.002100\tAccuracy: 0.99\n",
            "Train set, Epoch 8 [32000/60000 (53%)]\tLoss: 0.002687\tAccuracy: 0.99\n",
            "Train set, Epoch 8 [38400/60000 (64%)]\tLoss: 0.018433\tAccuracy: 0.99\n",
            "Train set, Epoch 8 [44800/60000 (75%)]\tLoss: 0.007886\tAccuracy: 0.99\n",
            "Train set, Epoch 8 [51200/60000 (85%)]\tLoss: 0.003743\tAccuracy: 0.99\n",
            "Train set, Epoch 8 [57600/60000 (96%)]\tLoss: 0.003057\tAccuracy: 0.99\n",
            "\n",
            "Test set, Epoch 8 , Average loss: 0.0440, Accuracy: 9876/10000 (98.76%)\n",
            "\n",
            "Train set, Epoch 9 [0/60000 (0%)]\tLoss: 0.008504\tAccuracy: 1.00\n",
            "Train set, Epoch 9 [6400/60000 (11%)]\tLoss: 0.002345\tAccuracy: 0.99\n",
            "Train set, Epoch 9 [12800/60000 (21%)]\tLoss: 0.000605\tAccuracy: 1.00\n",
            "Train set, Epoch 9 [19200/60000 (32%)]\tLoss: 0.000420\tAccuracy: 0.99\n",
            "Train set, Epoch 9 [25600/60000 (43%)]\tLoss: 0.000886\tAccuracy: 0.99\n",
            "Train set, Epoch 9 [32000/60000 (53%)]\tLoss: 0.001020\tAccuracy: 1.00\n",
            "Train set, Epoch 9 [38400/60000 (64%)]\tLoss: 0.001039\tAccuracy: 1.00\n",
            "Train set, Epoch 9 [44800/60000 (75%)]\tLoss: 0.186156\tAccuracy: 1.00\n",
            "Train set, Epoch 9 [51200/60000 (85%)]\tLoss: 0.004769\tAccuracy: 1.00\n",
            "Train set, Epoch 9 [57600/60000 (96%)]\tLoss: 0.044746\tAccuracy: 0.99\n",
            "\n",
            "Test set, Epoch 9 , Average loss: 0.0342, Accuracy: 9892/10000 (98.92%)\n",
            "\n",
            "Train set, Epoch 10 [0/60000 (0%)]\tLoss: 0.004456\tAccuracy: 1.00\n",
            "Train set, Epoch 10 [6400/60000 (11%)]\tLoss: 0.005694\tAccuracy: 1.00\n",
            "Train set, Epoch 10 [12800/60000 (21%)]\tLoss: 0.000752\tAccuracy: 1.00\n",
            "Train set, Epoch 10 [19200/60000 (32%)]\tLoss: 0.013079\tAccuracy: 1.00\n",
            "Train set, Epoch 10 [25600/60000 (43%)]\tLoss: 0.065760\tAccuracy: 1.00\n",
            "Train set, Epoch 10 [32000/60000 (53%)]\tLoss: 0.044722\tAccuracy: 1.00\n",
            "Train set, Epoch 10 [38400/60000 (64%)]\tLoss: 0.046451\tAccuracy: 1.00\n",
            "Train set, Epoch 10 [44800/60000 (75%)]\tLoss: 0.000730\tAccuracy: 1.00\n",
            "Train set, Epoch 10 [51200/60000 (85%)]\tLoss: 0.002935\tAccuracy: 1.00\n",
            "Train set, Epoch 10 [57600/60000 (96%)]\tLoss: 0.002740\tAccuracy: 1.00\n",
            "\n",
            "Test set, Epoch 10 , Average loss: 0.0406, Accuracy: 9900/10000 (99.00%)\n",
            "\n",
            "USING GPU\n",
            "Train set, Epoch 1 [0/60000 (0%)]\tLoss: 2.302851\tAccuracy: 0.20\n",
            "Train set, Epoch 1 [6400/60000 (11%)]\tLoss: 0.117765\tAccuracy: 0.79\n",
            "Train set, Epoch 1 [12800/60000 (21%)]\tLoss: 0.230090\tAccuracy: 0.87\n",
            "Train set, Epoch 1 [19200/60000 (32%)]\tLoss: 0.026477\tAccuracy: 0.90\n",
            "Train set, Epoch 1 [25600/60000 (43%)]\tLoss: 0.071787\tAccuracy: 0.91\n",
            "Train set, Epoch 1 [32000/60000 (53%)]\tLoss: 0.098804\tAccuracy: 0.92\n",
            "Train set, Epoch 1 [38400/60000 (64%)]\tLoss: 0.198339\tAccuracy: 0.93\n",
            "Train set, Epoch 1 [44800/60000 (75%)]\tLoss: 0.116764\tAccuracy: 0.94\n",
            "Train set, Epoch 1 [51200/60000 (85%)]\tLoss: 0.067363\tAccuracy: 0.94\n",
            "Train set, Epoch 1 [57600/60000 (96%)]\tLoss: 0.043119\tAccuracy: 0.94\n",
            "\n",
            "Test set, Epoch 1 , Average loss: 0.0776, Accuracy: 9782/10000 (97.82%)\n",
            "\n",
            "Train set, Epoch 2 [0/60000 (0%)]\tLoss: 0.036228\tAccuracy: 0.98\n",
            "Train set, Epoch 2 [6400/60000 (11%)]\tLoss: 0.170359\tAccuracy: 0.97\n",
            "Train set, Epoch 2 [12800/60000 (21%)]\tLoss: 0.068936\tAccuracy: 0.97\n",
            "Train set, Epoch 2 [19200/60000 (32%)]\tLoss: 0.111307\tAccuracy: 0.97\n",
            "Train set, Epoch 2 [25600/60000 (43%)]\tLoss: 0.025105\tAccuracy: 0.97\n",
            "Train set, Epoch 2 [32000/60000 (53%)]\tLoss: 0.054571\tAccuracy: 0.97\n",
            "Train set, Epoch 2 [38400/60000 (64%)]\tLoss: 0.134446\tAccuracy: 0.97\n",
            "Train set, Epoch 2 [44800/60000 (75%)]\tLoss: 0.259635\tAccuracy: 0.97\n",
            "Train set, Epoch 2 [51200/60000 (85%)]\tLoss: 0.153718\tAccuracy: 0.97\n",
            "Train set, Epoch 2 [57600/60000 (96%)]\tLoss: 0.018665\tAccuracy: 0.97\n",
            "\n",
            "Test set, Epoch 2 , Average loss: 0.1188, Accuracy: 9714/10000 (97.14%)\n",
            "\n",
            "Train set, Epoch 3 [0/60000 (0%)]\tLoss: 0.135416\tAccuracy: 0.97\n",
            "Train set, Epoch 3 [6400/60000 (11%)]\tLoss: 0.131030\tAccuracy: 0.97\n",
            "Train set, Epoch 3 [12800/60000 (21%)]\tLoss: 0.013697\tAccuracy: 0.98\n",
            "Train set, Epoch 3 [19200/60000 (32%)]\tLoss: 0.050618\tAccuracy: 0.98\n",
            "Train set, Epoch 3 [25600/60000 (43%)]\tLoss: 0.013446\tAccuracy: 0.98\n",
            "Train set, Epoch 3 [32000/60000 (53%)]\tLoss: 0.024926\tAccuracy: 0.98\n",
            "Train set, Epoch 3 [38400/60000 (64%)]\tLoss: 0.031005\tAccuracy: 0.98\n",
            "Train set, Epoch 3 [44800/60000 (75%)]\tLoss: 0.058636\tAccuracy: 0.98\n",
            "Train set, Epoch 3 [51200/60000 (85%)]\tLoss: 0.033139\tAccuracy: 0.98\n",
            "Train set, Epoch 3 [57600/60000 (96%)]\tLoss: 0.166595\tAccuracy: 0.98\n",
            "\n",
            "Test set, Epoch 3 , Average loss: 0.0844, Accuracy: 9789/10000 (97.89%)\n",
            "\n",
            "Train set, Epoch 4 [0/60000 (0%)]\tLoss: 0.089859\tAccuracy: 0.98\n",
            "Train set, Epoch 4 [6400/60000 (11%)]\tLoss: 0.024101\tAccuracy: 0.98\n",
            "Train set, Epoch 4 [12800/60000 (21%)]\tLoss: 0.077680\tAccuracy: 0.98\n",
            "Train set, Epoch 4 [19200/60000 (32%)]\tLoss: 0.281042\tAccuracy: 0.98\n",
            "Train set, Epoch 4 [25600/60000 (43%)]\tLoss: 0.023899\tAccuracy: 0.98\n",
            "Train set, Epoch 4 [32000/60000 (53%)]\tLoss: 0.057603\tAccuracy: 0.98\n",
            "Train set, Epoch 4 [38400/60000 (64%)]\tLoss: 0.029140\tAccuracy: 0.98\n",
            "Train set, Epoch 4 [44800/60000 (75%)]\tLoss: 0.015751\tAccuracy: 0.98\n",
            "Train set, Epoch 4 [51200/60000 (85%)]\tLoss: 0.023189\tAccuracy: 0.98\n",
            "Train set, Epoch 4 [57600/60000 (96%)]\tLoss: 0.151879\tAccuracy: 0.98\n",
            "\n",
            "Test set, Epoch 4 , Average loss: 0.1066, Accuracy: 9744/10000 (97.44%)\n",
            "\n",
            "Train set, Epoch 5 [0/60000 (0%)]\tLoss: 0.006787\tAccuracy: 1.00\n",
            "Train set, Epoch 5 [6400/60000 (11%)]\tLoss: 0.055443\tAccuracy: 0.98\n",
            "Train set, Epoch 5 [12800/60000 (21%)]\tLoss: 0.154730\tAccuracy: 0.98\n",
            "Train set, Epoch 5 [19200/60000 (32%)]\tLoss: 0.039300\tAccuracy: 0.98\n",
            "Train set, Epoch 5 [25600/60000 (43%)]\tLoss: 0.048567\tAccuracy: 0.98\n",
            "Train set, Epoch 5 [32000/60000 (53%)]\tLoss: 0.108565\tAccuracy: 0.98\n",
            "Train set, Epoch 5 [38400/60000 (64%)]\tLoss: 0.095401\tAccuracy: 0.98\n",
            "Train set, Epoch 5 [44800/60000 (75%)]\tLoss: 0.033336\tAccuracy: 0.98\n",
            "Train set, Epoch 5 [51200/60000 (85%)]\tLoss: 0.000584\tAccuracy: 0.98\n",
            "Train set, Epoch 5 [57600/60000 (96%)]\tLoss: 0.096041\tAccuracy: 0.98\n",
            "\n",
            "Test set, Epoch 5 , Average loss: 0.0863, Accuracy: 9785/10000 (97.85%)\n",
            "\n",
            "Train set, Epoch 6 [0/60000 (0%)]\tLoss: 0.093135\tAccuracy: 0.98\n",
            "Train set, Epoch 6 [6400/60000 (11%)]\tLoss: 0.024085\tAccuracy: 0.98\n",
            "Train set, Epoch 6 [12800/60000 (21%)]\tLoss: 0.069869\tAccuracy: 0.98\n",
            "Train set, Epoch 6 [19200/60000 (32%)]\tLoss: 0.018435\tAccuracy: 0.98\n",
            "Train set, Epoch 6 [25600/60000 (43%)]\tLoss: 0.039726\tAccuracy: 0.98\n",
            "Train set, Epoch 6 [32000/60000 (53%)]\tLoss: 0.127056\tAccuracy: 0.98\n",
            "Train set, Epoch 6 [38400/60000 (64%)]\tLoss: 0.062512\tAccuracy: 0.98\n",
            "Train set, Epoch 6 [44800/60000 (75%)]\tLoss: 0.076703\tAccuracy: 0.98\n",
            "Train set, Epoch 6 [51200/60000 (85%)]\tLoss: 0.032933\tAccuracy: 0.98\n",
            "Train set, Epoch 6 [57600/60000 (96%)]\tLoss: 0.117454\tAccuracy: 0.98\n",
            "\n",
            "Test set, Epoch 6 , Average loss: 0.0922, Accuracy: 9773/10000 (97.73%)\n",
            "\n",
            "Train set, Epoch 7 [0/60000 (0%)]\tLoss: 0.260821\tAccuracy: 0.98\n",
            "Train set, Epoch 7 [6400/60000 (11%)]\tLoss: 0.101091\tAccuracy: 0.98\n",
            "Train set, Epoch 7 [12800/60000 (21%)]\tLoss: 0.165544\tAccuracy: 0.98\n",
            "Train set, Epoch 7 [19200/60000 (32%)]\tLoss: 0.028590\tAccuracy: 0.98\n",
            "Train set, Epoch 7 [25600/60000 (43%)]\tLoss: 0.024993\tAccuracy: 0.98\n",
            "Train set, Epoch 7 [32000/60000 (53%)]\tLoss: 0.009458\tAccuracy: 0.98\n",
            "Train set, Epoch 7 [38400/60000 (64%)]\tLoss: 0.008696\tAccuracy: 0.98\n",
            "Train set, Epoch 7 [44800/60000 (75%)]\tLoss: 0.109257\tAccuracy: 0.98\n",
            "Train set, Epoch 7 [51200/60000 (85%)]\tLoss: 0.036923\tAccuracy: 0.98\n",
            "Train set, Epoch 7 [57600/60000 (96%)]\tLoss: 0.253751\tAccuracy: 0.98\n",
            "\n",
            "Test set, Epoch 7 , Average loss: 0.1048, Accuracy: 9762/10000 (97.62%)\n",
            "\n",
            "Train set, Epoch 8 [0/60000 (0%)]\tLoss: 0.171740\tAccuracy: 0.92\n",
            "Train set, Epoch 8 [6400/60000 (11%)]\tLoss: 0.151381\tAccuracy: 0.97\n",
            "Train set, Epoch 8 [12800/60000 (21%)]\tLoss: 0.027007\tAccuracy: 0.98\n",
            "Train set, Epoch 8 [19200/60000 (32%)]\tLoss: 0.010386\tAccuracy: 0.98\n",
            "Train set, Epoch 8 [25600/60000 (43%)]\tLoss: 0.041812\tAccuracy: 0.98\n",
            "Train set, Epoch 8 [32000/60000 (53%)]\tLoss: 0.001725\tAccuracy: 0.98\n",
            "Train set, Epoch 8 [38400/60000 (64%)]\tLoss: 0.015652\tAccuracy: 0.98\n",
            "Train set, Epoch 8 [44800/60000 (75%)]\tLoss: 0.060950\tAccuracy: 0.98\n",
            "Train set, Epoch 8 [51200/60000 (85%)]\tLoss: 0.106420\tAccuracy: 0.98\n",
            "Train set, Epoch 8 [57600/60000 (96%)]\tLoss: 0.007450\tAccuracy: 0.98\n",
            "\n",
            "Test set, Epoch 8 , Average loss: 0.0989, Accuracy: 9800/10000 (98.00%)\n",
            "\n",
            "Train set, Epoch 9 [0/60000 (0%)]\tLoss: 0.033457\tAccuracy: 0.98\n",
            "Train set, Epoch 9 [6400/60000 (11%)]\tLoss: 0.184553\tAccuracy: 0.99\n",
            "Train set, Epoch 9 [12800/60000 (21%)]\tLoss: 0.001354\tAccuracy: 0.99\n",
            "Train set, Epoch 9 [19200/60000 (32%)]\tLoss: 0.017157\tAccuracy: 0.99\n",
            "Train set, Epoch 9 [25600/60000 (43%)]\tLoss: 0.057603\tAccuracy: 0.98\n",
            "Train set, Epoch 9 [32000/60000 (53%)]\tLoss: 0.001071\tAccuracy: 0.99\n",
            "Train set, Epoch 9 [38400/60000 (64%)]\tLoss: 0.159412\tAccuracy: 0.99\n",
            "Train set, Epoch 9 [44800/60000 (75%)]\tLoss: 0.341437\tAccuracy: 0.98\n",
            "Train set, Epoch 9 [51200/60000 (85%)]\tLoss: 0.231143\tAccuracy: 0.98\n",
            "Train set, Epoch 9 [57600/60000 (96%)]\tLoss: 0.046293\tAccuracy: 0.98\n",
            "\n",
            "Test set, Epoch 9 , Average loss: 0.0958, Accuracy: 9782/10000 (97.82%)\n",
            "\n",
            "Train set, Epoch 10 [0/60000 (0%)]\tLoss: 0.083491\tAccuracy: 0.98\n",
            "Train set, Epoch 10 [6400/60000 (11%)]\tLoss: 0.252432\tAccuracy: 0.98\n",
            "Train set, Epoch 10 [12800/60000 (21%)]\tLoss: 0.109349\tAccuracy: 0.98\n",
            "Train set, Epoch 10 [19200/60000 (32%)]\tLoss: 0.043245\tAccuracy: 0.98\n",
            "Train set, Epoch 10 [25600/60000 (43%)]\tLoss: 0.028049\tAccuracy: 0.99\n",
            "Train set, Epoch 10 [32000/60000 (53%)]\tLoss: 0.046310\tAccuracy: 0.99\n",
            "Train set, Epoch 10 [38400/60000 (64%)]\tLoss: 0.508471\tAccuracy: 0.98\n",
            "Train set, Epoch 10 [44800/60000 (75%)]\tLoss: 0.680128\tAccuracy: 0.98\n",
            "Train set, Epoch 10 [51200/60000 (85%)]\tLoss: 0.164103\tAccuracy: 0.98\n",
            "Train set, Epoch 10 [57600/60000 (96%)]\tLoss: 0.002102\tAccuracy: 0.98\n",
            "\n",
            "Test set, Epoch 10 , Average loss: 0.0916, Accuracy: 9810/10000 (98.10%)\n",
            "\n",
            "USING GPU\n",
            "Train set, Epoch 1 [0/60000 (0%)]\tLoss: 2.302851\tAccuracy: 0.20\n",
            "Train set, Epoch 1 [6400/60000 (11%)]\tLoss: 2.277897\tAccuracy: 0.11\n",
            "Train set, Epoch 1 [12800/60000 (21%)]\tLoss: 2.322655\tAccuracy: 0.11\n",
            "Train set, Epoch 1 [19200/60000 (32%)]\tLoss: 2.299893\tAccuracy: 0.11\n",
            "Train set, Epoch 1 [25600/60000 (43%)]\tLoss: 2.313671\tAccuracy: 0.11\n",
            "Train set, Epoch 1 [32000/60000 (53%)]\tLoss: 2.326670\tAccuracy: 0.11\n",
            "Train set, Epoch 1 [38400/60000 (64%)]\tLoss: 2.335364\tAccuracy: 0.11\n",
            "Train set, Epoch 1 [44800/60000 (75%)]\tLoss: 2.319967\tAccuracy: 0.11\n",
            "Train set, Epoch 1 [51200/60000 (85%)]\tLoss: 2.311900\tAccuracy: 0.11\n",
            "Train set, Epoch 1 [57600/60000 (96%)]\tLoss: 2.364736\tAccuracy: 0.11\n",
            "\n",
            "Test set, Epoch 1 , Average loss: 2.3066, Accuracy: 958/10000 (9.58%)\n",
            "\n",
            "Train set, Epoch 2 [0/60000 (0%)]\tLoss: 2.309947\tAccuracy: 0.05\n",
            "Train set, Epoch 2 [6400/60000 (11%)]\tLoss: 2.320487\tAccuracy: 0.11\n",
            "Train set, Epoch 2 [12800/60000 (21%)]\tLoss: 2.300097\tAccuracy: 0.11\n",
            "Train set, Epoch 2 [19200/60000 (32%)]\tLoss: 2.307399\tAccuracy: 0.11\n",
            "Train set, Epoch 2 [25600/60000 (43%)]\tLoss: 2.346181\tAccuracy: 0.11\n",
            "Train set, Epoch 2 [32000/60000 (53%)]\tLoss: 2.290435\tAccuracy: 0.11\n",
            "Train set, Epoch 2 [38400/60000 (64%)]\tLoss: 2.255812\tAccuracy: 0.11\n",
            "Train set, Epoch 2 [44800/60000 (75%)]\tLoss: 2.315505\tAccuracy: 0.11\n",
            "Train set, Epoch 2 [51200/60000 (85%)]\tLoss: 2.339714\tAccuracy: 0.11\n",
            "Train set, Epoch 2 [57600/60000 (96%)]\tLoss: 2.306776\tAccuracy: 0.11\n",
            "\n",
            "Test set, Epoch 2 , Average loss: 2.3081, Accuracy: 1135/10000 (11.35%)\n",
            "\n",
            "Train set, Epoch 3 [0/60000 (0%)]\tLoss: 2.309682\tAccuracy: 0.14\n",
            "Train set, Epoch 3 [6400/60000 (11%)]\tLoss: 2.337271\tAccuracy: 0.11\n",
            "Train set, Epoch 3 [12800/60000 (21%)]\tLoss: 2.299151\tAccuracy: 0.11\n",
            "Train set, Epoch 3 [19200/60000 (32%)]\tLoss: 2.310755\tAccuracy: 0.11\n",
            "Train set, Epoch 3 [25600/60000 (43%)]\tLoss: 2.324430\tAccuracy: 0.11\n",
            "Train set, Epoch 3 [32000/60000 (53%)]\tLoss: 2.335749\tAccuracy: 0.10\n",
            "Train set, Epoch 3 [38400/60000 (64%)]\tLoss: 2.295494\tAccuracy: 0.10\n",
            "Train set, Epoch 3 [44800/60000 (75%)]\tLoss: 2.328262\tAccuracy: 0.10\n",
            "Train set, Epoch 3 [51200/60000 (85%)]\tLoss: 2.311393\tAccuracy: 0.10\n",
            "Train set, Epoch 3 [57600/60000 (96%)]\tLoss: 2.304998\tAccuracy: 0.10\n",
            "\n",
            "Test set, Epoch 3 , Average loss: 2.3115, Accuracy: 1135/10000 (11.35%)\n",
            "\n",
            "Train set, Epoch 4 [0/60000 (0%)]\tLoss: 2.309541\tAccuracy: 0.12\n",
            "Train set, Epoch 4 [6400/60000 (11%)]\tLoss: 2.308784\tAccuracy: 0.11\n",
            "Train set, Epoch 4 [12800/60000 (21%)]\tLoss: 2.296137\tAccuracy: 0.11\n",
            "Train set, Epoch 4 [19200/60000 (32%)]\tLoss: 2.293933\tAccuracy: 0.11\n",
            "Train set, Epoch 4 [25600/60000 (43%)]\tLoss: 2.327167\tAccuracy: 0.11\n",
            "Train set, Epoch 4 [32000/60000 (53%)]\tLoss: 2.326382\tAccuracy: 0.10\n",
            "Train set, Epoch 4 [38400/60000 (64%)]\tLoss: 2.321022\tAccuracy: 0.10\n",
            "Train set, Epoch 4 [44800/60000 (75%)]\tLoss: 2.295498\tAccuracy: 0.10\n",
            "Train set, Epoch 4 [51200/60000 (85%)]\tLoss: 2.318645\tAccuracy: 0.10\n",
            "Train set, Epoch 4 [57600/60000 (96%)]\tLoss: 2.319529\tAccuracy: 0.11\n",
            "\n",
            "Test set, Epoch 4 , Average loss: 2.3122, Accuracy: 1135/10000 (11.35%)\n",
            "\n",
            "Train set, Epoch 5 [0/60000 (0%)]\tLoss: 2.317378\tAccuracy: 0.12\n",
            "Train set, Epoch 5 [6400/60000 (11%)]\tLoss: 2.336298\tAccuracy: 0.10\n",
            "Train set, Epoch 5 [12800/60000 (21%)]\tLoss: 2.304441\tAccuracy: 0.10\n",
            "Train set, Epoch 5 [19200/60000 (32%)]\tLoss: 2.292659\tAccuracy: 0.11\n",
            "Train set, Epoch 5 [25600/60000 (43%)]\tLoss: 2.330080\tAccuracy: 0.11\n",
            "Train set, Epoch 5 [32000/60000 (53%)]\tLoss: 2.313810\tAccuracy: 0.11\n",
            "Train set, Epoch 5 [38400/60000 (64%)]\tLoss: 2.331809\tAccuracy: 0.11\n",
            "Train set, Epoch 5 [44800/60000 (75%)]\tLoss: 2.278852\tAccuracy: 0.11\n",
            "Train set, Epoch 5 [51200/60000 (85%)]\tLoss: 2.352948\tAccuracy: 0.11\n",
            "Train set, Epoch 5 [57600/60000 (96%)]\tLoss: 2.336546\tAccuracy: 0.11\n",
            "\n",
            "Test set, Epoch 5 , Average loss: 2.3085, Accuracy: 980/10000 (9.80%)\n",
            "\n",
            "Train set, Epoch 6 [0/60000 (0%)]\tLoss: 2.287235\tAccuracy: 0.12\n",
            "Train set, Epoch 6 [6400/60000 (11%)]\tLoss: 2.321716\tAccuracy: 0.11\n",
            "Train set, Epoch 6 [12800/60000 (21%)]\tLoss: 2.296320\tAccuracy: 0.10\n",
            "Train set, Epoch 6 [19200/60000 (32%)]\tLoss: 2.291419\tAccuracy: 0.10\n",
            "Train set, Epoch 6 [25600/60000 (43%)]\tLoss: 2.302350\tAccuracy: 0.10\n",
            "Train set, Epoch 6 [32000/60000 (53%)]\tLoss: 2.321713\tAccuracy: 0.10\n",
            "Train set, Epoch 6 [38400/60000 (64%)]\tLoss: 2.306144\tAccuracy: 0.10\n",
            "Train set, Epoch 6 [44800/60000 (75%)]\tLoss: 2.304063\tAccuracy: 0.10\n",
            "Train set, Epoch 6 [51200/60000 (85%)]\tLoss: 2.327987\tAccuracy: 0.10\n",
            "Train set, Epoch 6 [57600/60000 (96%)]\tLoss: 2.322082\tAccuracy: 0.10\n",
            "\n",
            "Test set, Epoch 6 , Average loss: 2.3119, Accuracy: 892/10000 (8.92%)\n",
            "\n",
            "Train set, Epoch 7 [0/60000 (0%)]\tLoss: 2.327189\tAccuracy: 0.08\n",
            "Train set, Epoch 7 [6400/60000 (11%)]\tLoss: 2.313495\tAccuracy: 0.11\n",
            "Train set, Epoch 7 [12800/60000 (21%)]\tLoss: 2.335062\tAccuracy: 0.11\n",
            "Train set, Epoch 7 [19200/60000 (32%)]\tLoss: 2.304502\tAccuracy: 0.11\n",
            "Train set, Epoch 7 [25600/60000 (43%)]\tLoss: 2.351963\tAccuracy: 0.11\n",
            "Train set, Epoch 7 [32000/60000 (53%)]\tLoss: 2.287467\tAccuracy: 0.11\n",
            "Train set, Epoch 7 [38400/60000 (64%)]\tLoss: 2.331397\tAccuracy: 0.11\n",
            "Train set, Epoch 7 [44800/60000 (75%)]\tLoss: 2.313399\tAccuracy: 0.11\n",
            "Train set, Epoch 7 [51200/60000 (85%)]\tLoss: 2.273549\tAccuracy: 0.11\n",
            "Train set, Epoch 7 [57600/60000 (96%)]\tLoss: 2.339357\tAccuracy: 0.11\n",
            "\n",
            "Test set, Epoch 7 , Average loss: 2.3153, Accuracy: 1009/10000 (10.09%)\n",
            "\n",
            "Train set, Epoch 8 [0/60000 (0%)]\tLoss: 2.298323\tAccuracy: 0.12\n",
            "Train set, Epoch 8 [6400/60000 (11%)]\tLoss: 2.284394\tAccuracy: 0.10\n",
            "Train set, Epoch 8 [12800/60000 (21%)]\tLoss: 2.315101\tAccuracy: 0.10\n",
            "Train set, Epoch 8 [19200/60000 (32%)]\tLoss: 2.294324\tAccuracy: 0.10\n",
            "Train set, Epoch 8 [25600/60000 (43%)]\tLoss: 2.333700\tAccuracy: 0.11\n",
            "Train set, Epoch 8 [32000/60000 (53%)]\tLoss: 2.305134\tAccuracy: 0.10\n",
            "Train set, Epoch 8 [38400/60000 (64%)]\tLoss: 2.309442\tAccuracy: 0.10\n",
            "Train set, Epoch 8 [44800/60000 (75%)]\tLoss: 2.299802\tAccuracy: 0.10\n",
            "Train set, Epoch 8 [51200/60000 (85%)]\tLoss: 2.293237\tAccuracy: 0.10\n",
            "Train set, Epoch 8 [57600/60000 (96%)]\tLoss: 2.288020\tAccuracy: 0.10\n",
            "\n",
            "Test set, Epoch 8 , Average loss: 2.3050, Accuracy: 1135/10000 (11.35%)\n",
            "\n",
            "Train set, Epoch 9 [0/60000 (0%)]\tLoss: 2.292470\tAccuracy: 0.11\n",
            "Train set, Epoch 9 [6400/60000 (11%)]\tLoss: 2.303727\tAccuracy: 0.11\n",
            "Train set, Epoch 9 [12800/60000 (21%)]\tLoss: 2.325147\tAccuracy: 0.11\n",
            "Train set, Epoch 9 [19200/60000 (32%)]\tLoss: 2.291190\tAccuracy: 0.11\n",
            "Train set, Epoch 9 [25600/60000 (43%)]\tLoss: 2.328910\tAccuracy: 0.10\n",
            "Train set, Epoch 9 [32000/60000 (53%)]\tLoss: 2.295952\tAccuracy: 0.10\n",
            "Train set, Epoch 9 [38400/60000 (64%)]\tLoss: 2.333451\tAccuracy: 0.11\n",
            "Train set, Epoch 9 [44800/60000 (75%)]\tLoss: 2.308134\tAccuracy: 0.10\n",
            "Train set, Epoch 9 [51200/60000 (85%)]\tLoss: 2.289830\tAccuracy: 0.11\n",
            "Train set, Epoch 9 [57600/60000 (96%)]\tLoss: 2.364806\tAccuracy: 0.10\n",
            "\n",
            "Test set, Epoch 9 , Average loss: 2.3103, Accuracy: 980/10000 (9.80%)\n",
            "\n",
            "Train set, Epoch 10 [0/60000 (0%)]\tLoss: 2.287884\tAccuracy: 0.09\n",
            "Train set, Epoch 10 [6400/60000 (11%)]\tLoss: 2.319282\tAccuracy: 0.11\n",
            "Train set, Epoch 10 [12800/60000 (21%)]\tLoss: 2.297623\tAccuracy: 0.11\n",
            "Train set, Epoch 10 [19200/60000 (32%)]\tLoss: 2.300679\tAccuracy: 0.11\n",
            "Train set, Epoch 10 [25600/60000 (43%)]\tLoss: 2.283231\tAccuracy: 0.10\n",
            "Train set, Epoch 10 [32000/60000 (53%)]\tLoss: 2.293976\tAccuracy: 0.10\n",
            "Train set, Epoch 10 [38400/60000 (64%)]\tLoss: 2.314735\tAccuracy: 0.10\n",
            "Train set, Epoch 10 [44800/60000 (75%)]\tLoss: 2.318114\tAccuracy: 0.10\n",
            "Train set, Epoch 10 [51200/60000 (85%)]\tLoss: 2.310614\tAccuracy: 0.10\n",
            "Train set, Epoch 10 [57600/60000 (96%)]\tLoss: 2.295931\tAccuracy: 0.10\n",
            "\n",
            "Test set, Epoch 10 , Average loss: 2.3058, Accuracy: 958/10000 (9.58%)\n",
            "\n"
          ],
          "name": "stdout"
        }
      ]
    },
    {
      "cell_type": "code",
      "metadata": {
        "id": "2wcXpSjFAB37"
      },
      "source": [
        ""
      ],
      "execution_count": 9,
      "outputs": []
    },
    {
      "cell_type": "code",
      "metadata": {
        "id": "HhF9tNjk37lS",
        "colab": {
          "base_uri": "https://localhost:8080/"
        },
        "outputId": "55e5c95d-cd25-4317-aede-f20e9f5bf322"
      },
      "source": [
        "import random\n",
        "\n",
        "for data, target in test_loader:\n",
        "    index = random.randint(0, len(data))\n",
        "    data, target = Variable(data), Variable(target)\n",
        "    img = data[index]\n",
        "    if check_gpu:\n",
        "      img = img.to(\"cuda\")\n",
        "    img=img.unsqueeze(0)\n",
        "    print(img.size())\n",
        "    break"
      ],
      "execution_count": 13,
      "outputs": [
        {
          "output_type": "stream",
          "text": [
            "torch.Size([1, 1, 28, 28])\n"
          ],
          "name": "stdout"
        }
      ]
    },
    {
      "cell_type": "code",
      "metadata": {
        "id": "uIiaVm4g5sa3",
        "colab": {
          "base_uri": "https://localhost:8080/"
        },
        "outputId": "247110c3-9b50-432c-d6ce-dd5f4170948c"
      },
      "source": [
        "no_of_layers=0\n",
        "conv_layers=[]\n",
        "\n",
        "model_children=list(model.children())\n",
        "\n",
        "for child in model_children:\n",
        "    if type(child)==nn.Conv2d:\n",
        "        no_of_layers+=1\n",
        "        conv_layers.append(child)\n",
        "    elif type(child)==nn.Sequential:\n",
        "        for layer in child.children():\n",
        "            if type(layer)==nn.Conv2d:\n",
        "                no_of_layers+=1\n",
        "                conv_layers.append(layer)\n",
        "                \n",
        "print(no_of_layers)"
      ],
      "execution_count": 14,
      "outputs": [
        {
          "output_type": "stream",
          "text": [
            "2\n"
          ],
          "name": "stdout"
        }
      ]
    },
    {
      "cell_type": "code",
      "metadata": {
        "id": "qojrh5zZ3PZ8"
      },
      "source": [
        "results = [conv_layers[0](img)]\n",
        "for i in range(1, len(conv_layers)):\n",
        "    results.append(conv_layers[i](results[-1]))\n",
        "outputs = results"
      ],
      "execution_count": 15,
      "outputs": []
    },
    {
      "cell_type": "code",
      "metadata": {
        "id": "on_iAkZ43PaH"
      },
      "source": [
        "def save_plot(plot_buf):\n",
        "    image = PIL.Image.open(plot_buf)\n",
        "    image = ToTensor()(image).unsqueeze(0)\n",
        "    image = image.reshape(3, 288, 432)\n",
        "\n",
        "\n",
        "    writer = SummaryWriter(comment='Feature Map')\n",
        "    #x = torchvision.utils.make_grid(image, normalize=True, scale_each=True)\n",
        "    for n_iter in range(100):\n",
        "        if n_iter % 10 == 0:\n",
        "            writer.add_image('Image', image, n_iter)\n",
        "\n",
        "def gen_plot():\n",
        "    \"\"\"Create a pyplot plot and save to buffer.\"\"\"\n",
        "    for num_layer in range(len(outputs)):\n",
        "        plt.figure(figsize=(50, 10))\n",
        "        layer_viz = outputs[num_layer][0, :, :, :]\n",
        "        layer_viz = layer_viz.data\n",
        "        print(\"Layer \",num_layer+1)\n",
        "        for i, filter in enumerate(layer_viz):\n",
        "            if i == 20: \n",
        "                break\n",
        "            plt.subplot(2, 8, i + 1)\n",
        "            plt.title(\"Layer {}\".format(num_layer+1))\n",
        "            plt.imshow(filter.cpu(), cmap='gray')\n",
        "            plt.axis(\"off\")  \n",
        "        plt.show()\n",
        "        buf = io.BytesIO()\n",
        "        plt.savefig(buf, format='jpeg')\n",
        "        buf.seek(0)\n",
        "        save_plot(buf)"
      ],
      "execution_count": 18,
      "outputs": []
    },
    {
      "cell_type": "code",
      "metadata": {
        "colab": {
          "base_uri": "https://localhost:8080/",
          "height": 496
        },
        "id": "OTDy6PNQ3PaL",
        "outputId": "d023bdca-733f-4d17-bf29-78fe3b550766"
      },
      "source": [
        "gen_plot()"
      ],
      "execution_count": 19,
      "outputs": [
        {
          "output_type": "stream",
          "text": [
            "Layer  1\n"
          ],
          "name": "stdout"
        },
        {
          "output_type": "display_data",
          "data": {
            "image/png": "[encoded data removed]",
            "text/plain": [
              "<Figure size 3600x720 with 6 Axes>"
            ]
          },
          "metadata": {
            "tags": [],
            "needs_background": "light"
          }
        },
        {
          "output_type": "stream",
          "text": [
            "Layer  2\n"
          ],
          "name": "stdout"
        },
        {
          "output_type": "display_data",
          "data": {
            "text/plain": [
              "<Figure size 432x288 with 0 Axes>"
            ]
          },
          "metadata": {
            "tags": []
          }
        },
        {
          "output_type": "display_data",
          "data": {
            "image/png": "[encoded data removed]",
            "text/plain": [
              "<Figure size 3600x720 with 16 Axes>"
            ]
          },
          "metadata": {
            "tags": [],
            "needs_background": "light"
          }
        },
        {
          "output_type": "display_data",
          "data": {
            "text/plain": [
              "<Figure size 432x288 with 0 Axes>"
            ]
          },
          "metadata": {
            "tags": []
          }
        }
      ]
    },
    {
      "cell_type": "code",
      "metadata": {
        "id": "HV8u2ZOY3PaM"
      },
      "source": [
        ""
      ],
      "execution_count": null,
      "outputs": []
    }
  ]
}